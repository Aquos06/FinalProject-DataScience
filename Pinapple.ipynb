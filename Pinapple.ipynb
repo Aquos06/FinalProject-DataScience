{
 "cells": [
  {
   "attachments": {},
   "cell_type": "markdown",
   "metadata": {},
   "source": [
    "<h1><strong>Import Library</strong></h1>"
   ]
  },
  {
   "cell_type": "code",
   "execution_count": 1,
   "metadata": {},
   "outputs": [],
   "source": [
    "import numpy as np\n",
    "import pandas as pd\n",
    "import torch\n",
    "import os\n",
    "import shutil\n",
    "import itertools\n",
    "import torch.nn as nn\n",
    "import torchvision.transforms as transforms\n",
    "from PIL import Image\n",
    "from torch.utils.data import ConcatDataset, DataLoader, Subset, Dataset, SubsetRandomSampler\n",
    "from torchvision.datasets import DatasetFolder, VisionDataset\n",
    "import matplotlib.pyplot as plt\n",
    "\n",
    "from sklearn.model_selection import train_test_split, KFold\n",
    "\n",
    "from tqdm.auto import tqdm\n",
    "import random"
   ]
  },
  {
   "cell_type": "code",
   "execution_count": 2,
   "metadata": {},
   "outputs": [],
   "source": [
    "myseed = 123456 #just a random number\n",
    "_exp_name = \"sample\"\n",
    "torch.backends.cudnn.deterministic = True\n",
    "torch.backends.cudnn.benchmark = False\n",
    "np.random.seed(myseed)\n",
    "torch.manual_seed(myseed)\n",
    "if torch.cuda.is_available():\n",
    "    torch.cuda.manual_seed_all(myseed)"
   ]
  },
  {
   "attachments": {},
   "cell_type": "markdown",
   "metadata": {},
   "source": [
    "<h1><strong>Create Augmentation for the Dataset </strong></h1>"
   ]
  },
  {
   "cell_type": "code",
   "execution_count": 3,
   "metadata": {},
   "outputs": [],
   "source": [
    "validation_tfm = transforms.Compose([\n",
    "    transforms.Resize((128,128)),\n",
    "    transforms.ToTensor()\n",
    "    ])\n",
    "\n",
    "train_tfm = transforms.Compose([\n",
    "    \n",
    "    transforms.Resize((128,128)),\n",
    "    \n",
    "    transforms.ColorJitter(brightness=0.15, saturation=0.15, contrast=0.15),\n",
    "    transforms.RandomAffine(degrees=20, translate=(0.15,0.15), scale=(1,1.2)),\n",
    "    transforms.RandomHorizontalFlip(),\n",
    "    transforms.ToTensor()    \n",
    "])"
   ]
  },
  {
   "attachments": {},
   "cell_type": "markdown",
   "metadata": {},
   "source": [
    "<h1><strong>Dataset Class</strong></h1>"
   ]
  },
  {
   "cell_type": "code",
   "execution_count": 21,
   "metadata": {},
   "outputs": [],
   "source": [
    "class PinappleDataset(Dataset):\n",
    "    def __init__(self,path,tfm,files = None):\n",
    "        super(PinappleDataset).__init__()\n",
    "        self.path = path #path for the dataset \n",
    "        self.files = path\n",
    "        if files!= None:\n",
    "            self.files = files\n",
    "        print(f\"One {path} sample\", self.files[0])\n",
    "        self.transform = tfm #transform or the image augmentation\n",
    "        \n",
    "    def __len__(self):\n",
    "        return len(self.files)\n",
    "    \n",
    "    def __getitem__(self, idx):\n",
    "        fname = self.files[idx]\n",
    "        im = Image.open(fname)\n",
    "        im = self.transform(im)\n",
    "        \n",
    "        label = fname.split(\"/\")[-2]\n",
    "        \n",
    "        if label == \"stage_501\":\n",
    "            return im, 0\n",
    "        elif label == \"stage_505\":\n",
    "            return im, 1\n",
    "        elif label == \"stage_509\":\n",
    "            return im, 2\n",
    "        elif label == \"stage_601\":\n",
    "            return im, 3\n",
    "        elif label == \"stage_605\":\n",
    "            return im, 4\n",
    "        elif label == \"stage_609\":\n",
    "            return im, 5\n",
    "        elif label == \"stage_701\":\n",
    "            return im, 6\n",
    "        elif label == \"stage_705\":\n",
    "            return im, 7\n",
    "        elif label == \"stage_709\":\n",
    "            return im, 8\n",
    "        else:\n",
    "            print(f\"{fname}:No Label\")"
   ]
  },
  {
   "attachments": {},
   "cell_type": "markdown",
   "metadata": {},
   "source": [
    "<h1><strong>CNN</strong></h1>"
   ]
  },
  {
   "cell_type": "code",
   "execution_count": 5,
   "metadata": {},
   "outputs": [],
   "source": [
    "class Classifier(nn.Module):\n",
    "    def __init__(self):\n",
    "        super(Classifier, self).__init__()\n",
    "        # torch.nn.Conv2d(in_channels, out_channels, kernel_size, stride, padding)\n",
    "        # torch.nn.MaxPool2d(kernel_size, stride, padding)\n",
    "        # input 維度 [3, 128, 128]\n",
    "#         (128x8192 and 16384x256)\n",
    "        self.cnn = nn.Sequential(\n",
    "            nn.Conv2d(3, 64, 3, 1, 1),  # [64, 128, 128]\n",
    "            nn.BatchNorm2d(64),\n",
    "            nn.ReLU(),\n",
    "            nn.MaxPool2d(2, 2, 0),      # [64, 64, 64]\n",
    "\n",
    "            nn.Conv2d(64, 128, 3, 1, 1), # [128, 64, 64]\n",
    "            nn.BatchNorm2d(128),\n",
    "            nn.ReLU(),\n",
    "            nn.MaxPool2d(2, 2, 0),      # [128, 32, 32]\n",
    "\n",
    "            nn.Conv2d(128, 256, 3, 1, 1), # [256, 32, 32]\n",
    "            nn.BatchNorm2d(256),\n",
    "            nn.ReLU(),\n",
    "            nn.MaxPool2d(2, 2, 0),      # [256, 16, 16]\n",
    "\n",
    "            nn.Conv2d(256, 512, 3, 1, 1), # [512, 16, 16]\n",
    "            nn.BatchNorm2d(512),\n",
    "            nn.ReLU(),\n",
    "            nn.MaxPool2d(2, 2, 0),       # [512, 8, 8]\n",
    "            \n",
    "            nn.Conv2d(512, 512, 3, 1, 1), # [512, 8, 8]\n",
    "            nn.BatchNorm2d(512),\n",
    "            nn.ReLU(),\n",
    "            nn.MaxPool2d(2, 2, 0),       # [512, 4, 4]\n",
    "        )\n",
    "        self.fc = nn.Sequential(\n",
    "            nn.Linear(128*8*8, 256),\n",
    "            nn.ReLU(),\n",
    "            nn.Linear(256, 256),\n",
    "            nn.ReLU(),\n",
    "            nn.Linear(256, 9) #We have 9 classes \n",
    "        )\n",
    "\n",
    "    def forward(self, x):\n",
    "        out = self.cnn(x)\n",
    "        out = out.view(out.size()[0], -1)\n",
    "        return self.fc(out)"
   ]
  },
  {
   "attachments": {},
   "cell_type": "markdown",
   "metadata": {},
   "source": [
    "<h2>Function to move pictures to train and validation</h2>"
   ]
  },
  {
   "cell_type": "code",
   "execution_count": 16,
   "metadata": {},
   "outputs": [],
   "source": [
    "def dataMover(filesName, destination):\n",
    "    for i in filesName:\n",
    "        name = str(i.split(\"/\")[-1])\n",
    "        classId = str(i.split(\"/\")[-2])\n",
    "        classId1 = str(classId.split(\"_\"))[0]\n",
    "        classId2 = str(classId.split(\"_\"))[1]\n",
    "        nameFile = classId1 + classId2 + \"_\" + name\n",
    "        shutil.move(i, os.path.join(destination, nameFile))"
   ]
  },
  {
   "attachments": {},
   "cell_type": "markdown",
   "metadata": {},
   "source": [
    "<h2>Create DataLoader</h2>"
   ]
  },
  {
   "cell_type": "code",
   "execution_count": 25,
   "metadata": {},
   "outputs": [
    {
     "name": "stdout",
     "output_type": "stream",
     "text": [
      "One ['Pineapple_image/stage_605/DSC_0147.JPG', 'Pineapple_image/stage_709/IMG_4530.JPG', 'Pineapple_image/stage_601/IMG_0551.JPG', 'Pineapple_image/stage_501/IMG_8869.JPG', 'Pineapple_image/stage_505/IMG_20210112_120437.jpg', 'Pineapple_image/stage_501/IMG_3927.JPG', 'Pineapple_image/stage_501/DSC_0507.JPG', 'Pineapple_image/stage_709/IMG_9667.JPG', 'Pineapple_image/stage_509/IMG_0254.JPG', 'Pineapple_image/stage_505/IMG_4472.JPG', 'Pineapple_image/stage_501/IMG_3779.JPG', 'Pineapple_image/stage_705/IMG_9486.JPG', 'Pineapple_image/stage_609/IMG_2777.JPG', 'Pineapple_image/stage_601/IMG_3521.JPG', 'Pineapple_image/stage_609/IMG_5938.JPG', 'Pineapple_image/stage_705/IMG_1315.JPG', 'Pineapple_image/stage_509/IMG_3468.JPG', 'Pineapple_image/stage_509/IMG_0613.JPG', 'Pineapple_image/stage_601/IMG_5616.JPG', 'Pineapple_image/stage_501/IMG_7245.JPG', 'Pineapple_image/stage_705/IMG_0345.JPG', 'Pineapple_image/stage_501/IMG_2082.JPG', 'Pineapple_image/stage_509/IMG_0509.JPG', 'Pineapple_image/stage_505/IMG_8515.JPG', 'Pineapple_image/stage_509/IMG_0848.JPG', 'Pineapple_image/stage_505/IMG_4915.JPG', 'Pineapple_image/stage_701/IMG_7881.JPG', 'Pineapple_image/stage_509/IMG_0514.JPG', 'Pineapple_image/stage_705/IMG_0298.JPG', 'Pineapple_image/stage_601/IMG_0436.JPG', 'Pineapple_image/stage_609/DSC_0653.JPG', 'Pineapple_image/stage_601/DSC_0566.JPG', 'Pineapple_image/stage_609/IMG_6017.JPG', 'Pineapple_image/stage_501/IMG_8876.JPG', 'Pineapple_image/stage_509/IMG_3253.JPG', 'Pineapple_image/stage_701/IMG_6450.JPG', 'Pineapple_image/stage_609/IMG_5821.JPG', 'Pineapple_image/stage_609/IMG_6052.JPG', 'Pineapple_image/stage_501/IMG_3726.JPG', 'Pineapple_image/stage_709/IMG_9602.JPG', 'Pineapple_image/stage_601/IMG_5603.JPG', 'Pineapple_image/stage_501/IMG_3850.JPG', 'Pineapple_image/stage_501/DSC_0561.JPG', 'Pineapple_image/stage_609/IMG_6050.JPG', 'Pineapple_image/stage_709/IMG_4631.JPG', 'Pineapple_image/stage_609/DSC_0642.JPG', 'Pineapple_image/stage_709/IMG_9911.JPG', 'Pineapple_image/stage_505/IMG_4665.JPG', 'Pineapple_image/stage_605/DSC_0281.JPG', 'Pineapple_image/stage_605/IMG_3748.JPG', 'Pineapple_image/stage_701/DSC_0943.JPG', 'Pineapple_image/stage_709/IMG_0139.JPG', 'Pineapple_image/stage_609/IMG_6121.JPG', 'Pineapple_image/stage_601/DSC_0620.JPG', 'Pineapple_image/stage_709/IMG_9940.JPG', 'Pineapple_image/stage_501/IMG_7250.JPG', 'Pineapple_image/stage_509/IMG_0367.JPG', 'Pineapple_image/stage_505/IMG_4642.JPG', 'Pineapple_image/stage_505/IMG_4388.JPG', 'Pineapple_image/stage_701/DSC_0844.JPG', 'Pineapple_image/stage_709/IMG_0070.JPG', 'Pineapple_image/stage_705/IMG_1087.JPG', 'Pineapple_image/stage_709/IMG_4646.JPG', 'Pineapple_image/stage_709/IMG_20210119_155748.jpg', 'Pineapple_image/stage_705/IMG_9121.JPG', 'Pineapple_image/stage_605/DSC_0262.JPG', 'Pineapple_image/stage_709/IMG_4434.JPG', 'Pineapple_image/stage_701/IMG_7564.JPG', 'Pineapple_image/stage_609/IMG_5835.JPG', 'Pineapple_image/stage_505/IMG_4837.JPG', 'Pineapple_image/stage_709/IMG_9976.JPG', 'Pineapple_image/stage_505/IMG_20210112_122400.jpg', 'Pineapple_image/stage_509/IMG_3187.JPG', 'Pineapple_image/stage_505/IMG_4762.JPG', 'Pineapple_image/stage_709/IMG_4634.JPG', 'Pineapple_image/stage_605/IMG_6382.JPG', 'Pineapple_image/stage_701/IMG_7724.JPG', 'Pineapple_image/stage_601/IMG_5556.JPG', 'Pineapple_image/stage_509/IMG_0292.JPG', 'Pineapple_image/stage_509/IMG_3546.JPG', 'Pineapple_image/stage_509/IMG_0853.JPG', 'Pineapple_image/stage_701/IMG_1682.JPG', 'Pineapple_image/stage_701/IMG_1663.JPG', 'Pineapple_image/stage_501/DSC_0531.JPG', 'Pineapple_image/stage_705/IMG_0347.JPG', 'Pineapple_image/stage_505/IMG_4579.JPG', 'Pineapple_image/stage_601/DSC_0576.JPG', 'Pineapple_image/stage_705/IMG_1178.JPG', 'Pineapple_image/stage_705/IMG_1252.JPG', 'Pineapple_image/stage_509/IMG_0780.JPG', 'Pineapple_image/stage_709/IMG_0151.JPG', 'Pineapple_image/stage_609/IMG_2763.JPG', 'Pineapple_image/stage_705/IMG_9074.JPG', 'Pineapple_image/stage_605/DSC_0115.JPG', 'Pineapple_image/stage_709/IMG_4638.JPG', 'Pineapple_image/stage_605/IMG_3224.JPG', 'Pineapple_image/stage_609/IMG_5968.JPG', 'Pineapple_image/stage_505/IMG_8469.JPG', 'Pineapple_image/stage_505/IMG_20210112_121354.jpg', 'Pineapple_image/stage_509/IMG_3139.JPG', 'Pineapple_image/stage_505/IMG_4948.JPG', 'Pineapple_image/stage_609/IMG_6204.JPG', 'Pineapple_image/stage_505/IMG_8460.JPG', 'Pineapple_image/stage_509/IMG_9526.JPG', 'Pineapple_image/stage_605/IMG_6375.JPG', 'Pineapple_image/stage_601/DSC_0386.JPG', 'Pineapple_image/stage_605/DSC_0288.JPG', 'Pineapple_image/stage_601/DSC_0334.JPG', 'Pineapple_image/stage_705/IMG_9317.JPG', 'Pineapple_image/stage_501/IMG_8852.JPG', 'Pineapple_image/stage_505/IMG_4844.JPG', 'Pineapple_image/stage_705/IMG_1069.JPG', 'Pineapple_image/stage_705/IMG_1110.JPG', 'Pineapple_image/stage_601/DSC_0393.JPG', 'Pineapple_image/stage_701/IMG_7822.JPG', 'Pineapple_image/stage_509/IMG_0645.JPG', 'Pineapple_image/stage_705/IMG_1283.JPG', 'Pineapple_image/stage_701/IMG_1654.JPG', 'Pineapple_image/stage_509/IMG_0485.JPG', 'Pineapple_image/stage_605/IMG_3353.JPG', 'Pineapple_image/stage_605/DSC_0140.JPG', 'Pineapple_image/stage_505/IMG_3997.JPG', 'Pineapple_image/stage_501/IMG_8669.JPG', 'Pineapple_image/stage_701/IMG_7683.JPG', 'Pineapple_image/stage_705/IMG_0276.JPG', 'Pineapple_image/stage_701/IMG_7674.JPG', 'Pineapple_image/stage_609/DSC_0670.JPG', 'Pineapple_image/stage_601/IMG_5737.JPG', 'Pineapple_image/stage_609/IMG_2783.JPG', 'Pineapple_image/stage_701/DSC_0931.JPG', 'Pineapple_image/stage_509/IMG_3214.JPG', 'Pineapple_image/stage_705/IMG_0979.JPG', 'Pineapple_image/stage_509/IMG_3220.JPG', 'Pineapple_image/stage_705/IMG_1207.JPG', 'Pineapple_image/stage_609/IMG_2819.JPG', 'Pineapple_image/stage_601/DSC_0417.JPG', 'Pineapple_image/stage_501/IMG_8751.JPG', 'Pineapple_image/stage_609/IMG_6040.JPG', 'Pineapple_image/stage_501/IMG_7162.JPG', 'Pineapple_image/stage_601/DSC_0452.JPG', 'Pineapple_image/stage_609/IMG_2811.JPG', 'Pineapple_image/stage_709/IMG_9948.JPG', 'Pineapple_image/stage_605/IMG_3427.JPG', 'Pineapple_image/stage_605/DSC_1000.JPG', 'Pineapple_image/stage_601/DSC_0435.JPG', 'Pineapple_image/stage_701/IMG_8345.JPG', 'Pineapple_image/stage_709/IMG_4540.JPG', 'Pineapple_image/stage_509/IMG_3417.JPG', 'Pineapple_image/stage_701/IMG_7789.JPG', 'Pineapple_image/stage_505/IMG_3916.JPG', 'Pineapple_image/stage_705/IMG_0320.JPG', 'Pineapple_image/stage_709/IMG_0204.JPG', 'Pineapple_image/stage_505/IMG_3865.JPG', 'Pineapple_image/stage_605/DSC_0271.JPG', 'Pineapple_image/stage_505/IMG_3941.JPG', 'Pineapple_image/stage_601/IMG_3664.JPG', 'Pineapple_image/stage_505/IMG_20210112_120237.jpg', 'Pineapple_image/stage_509/IMG_3395.JPG', 'Pineapple_image/stage_609/DSC_0658.JPG', 'Pineapple_image/stage_709/IMG_9764.JPG', 'Pineapple_image/stage_605/DSC_0029.JPG', 'Pineapple_image/stage_505/IMG_4823.JPG', 'Pineapple_image/stage_605/IMG_3407.JPG', 'Pineapple_image/stage_701/IMG_6627.JPG', 'Pineapple_image/stage_505/IMG_4649.JPG', 'Pineapple_image/stage_609/DSC_0674.JPG', 'Pineapple_image/stage_509/IMG_3237.JPG', 'Pineapple_image/stage_501/IMG_6318.JPG', 'Pineapple_image/stage_601/IMG_0815.JPG', 'Pineapple_image/stage_709/IMG_9659.JPG', 'Pineapple_image/stage_609/IMG_5988.JPG', 'Pineapple_image/stage_505/IMG_4747.JPG', 'Pineapple_image/stage_505/IMG_20210112_121827.jpg', 'Pineapple_image/stage_709/IMG_4455.JPG', 'Pineapple_image/stage_501/IMG_8798.JPG', 'Pineapple_image/stage_601/IMG_3652.JPG', 'Pineapple_image/stage_709/IMG_9747.JPG', 'Pineapple_image/stage_609/IMG_5941.JPG', 'Pineapple_image/stage_701/IMG_1622.JPG', 'Pineapple_image/stage_609/IMG_2940.JPG', 'Pineapple_image/stage_501/IMG_8808.JPG', 'Pineapple_image/stage_509/IMG_3379.JPG', 'Pineapple_image/stage_601/DSC_0601.JPG', 'Pineapple_image/stage_601/DSC_0487.JPG', 'Pineapple_image/stage_605/IMG_3320.JPG', 'Pineapple_image/stage_701/IMG_1535.JPG', 'Pineapple_image/stage_701/DSC_0855.JPG', 'Pineapple_image/stage_609/IMG_5918.JPG', 'Pineapple_image/stage_509/IMG_3353.JPG', 'Pineapple_image/stage_701/IMG_7901.JPG', 'Pineapple_image/stage_601/IMG_2014.JPG', 'Pineapple_image/stage_501/DSC_0503.JPG', 'Pineapple_image/stage_505/IMG_3812.JPG', 'Pineapple_image/stage_609/DSC_0624.JPG', 'Pineapple_image/stage_709/IMG_4502.JPG', 'Pineapple_image/stage_609/IMG_2781.JPG', 'Pineapple_image/stage_509/IMG_3229.JPG', 'Pineapple_image/stage_709/IMG_4565.JPG', 'Pineapple_image/stage_601/IMG_0403.JPG', 'Pineapple_image/stage_701/IMG_1847.JPG', 'Pineapple_image/stage_505/IMG_20210112_121210.jpg', 'Pineapple_image/stage_705/IMG_0306.JPG', 'Pineapple_image/stage_605/DSC_0152.JPG', 'Pineapple_image/stage_509/IMG_0732.JPG', 'Pineapple_image/stage_505/IMG_8530.JPG', 'Pineapple_image/stage_601/DSC_0440.JPG', 'Pineapple_image/stage_701/IMG_6510.JPG', 'Pineapple_image/stage_609/IMG_2822.JPG', 'Pineapple_image/stage_705/IMG_0290.JPG', 'Pineapple_image/stage_501/IMG_8898.JPG', 'Pineapple_image/stage_505/IMG_4355.JPG', 'Pineapple_image/stage_505/IMG_8597.JPG', 'Pineapple_image/stage_705/IMG_9393.JPG', 'Pineapple_image/stage_705/IMG_1124.JPG', 'Pineapple_image/stage_601/IMG_3650 (2).JPG', 'Pineapple_image/stage_701/IMG_7832.JPG', 'Pineapple_image/stage_601/IMG_0420.JPG', 'Pineapple_image/stage_605/DSC_0992.JPG', 'Pineapple_image/stage_701/IMG_7890.JPG', 'Pineapple_image/stage_509/IMG_3105.JPG', 'Pineapple_image/stage_705/IMG_9196.JPG', 'Pineapple_image/stage_501/IMG_3885.JPG', 'Pineapple_image/stage_701/IMG_7751.JPG', 'Pineapple_image/stage_505/IMG_3846.JPG', 'Pineapple_image/stage_609/IMG_5815.JPG', 'Pineapple_image/stage_705/IMG_9206.JPG', 'Pineapple_image/stage_709/IMG_9609.JPG', 'Pineapple_image/stage_705/IMG_1308.JPG', 'Pineapple_image/stage_609/IMG_5875.JPG', 'Pineapple_image/stage_509/IMG_3358.JPG', 'Pineapple_image/stage_509/IMG_0462.JPG', 'Pineapple_image/stage_709/IMG_4642.JPG', 'Pineapple_image/stage_601/DSC_0275.JPG', 'Pineapple_image/stage_701/IMG_1554.JPG', 'Pineapple_image/stage_701/IMG_7810.JPG', 'Pineapple_image/stage_709/IMG_9721.JPG', 'Pineapple_image/stage_609/IMG_6089.JPG', 'Pineapple_image/stage_709/IMG_9613.JPG', 'Pineapple_image/stage_709/IMG_1408.JPG', 'Pineapple_image/stage_601/IMG_5610.JPG', 'Pineapple_image/stage_509/IMG_3337.JPG', 'Pineapple_image/stage_605/IMG_3311.JPG', 'Pineapple_image/stage_505/IMG_4533.JPG', 'Pineapple_image/stage_509/IMG_3423.JPG', 'Pineapple_image/stage_609/IMG_3277.JPG', 'Pineapple_image/stage_509/IMG_0406.JPG', 'Pineapple_image/stage_501/DSC_0467.JPG', 'Pineapple_image/stage_709/IMG_9810.JPG', 'Pineapple_image/stage_705/IMG_9037.JPG', 'Pineapple_image/stage_605/DSC_0122.JPG', 'Pineapple_image/stage_509/IMG_0351.JPG', 'Pineapple_image/stage_605/DSC_0198.JPG', 'Pineapple_image/stage_709/IMG_9831.JPG', 'Pineapple_image/stage_601/IMG_3695.JPG', 'Pineapple_image/stage_601/IMG_0266.JPG', 'Pineapple_image/stage_605/IMG_3208.JPG', 'Pineapple_image/stage_509/IMG_3267.JPG', 'Pineapple_image/stage_609/DSC_0646.JPG', 'Pineapple_image/stage_509/IMG_3517.JPG', 'Pineapple_image/stage_701/IMG_8298.JPG', 'Pineapple_image/stage_501/IMG_7287.JPG', 'Pineapple_image/stage_609/IMG_5996.JPG', 'Pineapple_image/stage_605/DSC_0299.JPG', 'Pineapple_image/stage_509/IMG_3389.JPG', 'Pineapple_image/stage_505/IMG_4061.JPG', 'Pineapple_image/stage_505/IMG_8484.JPG', 'Pineapple_image/stage_505/IMG_4002.JPG', 'Pineapple_image/stage_605/IMG_3380.JPG', 'Pineapple_image/stage_705/IMG_9378.JPG', 'Pineapple_image/stage_505/IMG_4853.JPG', 'Pineapple_image/stage_501/IMG_3762.JPG', 'Pineapple_image/stage_701/IMG_6609.JPG', 'Pineapple_image/stage_509/IMG_3133.JPG', 'Pineapple_image/stage_709/IMG_9754.JPG', 'Pineapple_image/stage_705/IMG_1075.JPG', 'Pineapple_image/stage_505/IMG_7279.JPG', 'Pineapple_image/stage_601/DSC_0495.JPG', 'Pineapple_image/stage_509/IMG_0523.JPG', 'Pineapple_image/stage_609/IMG_5945.JPG', 'Pineapple_image/stage_705/IMG_1015.JPG', 'Pineapple_image/stage_505/IMG_5071.JPG', 'Pineapple_image/stage_701/IMG_1816.JPG', 'Pineapple_image/stage_509/IMG_0858.JPG', 'Pineapple_image/stage_505/IMG_4985.JPG', 'Pineapple_image/stage_501/DSC_0484.JPG', 'Pineapple_image/stage_605/DSC_0213.JPG', 'Pineapple_image/stage_505/IMG_4613.JPG', 'Pineapple_image/stage_501/IMG_7315.JPG', 'Pineapple_image/stage_509/IMG_0663.JPG', 'Pineapple_image/stage_605/IMG_6397.JPG', 'Pineapple_image/stage_709/IMG_4601.JPG', 'Pineapple_image/stage_505/IMG_5010.JPG', 'Pineapple_image/stage_605/IMG_3267.JPG', 'Pineapple_image/stage_709/IMG_4628.JPG', 'Pineapple_image/stage_505/IMG_4508.JPG', 'Pineapple_image/stage_601/DSC_0583.JPG', 'Pineapple_image/stage_605/IMG_3296.JPG', 'Pineapple_image/stage_601/DSC_0528.JPG', 'Pineapple_image/stage_501/DSC_0610.JPG', 'Pineapple_image/stage_709/IMG_0102.JPG', 'Pineapple_image/stage_701/IMG_6591.JPG', 'Pineapple_image/stage_701/DSC_0970.JPG', 'Pineapple_image/stage_505/IMG_4563.JPG', 'Pineapple_image/stage_501/IMG_3828.JPG', 'Pineapple_image/stage_501/IMG_8844.JPG', 'Pineapple_image/stage_505/IMG_5046.JPG', 'Pineapple_image/stage_509/IMG_0381.JPG', 'Pineapple_image/stage_509/IMG_0704.JPG', 'Pineapple_image/stage_509/IMG_0659.JPG', 'Pineapple_image/stage_505/IMG_4374.JPG', 'Pineapple_image/stage_605/DSC_0066.JPG', 'Pineapple_image/stage_605/IMG_3455.JPG', 'Pineapple_image/stage_609/IMG_6011.JPG', 'Pineapple_image/stage_601/DSC_0545.JPG', 'Pineapple_image/stage_601/DSC_0406.JPG', 'Pineapple_image/stage_509/IMG_0722.JPG', 'Pineapple_image/stage_605/DSC_0347.JPG', 'Pineapple_image/stage_605/DSC_1007.JPG', 'Pineapple_image/stage_601/IMG_3616.JPG', 'Pineapple_image/stage_705/IMG_0997.JPG', 'Pineapple_image/stage_501/IMG_6304.JPG', 'Pineapple_image/stage_601/IMG_0812.JPG', 'Pineapple_image/stage_701/IMG_7778.JPG', 'Pineapple_image/stage_601/DSC_0510.JPG', 'Pineapple_image/stage_609/IMG_2936.JPG', 'Pineapple_image/stage_601/IMG_5750.JPG', 'Pineapple_image/stage_705/IMG_1279.JPG', 'Pineapple_image/stage_609/IMG_2779.JPG', 'Pineapple_image/stage_501/IMG_7149.JPG', 'Pineapple_image/stage_709/IMG_20210119_160113.jpg', 'Pineapple_image/stage_509/IMG_0390.JPG', 'Pineapple_image/stage_505/IMG_4931.JPG', 'Pineapple_image/stage_605/IMG_3423.JPG', 'Pineapple_image/stage_505/IMG_5001.JPG', 'Pineapple_image/stage_709/IMG_4499.JPG', 'Pineapple_image/stage_701/IMG_1520.JPG', 'Pineapple_image/stage_605/DSC_0368.JPG', 'Pineapple_image/stage_709/IMG_9633.JPG', 'Pineapple_image/stage_601/DSC_0474.JPG', 'Pineapple_image/stage_601/IMG_0545.JPG', 'Pineapple_image/stage_701/IMG_1545.JPG', 'Pineapple_image/stage_609/IMG_6191.JPG', 'Pineapple_image/stage_701/IMG_7968.JPG', 'Pineapple_image/stage_605/DSC_0075.JPG', 'Pineapple_image/stage_609/IMG_2863.JPG', 'Pineapple_image/stage_605/DSC_0210.JPG', 'Pineapple_image/stage_609/DSC_0627.JPG', 'Pineapple_image/stage_601/IMG_3660.JPG', 'Pineapple_image/stage_605/IMG_3485.JPG', 'Pineapple_image/stage_705/IMG_9297.JPG', 'Pineapple_image/stage_509/IMG_3412.JPG', 'Pineapple_image/stage_705/IMG_9448.JPG', 'Pineapple_image/stage_509/IMG_3594.JPG', 'Pineapple_image/stage_709/IMG_9885.JPG', 'Pineapple_image/stage_609/IMG_5928.JPG', 'Pineapple_image/stage_709/IMG_0087.JPG', 'Pineapple_image/stage_509/IMG_3478.JPG', 'Pineapple_image/stage_605/IMG_3362.JPG', 'Pineapple_image/stage_701/IMG_7581.JPG', 'Pineapple_image/stage_705/IMG_0331.JPG', 'Pineapple_image/stage_501/IMG_7281.JPG', 'Pineapple_image/stage_601/DSC_0447.JPG', 'Pineapple_image/stage_501/DSC_0616.JPG', 'Pineapple_image/stage_601/IMG_0564.JPG', 'Pineapple_image/stage_709/IMG_4596.JPG', 'Pineapple_image/stage_701/DSC_0813.JPG', 'Pineapple_image/stage_609/IMG_5965.JPG', 'Pineapple_image/stage_509/IMG_3362.JPG', 'Pineapple_image/stage_701/IMG_1750.JPG', 'Pineapple_image/stage_709/IMG_9743.JPG', 'Pineapple_image/stage_509/IMG_0447.JPG', 'Pineapple_image/stage_609/IMG_6009.JPG', 'Pineapple_image/stage_605/IMG_3419.JPG', 'Pineapple_image/stage_505/IMG_4098.JPG', 'Pineapple_image/stage_601/IMG_0311.JPG', 'Pineapple_image/stage_701/IMG_7493.JPG', 'Pineapple_image/stage_609/IMG_5976.JPG', 'Pineapple_image/stage_509/IMG_3084.JPG', 'Pineapple_image/stage_705/IMG_9076.JPG', 'Pineapple_image/stage_609/DSC_0660.JPG', 'Pineapple_image/stage_605/DSC_0010.JPG', 'Pineapple_image/stage_501/DSC_0602.JPG', 'Pineapple_image/stage_509/IMG_3433.JPG', 'Pineapple_image/stage_609/IMG_2962.JPG', 'Pineapple_image/stage_605/IMG_3193.JPG', 'Pineapple_image/stage_609/IMG_2798.JPG', 'Pineapple_image/stage_501/IMG_4301.JPG', 'Pineapple_image/stage_501/IMG_3880.JPG', 'Pineapple_image/stage_705/IMG_0337.JPG', 'Pineapple_image/stage_509/IMG_3224.JPG', 'Pineapple_image/stage_601/IMG_5717.JPG', 'Pineapple_image/stage_705/IMG_0959.JPG', 'Pineapple_image/stage_705/IMG_1174.JPG', 'Pineapple_image/stage_509/IMG_2018.JPG', 'Pineapple_image/stage_709/IMG_0144.JPG', 'Pineapple_image/stage_505/IMG_7168.JPG', 'Pineapple_image/stage_701/IMG_6600.JPG', 'Pineapple_image/stage_709/IMG_9919.JPG', 'Pineapple_image/stage_509/IMG_3276.JPG', 'Pineapple_image/stage_701/IMG_4298.JPG', 'Pineapple_image/stage_501/DSC_0535.JPG', 'Pineapple_image/stage_709/IMG_0032.JPG', 'Pineapple_image/stage_701/IMG_7703.JPG', 'Pineapple_image/stage_709/IMG_1387.JPG', 'Pineapple_image/stage_501/IMG_7241.JPG', 'Pineapple_image/stage_505/IMG_4572.JPG', 'Pineapple_image/stage_609/DSC_0648.JPG', 'Pineapple_image/stage_609/IMG_5903.JPG', 'Pineapple_image/stage_505/IMG_4711.JPG', 'Pineapple_image/stage_601/IMG_0584.JPG', 'Pineapple_image/stage_605/IMG_3220.JPG', 'Pineapple_image/stage_505/IMG_4724.JPG', 'Pineapple_image/stage_501/IMG_3875.JPG', 'Pineapple_image/stage_701/IMG_6441.JPG', 'Pineapple_image/stage_501/IMG_2028.JPG', 'Pineapple_image/stage_709/IMG_0011.JPG', 'Pineapple_image/stage_709/IMG_4617.JPG', 'Pineapple_image/stage_509/IMG_3375.JPG', 'Pineapple_image/stage_709/IMG_1424.JPG', 'Pineapple_image/stage_509/IMG_3461.JPG', 'Pineapple_image/stage_505/IMG_4885.JPG', 'Pineapple_image/stage_509/IMG_0863.JPG', 'Pineapple_image/stage_509/IMG_0221.JPG', 'Pineapple_image/stage_601/DSC_0320.JPG', 'Pineapple_image/stage_505/IMG_20210112_120635.jpg', 'Pineapple_image/stage_601/DSC_0500.JPG', 'Pineapple_image/stage_701/IMG_1500.JPG', 'Pineapple_image/stage_501/DSC_0544.JPG', 'Pineapple_image/stage_609/IMG_6054.JPG', 'Pineapple_image/stage_501/IMG_7298.JPG', 'Pineapple_image/stage_609/IMG_6066.JPG', 'Pineapple_image/stage_601/IMG_5661.JPG', 'Pineapple_image/stage_701/IMG_8212.JPG', 'Pineapple_image/stage_509/IMG_3170.JPG', 'Pineapple_image/stage_501/IMG_8707.JPG', 'Pineapple_image/stage_705/IMG_9410.JPG', 'Pineapple_image/stage_709/IMG_9856.JPG', 'Pineapple_image/stage_601/IMG_0591.JPG', 'Pineapple_image/stage_601/DSC_0300.JPG', 'Pineapple_image/stage_705/IMG_1270.JPG', 'Pineapple_image/stage_701/IMG_6550.JPG', 'Pineapple_image/stage_705/IMG_9455.JPG', 'Pineapple_image/stage_605/DSC_0986.JPG', 'Pineapple_image/stage_605/IMG_3184.JPG', 'Pineapple_image/stage_501/IMG_7301.JPG', 'Pineapple_image/stage_709/IMG_4576.JPG', 'Pineapple_image/stage_509/IMG_0249.JPG', 'Pineapple_image/stage_709/IMG_9740.JPG', 'Pineapple_image/stage_505/IMG_8451.JPG', 'Pineapple_image/stage_509/IMG_0694.JPG', 'Pineapple_image/stage_609/IMG_5845.JPG', 'Pineapple_image/stage_601/DSC_0484.JPG', 'Pineapple_image/stage_605/DSC_0344.JPG', 'Pineapple_image/stage_601/IMG_3506.JPG', 'Pineapple_image/stage_505/IMG_5089.JPG', 'Pineapple_image/stage_501/IMG_7388.JPG', 'Pineapple_image/stage_605/DSC_0081.JPG', 'Pineapple_image/stage_701/IMG_7655.JPG', 'Pineapple_image/stage_605/IMG_3376.JPG', 'Pineapple_image/stage_705/IMG_9064.JPG', 'Pineapple_image/stage_709/IMG_9790.JPG', 'Pineapple_image/stage_605/DSC_0119.JPG', 'Pineapple_image/stage_705/IMG_0916.JPG', 'Pineapple_image/stage_701/IMG_1880.JPG', 'Pineapple_image/stage_705/IMG_9417.JPG', 'Pineapple_image/stage_701/IMG_6557.JPG', 'Pineapple_image/stage_605/DSC_0033.JPG', 'Pineapple_image/stage_601/DSC_0305.JPG', 'Pineapple_image/stage_605/DSC_0038.JPG', 'Pineapple_image/stage_701/DSC_0902.JPG', 'Pineapple_image/stage_605/DSC_0013.JPG', 'Pineapple_image/stage_609/IMG_6129.JPG', 'Pineapple_image/stage_609/IMG_5891.JPG', 'Pineapple_image/stage_601/IMG_0628.JPG', 'Pineapple_image/stage_601/DSC_0524.JPG', 'Pineapple_image/stage_705/IMG_0327.JPG', 'Pineapple_image/stage_709/IMG_9699.JPG', 'Pineapple_image/stage_505/IMG_4481.JPG', 'Pineapple_image/stage_709/IMG_1430.JPG', 'Pineapple_image/stage_701/IMG_1674.JPG', 'Pineapple_image/stage_601/IMG_3679.JPG', 'Pineapple_image/stage_505/IMG_4423.JPG', 'Pineapple_image/stage_709/IMG_1376.JPG', 'Pineapple_image/stage_605/IMG_3767.JPG', 'Pineapple_image/stage_505/IMG_4548.JPG', 'Pineapple_image/stage_705/IMG_0376.JPG', 'Pineapple_image/stage_601/DSC_0469.JPG', 'Pineapple_image/stage_505/IMG_4586.JPG', 'Pineapple_image/stage_709/IMG_4391.JPG', 'Pineapple_image/stage_605/DSC_0136.JPG', 'Pineapple_image/stage_709/IMG_4523.JPG', 'Pineapple_image/stage_605/IMG_3760.JPG', 'Pineapple_image/stage_609/IMG_2838.JPG', 'Pineapple_image/stage_505/IMG_3971.JPG', 'Pineapple_image/stage_709/IMG_4649.JPG', 'Pineapple_image/stage_509/IMG_0745.JPG', 'Pineapple_image/stage_501/IMG_4386.JPG', 'Pineapple_image/stage_505/IMG_8492.JPG', 'Pineapple_image/stage_701/DSC_0735.JPG', 'Pineapple_image/stage_609/IMG_6076.JPG', 'Pineapple_image/stage_701/IMG_1644.JPG', 'Pineapple_image/stage_709/IMG_9718.JPG', 'Pineapple_image/stage_705/IMG_1091.JPG', 'Pineapple_image/stage_709/IMG_0007.JPG', 'Pineapple_image/stage_705/IMG_1154.JPG', 'Pineapple_image/stage_701/IMG_7931.JPG', 'Pineapple_image/stage_509/IMG_3371.JPG', 'Pineapple_image/stage_709/IMG_9901.JPG', 'Pineapple_image/stage_601/DSC_0561.JPG', 'Pineapple_image/stage_709/IMG_0024.JPG', 'Pineapple_image/stage_709/IMG_4527.JPG', 'Pineapple_image/stage_605/IMG_3350.JPG', 'Pineapple_image/stage_501/IMG_7358.JPG', 'Pineapple_image/stage_601/DSC_0617.JPG', 'Pineapple_image/stage_601/DSC_0257.JPG', 'Pineapple_image/stage_701/IMG_6660.JPG', 'Pineapple_image/stage_701/IMG_4205.JPG', 'Pineapple_image/stage_509/IMG_3262.JPG', 'Pineapple_image/stage_509/IMG_0358.JPG', 'Pineapple_image/stage_601/DSC_0317.JPG', 'Pineapple_image/stage_501/IMG_8726.JPG', 'Pineapple_image/stage_501/IMG_8860.JPG', 'Pineapple_image/stage_705/IMG_9157.JPG', 'Pineapple_image/stage_701/IMG_7913.JPG', 'Pineapple_image/stage_605/IMG_3435.JPG', 'Pineapple_image/stage_709/IMG_0036.JPG', 'Pineapple_image/stage_601/DSC_0506.JPG', 'Pineapple_image/stage_709/IMG_0107.JPG', 'Pineapple_image/stage_509/IMG_3270.JPG', 'Pineapple_image/stage_701/IMG_7532.JPG', 'Pineapple_image/stage_505/IMG_4619.JPG', 'Pineapple_image/stage_601/DSC_0341.JPG', 'Pineapple_image/stage_701/IMG_8092.JPG', 'Pineapple_image/stage_605/DSC_0307.JPG', 'Pineapple_image/stage_509/IMG_0443.JPG', 'Pineapple_image/stage_709/IMG_9682.JPG', 'Pineapple_image/stage_501/IMG_7312.JPG', 'Pineapple_image/stage_505/IMG_20210112_120737.jpg', 'Pineapple_image/stage_701/IMG_8196.JPG', 'Pineapple_image/stage_701/DSC_0697.JPG', 'Pineapple_image/stage_701/IMG_7853.JPG', 'Pineapple_image/stage_705/IMG_1080.JPG', 'Pineapple_image/stage_605/DSC_0097.JPG', 'Pineapple_image/stage_601/DSC_0591.JPG', 'Pineapple_image/stage_501/IMG_7333.JPG', 'Pineapple_image/stage_501/DSC_0570.JPG', 'Pineapple_image/stage_505/IMG_4829.JPG', 'Pineapple_image/stage_701/IMG_1592.JPG', 'Pineapple_image/stage_705/IMG_9214.JPG', 'Pineapple_image/stage_609/IMG_5954.JPG', 'Pineapple_image/stage_601/IMG_5590.JPG', 'Pineapple_image/stage_601/IMG_3668.JPG', 'Pineapple_image/stage_501/IMG_7394.JPG', 'Pineapple_image/stage_609/IMG_5956.JPG', 'Pineapple_image/stage_601/IMG_0263.JPG', 'Pineapple_image/stage_505/IMG_7231.JPG', 'Pineapple_image/stage_609/IMG_2832.JPG', 'Pineapple_image/stage_501/DSC_0620.JPG', 'Pineapple_image/stage_701/IMG_7991.JPG', 'Pineapple_image/stage_609/IMG_5862.JPG', 'Pineapple_image/stage_609/IMG_5961.JPG', 'Pineapple_image/stage_605/DSC_0268.JPG', 'Pineapple_image/stage_601/IMG_5643.JPG', 'Pineapple_image/stage_505/IMG_5079.JPG', 'Pineapple_image/stage_705/IMG_9238.JPG', 'Pineapple_image/stage_709/IMG_9677.JPG', 'Pineapple_image/stage_609/IMG_2970.JPG', 'Pineapple_image/stage_709/IMG_9776.JPG', 'Pineapple_image/stage_609/IMG_6005.JPG', 'Pineapple_image/stage_701/DSC_0961.JPG', 'Pineapple_image/stage_509/IMG_3402.JPG', 'Pineapple_image/stage_709/IMG_4519.JPG', 'Pineapple_image/stage_605/IMG_3345.JPG', 'Pineapple_image/stage_705/IMG_0271.JPG', 'Pineapple_image/stage_601/DSC_0369.JPG', 'Pineapple_image/stage_501/IMG_8715.JPG', 'Pineapple_image/stage_701/DSC_0866.JPG', 'Pineapple_image/stage_501/IMG_6282.JPG', 'Pineapple_image/stage_705/IMG_1007.JPG', 'Pineapple_image/stage_601/IMG_3577.JPG', 'Pineapple_image/stage_601/IMG_3646.JPG', 'Pineapple_image/stage_705/IMG_9102.JPG', 'Pineapple_image/stage_701/IMG_8177.JPG', 'Pineapple_image/stage_605/IMG_3147.JPG', 'Pineapple_image/stage_601/IMG_3689 (2).JPG', 'Pineapple_image/stage_509/IMG_3145.JPG', 'Pineapple_image/stage_509/IMG_0579.JPG', 'Pineapple_image/stage_705/IMG_9219.JPG', 'Pineapple_image/stage_705/IMG_9253.JPG', 'Pineapple_image/stage_505/IMG_20210112_122203.jpg', 'Pineapple_image/stage_501/IMG_7383.JPG', 'Pineapple_image/stage_605/DSC_0190.JPG', 'Pineapple_image/stage_701/IMG_8234.JPG', 'Pineapple_image/stage_709/IMG_4572.JPG', 'Pineapple_image/stage_701/DSC_0706.JPG', 'Pineapple_image/stage_609/DSC_0644.JPG', 'Pineapple_image/stage_701/IMG_7614.JPG', 'Pineapple_image/stage_601/IMG_0307.JPG', 'Pineapple_image/stage_701/DSC_0874.JPG', 'Pineapple_image/stage_505/IMG_4777.JPG', 'Pineapple_image/stage_709/IMG_1361.JPG', 'Pineapple_image/stage_609/IMG_2772.JPG', 'Pineapple_image/stage_701/IMG_2888.JPG', 'Pineapple_image/stage_601/IMG_0534.JPG', 'Pineapple_image/stage_601/IMG_5569.JPG', 'Pineapple_image/stage_709/IMG_4506.JPG', 'Pineapple_image/stage_501/IMG_8888.JPG', 'Pineapple_image/stage_505/IMG_8427.JPG', 'Pineapple_image/stage_601/DSC_0444.JPG', 'Pineapple_image/stage_701/IMG_4197.JPG', 'Pineapple_image/stage_601/IMG_3596.JPG', 'Pineapple_image/stage_509/IMG_3525.JPG', 'Pineapple_image/stage_705/IMG_9288.JPG', 'Pineapple_image/stage_605/IMG_3215.JPG', 'Pineapple_image/stage_501/IMG_8742.JPG', 'Pineapple_image/stage_501/IMG_4321.JPG', 'Pineapple_image/stage_505/IMG_4143.JPG', 'Pineapple_image/stage_505/IMG_8476.JPG', 'Pineapple_image/stage_505/IMG_3978.JPG', 'Pineapple_image/stage_709/IMG_9710.JPG', 'Pineapple_image/stage_509/IMG_3585.JPG', 'Pineapple_image/stage_509/IMG_3129.JPG', 'Pineapple_image/stage_601/DSC_0284.JPG', 'Pineapple_image/stage_601/IMG_0530.JPG', 'Pineapple_image/stage_501/IMG_7373.JPG', 'Pineapple_image/stage_509/IMG_0623.JPG', 'Pineapple_image/stage_609/IMG_2977.JPG', 'Pineapple_image/stage_709/IMG_4657.JPG', 'Pineapple_image/stage_701/IMG_6638.JPG', 'Pineapple_image/stage_705/IMG_0394.JPG', 'Pineapple_image/stage_601/DSC_0411.JPG', 'Pineapple_image/stage_505/IMG_3982.JPG', 'Pineapple_image/stage_505/IMG_4031.JPG', 'Pineapple_image/stage_705/IMG_9281.JPG', 'Pineapple_image/stage_509/IMG_3079.JPG', 'Pineapple_image/stage_509/IMG_3126.JPG', 'Pineapple_image/stage_509/IMG_0496.JPG', 'Pineapple_image/stage_609/IMG_5914.JPG', 'Pineapple_image/stage_709/IMG_1415.JPG', 'Pineapple_image/stage_709/IMG_9841.JPG', 'Pineapple_image/stage_701/IMG_7948.JPG', 'Pineapple_image/stage_509/IMG_3537.JPG', 'Pineapple_image/stage_701/IMG_7843.JPG', 'Pineapple_image/stage_705/IMG_9494.JPG', 'Pineapple_image/stage_501/IMG_7345.JPG', 'Pineapple_image/stage_705/IMG_0303.JPG', 'Pineapple_image/stage_609/IMG_2791.JPG', 'Pineapple_image/stage_609/IMG_2854.JPG', 'Pineapple_image/stage_701/IMG_9335.JPG', 'Pineapple_image/stage_605/DSC_0172.JPG', 'Pineapple_image/stage_601/IMG_0398.JPG', 'Pineapple_image/stage_505/IMG_4082.JPG', 'Pineapple_image/stage_701/IMG_1937.JPG', 'Pineapple_image/stage_701/IMG_1759.JPG', 'Pineapple_image/stage_701/IMG_6470.JPG', 'Pineapple_image/stage_709/IMG_0039.JPG', 'Pineapple_image/stage_705/IMG_1187.JPG', 'Pineapple_image/stage_605/IMG_3314.JPG', 'Pineapple_image/stage_701/DSC_0922.JPG', 'Pineapple_image/stage_601/IMG_3639 (2).JPG', 'Pineapple_image/stage_601/DSC_0206.JPG', 'Pineapple_image/stage_501/IMG_6335.JPG', 'Pineapple_image/stage_505/IMG_4448.JPG', 'Pineapple_image/stage_505/IMG_3853.JPG', 'Pineapple_image/stage_609/IMG_6068.JPG', 'Pineapple_image/stage_709/IMG_9847.JPG', 'Pineapple_image/stage_501/IMG_7182.JPG', 'Pineapple_image/stage_709/IMG_0112.JPG', 'Pineapple_image/stage_605/DSC_0201.JPG', 'Pineapple_image/stage_605/IMG_3733.JPG', 'Pineapple_image/stage_601/IMG_3515.JPG', 'Pineapple_image/stage_501/DSC_0845.JPG', 'Pineapple_image/stage_601/DSC_0595.JPG', 'Pineapple_image/stage_609/IMG_6056.JPG', 'Pineapple_image/stage_701/IMG_1927.JPG', 'Pineapple_image/stage_605/IMG_3234.JPG', 'Pineapple_image/stage_509/IMG_3293.JPG', 'Pineapple_image/stage_601/DSC_0553.JPG', 'Pineapple_image/stage_709/IMG_1391.JPG', 'Pineapple_image/stage_501/IMG_3750.JPG', 'Pineapple_image/stage_509/IMG_3233.JPG', 'Pineapple_image/stage_701/IMG_6647.JPG', 'Pineapple_image/stage_705/IMG_9385.JPG', 'Pineapple_image/stage_605/IMG_3786.JPG', 'Pineapple_image/stage_605/IMG_2037.JPG', 'Pineapple_image/stage_701/DSC_0805.JPG', 'Pineapple_image/stage_509/IMG_3208.JPG', 'Pineapple_image/stage_609/IMG_6230.JPG', 'Pineapple_image/stage_509/IMG_0707.JPG', 'Pineapple_image/stage_605/IMG_3244.JPG', 'Pineapple_image/stage_501/IMG_6286.JPG', 'Pineapple_image/stage_505/IMG_4657.JPG', 'Pineapple_image/stage_601/IMG_0559.JPG', 'Pineapple_image/stage_505/IMG_5026.JPG', 'Pineapple_image/stage_601/DSC_0599.JPG', 'Pineapple_image/stage_501/DSC_0594.JPG', 'Pineapple_image/stage_505/IMG_8542.JPG', 'Pineapple_image/stage_709/IMG_9619.JPG', 'Pineapple_image/stage_705/IMG_0380.JPG', 'Pineapple_image/stage_609/IMG_2849.JPG', 'Pineapple_image/stage_605/IMG_3239.JPG', 'Pineapple_image/stage_509/IMG_0738.JPG', 'Pineapple_image/stage_509/IMG_0618.JPG', 'Pineapple_image/stage_501/IMG_7399.JPG', 'Pineapple_image/stage_705/IMG_9440.JPG', 'Pineapple_image/stage_601/DSC_0352.JPG', 'Pineapple_image/stage_509/IMG_3310.JPG', 'Pineapple_image/stage_601/DSC_0609.JPG', 'Pineapple_image/stage_501/IMG_7236.JPG', 'Pineapple_image/stage_705/IMG_1118.JPG', 'Pineapple_image/stage_705/IMG_0323.JPG', 'Pineapple_image/stage_709/IMG_1394.JPG', 'Pineapple_image/stage_705/IMG_1031.JPG', 'Pineapple_image/stage_701/IMG_1710.JPG', 'Pineapple_image/stage_609/DSC_0656.JPG', 'Pineapple_image/stage_609/IMG_5980.JPG', 'Pineapple_image/stage_705/IMG_0372.JPG', 'Pineapple_image/stage_701/DSC_0677.JPG', 'Pineapple_image/stage_501/IMG_8634.JPG', 'Pineapple_image/stage_709/IMG_9702.JPG', 'Pineapple_image/stage_509/IMG_9594.JPG', 'Pineapple_image/stage_501/IMG_7198.JPG', 'Pineapple_image/stage_609/DSC_0196.JPG', 'Pineapple_image/stage_709/IMG_4516.JPG', 'Pineapple_image/stage_601/IMG_3551.JPG', 'Pineapple_image/stage_505/IMG_20210112_120557.jpg', 'Pineapple_image/stage_705/IMG_0964.JPG', 'Pineapple_image/stage_609/IMG_6145.JPG', 'Pineapple_image/stage_601/DSC_0490.JPG', 'Pineapple_image/stage_605/IMG_3261.JPG', 'Pineapple_image/stage_701/IMG_7771.JPG', 'Pineapple_image/stage_701/IMG_7637.JPG', 'Pineapple_image/stage_705/IMG_9324.JPG', 'Pineapple_image/stage_701/IMG_7552.JPG', 'Pineapple_image/stage_605/DSC_0257.JPG', 'Pineapple_image/stage_609/IMG_2861.JPG', 'Pineapple_image/stage_505/IMG_20210112_120321.jpg', 'Pineapple_image/stage_505/IMG_3958.JPG', 'Pineapple_image/stage_701/IMG_6459.JPG', 'Pineapple_image/stage_509/IMG_0237.JPG', 'Pineapple_image/stage_509/IMG_3366.JPG', 'Pineapple_image/stage_505/IMG_5056.JPG', 'Pineapple_image/stage_709/IMG_9862.JPG', 'Pineapple_image/stage_705/IMG_1239.JPG', 'Pineapple_image/stage_609/DSC_0193.JPG', 'Pineapple_image/stage_709/IMG_9692.JPG', 'Pineapple_image/stage_705/IMG_1262.JPG', 'Pineapple_image/stage_705/IMG_0993.JPG', 'Pineapple_image/stage_501/IMG_3908.JPG', 'Pineapple_image/stage_701/DSC_0954.JPG', 'Pineapple_image/stage_705/IMG_9169.JPG', 'Pineapple_image/stage_609/DSC_0651.JPG', 'Pineapple_image/stage_505/IMG_4528.JPG', 'Pineapple_image/stage_609/IMG_5933.JPG', 'Pineapple_image/stage_701/IMG_7742.JPG', 'Pineapple_image/stage_509/IMG_3488.JPG', 'Pineapple_image/stage_709/IMG_4623.JPG', 'Pineapple_image/stage_605/DSC_0319.JPG', 'Pineapple_image/stage_609/IMG_5870.JPG', 'Pineapple_image/stage_501/IMG_3914.JPG', 'Pineapple_image/stage_501/IMG_7417.JPG', 'Pineapple_image/stage_705/IMG_1024.JPG', 'Pineapple_image/stage_709/IMG_4605.JPG', 'Pineapple_image/stage_509/IMG_0673.JPG', 'Pineapple_image/stage_709/IMG_9737.JPG', 'Pineapple_image/stage_505/IMG_7414.JPG', 'Pineapple_image/stage_505/IMG_4113.JPG', 'Pineapple_image/stage_501/DSC_0577.JPG', 'Pineapple_image/stage_709/IMG_9656.JPG', 'Pineapple_image/stage_709/IMG_1403.JPG', 'Pineapple_image/stage_601/IMG_3672 (2).JPG', 'Pineapple_image/stage_509/IMG_3321.JPG', 'Pineapple_image/stage_501/IMG_6311.JPG', 'Pineapple_image/stage_509/IMG_3324.JPG', 'Pineapple_image/stage_509/IMG_0243.JPG', 'Pineapple_image/stage_701/IMG_7523.JPG', 'Pineapple_image/stage_709/IMG_0021.JPG', 'Pineapple_image/stage_605/DSC_0330.JPG', 'Pineapple_image/stage_509/IMG_0393.JPG', 'Pineapple_image/stage_709/IMG_9605.JPG', 'Pineapple_image/stage_701/IMG_8324.JPG', 'Pineapple_image/stage_501/IMG_3889.JPG', 'Pineapple_image/stage_509/IMG_0477.JPG', 'Pineapple_image/stage_509/IMG_0727.JPG', 'Pineapple_image/stage_701/IMG_1897.JPG', 'Pineapple_image/stage_609/IMG_6026.JPG', 'Pineapple_image/stage_605/DSC_0296.JPG', 'Pineapple_image/stage_605/DSC_0254.JPG', 'Pineapple_image/stage_705/IMG_9042.JPG', 'Pineapple_image/stage_601/DSC_0249.JPG', 'Pineapple_image/stage_609/IMG_3151.JPG', 'Pineapple_image/stage_505/IMG_4732.JPG', 'Pineapple_image/stage_501/IMG_3899.JPG', 'Pineapple_image/stage_601/DSC_0397.JPG', 'Pineapple_image/stage_609/IMG_6047.JPG', 'Pineapple_image/stage_705/IMG_0894.JPG', 'Pineapple_image/stage_705/IMG_0340.JPG', 'Pineapple_image/stage_609/IMG_6023.JPG', 'Pineapple_image/stage_501/IMG_8697.JPG', 'Pineapple_image/stage_605/DSC_0277.JPG', 'Pineapple_image/stage_705/IMG_0975.JPG', 'Pineapple_image/stage_605/IMG_6410.JPG', 'Pineapple_image/stage_605/DSC_0229.JPG', 'Pineapple_image/stage_609/IMG_2983.JPG', 'Pineapple_image/stage_501/IMG_8619.JPG', 'Pineapple_image/stage_605/DSC_0049.JPG', 'Pineapple_image/stage_509/IMG_0466.JPG', 'Pineapple_image/stage_605/IMG_3443.JPG', 'Pineapple_image/stage_505/IMG_4921.JPG', 'Pineapple_image/stage_509/IMG_3448.JPG', 'Pineapple_image/stage_501/IMG_3735.JPG', 'Pineapple_image/stage_705/IMG_0900.JPG', 'Pineapple_image/stage_709/IMG_9982.JPG', 'Pineapple_image/stage_605/DSC_0078.JPG', 'Pineapple_image/stage_509/IMG_0214.JPG', 'Pineapple_image/stage_505/IMG_8496.JPG', 'Pineapple_image/stage_505/IMG_4959.JPG', 'Pineapple_image/stage_601/IMG_3698.JPG', 'Pineapple_image/stage_505/IMG_8506.JPG', 'Pineapple_image/stage_709/IMG_1457.JPG', 'Pineapple_image/stage_509/IMG_0631.JPG', 'Pineapple_image/stage_605/DSC_0018.JPG', 'Pineapple_image/stage_601/IMG_3641 (2).JPG', 'Pineapple_image/stage_501/IMG_7354.JPG', 'Pineapple_image/stage_505/IMG_4408.JPG', 'Pineapple_image/stage_709/IMG_1449.JPG', 'Pineapple_image/stage_509/IMG_0271.JPG', 'Pineapple_image/stage_609/IMG_2847.JPG', 'Pineapple_image/stage_701/DSC_0755.JPG', 'Pineapple_image/stage_509/IMG_0635.JPG', 'Pineapple_image/stage_709/IMG_1399.JPG', 'Pineapple_image/stage_701/IMG_1718.JPG', 'Pineapple_image/stage_601/DSC_0217.JPG', 'Pineapple_image/stage_509/IMG_0324.JPG', 'Pineapple_image/stage_605/DSC_0983.JPG', 'Pineapple_image/stage_701/IMG_7574.JPG', 'Pineapple_image/stage_605/IMG_3327.JPG', 'Pineapple_image/stage_509/IMG_0490.JPG', 'Pineapple_image/stage_501/IMG_3807.JPG', 'Pineapple_image/stage_505/IMG_4899.JPG', 'Pineapple_image/stage_705/IMG_1167.JPG', 'Pineapple_image/stage_505/IMG_5032.JPG', 'Pineapple_image/stage_701/IMG_1573.JPG', 'Pineapple_image/stage_501/DSC_0462.JPG', 'Pineapple_image/stage_601/IMG_5672.JPG', 'Pineapple_image/stage_701/IMG_7665.JPG', 'Pineapple_image/stage_705/IMG_9098.JPG', 'Pineapple_image/stage_509/IMG_3183.JPG', 'Pineapple_image/stage_509/IMG_0230.JPG', 'Pineapple_image/stage_705/IMG_0314.JPG', 'Pineapple_image/stage_501/DSC_0477.JPG', 'Pineapple_image/stage_605/DSC_0176.JPG', 'Pineapple_image/stage_605/DSC_0092.JPG', 'Pineapple_image/stage_601/DSC_0294.JPG', 'Pineapple_image/stage_501/IMG_6325.JPG', 'Pineapple_image/stage_501/DSC_0634.JPG', 'Pineapple_image/stage_509/IMG_0386.JPG', 'Pineapple_image/stage_501/IMG_8763.JPG', 'Pineapple_image/stage_605/DSC_0226.JPG', 'Pineapple_image/stage_705/IMG_0294.JPG', 'Pineapple_image/stage_609/IMG_6115.JPG', 'Pineapple_image/stage_505/IMG_20210112_120139.jpg', 'Pineapple_image/stage_609/IMG_6134.JPG', 'Pineapple_image/stage_505/IMG_3923.JPG', 'Pineapple_image/stage_505/IMG_20210112_122255.jpg', 'Pineapple_image/stage_605/IMG_3365.JPG', 'Pineapple_image/stage_501/IMG_7362.JPG', 'Pineapple_image/stage_705/IMG_1102.JPG', 'Pineapple_image/stage_609/IMG_6001.JPG', 'Pineapple_image/stage_501/IMG_3871.JPG', 'Pineapple_image/stage_601/DSC_0431.JPG', 'Pineapple_image/stage_705/IMG_9257.JPG', 'Pineapple_image/stage_609/IMG_2987.JPG', 'Pineapple_image/stage_601/DSC_0338.JPG', 'Pineapple_image/stage_709/IMG_9817.JPG', 'Pineapple_image/stage_509/IMG_3331.JPG', 'Pineapple_image/stage_705/IMG_1115.JPG', 'Pineapple_image/stage_605/IMG_6369.JPG', 'Pineapple_image/stage_609/IMG_6044.JPG', 'Pineapple_image/stage_601/IMG_3586.JPG', 'Pineapple_image/stage_609/IMG_2769.JPG', 'Pineapple_image/stage_705/IMG_9202.JPG', 'Pineapple_image/stage_505/IMG_4463.JPG', 'Pineapple_image/stage_709/IMG_9616.JPG', 'Pineapple_image/stage_609/IMG_2796.JPG', 'Pineapple_image/stage_705/IMG_0972.JPG', 'Pineapple_image/stage_705/IMG_0931.JPG', 'Pineapple_image/stage_505/IMG_3820.JPG', 'Pineapple_image/stage_705/IMG_9054.JPG', 'Pineapple_image/stage_709/IMG_9824.JPG', 'Pineapple_image/stage_609/IMG_2856.JPG', 'Pineapple_image/stage_601/IMG_3656.JPG', 'Pineapple_image/stage_601/IMG_0556.JPG', 'Pineapple_image/stage_709/IMG_9713.JPG', 'Pineapple_image/stage_501/IMG_6295.JPG', 'Pineapple_image/stage_709/IMG_9798.JPG', 'Pineapple_image/stage_501/IMG_7178.JPG', 'Pineapple_image/stage_601/IMG_3561.JPG', 'Pineapple_image/stage_505/IMG_4717.JPG', 'Pineapple_image/stage_501/DSC_0589.JPG', 'Pineapple_image/stage_601/DSC_0614.JPG', 'Pineapple_image/stage_609/IMG_2775.JPG', 'Pineapple_image/stage_505/IMG_4799.JPG', 'Pineapple_image/stage_501/IMG_2099.JPG', 'Pineapple_image/stage_705/IMG_1247.JPG', 'Pineapple_image/stage_605/DSC_0453.JPG', 'Pineapple_image/stage_701/IMG_8151.JPG', 'Pineapple_image/stage_609/DSC_0640.JPG', 'Pineapple_image/stage_605/DSC_0303.JPG', 'Pineapple_image/stage_705/IMG_9293.JPG', 'Pineapple_image/stage_505/IMG_4557.JPG', 'Pineapple_image/stage_701/IMG_1778.JPG', 'Pineapple_image/stage_505/IMG_3839.JPG', 'Pineapple_image/stage_501/IMG_3832.JPG', 'Pineapple_image/stage_705/IMG_9162.JPG', 'Pineapple_image/stage_705/IMG_1290.JPG', 'Pineapple_image/stage_705/IMG_1142.JPG', 'Pineapple_image/stage_501/IMG_3738.JPG', 'Pineapple_image/stage_605/IMG_3392.JPG', 'Pineapple_image/stage_709/IMG_4388.JPG', 'Pineapple_image/stage_705/IMG_9301.JPG', 'Pineapple_image/stage_709/IMG_9686.JPG', 'Pineapple_image/stage_601/IMG_0806.JPG', 'Pineapple_image/stage_501/IMG_6349.JPG', 'Pineapple_image/stage_601/DSC_0580.JPG', 'Pineapple_image/stage_601/IMG_3686 (2).JPG', 'Pineapple_image/stage_701/DSC_0726.JPG', 'Pineapple_image/stage_605/IMG_3252.JPG', 'Pineapple_image/stage_709/IMG_1445.JPG', 'Pineapple_image/stage_509/IMG_3205.JPG', 'Pineapple_image/stage_509/IMG_0275.JPG', 'Pineapple_image/stage_701/IMG_2917.JPG', 'Pineapple_image/stage_705/IMG_0956.JPG', 'Pineapple_image/stage_505/IMG_3809.JPG', 'Pineapple_image/stage_509/IMG_0433.JPG', 'Pineapple_image/stage_501/IMG_7203.JPG', 'Pineapple_image/stage_601/IMG_3636.JPG', 'Pineapple_image/stage_509/IMG_0473.JPG', 'Pineapple_image/stage_509/IMG_3100.JPG', 'Pineapple_image/stage_709/IMG_4544.JPG', 'Pineapple_image/stage_705/IMG_0385.JPG', 'Pineapple_image/stage_509/IMG_9547.JPG', 'Pineapple_image/stage_505/IMG_4069.JPG', 'Pineapple_image/stage_509/IMG_3115.JPG', 'Pineapple_image/stage_609/IMG_5924.JPG', 'Pineapple_image/stage_609/IMG_2806.JPG', 'Pineapple_image/stage_705/IMG_9222.JPG', 'Pineapple_image/stage_501/DSC_0527.JPG', 'Pineapple_image/stage_501/IMG_3799.JPG', 'Pineapple_image/stage_609/IMG_2928.JPG', 'Pineapple_image/stage_609/IMG_5840.JPG', 'Pineapple_image/stage_509/IMG_1329.JPG', 'Pineapple_image/stage_601/IMG_3643.JPG', 'Pineapple_image/stage_705/IMG_1093.JPG', 'Pineapple_image/stage_705/IMG_1036.JPG', 'Pineapple_image/stage_601/IMG_0809.JPG', 'Pineapple_image/stage_705/IMG_9155.JPG', 'Pineapple_image/stage_709/IMG_0132.JPG', 'Pineapple_image/stage_505/IMG_8444.JPG', 'Pineapple_image/stage_605/DSC_0237.JPG', 'Pineapple_image/stage_705/IMG_9277.JPG', 'Pineapple_image/stage_705/IMG_1321.JPG', 'Pineapple_image/stage_705/IMG_1198.JPG', 'Pineapple_image/stage_605/DSC_0216.JPG', 'Pineapple_image/stage_501/DSC_0489.JPG', 'Pineapple_image/stage_605/DSC_0143.JPG', 'Pineapple_image/stage_701/IMG_8029.JPG', 'Pineapple_image/stage_709/IMG_4588.JPG', 'Pineapple_image/stage_501/IMG_7167.JPG', 'Pineapple_image/stage_601/DSC_0540.JPG', 'Pineapple_image/stage_509/IMG_3499.JPG', 'Pineapple_image/stage_505/IMG_4994.JPG', 'Pineapple_image/stage_701/IMG_6518.JPG', 'Pineapple_image/stage_601/IMG_5726.JPG', 'Pineapple_image/stage_601/IMG_3674 (2).JPG', 'Pineapple_image/stage_709/IMG_0073.JPG', 'Pineapple_image/stage_709/IMG_4653.JPG', 'Pineapple_image/stage_709/IMG_4610.JPG', 'Pineapple_image/stage_505/IMG_4337.JPG', 'Pineapple_image/stage_701/IMG_1695.JPG', 'Pineapple_image/stage_705/IMG_1058.JPG', 'Pineapple_image/stage_701/IMG_1799.JPG', 'Pineapple_image/stage_605/IMG_3306.JPG', 'Pineapple_image/stage_509/IMG_2069.JPG', 'Pineapple_image/stage_709/IMG_1365.JPG', 'Pineapple_image/stage_701/IMG_6483.JPG', 'Pineapple_image/stage_705/IMG_9046.JPG', 'Pineapple_image/stage_705/IMG_1040.JPG', 'Pineapple_image/stage_609/IMG_6197.JPG', 'Pineapple_image/stage_609/IMG_5907.JPG', 'Pineapple_image/stage_609/IMG_5843.JPG', 'Pineapple_image/stage_505/IMG_4136.JPG', 'Pineapple_image/stage_609/IMG_5916.JPG', 'Pineapple_image/stage_505/IMG_8559.JPG', 'Pineapple_image/stage_601/IMG_3613.JPG', 'Pineapple_image/stage_505/IMG_3966.JPG', 'Pineapple_image/stage_709/IMG_4569.JPG', 'Pineapple_image/stage_709/IMG_9757.JPG', 'Pineapple_image/stage_609/IMG_5884.JPG', 'Pineapple_image/stage_609/IMG_6020.JPG', 'Pineapple_image/stage_501/IMG_7153.JPG', 'Pineapple_image/stage_601/IMG_5580.JPG', 'Pineapple_image/stage_509/IMG_3605.JPG', 'Pineapple_image/stage_505/IMG_6753.JPG', 'Pineapple_image/stage_505/IMG_4941.JPG', 'Pineapple_image/stage_509/IMG_0761.JPG', 'Pineapple_image/stage_701/IMG_4350.JPG', 'Pineapple_image/stage_709/IMG_20210119_160515.jpg', 'Pineapple_image/stage_509/IMG_3342.JPG', 'Pineapple_image/stage_701/IMG_4310.JPG', 'Pineapple_image/stage_509/IMG_3150.JPG', 'Pineapple_image/stage_709/IMG_9643.JPG', 'Pineapple_image/stage_705/IMG_0909.JPG', 'Pineapple_image/stage_505/IMG_3891.JPG', 'Pineapple_image/stage_701/IMG_6620.JPG', 'Pineapple_image/stage_705/IMG_1021.JPG', 'Pineapple_image/stage_609/IMG_6071.JPG', 'Pineapple_image/stage_701/IMG_8253.JPG', 'Pineapple_image/stage_501/IMG_4456.JPG', 'Pineapple_image/stage_609/IMG_6125.JPG', 'Pineapple_image/stage_601/IMG_0329.JPG', 'Pineapple_image/stage_605/DSC_0023.JPG', 'Pineapple_image/stage_501/IMG_4478.JPG', 'Pineapple_image/stage_605/IMG_3793.JPG', 'Pineapple_image/stage_505/IMG_4012.JPG', 'Pineapple_image/stage_701/IMG_1809.JPG', 'Pineapple_image/stage_609/IMG_6214.JPG', 'Pineapple_image/stage_605/IMG_3281.JPG', 'Pineapple_image/stage_605/IMG_3741.JPG', 'Pineapple_image/stage_509/IMG_0345.JPG', 'Pineapple_image/stage_601/DSC_0241.JPG', 'Pineapple_image/stage_709/IMG_4665.JPG', 'Pineapple_image/stage_501/IMG_3747.JPG', 'Pineapple_image/stage_705/IMG_9058.JPG', 'Pineapple_image/stage_501/IMG_7368.JPG', 'Pineapple_image/stage_501/IMG_8615.JPG', 'Pineapple_image/stage_705/IMG_0936.JPG', 'Pineapple_image/stage_601/IMG_2046.JPG', 'Pineapple_image/stage_601/DSC_0234.JPG', 'Pineapple_image/stage_505/IMG_20210112_121951.jpg', 'Pineapple_image/stage_505/IMG_20210112_121639.jpg', 'Pineapple_image/stage_605/IMG_3431.JPG', 'Pineapple_image/stage_709/IMG_0118.JPG', 'Pineapple_image/stage_605/IMG_3412.JPG', 'Pineapple_image/stage_609/IMG_5959.JPG', 'Pineapple_image/stage_501/IMG_3795.JPG', 'Pineapple_image/stage_609/IMG_5852.JPG', 'Pineapple_image/stage_701/IMG_7605.JPG', 'Pineapple_image/stage_705/IMG_0983.JPG', 'Pineapple_image/stage_709/IMG_9706.JPG', 'Pineapple_image/stage_505/IMG_4395.JPG', 'Pineapple_image/stage_601/DSC_0380.JPG', 'Pineapple_image/stage_709/IMG_9772.JPG', 'Pineapple_image/stage_709/IMG_0090.JPG', 'Pineapple_image/stage_509/IMG_3175.JPG', 'Pineapple_image/stage_709/IMG_0001.JPG', 'Pineapple_image/stage_705/IMG_9183.JPG', 'Pineapple_image/stage_609/IMG_5888.JPG', 'Pineapple_image/stage_609/IMG_6036.JPG', 'Pineapple_image/stage_609/IMG_2830.JPG', 'Pineapple_image/stage_705/IMG_1210.JPG', 'Pineapple_image/stage_605/IMG_6403.JPG', 'Pineapple_image/stage_605/IMG_3288.JPG', 'Pineapple_image/stage_605/DSC_0108.JPG', 'Pineapple_image/stage_505/IMG_4119.JPG', 'Pineapple_image/stage_605/IMG_3358.JPG', 'Pineapple_image/stage_705/IMG_9125.JPG', 'Pineapple_image/stage_705/IMG_1106.JPG', 'Pineapple_image/stage_601/IMG_3691.JPG', 'Pineapple_image/stage_705/IMG_0280.JPG', 'Pineapple_image/stage_509/IMG_3314.JPG', 'Pineapple_image/stage_709/IMG_0098.JPG', 'Pineapple_image/stage_601/DSC_0346.JPG', 'Pineapple_image/stage_605/DSC_0104.JPG', 'Pineapple_image/stage_605/DSC_0243.JPG', 'Pineapple_image/stage_709/IMG_1369.JPG', 'Pineapple_image/stage_601/IMG_5798.JPG', 'Pineapple_image/stage_701/IMG_1348.JPG', 'Pineapple_image/stage_501/IMG_4313.JPG', 'Pineapple_image/stage_501/IMG_7330.JPG', 'Pineapple_image/stage_509/IMG_3256.JPG', 'Pineapple_image/stage_705/IMG_0940.JPG', 'Pineapple_image/stage_701/IMG_7710.JPG', 'Pineapple_image/stage_605/DSC_0246.JPG', 'Pineapple_image/stage_505/IMG_4366.JPG', 'Pineapple_image/stage_709/IMG_4482.JPG', 'Pineapple_image/stage_709/IMG_9793.JPG', 'Pineapple_image/stage_701/IMG_1489.JPG', 'Pineapple_image/stage_601/IMG_3655 (2).JPG', 'Pineapple_image/stage_609/IMG_2785.JPG', 'Pineapple_image/stage_601/IMG_0576.JPG', 'Pineapple_image/stage_509/IMG_9515.JPG', 'Pineapple_image/stage_709/IMG_9695.JPG', 'Pineapple_image/stage_705/IMG_0264.JPG', 'Pineapple_image/stage_501/IMG_7208.JPG', 'Pineapple_image/stage_505/IMG_4517.JPG', 'Pineapple_image/stage_605/DSC_0167.JPG', 'Pineapple_image/stage_709/IMG_1412.JPG', 'Pineapple_image/stage_505/IMG_4104.JPG', 'Pineapple_image/stage_505/IMG_4872.JPG', 'Pineapple_image/stage_601/IMG_5706.JPG', 'Pineapple_image/stage_701/IMG_4230.JPG', 'Pineapple_image/stage_609/IMG_2788.JPG', 'Pineapple_image/stage_509/IMG_0426.JPG', 'Pineapple_image/stage_501/IMG_7342.JPG', 'Pineapple_image/stage_509/IMG_0260.JPG', 'Pineapple_image/stage_705/IMG_9212.JPG', 'Pineapple_image/stage_609/IMG_2981.JPG', 'Pineapple_image/stage_509/IMG_3198.JPG', 'Pineapple_image/stage_501/IMG_8688.JPG', 'Pineapple_image/stage_705/IMG_1164.JPG', 'Pineapple_image/stage_505/IMG_4704.JPG', 'Pineapple_image/stage_701/IMG_2877.JPG', 'Pineapple_image/stage_505/IMG_3829.JPG', 'Pineapple_image/stage_705/IMG_9310.JPG', 'Pineapple_image/stage_701/IMG_4169.JPG', 'Pineapple_image/stage_609/DSC_0666.JPG', 'Pineapple_image/stage_701/DSC_0686.JPG', 'Pineapple_image/stage_701/IMG_7733.JPG', 'Pineapple_image/stage_705/IMG_1295.JPG', 'Pineapple_image/stage_705/IMG_9273.JPG', 'Pineapple_image/stage_509/IMG_0765.JPG', 'Pineapple_image/stage_509/IMG_0650.JPG', 'Pineapple_image/stage_705/IMG_1220.JPG', 'Pineapple_image/stage_601/IMG_3632.JPG', 'Pineapple_image/stage_701/IMG_1867.JPG', 'Pineapple_image/stage_509/IMG_0639.JPG', 'Pineapple_image/stage_705/IMG_1054.JPG', 'Pineapple_image/stage_701/IMG_6581.JPG', 'Pineapple_image/stage_501/DSC_0516.JPG', 'Pineapple_image/stage_709/IMG_4552.JPG', 'Pineapple_image/stage_709/IMG_0015.JPG', 'Pineapple_image/stage_701/IMG_4340.JPG', 'Pineapple_image/stage_709/IMG_4560.JPG', 'Pineapple_image/stage_509/IMG_0795.JPG', 'Pineapple_image/stage_605/DSC_0234.JPG', 'Pineapple_image/stage_505/IMG_4784.JPG', 'Pineapple_image/stage_601/IMG_5561.JPG', 'Pineapple_image/stage_701/IMG_1729.JPG', 'Pineapple_image/stage_605/DSC_0129.JPG', 'Pineapple_image/stage_509/IMG_0500.JPG', 'Pineapple_image/stage_605/IMG_3438.JPG', 'Pineapple_image/stage_705/IMG_9243.JPG', 'Pineapple_image/stage_701/IMG_4240.JPG', 'Pineapple_image/stage_605/IMG_3754.JPG', 'Pineapple_image/stage_701/DSC_0745.JPG', 'Pineapple_image/stage_501/IMG_3823.JPG', 'Pineapple_image/stage_501/IMG_4495.JPG', 'Pineapple_image/stage_605/IMG_3385.JPG', 'Pineapple_image/stage_709/IMG_1383.JPG', 'Pineapple_image/stage_709/IMG_0165.JPG', 'Pineapple_image/stage_509/IMG_0842.JPG', 'Pineapple_image/stage_701/IMG_6670.JPG', 'Pineapple_image/stage_501/IMG_8790.JPG', 'Pineapple_image/stage_501/IMG_3836.JPG', 'Pineapple_image/stage_605/DSC_0187.JPG', 'Pineapple_image/stage_601/IMG_3620.JPG', 'Pineapple_image/stage_605/IMG_3284.JPG', 'Pineapple_image/stage_605/DSC_0060.JPG', 'Pineapple_image/stage_605/IMG_3372.JPG', 'Pineapple_image/stage_709/IMG_9727.JPG', 'Pineapple_image/stage_601/IMG_5653.JPG', 'Pineapple_image/stage_701/IMG_1917.JPG', 'Pineapple_image/stage_505/IMG_20210112_121601.jpg', 'Pineapple_image/stage_509/IMG_0363.JPG', 'Pineapple_image/stage_705/IMG_1146.JPG', 'Pineapple_image/stage_705/IMG_1287.JPG', 'Pineapple_image/stage_605/DSC_0006.JPG', 'Pineapple_image/stage_601/IMG_0338.JPG', 'Pineapple_image/stage_609/IMG_5838.JPG', 'Pineapple_image/stage_605/IMG_3330.JPG', 'Pineapple_image/stage_509/IMG_3119.JPG', 'Pineapple_image/stage_509/IMG_0654.JPG', 'Pineapple_image/stage_605/DSC_0179.JPG', 'Pineapple_image/stage_609/IMG_2968.JPG', 'Pineapple_image/stage_609/IMG_2794.JPG', 'Pineapple_image/stage_609/IMG_2759.JPG', 'Pineapple_image/stage_501/IMG_3784.JPG', 'Pineapple_image/stage_701/IMG_4221.JPG', 'Pineapple_image/stage_601/DSC_0588.JPG', 'Pineapple_image/stage_509/IMG_0604.JPG', 'Pineapple_image/stage_701/DSC_0833.JPG', 'Pineapple_image/stage_705/IMG_9427.JPG', 'Pineapple_image/stage_501/IMG_7321.JPG', 'Pineapple_image/stage_605/DSC_0112.JPG', 'Pineapple_image/stage_701/IMG_1562.JPG', 'Pineapple_image/stage_601/IMG_3559.JPG', 'Pineapple_image/stage_509/IMG_3298.JPG', 'Pineapple_image/stage_505/IMG_4971.JPG', 'Pineapple_image/stage_709/IMG_4556.JPG', 'Pineapple_image/stage_709/IMG_9968.JPG', 'Pineapple_image/stage_701/IMG_4186.JPG', 'Pineapple_image/stage_605/IMG_3272.JPG', 'Pineapple_image/stage_601/IMG_5687.JPG', 'Pineapple_image/stage_609/IMG_5893.JPG', 'Pineapple_image/stage_509/IMG_3156.JPG', 'Pineapple_image/stage_609/IMG_6015.JPG', 'Pineapple_image/stage_505/IMG_4019.JPG', 'Pineapple_image/stage_509/IMG_9583.JPG', 'Pineapple_image/stage_505/IMG_4633.JPG', 'Pineapple_image/stage_601/IMG_3534.JPG', 'Pineapple_image/stage_501/DSC_0553.JPG', 'Pineapple_image/stage_505/IMG_20210112_121120.jpg', 'Pineapple_image/stage_705/IMG_0367.JPG', 'Pineapple_image/stage_605/IMG_3389.JPG', 'Pineapple_image/stage_705/IMG_9462.JPG', 'Pineapple_image/stage_505/IMG_3816.JPG', 'Pineapple_image/stage_709/IMG_9671.JPG', 'Pineapple_image/stage_701/IMG_1837.JPG', 'Pineapple_image/stage_505/IMG_4418.JPG', 'Pineapple_image/stage_501/DSC_0494.JPG', 'Pineapple_image/stage_505/IMG_4005.JPG', 'Pineapple_image/stage_701/IMG_6689.JPG', 'Pineapple_image/stage_709/IMG_0029.JPG', 'Pineapple_image/stage_605/IMG_3462.JPG', 'Pineapple_image/stage_501/IMG_3790.JPG', 'Pineapple_image/stage_509/IMG_3347.JPG', 'Pineapple_image/stage_509/IMG_0519.JPG', 'Pineapple_image/stage_501/DSC_0607.JPG', 'Pineapple_image/stage_701/IMG_7799.JPG', 'Pineapple_image/stage_501/IMG_2077.JPG', 'Pineapple_image/stage_609/IMG_2979.JPG', 'Pineapple_image/stage_605/DSC_1010.JPG', 'Pineapple_image/stage_701/IMG_1945.JPG', 'Pineapple_image/stage_601/IMG_0827.JPG', 'Pineapple_image/stage_505/IMG_4756.JPG', 'Pineapple_image/stage_605/IMG_3276.JPG', 'Pineapple_image/stage_601/DSC_0605.JPG', 'Pineapple_image/stage_605/DSC_0125.JPG', 'Pineapple_image/stage_705/IMG_0946.JPG', 'Pineapple_image/stage_505/IMG_3949.JPG', 'Pineapple_image/stage_501/IMG_6355.JPG', 'Pineapple_image/stage_609/IMG_6033.JPG', 'Pineapple_image/stage_505/IMG_7269.JPG', 'Pineapple_image/stage_705/IMG_9050.JPG', 'Pineapple_image/stage_601/IMG_0459.JPG', 'Pineapple_image/stage_605/IMG_3229.JPG', 'Pineapple_image/stage_609/IMG_2865.JPG', 'Pineapple_image/stage_701/IMG_7691.JPG', 'Pineapple_image/stage_505/IMG_8437.JPG', 'Pineapple_image/stage_605/DSC_0156.JPG', 'Pineapple_image/stage_709/IMG_0095.JPG', 'Pineapple_image/stage_705/IMG_0875.JPG', 'Pineapple_image/stage_605/DSC_0159.JPG', 'Pineapple_image/stage_701/DSC_0766.JPG', 'Pineapple_image/stage_705/IMG_1130.JPG', 'Pineapple_image/stage_605/IMG_3399.JPG', 'Pineapple_image/stage_609/IMG_2766.JPG', 'Pineapple_image/stage_601/DSC_0244.JPG', 'Pineapple_image/stage_601/DSC_0467.JPG', 'Pineapple_image/stage_705/IMG_0878.JPG', 'Pineapple_image/stage_505/IMG_4159.JPG', 'Pineapple_image/stage_701/IMG_1637.JPG', 'Pineapple_image/stage_505/IMG_4907.JPG', 'Pineapple_image/stage_709/IMG_4423.JPG', 'Pineapple_image/stage_509/IMG_0714.JPG', 'Pineapple_image/stage_605/DSC_0070.JPG', 'Pineapple_image/stage_505/IMG_5014.JPG', 'Pineapple_image/stage_701/IMG_2908.JPG', 'Pineapple_image/stage_609/IMG_6151.JPG', 'Pineapple_image/stage_709/IMG_0066.JPG', 'Pineapple_image/stage_505/IMG_4627.JPG', 'Pineapple_image/stage_509/IMG_0413.JPG', 'Pineapple_image/stage_505/IMG_3872.JPG', 'Pineapple_image/stage_601/DSC_0427.JPG', 'Pineapple_image/stage_501/IMG_3703.JPG', 'Pineapple_image/stage_509/IMG_0303.JPG', 'Pineapple_image/stage_609/IMG_5855.JPG', 'Pineapple_image/stage_505/IMG_3842.JPG', 'Pineapple_image/stage_605/DSC_0206.JPG', 'Pineapple_image/stage_709/IMG_9961.JPG', 'Pineapple_image/stage_609/IMG_2800.JPG', 'Pineapple_image/stage_705/IMG_0361.JPG', 'Pineapple_image/stage_601/DSC_0200.JPG', 'Pineapple_image/stage_505/IMG_3932.JPG', 'Pineapple_image/stage_609/IMG_2824.JPG', 'Pineapple_image/stage_709/IMG_9851.JPG', 'Pineapple_image/stage_601/DSC_0296.JPG', 'Pineapple_image/stage_505/IMG_4345.JPG', 'Pineapple_image/stage_609/IMG_5866.JPG', 'Pineapple_image/stage_709/IMG_0168.JPG', 'Pineapple_image/stage_601/IMG_0334.JPG', 'Pineapple_image/stage_609/IMG_2958.JPG', 'Pineapple_image/stage_705/IMG_0390.JPG', 'Pineapple_image/stage_505/IMG_4381.JPG', 'Pineapple_image/stage_509/IMG_0374.JPG', 'Pineapple_image/stage_505/IMG_4893.JPG', 'Pineapple_image/stage_509/IMG_0506.JPG', 'Pineapple_image/stage_701/IMG_6679.JPG', 'Pineapple_image/stage_605/DSC_0183.JPG', 'Pineapple_image/stage_605/IMG_3212.JPG', 'Pineapple_image/stage_709/IMG_0060.JPG', 'Pineapple_image/stage_501/IMG_8623.JPG', 'Pineapple_image/stage_705/IMG_0316.JPG', 'Pineapple_image/stage_705/IMG_1265.JPG', 'Pineapple_image/stage_609/IMG_2931.JPG', 'Pineapple_image/stage_501/IMG_7214.JPG', 'Pineapple_image/stage_705/IMG_1044.JPG', 'Pineapple_image/stage_709/IMG_4661.JPG', 'Pineapple_image/stage_501/IMG_3818.JPG', 'Pineapple_image/stage_501/IMG_3723.JPG', 'Pineapple_image/stage_705/IMG_1317.JPG', 'Pineapple_image/stage_709/IMG_1437.JPG', 'Pineapple_image/stage_505/IMG_4977.JPG', 'Pineapple_image/stage_609/IMG_5949.JPG', 'Pineapple_image/stage_605/DSC_0086.JPG', 'Pineapple_image/stage_501/IMG_3932.JPG', 'Pineapple_image/stage_701/IMG_4278.JPG', 'Pineapple_image/stage_505/IMG_4076.JPG', 'Pineapple_image/stage_501/IMG_3863.JPG', 'Pineapple_image/stage_505/IMG_4025.JPG', 'Pineapple_image/stage_605/DSC_0194.JPG', 'Pineapple_image/stage_605/IMG_3720.JPG', 'Pineapple_image/stage_609/IMG_2858.JPG', 'Pineapple_image/stage_505/IMG_20210112_120038.jpg', 'Pineapple_image/stage_505/IMG_4689.JPG', 'Pineapple_image/stage_609/IMG_5823.JPG', 'Pineapple_image/stage_709/IMG_4537.JPG', 'Pineapple_image/stage_605/IMG_3471.JPG', 'Pineapple_image/stage_709/IMG_0115.JPG', 'Pineapple_image/stage_505/IMG_4319.JPG', 'Pineapple_image/stage_609/IMG_5812.JPG', 'Pineapple_image/stage_609/IMG_2756.JPG', 'Pineapple_image/stage_505/IMG_4152.JPG', 'Pineapple_image/stage_701/IMG_1481.JPG', 'Pineapple_image/stage_701/IMG_6571.JPG', 'Pineapple_image/stage_509/IMG_3088.JPG', 'Pineapple_image/stage_609/IMG_5882.JPG', 'Pineapple_image/stage_701/IMG_7863.JPG', 'Pineapple_image/stage_605/DSC_0002.JPG', 'Pineapple_image/stage_705/IMG_0351.JPG', 'Pineapple_image/stage_709/IMG_9801.JPG', 'Pineapple_image/stage_605/IMG_3714.JPG', 'Pineapple_image/stage_709/IMG_4614.JPG', 'Pineapple_image/stage_509/IMG_0610.JPG', 'Pineapple_image/stage_501/IMG_7185.JPG', 'Pineapple_image/stage_709/IMG_9870.JPG', 'Pineapple_image/stage_701/DSC_0716.JPG', 'Pineapple_image/stage_609/IMG_6109.JPG', 'Pineapple_image/stage_605/IMG_3774.JPG', 'Pineapple_image/stage_601/IMG_3530.JPG', 'Pineapple_image/stage_509/IMG_3406.JPG', 'Pineapple_image/stage_501/DSC_0586.JPG', 'Pineapple_image/stage_609/IMG_5818.JPG', 'Pineapple_image/stage_509/IMG_0669.JPG', 'Pineapple_image/stage_509/IMG_3191.JPG', 'Pineapple_image/stage_609/DSC_0622.JPG', 'Pineapple_image/stage_709/IMG_9751.JPG', 'Pineapple_image/stage_701/IMG_7760.JPG', 'Pineapple_image/stage_609/IMG_5849.JPG', 'Pineapple_image/stage_501/DSC_0640.JPG', 'Pineapple_image/stage_601/IMG_0481.JPG', 'Pineapple_image/stage_501/IMG_8772.JPG', 'Pineapple_image/stage_605/IMG_3396.JPG', 'Pineapple_image/stage_705/IMG_1233.JPG', 'Pineapple_image/stage_509/IMG_0296.JPG', 'Pineapple_image/stage_501/DSC_0480.JPG', 'Pineapple_image/stage_609/IMG_5886.JPG', 'Pineapple_image/stage_705/IMG_9117.JPG', 'Pineapple_image/stage_605/DSC_0041.JPG', 'Pineapple_image/stage_505/IMG_3849.JPG', 'Pineapple_image/stage_709/IMG_9821.JPG', 'Pineapple_image/stage_509/IMG_9536.JPG', 'Pineapple_image/stage_509/IMG_3284.JPG', 'Pineapple_image/stage_501/DSC_0511.JPG', 'Pineapple_image/stage_605/IMG_3258.JPG', 'Pineapple_image/stage_705/IMG_9267.JPG', 'Pineapple_image/stage_609/DSC_0631.JPG', 'Pineapple_image/stage_705/IMG_1298.JPG', 'Pineapple_image/stage_501/IMG_7194.JPG', 'Pineapple_image/stage_609/IMG_5978.JPG', 'Pineapple_image/stage_609/IMG_2944.JPG', 'Pineapple_image/stage_501/IMG_3938.JPG', 'Pineapple_image/stage_709/IMG_0082.JPG', 'Pineapple_image/stage_609/IMG_2836.JPG', 'Pineapple_image/stage_505/IMG_4736.JPG', 'Pineapple_image/stage_501/IMG_2024.JPG', 'Pineapple_image/stage_501/DSC_0549.JPG', 'Pineapple_image/stage_601/IMG_5772.JPG', 'Pineapple_image/stage_601/DSC_0423.JPG', 'Pineapple_image/stage_609/IMG_5878.JPG', 'Pineapple_image/stage_605/DSC_1003.JPG', 'Pineapple_image/stage_605/DSC_0265.JPG', 'Pineapple_image/stage_601/IMG_3527.JPG', 'Pineapple_image/stage_601/IMG_3618.JPG', 'Pineapple_image/stage_605/IMG_3300.JPG', 'Pineapple_image/stage_709/IMG_9646.JPG', 'Pineapple_image/stage_501/IMG_3842.JPG', 'Pineapple_image/stage_705/IMG_9138.JPG', 'Pineapple_image/stage_505/IMG_3860.JPG', 'Pineapple_image/stage_509/IMG_1333.JPG', 'Pineapple_image/stage_709/IMG_9768.JPG', 'Pineapple_image/stage_701/IMG_1856.JPG', 'Pineapple_image/stage_509/IMG_0771.JPG', 'Pineapple_image/stage_705/IMG_9228.JPG', 'Pineapple_image/stage_609/DSC_0629.JPG', 'Pineapple_image/stage_601/IMG_5625.JPG', 'Pineapple_image/stage_609/IMG_6038.JPG', 'Pineapple_image/stage_705/IMG_9106.JPG', 'Pineapple_image/stage_501/IMG_6340.JPG', 'Pineapple_image/stage_509/IMG_3110.JPG', 'Pineapple_image/stage_601/IMG_3682.JPG', 'Pineapple_image/stage_705/IMG_0266.JPG', 'Pineapple_image/stage_701/IMG_6531.JPG', 'Pineapple_image/stage_601/DSC_0559.JPG', 'Pineapple_image/stage_605/DSC_0132.JPG', 'Pineapple_image/stage_709/IMG_9783.JPG', 'Pineapple_image/stage_601/DSC_0358.JPG', 'Pineapple_image/stage_605/IMG_6389.JPG', 'Pineapple_image/stage_601/DSC_0281.JPG', 'Pineapple_image/stage_505/IMG_4790.JPG', 'Pineapple_image/stage_609/IMG_6101.JPG', 'Pineapple_image/stage_601/DSC_0458.JPG', 'Pineapple_image/stage_505/IMG_4166.JPG', 'Pineapple_image/stage_505/IMG_4807.JPG', 'Pineapple_image/stage_709/IMG_9993.JPG', 'Pineapple_image/stage_701/DSC_0885.JPG', 'Pineapple_image/stage_501/IMG_8833.JPG', 'Pineapple_image/stage_709/IMG_9626.JPG', 'Pineapple_image/stage_705/IMG_1235.JPG', 'Pineapple_image/stage_601/IMG_0353.JPG', 'Pineapple_image/stage_705/IMG_9471.JPG', 'Pineapple_image/stage_705/IMG_0359.JPG', 'Pineapple_image/stage_501/DSC_0499.JPG', 'Pineapple_image/stage_605/IMG_3403.JPG', 'Pineapple_image/stage_601/IMG_0455.JPG', 'Pineapple_image/stage_505/IMG_8575.JPG', 'Pineapple_image/stage_509/IMG_3248.JPG', 'Pineapple_image/stage_601/DSC_0365.JPG', 'Pineapple_image/stage_505/IMG_3832.JPG', 'Pineapple_image/stage_601/DSC_0329.JPG', 'Pineapple_image/stage_509/IMG_3159.JPG', 'Pineapple_image/stage_709/IMG_9731.JPG', 'Pineapple_image/stage_609/IMG_5984.JPG', 'Pineapple_image/stage_501/IMG_8629.JPG', 'Pineapple_image/stage_601/DSC_0478.JPG', 'Pineapple_image/stage_701/IMG_1906.JPG', 'Pineapple_image/stage_601/IMG_3512.JPG', 'Pineapple_image/stage_709/IMG_9636.JPG', 'Pineapple_image/stage_501/IMG_3811.JPG'] sample Pineapple_image/stage_605/DSC_0147.JPG\n",
      "One ['Pineapple_image/stage_509/IMG_3427.JPG', 'Pineapple_image/stage_705/IMG_1017.JPG', 'Pineapple_image/stage_509/IMG_0683.JPG', 'Pineapple_image/stage_701/IMG_4256.JPG', 'Pineapple_image/stage_609/IMG_5880.JPG', 'Pineapple_image/stage_509/IMG_3289.JPG', 'Pineapple_image/stage_705/IMG_1229.JPG', 'Pineapple_image/stage_701/IMG_7504.JPG', 'Pineapple_image/stage_501/DSC_0626.JPG', 'Pineapple_image/stage_505/IMG_3991.JPG', 'Pineapple_image/stage_601/IMG_5695.JPG', 'Pineapple_image/stage_609/IMG_5974.JPG', 'Pineapple_image/stage_601/IMG_3605.JPG', 'Pineapple_image/stage_701/IMG_1471.JPG', 'Pineapple_image/stage_509/IMG_0787.JPG', 'Pineapple_image/stage_505/IMG_4862.JPG', 'Pineapple_image/stage_709/IMG_4585.JPG', 'Pineapple_image/stage_501/IMG_7255.JPG', 'Pineapple_image/stage_505/IMG_4016.JPG', 'Pineapple_image/stage_709/IMG_9926.JPG', 'Pineapple_image/stage_601/IMG_0740.JPG', 'Pineapple_image/stage_701/DSC_0913.JPG', 'Pineapple_image/stage_505/IMG_4051.JPG', 'Pineapple_image/stage_601/DSC_0264.JPG', 'Pineapple_image/stage_605/IMG_3187.JPG', 'Pineapple_image/stage_709/IMG_1427.JPG', 'Pineapple_image/stage_701/DSC_0894.JPG', 'Pineapple_image/stage_601/IMG_6246.JPG', 'Pineapple_image/stage_601/IMG_3677.JPG', 'Pineapple_image/stage_605/DSC_0292.JPG', 'Pineapple_image/stage_709/IMG_0136.JPG', 'Pineapple_image/stage_705/IMG_1303.JPG', 'Pineapple_image/stage_609/IMG_2973.JPG', 'Pineapple_image/stage_509/IMG_0569.JPG', 'Pineapple_image/stage_509/IMG_0791.JPG', 'Pineapple_image/stage_501/IMG_3754.JPG', 'Pineapple_image/stage_509/IMG_0410.JPG', 'Pineapple_image/stage_701/IMG_1513.JPG', 'Pineapple_image/stage_509/IMG_0688.JPG', 'Pineapple_image/stage_709/IMG_9807.JPG', 'Pineapple_image/stage_609/IMG_5847.JPG', 'Pineapple_image/stage_609/IMG_6061.JPG', 'Pineapple_image/stage_505/IMG_3902.JPG', 'Pineapple_image/stage_505/IMG_20210112_120832.jpg', 'Pineapple_image/stage_605/IMG_3323.JPG', 'Pineapple_image/stage_509/IMG_0699.JPG', 'Pineapple_image/stage_509/IMG_3073.JPG', 'Pineapple_image/stage_605/IMG_3342.JPG', 'Pineapple_image/stage_705/IMG_9149.JPG', 'Pineapple_image/stage_505/IMG_8583.JPG', 'Pineapple_image/stage_509/IMG_2090.JPG', 'Pineapple_image/stage_505/IMG_5040.JPG', 'Pineapple_image/stage_709/IMG_4580.JPG', 'Pineapple_image/stage_609/IMG_2934.JPG', 'Pineapple_image/stage_509/IMG_0776.JPG', 'Pineapple_image/stage_509/IMG_0678.JPG', 'Pineapple_image/stage_505/IMG_4089.JPG', 'Pineapple_image/stage_605/IMG_3369.JPG', 'Pineapple_image/stage_701/IMG_7595.JPG', 'Pineapple_image/stage_501/IMG_3730.JPG', 'Pineapple_image/stage_601/DSC_0512.JPG', 'Pineapple_image/stage_509/IMG_3095.JPG', 'Pineapple_image/stage_501/IMG_3857.JPG', 'Pineapple_image/stage_601/IMG_0825.JPG', 'Pineapple_image/stage_501/IMG_7190.JPG', 'Pineapple_image/stage_501/DSC_0566.JPG', 'Pineapple_image/stage_605/DSC_0315.JPG', 'Pineapple_image/stage_501/DSC_0852.JPG', 'Pineapple_image/stage_705/IMG_1272.JPG', 'Pineapple_image/stage_505/IMG_4595.JPG', 'Pineapple_image/stage_509/IMG_0318.JPG', 'Pineapple_image/stage_709/IMG_4549.JPG', 'Pineapple_image/stage_605/IMG_3335.JPG', 'Pineapple_image/stage_609/IMG_6221.JPG', 'Pineapple_image/stage_701/IMG_7922.JPG', 'Pineapple_image/stage_701/IMG_4288.JPG', 'Pineapple_image/stage_501/IMG_6362.JPG', 'Pineapple_image/stage_501/IMG_7229.JPG', 'Pineapple_image/stage_609/IMG_5926.JPG', 'Pineapple_image/stage_705/IMG_0888.JPG', 'Pineapple_image/stage_709/IMG_1453.JPG', 'Pineapple_image/stage_505/IMG_7211.JPG', 'Pineapple_image/stage_505/IMG_4768.JPG', 'Pineapple_image/stage_701/IMG_4249.JPG', 'Pineapple_image/stage_701/IMG_7646.JPG', 'Pineapple_image/stage_609/IMG_2960.JPG', 'Pineapple_image/stage_701/IMG_9369.JPG', 'Pineapple_image/stage_609/IMG_2828.JPG', 'Pineapple_image/stage_609/IMG_6237.JPG', 'Pineapple_image/stage_609/DSC_0637.JPG', 'Pineapple_image/stage_701/IMG_7623.JPG', 'Pineapple_image/stage_509/IMG_0838.JPG', 'Pineapple_image/stage_705/IMG_1159.JPG', 'Pineapple_image/stage_505/IMG_7403.JPG', 'Pineapple_image/stage_609/IMG_5936.JPG', 'Pineapple_image/stage_509/IMG_0341.JPG', 'Pineapple_image/stage_501/IMG_7349.JPG', 'Pineapple_image/stage_609/IMG_2964.JPG', 'Pineapple_image/stage_709/IMG_20210119_155431.jpg', 'Pineapple_image/stage_501/IMG_4359.JPG', 'Pineapple_image/stage_701/IMG_1615.JPG', 'Pineapple_image/stage_601/IMG_5636.JPG', 'Pineapple_image/stage_705/IMG_1255.JPG', 'Pineapple_image/stage_501/IMG_3814.JPG', 'Pineapple_image/stage_701/IMG_1828.JPG', 'Pineapple_image/stage_609/IMG_2938.JPG', 'Pineapple_image/stage_709/IMG_9780.JPG', 'Pineapple_image/stage_605/IMG_3780.JPG', 'Pineapple_image/stage_709/IMG_9933.JPG', 'Pineapple_image/stage_609/IMG_6028.JPG', 'Pineapple_image/stage_509/IMG_0279.JPG', 'Pineapple_image/stage_601/IMG_5758.JPG', 'Pineapple_image/stage_501/IMG_3903.JPG', 'Pineapple_image/stage_605/IMG_2032.JPG', 'Pineapple_image/stage_505/IMG_4698.JPG', 'Pineapple_image/stage_609/IMG_5897.JPG', 'Pineapple_image/stage_609/IMG_2851.JPG', 'Pineapple_image/stage_701/IMG_2897.JPG', 'Pineapple_image/stage_701/IMG_1740.JPG', 'Pineapple_image/stage_605/DSC_0249.JPG', 'Pineapple_image/stage_505/IMG_4128.JPG', 'Pineapple_image/stage_605/DSC_0100.JPG', 'Pineapple_image/stage_509/IMG_3304.JPG', 'Pineapple_image/stage_505/IMG_2087.JPG', 'Pineapple_image/stage_605/IMG_3204.JPG', 'Pineapple_image/stage_601/IMG_3625 (2).JPG', 'Pineapple_image/stage_501/IMG_6291.JPG', 'Pineapple_image/stage_601/DSC_0210.JPG', 'Pineapple_image/stage_501/IMG_8641.JPG', 'Pineapple_image/stage_705/IMG_9478.JPG', 'Pineapple_image/stage_709/IMG_9651.JPG', 'Pineapple_image/stage_701/DSC_0775.JPG', 'Pineapple_image/stage_701/IMG_1788.JPG', 'Pineapple_image/stage_505/IMG_4817.JPG', 'Pineapple_image/stage_501/IMG_8654.JPG', 'Pineapple_image/stage_709/IMG_4444.JPG', 'Pineapple_image/stage_505/IMG_7424.JPG', 'Pineapple_image/stage_709/IMG_0049.JPG', 'Pineapple_image/stage_505/IMG_4681.JPG', 'Pineapple_image/stage_701/IMG_1766.JPG', 'Pineapple_image/stage_505/IMG_4037.JPG', 'Pineapple_image/stage_705/IMG_9146.JPG', 'Pineapple_image/stage_501/IMG_3743.JPG', 'Pineapple_image/stage_605/DSC_0311.JPG', 'Pineapple_image/stage_505/IMG_3856.JPG', 'Pineapple_image/stage_705/IMG_9403.JPG', 'Pineapple_image/stage_701/IMG_8051.JPG', 'Pineapple_image/stage_709/IMG_9954.JPG', 'Pineapple_image/stage_509/IMG_0599.JPG', 'Pineapple_image/stage_705/IMG_0968.JPG', 'Pineapple_image/stage_509/IMG_3384.JPG', 'Pineapple_image/stage_605/DSC_0044.JPG', 'Pineapple_image/stage_705/IMG_1098.JPG', 'Pineapple_image/stage_601/IMG_5783.JPG', 'Pineapple_image/stage_509/IMG_3243.JPG', 'Pineapple_image/stage_609/IMG_2845.JPG', 'Pineapple_image/stage_709/IMG_4591.JPG', 'Pineapple_image/stage_605/IMG_3247.JPG', 'Pineapple_image/stage_609/IMG_5857.JPG', 'Pineapple_image/stage_605/DSC_0458.JPG', 'Pineapple_image/stage_605/DSC_0285.JPG', 'Pineapple_image/stage_705/IMG_1048.JPG', 'Pineapple_image/stage_501/DSC_0540.JPG', 'Pineapple_image/stage_601/IMG_3707.JPG', 'Pineapple_image/stage_609/DSC_0663.JPG', 'Pineapple_image/stage_709/IMG_0004.JPG', 'Pineapple_image/stage_501/IMG_3866.JPG', 'Pineapple_image/stage_609/IMG_6082.JPG', 'Pineapple_image/stage_605/DSC_0089.JPG', 'Pineapple_image/stage_609/IMG_5864.JPG', 'Pineapple_image/stage_605/IMG_3458.JPG', 'Pineapple_image/stage_505/IMG_3908.JPG', 'Pineapple_image/stage_709/IMG_4429.JPG', 'Pineapple_image/stage_609/IMG_5825.JPG', 'Pineapple_image/stage_501/IMG_3767.JPG', 'Pineapple_image/stage_709/IMG_0207.JPG', 'Pineapple_image/stage_501/IMG_8649.JPG', 'Pineapple_image/stage_609/IMG_2752.JPG', 'Pineapple_image/stage_509/IMG_3563.JPG', 'Pineapple_image/stage_505/IMG_4965.JPG', 'Pineapple_image/stage_609/DSC_0191.JPG', 'Pineapple_image/stage_701/IMG_4321.JPG', 'Pineapple_image/stage_701/IMG_4269.JPG', 'Pineapple_image/stage_709/IMG_1442.JPG', 'Pineapple_image/stage_501/IMG_3708.JPG', 'Pineapple_image/stage_501/DSC_0556.JPG', 'Pineapple_image/stage_605/DSC_0219.JPG', 'Pineapple_image/stage_609/IMG_2953.JPG', 'Pineapple_image/stage_705/IMG_9173.JPG', 'Pineapple_image/stage_705/IMG_0883.JPG', 'Pineapple_image/stage_609/DSC_0672.JPG', 'Pineapple_image/stage_605/IMG_6418.JPG', 'Pineapple_image/stage_501/DSC_0839.JPG', 'Pineapple_image/stage_605/DSC_0327.JPG', 'Pineapple_image/stage_609/IMG_2840.JPG', 'Pineapple_image/stage_505/IMG_3824.JPG', 'Pineapple_image/stage_605/IMG_3477.JPG', 'Pineapple_image/stage_505/IMG_3885.JPG', 'Pineapple_image/stage_501/IMG_8816.JPG', 'Pineapple_image/stage_605/DSC_0445.JPG', 'Pineapple_image/stage_505/IMG_4600.JPG', 'Pineapple_image/stage_505/IMG_3975.JPG', 'Pineapple_image/stage_509/IMG_9573.JPG', 'Pineapple_image/stage_601/DSC_0325.JPG', 'Pineapple_image/stage_609/DSC_0634.JPG', 'Pineapple_image/stage_701/IMG_1604.JPG', 'Pineapple_image/stage_505/IMG_4437.JPG', 'Pineapple_image/stage_505/IMG_3962.JPG', 'Pineapple_image/stage_705/IMG_1171.JPG', 'Pineapple_image/stage_609/IMG_2817.JPG', 'Pineapple_image/stage_701/IMG_8369.JPG', 'Pineapple_image/stage_501/DSC_0598.JPG', 'Pineapple_image/stage_605/IMG_3200.JPG', 'Pineapple_image/stage_609/IMG_2868.JPG', 'Pineapple_image/stage_601/DSC_0463.JPG', 'Pineapple_image/stage_601/DSC_0288.JPG', 'Pineapple_image/stage_709/IMG_9879.JPG', 'Pineapple_image/stage_501/IMG_8780.JPG', 'Pineapple_image/stage_605/DSC_0163.JPG', 'Pineapple_image/stage_609/IMG_6064.JPG', 'Pineapple_image/stage_601/DSC_0520.JPG', 'Pineapple_image/stage_705/IMG_1243.JPG', 'Pineapple_image/stage_509/IMG_9560.JPG', 'Pineapple_image/stage_509/IMG_3573.JPG', 'Pineapple_image/stage_709/IMG_0122.JPG', 'Pineapple_image/stage_609/IMG_6097.JPG', 'Pineapple_image/stage_605/IMG_3726.JPG', 'Pineapple_image/stage_609/IMG_2946.JPG', 'Pineapple_image/stage_509/IMG_3280.JPG', 'Pineapple_image/stage_705/IMG_9086.JPG', 'Pineapple_image/stage_501/IMG_8825.JPG', 'Pineapple_image/stage_701/IMG_6538.JPG', 'Pineapple_image/stage_605/DSC_0056.JPG', 'Pineapple_image/stage_705/IMG_9178.JPG', 'Pineapple_image/stage_701/IMG_6492.JPG', 'Pineapple_image/stage_709/IMG_9674.JPG', 'Pineapple_image/stage_705/IMG_0912.JPG', 'Pineapple_image/stage_709/IMG_9760.JPG', 'Pineapple_image/stage_601/IMG_3493.JPG', 'Pineapple_image/stage_709/IMG_0043.JPG', 'Pineapple_image/stage_709/IMG_1419.JPG', 'Pineapple_image/stage_605/DSC_0322.JPG', 'Pineapple_image/stage_605/DSC_0996.JPG', 'Pineapple_image/stage_501/IMG_8735.JPG', 'Pineapple_image/stage_609/IMG_5831.JPG', 'Pineapple_image/stage_605/DSC_0442.JPG', 'Pineapple_image/stage_509/IMG_1343.JPG', 'Pineapple_image/stage_709/IMG_0128.JPG', 'Pineapple_image/stage_601/IMG_6273.JPG', 'Pineapple_image/stage_609/IMG_2761.JPG', 'Pineapple_image/stage_701/IMG_8394.JPG', 'Pineapple_image/stage_605/IMG_3255.JPG', 'Pineapple_image/stage_605/DSC_0450.JPG', 'Pineapple_image/stage_701/IMG_4330.JPG', 'Pineapple_image/stage_709/IMG_9813.JPG', 'Pineapple_image/stage_701/DSC_0787.JPG', 'Pineapple_image/stage_509/IMG_2094.JPG', 'Pineapple_image/stage_705/IMG_9506.JPG', 'Pineapple_image/stage_609/DSC_0668.JPG', 'Pineapple_image/stage_705/IMG_1311.JPG', 'Pineapple_image/stage_505/IMG_4876.JPG', 'Pineapple_image/stage_709/IMG_0148.JPG', 'Pineapple_image/stage_605/DSC_0053.JPG', 'Pineapple_image/stage_509/IMG_0757.JPG', 'Pineapple_image/stage_609/IMG_6140.JPG', 'Pineapple_image/stage_601/DSC_0271.JPG', 'Pineapple_image/stage_601/DSC_0571.JPG', 'Pineapple_image/stage_701/IMG_4176.JPG', 'Pineapple_image/stage_701/IMG_1889.JPG', 'Pineapple_image/stage_701/IMG_7871.JPG', 'Pineapple_image/stage_701/IMG_7513.JPG', 'Pineapple_image/stage_701/IMG_8072.JPG', 'Pineapple_image/stage_501/IMG_8644.JPG', 'Pineapple_image/stage_701/IMG_8009.JPG', 'Pineapple_image/stage_605/IMG_3452.JPG', 'Pineapple_image/stage_501/DSC_0581.JPG', 'Pineapple_image/stage_705/IMG_9082.JPG', 'Pineapple_image/stage_509/IMG_3507.JPG', 'Pineapple_image/stage_701/IMG_9355.JPG', 'Pineapple_image/stage_609/IMG_5810.JPG', 'Pineapple_image/stage_705/IMG_0904.JPG', 'Pineapple_image/stage_705/IMG_0926.JPG', 'Pineapple_image/stage_701/IMG_8278.JPG', 'Pineapple_image/stage_701/DSC_0796.JPG', 'Pineapple_image/stage_509/IMG_3164.JPG', 'Pineapple_image/stage_701/IMG_1583.JPG', 'Pineapple_image/stage_605/IMG_6425.JPG', 'Pineapple_image/stage_501/DSC_0521.JPG', 'Pineapple_image/stage_705/IMG_0999.JPG', 'Pineapple_image/stage_601/IMG_0801.JPG', 'Pineapple_image/stage_509/IMG_1337.JPG', 'Pineapple_image/stage_501/IMG_4447.JPG', 'Pineapple_image/stage_609/IMG_2955.JPG', 'Pineapple_image/stage_501/IMG_7324.JPG', 'Pineapple_image/stage_501/IMG_8678.JPG', 'Pineapple_image/stage_709/IMG_4533.JPG', 'Pineapple_image/stage_605/IMG_3338.JPG', 'Pineapple_image/stage_705/IMG_0283.JPG', 'Pineapple_image/stage_705/IMG_1133.JPG', 'Pineapple_image/stage_709/IMG_0160.JPG', 'Pineapple_image/stage_709/IMG_9895.JPG', 'Pineapple_image/stage_605/IMG_3196.JPG', 'Pineapple_image/stage_605/DSC_0063.JPG', 'Pineapple_image/stage_601/DSC_0531.JPG', 'Pineapple_image/stage_601/DSC_0311.JPG', 'Pineapple_image/stage_501/IMG_4329.JPG', 'Pineapple_image/stage_705/IMG_9232.JPG', 'Pineapple_image/stage_505/IMG_4044.JPG', 'Pineapple_image/stage_501/DSC_0470.JPG', 'Pineapple_image/stage_605/IMG_3292.JPG', 'Pineapple_image/stage_601/DSC_0375.JPG', 'Pineapple_image/stage_601/IMG_3627 (2).JPG', 'Pineapple_image/stage_501/IMG_7377.JPG', 'Pineapple_image/stage_509/IMG_0751.JPG', 'Pineapple_image/stage_501/IMG_8664.JPG', 'Pineapple_image/stage_709/IMG_1355.JPG', 'Pineapple_image/stage_605/IMG_3447.JPG', 'Pineapple_image/stage_709/IMG_9630.JPG', 'Pineapple_image/stage_705/IMG_0921.JPG', 'Pineapple_image/stage_705/IMG_9131.JPG', 'Pineapple_image/stage_509/IMG_3554.JPG', 'Pineapple_image/stage_501/IMG_7263.JPG', 'Pineapple_image/stage_509/IMG_0285.JPG', 'Pineapple_image/stage_705/IMG_9093.JPG', 'Pineapple_image/stage_505/IMG_4672.JPG', 'Pineapple_image/stage_705/IMG_9265.JPG', 'Pineapple_image/stage_501/IMG_4486.JPG', 'Pineapple_image/stage_501/IMG_7306.JPG', 'Pineapple_image/stage_701/IMG_6501.JPG', 'Pineapple_image/stage_701/IMG_8132.JPG', 'Pineapple_image/stage_709/IMG_9663.JPG', 'Pineapple_image/stage_501/IMG_3775.JPG', 'Pineapple_image/stage_705/IMG_1062.JPG', 'Pineapple_image/stage_701/IMG_7544.JPG', 'Pineapple_image/stage_705/IMG_9249.JPG', 'Pineapple_image/stage_505/IMG_4541.JPG', 'Pineapple_image/stage_609/IMG_2802.JPG', 'Pineapple_image/stage_705/IMG_9114.JPG', 'Pineapple_image/stage_705/IMG_1149.JPG', 'Pineapple_image/stage_709/IMG_1373.JPG', 'Pineapple_image/stage_501/IMG_3770.JPG', 'Pineapple_image/stage_601/IMG_6260.JPG', 'Pineapple_image/stage_601/DSC_0223.JPG', 'Pineapple_image/stage_605/DSC_0026.JPG', 'Pineapple_image/stage_705/IMG_0868.JPG', 'Pineapple_image/stage_701/DSC_0824.JPG', 'Pineapple_image/stage_705/IMG_1050.JPG', 'Pineapple_image/stage_601/IMG_0548.JPG', 'Pineapple_image/stage_705/IMG_0987.JPG', 'Pineapple_image/stage_501/DSC_0856.JPG', 'Pineapple_image/stage_501/IMG_3920.JPG', 'Pineapple_image/stage_505/IMG_20210112_121019.jpg', 'Pineapple_image/stage_601/DSC_0536.JPG', 'Pineapple_image/stage_505/IMG_4028.JPG', 'Pineapple_image/stage_701/IMG_8114.JPG', 'Pineapple_image/stage_709/IMG_1434.JPG', 'Pineapple_image/stage_601/IMG_0819.JPG', 'Pineapple_image/stage_501/IMG_8658.JPG', 'Pineapple_image/stage_601/IMG_3498.JPG', 'Pineapple_image/stage_609/IMG_2813.JPG'] sample Pineapple_image/stage_509/IMG_3427.JPG\n"
     ]
    }
   ],
   "source": [
    "batch_size = 128 \n",
    "_dataset_dir = \"Pineapple_image\" #dataset path\n",
    "\n",
    "train_path = \"./Dataset/Train\" #train directory\n",
    "valid_path = \"./Dataset/Validation\" #valid directory\n",
    "\n",
    "filePath = []\n",
    "\n",
    "#split the dataset to train and validation\n",
    "directPath = [x for x in os.listdir(_dataset_dir)] #need to change\n",
    "for directory in directPath:\n",
    "    for fileName in os.listdir(os.path.join(_dataset_dir,directory)):\n",
    "        filePath.append(_dataset_dir + \"/\"+ directory + \"/\" + fileName)\n",
    "\n",
    "train_dataset, validation_dataset = train_test_split(filePath, random_state = 104, test_size = 0.2, shuffle= True)\n",
    "\n",
    "dataTrain = PinappleDataset(train_dataset, tfm= train_tfm)\n",
    "dataValid = PinappleDataset(validation_dataset, tfm= validation_tfm)\n",
    "\n",
    "dataset = ConcatDataset([dataTrain,dataValid])"
   ]
  },
  {
   "attachments": {},
   "cell_type": "markdown",
   "metadata": {},
   "source": [
    "<h1><strong>Training Loop</strong></h1>"
   ]
  },
  {
   "cell_type": "code",
   "execution_count": 26,
   "metadata": {},
   "outputs": [
    {
     "data": {
      "application/json": {
       "ascii": false,
       "bar_format": null,
       "colour": null,
       "elapsed": 0.016029834747314453,
       "initial": 0,
       "n": 0,
       "ncols": null,
       "nrows": null,
       "postfix": null,
       "prefix": "",
       "rate": null,
       "total": 12,
       "unit": "it",
       "unit_divisor": 1000,
       "unit_scale": false
      },
      "application/vnd.jupyter.widget-view+json": {
       "model_id": "39a386c1f2b7402c97f9b973c7dfcf06",
       "version_major": 2,
       "version_minor": 0
      },
      "text/plain": [
       "  0%|          | 0/12 [00:00<?, ?it/s]"
      ]
     },
     "metadata": {},
     "output_type": "display_data"
    },
    {
     "name": "stdout",
     "output_type": "stream",
     "text": [
      "[ Train | 001/100 ] loss = 1.66660, acc = 0.39388\n"
     ]
    },
    {
     "data": {
      "application/json": {
       "ascii": false,
       "bar_format": null,
       "colour": null,
       "elapsed": 0.01700115203857422,
       "initial": 0,
       "n": 0,
       "ncols": null,
       "nrows": null,
       "postfix": null,
       "prefix": "",
       "rate": null,
       "total": 3,
       "unit": "it",
       "unit_divisor": 1000,
       "unit_scale": false
      },
      "application/vnd.jupyter.widget-view+json": {
       "model_id": "5b8c94c49fb846f4b01e90ca7059eaf2",
       "version_major": 2,
       "version_minor": 0
      },
      "text/plain": [
       "  0%|          | 0/3 [00:00<?, ?it/s]"
      ]
     },
     "metadata": {},
     "output_type": "display_data"
    },
    {
     "name": "stdout",
     "output_type": "stream",
     "text": [
      "[ Valid | 001/100 ] loss = 2.30653, acc = 0.11478\n",
      "[ Valid | 001/100 ] loss = 2.30653, acc = 0.11478 -> best\n",
      "Best model found at epoch 0, saving model\n"
     ]
    },
    {
     "data": {
      "application/json": {
       "ascii": false,
       "bar_format": null,
       "colour": null,
       "elapsed": 0.013030767440795898,
       "initial": 0,
       "n": 0,
       "ncols": null,
       "nrows": null,
       "postfix": null,
       "prefix": "",
       "rate": null,
       "total": 12,
       "unit": "it",
       "unit_divisor": 1000,
       "unit_scale": false
      },
      "application/vnd.jupyter.widget-view+json": {
       "model_id": "b4e9977e16f54e71bc2b5930e69f7993",
       "version_major": 2,
       "version_minor": 0
      },
      "text/plain": [
       "  0%|          | 0/12 [00:00<?, ?it/s]"
      ]
     },
     "metadata": {},
     "output_type": "display_data"
    },
    {
     "name": "stdout",
     "output_type": "stream",
     "text": [
      "[ Train | 002/100 ] loss = 0.89219, acc = 0.67057\n"
     ]
    },
    {
     "data": {
      "application/json": {
       "ascii": false,
       "bar_format": null,
       "colour": null,
       "elapsed": 0.018998384475708008,
       "initial": 0,
       "n": 0,
       "ncols": null,
       "nrows": null,
       "postfix": null,
       "prefix": "",
       "rate": null,
       "total": 3,
       "unit": "it",
       "unit_divisor": 1000,
       "unit_scale": false
      },
      "application/vnd.jupyter.widget-view+json": {
       "model_id": "e2d3ccdf34b54554b819c53690507ee1",
       "version_major": 2,
       "version_minor": 0
      },
      "text/plain": [
       "  0%|          | 0/3 [00:00<?, ?it/s]"
      ]
     },
     "metadata": {},
     "output_type": "display_data"
    },
    {
     "name": "stdout",
     "output_type": "stream",
     "text": [
      "[ Valid | 002/100 ] loss = 3.28411, acc = 0.25300\n",
      "[ Valid | 002/100 ] loss = 3.28411, acc = 0.25300 -> best\n",
      "Best model found at epoch 1, saving model\n"
     ]
    },
    {
     "data": {
      "application/json": {
       "ascii": false,
       "bar_format": null,
       "colour": null,
       "elapsed": 0.018024682998657227,
       "initial": 0,
       "n": 0,
       "ncols": null,
       "nrows": null,
       "postfix": null,
       "prefix": "",
       "rate": null,
       "total": 12,
       "unit": "it",
       "unit_divisor": 1000,
       "unit_scale": false
      },
      "application/vnd.jupyter.widget-view+json": {
       "model_id": "566ee8b279e645ceba9f06df4b1f7ff0",
       "version_major": 2,
       "version_minor": 0
      },
      "text/plain": [
       "  0%|          | 0/12 [00:00<?, ?it/s]"
      ]
     },
     "metadata": {},
     "output_type": "display_data"
    },
    {
     "name": "stdout",
     "output_type": "stream",
     "text": [
      "[ Train | 003/100 ] loss = 0.71928, acc = 0.72852\n"
     ]
    },
    {
     "data": {
      "application/json": {
       "ascii": false,
       "bar_format": null,
       "colour": null,
       "elapsed": 0.020000219345092773,
       "initial": 0,
       "n": 0,
       "ncols": null,
       "nrows": null,
       "postfix": null,
       "prefix": "",
       "rate": null,
       "total": 3,
       "unit": "it",
       "unit_divisor": 1000,
       "unit_scale": false
      },
      "application/vnd.jupyter.widget-view+json": {
       "model_id": "8b5c8e43028f4dc6ad7899765765e07d",
       "version_major": 2,
       "version_minor": 0
      },
      "text/plain": [
       "  0%|          | 0/3 [00:00<?, ?it/s]"
      ]
     },
     "metadata": {},
     "output_type": "display_data"
    },
    {
     "name": "stdout",
     "output_type": "stream",
     "text": [
      "[ Valid | 003/100 ] loss = 3.34687, acc = 0.32252\n",
      "[ Valid | 003/100 ] loss = 3.34687, acc = 0.32252 -> best\n",
      "Best model found at epoch 2, saving model\n"
     ]
    },
    {
     "data": {
      "application/json": {
       "ascii": false,
       "bar_format": null,
       "colour": null,
       "elapsed": 0.023992061614990234,
       "initial": 0,
       "n": 0,
       "ncols": null,
       "nrows": null,
       "postfix": null,
       "prefix": "",
       "rate": null,
       "total": 12,
       "unit": "it",
       "unit_divisor": 1000,
       "unit_scale": false
      },
      "application/vnd.jupyter.widget-view+json": {
       "model_id": "8d7bbeedabc74ef6b3f92466b16b4e21",
       "version_major": 2,
       "version_minor": 0
      },
      "text/plain": [
       "  0%|          | 0/12 [00:00<?, ?it/s]"
      ]
     },
     "metadata": {},
     "output_type": "display_data"
    },
    {
     "name": "stdout",
     "output_type": "stream",
     "text": [
      "[ Train | 004/100 ] loss = 0.54119, acc = 0.79753\n"
     ]
    },
    {
     "data": {
      "application/json": {
       "ascii": false,
       "bar_format": null,
       "colour": null,
       "elapsed": 0.0489959716796875,
       "initial": 0,
       "n": 0,
       "ncols": null,
       "nrows": null,
       "postfix": null,
       "prefix": "",
       "rate": null,
       "total": 3,
       "unit": "it",
       "unit_divisor": 1000,
       "unit_scale": false
      },
      "application/vnd.jupyter.widget-view+json": {
       "model_id": "cd6696ff8ac2485e9ce2166637fc5bac",
       "version_major": 2,
       "version_minor": 0
      },
      "text/plain": [
       "  0%|          | 0/3 [00:00<?, ?it/s]"
      ]
     },
     "metadata": {},
     "output_type": "display_data"
    },
    {
     "name": "stdout",
     "output_type": "stream",
     "text": [
      "[ Valid | 004/100 ] loss = 1.68305, acc = 0.44812\n",
      "[ Valid | 004/100 ] loss = 1.68305, acc = 0.44812 -> best\n",
      "Best model found at epoch 3, saving model\n"
     ]
    },
    {
     "data": {
      "application/json": {
       "ascii": false,
       "bar_format": null,
       "colour": null,
       "elapsed": 0.022013187408447266,
       "initial": 0,
       "n": 0,
       "ncols": null,
       "nrows": null,
       "postfix": null,
       "prefix": "",
       "rate": null,
       "total": 12,
       "unit": "it",
       "unit_divisor": 1000,
       "unit_scale": false
      },
      "application/vnd.jupyter.widget-view+json": {
       "model_id": "de2e483645b4404085f807ac7791e2fe",
       "version_major": 2,
       "version_minor": 0
      },
      "text/plain": [
       "  0%|          | 0/12 [00:00<?, ?it/s]"
      ]
     },
     "metadata": {},
     "output_type": "display_data"
    },
    {
     "name": "stdout",
     "output_type": "stream",
     "text": [
      "[ Train | 005/100 ] loss = 0.47920, acc = 0.81315\n"
     ]
    },
    {
     "data": {
      "application/json": {
       "ascii": false,
       "bar_format": null,
       "colour": null,
       "elapsed": 0.023010969161987305,
       "initial": 0,
       "n": 0,
       "ncols": null,
       "nrows": null,
       "postfix": null,
       "prefix": "",
       "rate": null,
       "total": 3,
       "unit": "it",
       "unit_divisor": 1000,
       "unit_scale": false
      },
      "application/vnd.jupyter.widget-view+json": {
       "model_id": "fbee72b82e414d8c83fa5c4bbe82a27b",
       "version_major": 2,
       "version_minor": 0
      },
      "text/plain": [
       "  0%|          | 0/3 [00:00<?, ?it/s]"
      ]
     },
     "metadata": {},
     "output_type": "display_data"
    },
    {
     "name": "stdout",
     "output_type": "stream",
     "text": [
      "[ Valid | 005/100 ] loss = 1.02025, acc = 0.64463\n",
      "[ Valid | 005/100 ] loss = 1.02025, acc = 0.64463 -> best\n",
      "Best model found at epoch 4, saving model\n"
     ]
    },
    {
     "data": {
      "application/json": {
       "ascii": false,
       "bar_format": null,
       "colour": null,
       "elapsed": 0.0180509090423584,
       "initial": 0,
       "n": 0,
       "ncols": null,
       "nrows": null,
       "postfix": null,
       "prefix": "",
       "rate": null,
       "total": 12,
       "unit": "it",
       "unit_divisor": 1000,
       "unit_scale": false
      },
      "application/vnd.jupyter.widget-view+json": {
       "model_id": "5a389cbf9ca64aad97eb636c185b04a8",
       "version_major": 2,
       "version_minor": 0
      },
      "text/plain": [
       "  0%|          | 0/12 [00:00<?, ?it/s]"
      ]
     },
     "metadata": {},
     "output_type": "display_data"
    },
    {
     "name": "stdout",
     "output_type": "stream",
     "text": [
      "[ Train | 006/100 ] loss = 0.47271, acc = 0.82943\n"
     ]
    },
    {
     "data": {
      "application/json": {
       "ascii": false,
       "bar_format": null,
       "colour": null,
       "elapsed": 0.04000735282897949,
       "initial": 0,
       "n": 0,
       "ncols": null,
       "nrows": null,
       "postfix": null,
       "prefix": "",
       "rate": null,
       "total": 3,
       "unit": "it",
       "unit_divisor": 1000,
       "unit_scale": false
      },
      "application/vnd.jupyter.widget-view+json": {
       "model_id": "0cfdda0266954d6181ae16ca2cab0138",
       "version_major": 2,
       "version_minor": 0
      },
      "text/plain": [
       "  0%|          | 0/3 [00:00<?, ?it/s]"
      ]
     },
     "metadata": {},
     "output_type": "display_data"
    },
    {
     "name": "stdout",
     "output_type": "stream",
     "text": [
      "[ Valid | 006/100 ] loss = 0.67388, acc = 0.75962\n",
      "[ Valid | 006/100 ] loss = 0.67388, acc = 0.75962 -> best\n",
      "Best model found at epoch 5, saving model\n"
     ]
    },
    {
     "data": {
      "application/json": {
       "ascii": false,
       "bar_format": null,
       "colour": null,
       "elapsed": 0.019034624099731445,
       "initial": 0,
       "n": 0,
       "ncols": null,
       "nrows": null,
       "postfix": null,
       "prefix": "",
       "rate": null,
       "total": 12,
       "unit": "it",
       "unit_divisor": 1000,
       "unit_scale": false
      },
      "application/vnd.jupyter.widget-view+json": {
       "model_id": "4b24aca8c7b448f7947ea68a2ec4569c",
       "version_major": 2,
       "version_minor": 0
      },
      "text/plain": [
       "  0%|          | 0/12 [00:00<?, ?it/s]"
      ]
     },
     "metadata": {},
     "output_type": "display_data"
    },
    {
     "name": "stdout",
     "output_type": "stream",
     "text": [
      "[ Train | 007/100 ] loss = 0.44629, acc = 0.83659\n"
     ]
    },
    {
     "data": {
      "application/json": {
       "ascii": false,
       "bar_format": null,
       "colour": null,
       "elapsed": 0.017997026443481445,
       "initial": 0,
       "n": 0,
       "ncols": null,
       "nrows": null,
       "postfix": null,
       "prefix": "",
       "rate": null,
       "total": 3,
       "unit": "it",
       "unit_divisor": 1000,
       "unit_scale": false
      },
      "application/vnd.jupyter.widget-view+json": {
       "model_id": "8ce3aeb6001449e8ae534a9ccdb09e1c",
       "version_major": 2,
       "version_minor": 0
      },
      "text/plain": [
       "  0%|          | 0/3 [00:00<?, ?it/s]"
      ]
     },
     "metadata": {},
     "output_type": "display_data"
    },
    {
     "name": "stdout",
     "output_type": "stream",
     "text": [
      "[ Valid | 007/100 ] loss = 1.07201, acc = 0.62560\n",
      "[ Valid | 007/100 ] loss = 1.07201, acc = 0.62560\n"
     ]
    },
    {
     "data": {
      "application/json": {
       "ascii": false,
       "bar_format": null,
       "colour": null,
       "elapsed": 0.02300119400024414,
       "initial": 0,
       "n": 0,
       "ncols": null,
       "nrows": null,
       "postfix": null,
       "prefix": "",
       "rate": null,
       "total": 12,
       "unit": "it",
       "unit_divisor": 1000,
       "unit_scale": false
      },
      "application/vnd.jupyter.widget-view+json": {
       "model_id": "84757ea153ee450c99e6559119ac3963",
       "version_major": 2,
       "version_minor": 0
      },
      "text/plain": [
       "  0%|          | 0/12 [00:00<?, ?it/s]"
      ]
     },
     "metadata": {},
     "output_type": "display_data"
    },
    {
     "name": "stdout",
     "output_type": "stream",
     "text": [
      "[ Train | 008/100 ] loss = 0.40663, acc = 0.84570\n"
     ]
    },
    {
     "data": {
      "application/json": {
       "ascii": false,
       "bar_format": null,
       "colour": null,
       "elapsed": 0.025023221969604492,
       "initial": 0,
       "n": 0,
       "ncols": null,
       "nrows": null,
       "postfix": null,
       "prefix": "",
       "rate": null,
       "total": 3,
       "unit": "it",
       "unit_divisor": 1000,
       "unit_scale": false
      },
      "application/vnd.jupyter.widget-view+json": {
       "model_id": "5dcd59230e3041a4906891ccdea1a26f",
       "version_major": 2,
       "version_minor": 0
      },
      "text/plain": [
       "  0%|          | 0/3 [00:00<?, ?it/s]"
      ]
     },
     "metadata": {},
     "output_type": "display_data"
    },
    {
     "name": "stdout",
     "output_type": "stream",
     "text": [
      "[ Valid | 008/100 ] loss = 0.55281, acc = 0.80869\n",
      "[ Valid | 008/100 ] loss = 0.55281, acc = 0.80869 -> best\n",
      "Best model found at epoch 7, saving model\n"
     ]
    },
    {
     "data": {
      "application/json": {
       "ascii": false,
       "bar_format": null,
       "colour": null,
       "elapsed": 0.02398085594177246,
       "initial": 0,
       "n": 0,
       "ncols": null,
       "nrows": null,
       "postfix": null,
       "prefix": "",
       "rate": null,
       "total": 12,
       "unit": "it",
       "unit_divisor": 1000,
       "unit_scale": false
      },
      "application/vnd.jupyter.widget-view+json": {
       "model_id": "746d32e89747432fa0c9bac2b174f330",
       "version_major": 2,
       "version_minor": 0
      },
      "text/plain": [
       "  0%|          | 0/12 [00:00<?, ?it/s]"
      ]
     },
     "metadata": {},
     "output_type": "display_data"
    },
    {
     "name": "stdout",
     "output_type": "stream",
     "text": [
      "[ Train | 009/100 ] loss = 0.39937, acc = 0.84049\n"
     ]
    },
    {
     "data": {
      "application/json": {
       "ascii": false,
       "bar_format": null,
       "colour": null,
       "elapsed": 0.030997753143310547,
       "initial": 0,
       "n": 0,
       "ncols": null,
       "nrows": null,
       "postfix": null,
       "prefix": "",
       "rate": null,
       "total": 3,
       "unit": "it",
       "unit_divisor": 1000,
       "unit_scale": false
      },
      "application/vnd.jupyter.widget-view+json": {
       "model_id": "877f65ca49e44ef3b7b71b1ce2f76502",
       "version_major": 2,
       "version_minor": 0
      },
      "text/plain": [
       "  0%|          | 0/3 [00:00<?, ?it/s]"
      ]
     },
     "metadata": {},
     "output_type": "display_data"
    },
    {
     "name": "stdout",
     "output_type": "stream",
     "text": [
      "[ Valid | 009/100 ] loss = 0.65401, acc = 0.77204\n",
      "[ Valid | 009/100 ] loss = 0.65401, acc = 0.77204\n"
     ]
    },
    {
     "data": {
      "application/json": {
       "ascii": false,
       "bar_format": null,
       "colour": null,
       "elapsed": 0.038999080657958984,
       "initial": 0,
       "n": 0,
       "ncols": null,
       "nrows": null,
       "postfix": null,
       "prefix": "",
       "rate": null,
       "total": 12,
       "unit": "it",
       "unit_divisor": 1000,
       "unit_scale": false
      },
      "application/vnd.jupyter.widget-view+json": {
       "model_id": "0eef1cdd51bd4b04a2c2fd92d0434033",
       "version_major": 2,
       "version_minor": 0
      },
      "text/plain": [
       "  0%|          | 0/12 [00:00<?, ?it/s]"
      ]
     },
     "metadata": {},
     "output_type": "display_data"
    },
    {
     "name": "stdout",
     "output_type": "stream",
     "text": [
      "[ Train | 010/100 ] loss = 0.37925, acc = 0.86003\n"
     ]
    },
    {
     "data": {
      "application/json": {
       "ascii": false,
       "bar_format": null,
       "colour": null,
       "elapsed": 0.025012731552124023,
       "initial": 0,
       "n": 0,
       "ncols": null,
       "nrows": null,
       "postfix": null,
       "prefix": "",
       "rate": null,
       "total": 3,
       "unit": "it",
       "unit_divisor": 1000,
       "unit_scale": false
      },
      "application/vnd.jupyter.widget-view+json": {
       "model_id": "29b180c2fedb45ff9ca8298ced019524",
       "version_major": 2,
       "version_minor": 0
      },
      "text/plain": [
       "  0%|          | 0/3 [00:00<?, ?it/s]"
      ]
     },
     "metadata": {},
     "output_type": "display_data"
    },
    {
     "name": "stdout",
     "output_type": "stream",
     "text": [
      "[ Valid | 010/100 ] loss = 0.53184, acc = 0.82392\n",
      "[ Valid | 010/100 ] loss = 0.53184, acc = 0.82392 -> best\n",
      "Best model found at epoch 9, saving model\n"
     ]
    },
    {
     "data": {
      "application/json": {
       "ascii": false,
       "bar_format": null,
       "colour": null,
       "elapsed": 0.023001432418823242,
       "initial": 0,
       "n": 0,
       "ncols": null,
       "nrows": null,
       "postfix": null,
       "prefix": "",
       "rate": null,
       "total": 12,
       "unit": "it",
       "unit_divisor": 1000,
       "unit_scale": false
      },
      "application/vnd.jupyter.widget-view+json": {
       "model_id": "cdfea000b58b4d7e8e6d2dc882990160",
       "version_major": 2,
       "version_minor": 0
      },
      "text/plain": [
       "  0%|          | 0/12 [00:00<?, ?it/s]"
      ]
     },
     "metadata": {},
     "output_type": "display_data"
    },
    {
     "name": "stdout",
     "output_type": "stream",
     "text": [
      "[ Train | 011/100 ] loss = 0.31806, acc = 0.88997\n"
     ]
    },
    {
     "data": {
      "application/json": {
       "ascii": false,
       "bar_format": null,
       "colour": null,
       "elapsed": 0.016044139862060547,
       "initial": 0,
       "n": 0,
       "ncols": null,
       "nrows": null,
       "postfix": null,
       "prefix": "",
       "rate": null,
       "total": 3,
       "unit": "it",
       "unit_divisor": 1000,
       "unit_scale": false
      },
      "application/vnd.jupyter.widget-view+json": {
       "model_id": "d84dd353cc814337a1efd332dfc349d7",
       "version_major": 2,
       "version_minor": 0
      },
      "text/plain": [
       "  0%|          | 0/3 [00:00<?, ?it/s]"
      ]
     },
     "metadata": {},
     "output_type": "display_data"
    },
    {
     "name": "stdout",
     "output_type": "stream",
     "text": [
      "[ Valid | 011/100 ] loss = 0.65343, acc = 0.74619\n",
      "[ Valid | 011/100 ] loss = 0.65343, acc = 0.74619\n"
     ]
    },
    {
     "data": {
      "application/json": {
       "ascii": false,
       "bar_format": null,
       "colour": null,
       "elapsed": 0.020998477935791016,
       "initial": 0,
       "n": 0,
       "ncols": null,
       "nrows": null,
       "postfix": null,
       "prefix": "",
       "rate": null,
       "total": 12,
       "unit": "it",
       "unit_divisor": 1000,
       "unit_scale": false
      },
      "application/vnd.jupyter.widget-view+json": {
       "model_id": "c958a794783446d0808b24287789ddc2",
       "version_major": 2,
       "version_minor": 0
      },
      "text/plain": [
       "  0%|          | 0/12 [00:00<?, ?it/s]"
      ]
     },
     "metadata": {},
     "output_type": "display_data"
    },
    {
     "name": "stdout",
     "output_type": "stream",
     "text": [
      "[ Train | 012/100 ] loss = 0.34660, acc = 0.86589\n"
     ]
    },
    {
     "data": {
      "application/json": {
       "ascii": false,
       "bar_format": null,
       "colour": null,
       "elapsed": 0.01999664306640625,
       "initial": 0,
       "n": 0,
       "ncols": null,
       "nrows": null,
       "postfix": null,
       "prefix": "",
       "rate": null,
       "total": 3,
       "unit": "it",
       "unit_divisor": 1000,
       "unit_scale": false
      },
      "application/vnd.jupyter.widget-view+json": {
       "model_id": "1d82a0c99d1e4d4c897a47591c2de4ad",
       "version_major": 2,
       "version_minor": 0
      },
      "text/plain": [
       "  0%|          | 0/3 [00:00<?, ?it/s]"
      ]
     },
     "metadata": {},
     "output_type": "display_data"
    },
    {
     "name": "stdout",
     "output_type": "stream",
     "text": [
      "[ Valid | 012/100 ] loss = 1.07789, acc = 0.65084\n",
      "[ Valid | 012/100 ] loss = 1.07789, acc = 0.65084\n"
     ]
    },
    {
     "data": {
      "application/json": {
       "ascii": false,
       "bar_format": null,
       "colour": null,
       "elapsed": 0.022996902465820312,
       "initial": 0,
       "n": 0,
       "ncols": null,
       "nrows": null,
       "postfix": null,
       "prefix": "",
       "rate": null,
       "total": 12,
       "unit": "it",
       "unit_divisor": 1000,
       "unit_scale": false
      },
      "application/vnd.jupyter.widget-view+json": {
       "model_id": "8d8f871f08584be68e4e301baf3ae5ba",
       "version_major": 2,
       "version_minor": 0
      },
      "text/plain": [
       "  0%|          | 0/12 [00:00<?, ?it/s]"
      ]
     },
     "metadata": {},
     "output_type": "display_data"
    },
    {
     "name": "stdout",
     "output_type": "stream",
     "text": [
      "[ Train | 013/100 ] loss = 0.30499, acc = 0.88346\n"
     ]
    },
    {
     "data": {
      "application/json": {
       "ascii": false,
       "bar_format": null,
       "colour": null,
       "elapsed": 0.019000768661499023,
       "initial": 0,
       "n": 0,
       "ncols": null,
       "nrows": null,
       "postfix": null,
       "prefix": "",
       "rate": null,
       "total": 3,
       "unit": "it",
       "unit_divisor": 1000,
       "unit_scale": false
      },
      "application/vnd.jupyter.widget-view+json": {
       "model_id": "5c183b2278cf42bda6abfd5a70d0e191",
       "version_major": 2,
       "version_minor": 0
      },
      "text/plain": [
       "  0%|          | 0/3 [00:00<?, ?it/s]"
      ]
     },
     "metadata": {},
     "output_type": "display_data"
    },
    {
     "name": "stdout",
     "output_type": "stream",
     "text": [
      "[ Valid | 013/100 ] loss = 0.48501, acc = 0.84335\n",
      "[ Valid | 013/100 ] loss = 0.48501, acc = 0.84335 -> best\n",
      "Best model found at epoch 12, saving model\n"
     ]
    },
    {
     "data": {
      "application/json": {
       "ascii": false,
       "bar_format": null,
       "colour": null,
       "elapsed": 0.021001815795898438,
       "initial": 0,
       "n": 0,
       "ncols": null,
       "nrows": null,
       "postfix": null,
       "prefix": "",
       "rate": null,
       "total": 12,
       "unit": "it",
       "unit_divisor": 1000,
       "unit_scale": false
      },
      "application/vnd.jupyter.widget-view+json": {
       "model_id": "6bdf7b7deb254cacbb1dd8cdcd0e090a",
       "version_major": 2,
       "version_minor": 0
      },
      "text/plain": [
       "  0%|          | 0/12 [00:00<?, ?it/s]"
      ]
     },
     "metadata": {},
     "output_type": "display_data"
    },
    {
     "name": "stdout",
     "output_type": "stream",
     "text": [
      "[ Train | 014/100 ] loss = 0.30535, acc = 0.89388\n"
     ]
    },
    {
     "data": {
      "application/json": {
       "ascii": false,
       "bar_format": null,
       "colour": null,
       "elapsed": 0.02699899673461914,
       "initial": 0,
       "n": 0,
       "ncols": null,
       "nrows": null,
       "postfix": null,
       "prefix": "",
       "rate": null,
       "total": 3,
       "unit": "it",
       "unit_divisor": 1000,
       "unit_scale": false
      },
      "application/vnd.jupyter.widget-view+json": {
       "model_id": "6c07fb0950f54d51a5ef42e8cd91eaab",
       "version_major": 2,
       "version_minor": 0
      },
      "text/plain": [
       "  0%|          | 0/3 [00:00<?, ?it/s]"
      ]
     },
     "metadata": {},
     "output_type": "display_data"
    },
    {
     "name": "stdout",
     "output_type": "stream",
     "text": [
      "[ Valid | 014/100 ] loss = 0.44037, acc = 0.84034\n",
      "[ Valid | 014/100 ] loss = 0.44037, acc = 0.84034\n"
     ]
    },
    {
     "data": {
      "application/json": {
       "ascii": false,
       "bar_format": null,
       "colour": null,
       "elapsed": 0.021985530853271484,
       "initial": 0,
       "n": 0,
       "ncols": null,
       "nrows": null,
       "postfix": null,
       "prefix": "",
       "rate": null,
       "total": 12,
       "unit": "it",
       "unit_divisor": 1000,
       "unit_scale": false
      },
      "application/vnd.jupyter.widget-view+json": {
       "model_id": "356980cf86be4e4ca6e647bbe40bda94",
       "version_major": 2,
       "version_minor": 0
      },
      "text/plain": [
       "  0%|          | 0/12 [00:00<?, ?it/s]"
      ]
     },
     "metadata": {},
     "output_type": "display_data"
    },
    {
     "name": "stdout",
     "output_type": "stream",
     "text": [
      "[ Train | 015/100 ] loss = 0.28867, acc = 0.90299\n"
     ]
    },
    {
     "data": {
      "application/json": {
       "ascii": false,
       "bar_format": null,
       "colour": null,
       "elapsed": 0.022000551223754883,
       "initial": 0,
       "n": 0,
       "ncols": null,
       "nrows": null,
       "postfix": null,
       "prefix": "",
       "rate": null,
       "total": 3,
       "unit": "it",
       "unit_divisor": 1000,
       "unit_scale": false
      },
      "application/vnd.jupyter.widget-view+json": {
       "model_id": "75a74a328b144b50b0bdea442e52fbb5",
       "version_major": 2,
       "version_minor": 0
      },
      "text/plain": [
       "  0%|          | 0/3 [00:00<?, ?it/s]"
      ]
     },
     "metadata": {},
     "output_type": "display_data"
    },
    {
     "name": "stdout",
     "output_type": "stream",
     "text": [
      "[ Valid | 015/100 ] loss = 0.97092, acc = 0.71675\n",
      "[ Valid | 015/100 ] loss = 0.97092, acc = 0.71675\n"
     ]
    },
    {
     "data": {
      "application/json": {
       "ascii": false,
       "bar_format": null,
       "colour": null,
       "elapsed": 0.034998416900634766,
       "initial": 0,
       "n": 0,
       "ncols": null,
       "nrows": null,
       "postfix": null,
       "prefix": "",
       "rate": null,
       "total": 12,
       "unit": "it",
       "unit_divisor": 1000,
       "unit_scale": false
      },
      "application/vnd.jupyter.widget-view+json": {
       "model_id": "33c5fcf883e4410bbf7aab0f704b47c8",
       "version_major": 2,
       "version_minor": 0
      },
      "text/plain": [
       "  0%|          | 0/12 [00:00<?, ?it/s]"
      ]
     },
     "metadata": {},
     "output_type": "display_data"
    },
    {
     "name": "stdout",
     "output_type": "stream",
     "text": [
      "[ Train | 016/100 ] loss = 0.25476, acc = 0.90885\n"
     ]
    },
    {
     "data": {
      "application/json": {
       "ascii": false,
       "bar_format": null,
       "colour": null,
       "elapsed": 0.023998498916625977,
       "initial": 0,
       "n": 0,
       "ncols": null,
       "nrows": null,
       "postfix": null,
       "prefix": "",
       "rate": null,
       "total": 3,
       "unit": "it",
       "unit_divisor": 1000,
       "unit_scale": false
      },
      "application/vnd.jupyter.widget-view+json": {
       "model_id": "cb115aac7c0a4adc93a454b1d00bab0e",
       "version_major": 2,
       "version_minor": 0
      },
      "text/plain": [
       "  0%|          | 0/3 [00:00<?, ?it/s]"
      ]
     },
     "metadata": {},
     "output_type": "display_data"
    },
    {
     "name": "stdout",
     "output_type": "stream",
     "text": [
      "[ Valid | 016/100 ] loss = 0.78371, acc = 0.73037\n",
      "[ Valid | 016/100 ] loss = 0.78371, acc = 0.73037\n"
     ]
    },
    {
     "data": {
      "application/json": {
       "ascii": false,
       "bar_format": null,
       "colour": null,
       "elapsed": 0.02299976348876953,
       "initial": 0,
       "n": 0,
       "ncols": null,
       "nrows": null,
       "postfix": null,
       "prefix": "",
       "rate": null,
       "total": 12,
       "unit": "it",
       "unit_divisor": 1000,
       "unit_scale": false
      },
      "application/vnd.jupyter.widget-view+json": {
       "model_id": "cc712b54c0e34cf3a3414e1577b4c4c2",
       "version_major": 2,
       "version_minor": 0
      },
      "text/plain": [
       "  0%|          | 0/12 [00:00<?, ?it/s]"
      ]
     },
     "metadata": {},
     "output_type": "display_data"
    },
    {
     "name": "stdout",
     "output_type": "stream",
     "text": [
      "[ Train | 017/100 ] loss = 0.27320, acc = 0.90039\n"
     ]
    },
    {
     "data": {
      "application/json": {
       "ascii": false,
       "bar_format": null,
       "colour": null,
       "elapsed": 0.018001079559326172,
       "initial": 0,
       "n": 0,
       "ncols": null,
       "nrows": null,
       "postfix": null,
       "prefix": "",
       "rate": null,
       "total": 3,
       "unit": "it",
       "unit_divisor": 1000,
       "unit_scale": false
      },
      "application/vnd.jupyter.widget-view+json": {
       "model_id": "2872e387096b46868641d4a4c9557b09",
       "version_major": 2,
       "version_minor": 0
      },
      "text/plain": [
       "  0%|          | 0/3 [00:00<?, ?it/s]"
      ]
     },
     "metadata": {},
     "output_type": "display_data"
    },
    {
     "name": "stdout",
     "output_type": "stream",
     "text": [
      "[ Valid | 017/100 ] loss = 0.59089, acc = 0.79928\n",
      "[ Valid | 017/100 ] loss = 0.59089, acc = 0.79928\n"
     ]
    },
    {
     "data": {
      "application/json": {
       "ascii": false,
       "bar_format": null,
       "colour": null,
       "elapsed": 0.02199864387512207,
       "initial": 0,
       "n": 0,
       "ncols": null,
       "nrows": null,
       "postfix": null,
       "prefix": "",
       "rate": null,
       "total": 12,
       "unit": "it",
       "unit_divisor": 1000,
       "unit_scale": false
      },
      "application/vnd.jupyter.widget-view+json": {
       "model_id": "a0639e46e31c483c9f902e145a7ac475",
       "version_major": 2,
       "version_minor": 0
      },
      "text/plain": [
       "  0%|          | 0/12 [00:00<?, ?it/s]"
      ]
     },
     "metadata": {},
     "output_type": "display_data"
    },
    {
     "name": "stdout",
     "output_type": "stream",
     "text": [
      "[ Train | 018/100 ] loss = 0.24781, acc = 0.91211\n"
     ]
    },
    {
     "data": {
      "application/json": {
       "ascii": false,
       "bar_format": null,
       "colour": null,
       "elapsed": 0.029011964797973633,
       "initial": 0,
       "n": 0,
       "ncols": null,
       "nrows": null,
       "postfix": null,
       "prefix": "",
       "rate": null,
       "total": 3,
       "unit": "it",
       "unit_divisor": 1000,
       "unit_scale": false
      },
      "application/vnd.jupyter.widget-view+json": {
       "model_id": "ed828d2f4c9448979aacbd54961cecd5",
       "version_major": 2,
       "version_minor": 0
      },
      "text/plain": [
       "  0%|          | 0/3 [00:00<?, ?it/s]"
      ]
     },
     "metadata": {},
     "output_type": "display_data"
    },
    {
     "name": "stdout",
     "output_type": "stream",
     "text": [
      "[ Valid | 018/100 ] loss = 0.73585, acc = 0.75200\n",
      "[ Valid | 018/100 ] loss = 0.73585, acc = 0.75200\n"
     ]
    },
    {
     "data": {
      "application/json": {
       "ascii": false,
       "bar_format": null,
       "colour": null,
       "elapsed": 0.03399944305419922,
       "initial": 0,
       "n": 0,
       "ncols": null,
       "nrows": null,
       "postfix": null,
       "prefix": "",
       "rate": null,
       "total": 12,
       "unit": "it",
       "unit_divisor": 1000,
       "unit_scale": false
      },
      "application/vnd.jupyter.widget-view+json": {
       "model_id": "6f9538bce4d34c28aabc6477c8151b31",
       "version_major": 2,
       "version_minor": 0
      },
      "text/plain": [
       "  0%|          | 0/12 [00:00<?, ?it/s]"
      ]
     },
     "metadata": {},
     "output_type": "display_data"
    },
    {
     "name": "stdout",
     "output_type": "stream",
     "text": [
      "[ Train | 019/100 ] loss = 0.18132, acc = 0.93945\n"
     ]
    },
    {
     "data": {
      "application/json": {
       "ascii": false,
       "bar_format": null,
       "colour": null,
       "elapsed": 0.018996000289916992,
       "initial": 0,
       "n": 0,
       "ncols": null,
       "nrows": null,
       "postfix": null,
       "prefix": "",
       "rate": null,
       "total": 3,
       "unit": "it",
       "unit_divisor": 1000,
       "unit_scale": false
      },
      "application/vnd.jupyter.widget-view+json": {
       "model_id": "a415a3cb887d4c28973de63026bd6e9e",
       "version_major": 2,
       "version_minor": 0
      },
      "text/plain": [
       "  0%|          | 0/3 [00:00<?, ?it/s]"
      ]
     },
     "metadata": {},
     "output_type": "display_data"
    },
    {
     "name": "stdout",
     "output_type": "stream",
     "text": [
      "[ Valid | 019/100 ] loss = 0.70032, acc = 0.79087\n",
      "[ Valid | 019/100 ] loss = 0.70032, acc = 0.79087\n"
     ]
    },
    {
     "data": {
      "application/json": {
       "ascii": false,
       "bar_format": null,
       "colour": null,
       "elapsed": 0.026996850967407227,
       "initial": 0,
       "n": 0,
       "ncols": null,
       "nrows": null,
       "postfix": null,
       "prefix": "",
       "rate": null,
       "total": 12,
       "unit": "it",
       "unit_divisor": 1000,
       "unit_scale": false
      },
      "application/vnd.jupyter.widget-view+json": {
       "model_id": "d62b0d3482284c4dbf47e1accee2e8a2",
       "version_major": 2,
       "version_minor": 0
      },
      "text/plain": [
       "  0%|          | 0/12 [00:00<?, ?it/s]"
      ]
     },
     "metadata": {},
     "output_type": "display_data"
    },
    {
     "name": "stdout",
     "output_type": "stream",
     "text": [
      "[ Train | 020/100 ] loss = 0.24484, acc = 0.91471\n"
     ]
    },
    {
     "data": {
      "application/json": {
       "ascii": false,
       "bar_format": null,
       "colour": null,
       "elapsed": 0.0350041389465332,
       "initial": 0,
       "n": 0,
       "ncols": null,
       "nrows": null,
       "postfix": null,
       "prefix": "",
       "rate": null,
       "total": 3,
       "unit": "it",
       "unit_divisor": 1000,
       "unit_scale": false
      },
      "application/vnd.jupyter.widget-view+json": {
       "model_id": "0ad0d710054e44bc9b24b6d79898900f",
       "version_major": 2,
       "version_minor": 0
      },
      "text/plain": [
       "  0%|          | 0/3 [00:00<?, ?it/s]"
      ]
     },
     "metadata": {},
     "output_type": "display_data"
    },
    {
     "name": "stdout",
     "output_type": "stream",
     "text": [
      "[ Valid | 020/100 ] loss = 0.71335, acc = 0.76623\n",
      "[ Valid | 020/100 ] loss = 0.71335, acc = 0.76623\n"
     ]
    },
    {
     "data": {
      "application/json": {
       "ascii": false,
       "bar_format": null,
       "colour": null,
       "elapsed": 0.026997089385986328,
       "initial": 0,
       "n": 0,
       "ncols": null,
       "nrows": null,
       "postfix": null,
       "prefix": "",
       "rate": null,
       "total": 12,
       "unit": "it",
       "unit_divisor": 1000,
       "unit_scale": false
      },
      "application/vnd.jupyter.widget-view+json": {
       "model_id": "cb630d8af83041c4be9e3d86bf58445f",
       "version_major": 2,
       "version_minor": 0
      },
      "text/plain": [
       "  0%|          | 0/12 [00:00<?, ?it/s]"
      ]
     },
     "metadata": {},
     "output_type": "display_data"
    },
    {
     "name": "stdout",
     "output_type": "stream",
     "text": [
      "[ Train | 021/100 ] loss = 0.26607, acc = 0.90039\n"
     ]
    },
    {
     "data": {
      "application/json": {
       "ascii": false,
       "bar_format": null,
       "colour": null,
       "elapsed": 0.030997037887573242,
       "initial": 0,
       "n": 0,
       "ncols": null,
       "nrows": null,
       "postfix": null,
       "prefix": "",
       "rate": null,
       "total": 3,
       "unit": "it",
       "unit_divisor": 1000,
       "unit_scale": false
      },
      "application/vnd.jupyter.widget-view+json": {
       "model_id": "43f087019c1846b38dde3ca3686f7e10",
       "version_major": 2,
       "version_minor": 0
      },
      "text/plain": [
       "  0%|          | 0/3 [00:00<?, ?it/s]"
      ]
     },
     "metadata": {},
     "output_type": "display_data"
    },
    {
     "name": "stdout",
     "output_type": "stream",
     "text": [
      "[ Valid | 021/100 ] loss = 0.99873, acc = 0.72817\n",
      "[ Valid | 021/100 ] loss = 0.99873, acc = 0.72817\n"
     ]
    },
    {
     "data": {
      "application/json": {
       "ascii": false,
       "bar_format": null,
       "colour": null,
       "elapsed": 0.0260012149810791,
       "initial": 0,
       "n": 0,
       "ncols": null,
       "nrows": null,
       "postfix": null,
       "prefix": "",
       "rate": null,
       "total": 12,
       "unit": "it",
       "unit_divisor": 1000,
       "unit_scale": false
      },
      "application/vnd.jupyter.widget-view+json": {
       "model_id": "8d463511337a4e068429980fc4bc6436",
       "version_major": 2,
       "version_minor": 0
      },
      "text/plain": [
       "  0%|          | 0/12 [00:00<?, ?it/s]"
      ]
     },
     "metadata": {},
     "output_type": "display_data"
    },
    {
     "name": "stdout",
     "output_type": "stream",
     "text": [
      "[ Train | 022/100 ] loss = 0.23160, acc = 0.91211\n"
     ]
    },
    {
     "data": {
      "application/json": {
       "ascii": false,
       "bar_format": null,
       "colour": null,
       "elapsed": 0.030013561248779297,
       "initial": 0,
       "n": 0,
       "ncols": null,
       "nrows": null,
       "postfix": null,
       "prefix": "",
       "rate": null,
       "total": 3,
       "unit": "it",
       "unit_divisor": 1000,
       "unit_scale": false
      },
      "application/vnd.jupyter.widget-view+json": {
       "model_id": "648727c28e2343849a15efdd45222ccf",
       "version_major": 2,
       "version_minor": 0
      },
      "text/plain": [
       "  0%|          | 0/3 [00:00<?, ?it/s]"
      ]
     },
     "metadata": {},
     "output_type": "display_data"
    },
    {
     "name": "stdout",
     "output_type": "stream",
     "text": [
      "[ Valid | 022/100 ] loss = 0.55229, acc = 0.83433\n",
      "[ Valid | 022/100 ] loss = 0.55229, acc = 0.83433\n"
     ]
    },
    {
     "data": {
      "application/json": {
       "ascii": false,
       "bar_format": null,
       "colour": null,
       "elapsed": 0.022997140884399414,
       "initial": 0,
       "n": 0,
       "ncols": null,
       "nrows": null,
       "postfix": null,
       "prefix": "",
       "rate": null,
       "total": 12,
       "unit": "it",
       "unit_divisor": 1000,
       "unit_scale": false
      },
      "application/vnd.jupyter.widget-view+json": {
       "model_id": "3dfbf025bc0a471a9d38e33791bb8cc0",
       "version_major": 2,
       "version_minor": 0
      },
      "text/plain": [
       "  0%|          | 0/12 [00:00<?, ?it/s]"
      ]
     },
     "metadata": {},
     "output_type": "display_data"
    },
    {
     "name": "stdout",
     "output_type": "stream",
     "text": [
      "[ Train | 023/100 ] loss = 0.23978, acc = 0.90625\n"
     ]
    },
    {
     "data": {
      "application/json": {
       "ascii": false,
       "bar_format": null,
       "colour": null,
       "elapsed": 0.019997835159301758,
       "initial": 0,
       "n": 0,
       "ncols": null,
       "nrows": null,
       "postfix": null,
       "prefix": "",
       "rate": null,
       "total": 3,
       "unit": "it",
       "unit_divisor": 1000,
       "unit_scale": false
      },
      "application/vnd.jupyter.widget-view+json": {
       "model_id": "915bdb4625584be0bb66a2d94d541b39",
       "version_major": 2,
       "version_minor": 0
      },
      "text/plain": [
       "  0%|          | 0/3 [00:00<?, ?it/s]"
      ]
     },
     "metadata": {},
     "output_type": "display_data"
    },
    {
     "name": "stdout",
     "output_type": "stream",
     "text": [
      "[ Valid | 023/100 ] loss = 1.00390, acc = 0.73177\n",
      "[ Valid | 023/100 ] loss = 1.00390, acc = 0.73177\n"
     ]
    },
    {
     "data": {
      "application/json": {
       "ascii": false,
       "bar_format": null,
       "colour": null,
       "elapsed": 0.020996570587158203,
       "initial": 0,
       "n": 0,
       "ncols": null,
       "nrows": null,
       "postfix": null,
       "prefix": "",
       "rate": null,
       "total": 12,
       "unit": "it",
       "unit_divisor": 1000,
       "unit_scale": false
      },
      "application/vnd.jupyter.widget-view+json": {
       "model_id": "682d9dcbe07541cbb8b80cf2a7d85e83",
       "version_major": 2,
       "version_minor": 0
      },
      "text/plain": [
       "  0%|          | 0/12 [00:00<?, ?it/s]"
      ]
     },
     "metadata": {},
     "output_type": "display_data"
    },
    {
     "name": "stdout",
     "output_type": "stream",
     "text": [
      "[ Train | 024/100 ] loss = 0.27297, acc = 0.89974\n"
     ]
    },
    {
     "data": {
      "application/json": {
       "ascii": false,
       "bar_format": null,
       "colour": null,
       "elapsed": 0.023001909255981445,
       "initial": 0,
       "n": 0,
       "ncols": null,
       "nrows": null,
       "postfix": null,
       "prefix": "",
       "rate": null,
       "total": 3,
       "unit": "it",
       "unit_divisor": 1000,
       "unit_scale": false
      },
      "application/vnd.jupyter.widget-view+json": {
       "model_id": "03706f0e4681489b9df7e9926693ef73",
       "version_major": 2,
       "version_minor": 0
      },
      "text/plain": [
       "  0%|          | 0/3 [00:00<?, ?it/s]"
      ]
     },
     "metadata": {},
     "output_type": "display_data"
    },
    {
     "name": "stdout",
     "output_type": "stream",
     "text": [
      "[ Valid | 024/100 ] loss = 0.60421, acc = 0.81490\n",
      "[ Valid | 024/100 ] loss = 0.60421, acc = 0.81490\n",
      "No improvment 10 consecutive epochs, early stopping\n"
     ]
    },
    {
     "data": {
      "application/json": {
       "ascii": false,
       "bar_format": null,
       "colour": null,
       "elapsed": 0.02701282501220703,
       "initial": 0,
       "n": 0,
       "ncols": null,
       "nrows": null,
       "postfix": null,
       "prefix": "",
       "rate": null,
       "total": 12,
       "unit": "it",
       "unit_divisor": 1000,
       "unit_scale": false
      },
      "application/vnd.jupyter.widget-view+json": {
       "model_id": "a073b1b8b6974800be65b323435a8a5f",
       "version_major": 2,
       "version_minor": 0
      },
      "text/plain": [
       "  0%|          | 0/12 [00:00<?, ?it/s]"
      ]
     },
     "metadata": {},
     "output_type": "display_data"
    },
    {
     "name": "stdout",
     "output_type": "stream",
     "text": [
      "[ Train | 001/100 ] loss = 0.35523, acc = 0.88086\n"
     ]
    },
    {
     "data": {
      "application/json": {
       "ascii": false,
       "bar_format": null,
       "colour": null,
       "elapsed": 0.022032499313354492,
       "initial": 0,
       "n": 0,
       "ncols": null,
       "nrows": null,
       "postfix": null,
       "prefix": "",
       "rate": null,
       "total": 3,
       "unit": "it",
       "unit_divisor": 1000,
       "unit_scale": false
      },
      "application/vnd.jupyter.widget-view+json": {
       "model_id": "9e4821e2d73f489385ae7e5787dee891",
       "version_major": 2,
       "version_minor": 0
      },
      "text/plain": [
       "  0%|          | 0/3 [00:00<?, ?it/s]"
      ]
     },
     "metadata": {},
     "output_type": "display_data"
    },
    {
     "name": "stdout",
     "output_type": "stream",
     "text": [
      "[ Valid | 001/100 ] loss = 1.35494, acc = 0.64643\n",
      "[ Valid | 001/100 ] loss = 1.35494, acc = 0.64643\n",
      "No improvment 10 consecutive epochs, early stopping\n"
     ]
    },
    {
     "data": {
      "application/json": {
       "ascii": false,
       "bar_format": null,
       "colour": null,
       "elapsed": 0.021001577377319336,
       "initial": 0,
       "n": 0,
       "ncols": null,
       "nrows": null,
       "postfix": null,
       "prefix": "",
       "rate": null,
       "total": 12,
       "unit": "it",
       "unit_divisor": 1000,
       "unit_scale": false
      },
      "application/vnd.jupyter.widget-view+json": {
       "model_id": "b0409a6706c5428db9f46f0997a59907",
       "version_major": 2,
       "version_minor": 0
      },
      "text/plain": [
       "  0%|          | 0/12 [00:00<?, ?it/s]"
      ]
     },
     "metadata": {},
     "output_type": "display_data"
    },
    {
     "name": "stdout",
     "output_type": "stream",
     "text": [
      "[ Train | 001/100 ] loss = 0.27233, acc = 0.91016\n"
     ]
    },
    {
     "data": {
      "application/json": {
       "ascii": false,
       "bar_format": null,
       "colour": null,
       "elapsed": 0.08700180053710938,
       "initial": 0,
       "n": 0,
       "ncols": null,
       "nrows": null,
       "postfix": null,
       "prefix": "",
       "rate": null,
       "total": 3,
       "unit": "it",
       "unit_divisor": 1000,
       "unit_scale": false
      },
      "application/vnd.jupyter.widget-view+json": {
       "model_id": "ea8f9c3effa141b7a24e052d7a2448da",
       "version_major": 2,
       "version_minor": 0
      },
      "text/plain": [
       "  0%|          | 0/3 [00:00<?, ?it/s]"
      ]
     },
     "metadata": {},
     "output_type": "display_data"
    },
    {
     "name": "stdout",
     "output_type": "stream",
     "text": [
      "[ Valid | 001/100 ] loss = 0.27965, acc = 0.89143\n",
      "[ Valid | 001/100 ] loss = 0.27965, acc = 0.89143 -> best\n",
      "Best model found at epoch 0, saving model\n"
     ]
    },
    {
     "data": {
      "application/json": {
       "ascii": false,
       "bar_format": null,
       "colour": null,
       "elapsed": 0.019984960556030273,
       "initial": 0,
       "n": 0,
       "ncols": null,
       "nrows": null,
       "postfix": null,
       "prefix": "",
       "rate": null,
       "total": 12,
       "unit": "it",
       "unit_divisor": 1000,
       "unit_scale": false
      },
      "application/vnd.jupyter.widget-view+json": {
       "model_id": "b06e577737594c3d9a14be7f374b1b42",
       "version_major": 2,
       "version_minor": 0
      },
      "text/plain": [
       "  0%|          | 0/12 [00:00<?, ?it/s]"
      ]
     },
     "metadata": {},
     "output_type": "display_data"
    },
    {
     "name": "stdout",
     "output_type": "stream",
     "text": [
      "[ Train | 002/100 ] loss = 0.20997, acc = 0.92318\n"
     ]
    },
    {
     "data": {
      "application/json": {
       "ascii": false,
       "bar_format": null,
       "colour": null,
       "elapsed": 0.026000499725341797,
       "initial": 0,
       "n": 0,
       "ncols": null,
       "nrows": null,
       "postfix": null,
       "prefix": "",
       "rate": null,
       "total": 3,
       "unit": "it",
       "unit_divisor": 1000,
       "unit_scale": false
      },
      "application/vnd.jupyter.widget-view+json": {
       "model_id": "3e319b2acecc407f833d9f889e0fb27b",
       "version_major": 2,
       "version_minor": 0
      },
      "text/plain": [
       "  0%|          | 0/3 [00:00<?, ?it/s]"
      ]
     },
     "metadata": {},
     "output_type": "display_data"
    },
    {
     "name": "stdout",
     "output_type": "stream",
     "text": [
      "[ Valid | 002/100 ] loss = 0.22099, acc = 0.90044\n",
      "[ Valid | 002/100 ] loss = 0.22099, acc = 0.90044 -> best\n",
      "Best model found at epoch 1, saving model\n"
     ]
    },
    {
     "data": {
      "application/json": {
       "ascii": false,
       "bar_format": null,
       "colour": null,
       "elapsed": 0.021050214767456055,
       "initial": 0,
       "n": 0,
       "ncols": null,
       "nrows": null,
       "postfix": null,
       "prefix": "",
       "rate": null,
       "total": 12,
       "unit": "it",
       "unit_divisor": 1000,
       "unit_scale": false
      },
      "application/vnd.jupyter.widget-view+json": {
       "model_id": "df773d1cbf5543419eae070021223ed6",
       "version_major": 2,
       "version_minor": 0
      },
      "text/plain": [
       "  0%|          | 0/12 [00:00<?, ?it/s]"
      ]
     },
     "metadata": {},
     "output_type": "display_data"
    },
    {
     "name": "stdout",
     "output_type": "stream",
     "text": [
      "[ Train | 003/100 ] loss = 0.20154, acc = 0.93164\n"
     ]
    },
    {
     "data": {
      "application/json": {
       "ascii": false,
       "bar_format": null,
       "colour": null,
       "elapsed": 0.023005008697509766,
       "initial": 0,
       "n": 0,
       "ncols": null,
       "nrows": null,
       "postfix": null,
       "prefix": "",
       "rate": null,
       "total": 3,
       "unit": "it",
       "unit_divisor": 1000,
       "unit_scale": false
      },
      "application/vnd.jupyter.widget-view+json": {
       "model_id": "d7e1c5cb136b4ac1a550e5ad5d0468f0",
       "version_major": 2,
       "version_minor": 0
      },
      "text/plain": [
       "  0%|          | 0/3 [00:00<?, ?it/s]"
      ]
     },
     "metadata": {},
     "output_type": "display_data"
    },
    {
     "name": "stdout",
     "output_type": "stream",
     "text": [
      "[ Valid | 003/100 ] loss = 0.23077, acc = 0.90605\n",
      "[ Valid | 003/100 ] loss = 0.23077, acc = 0.90605 -> best\n",
      "Best model found at epoch 2, saving model\n"
     ]
    },
    {
     "data": {
      "application/json": {
       "ascii": false,
       "bar_format": null,
       "colour": null,
       "elapsed": 0.026999235153198242,
       "initial": 0,
       "n": 0,
       "ncols": null,
       "nrows": null,
       "postfix": null,
       "prefix": "",
       "rate": null,
       "total": 12,
       "unit": "it",
       "unit_divisor": 1000,
       "unit_scale": false
      },
      "application/vnd.jupyter.widget-view+json": {
       "model_id": "5f1554f97e50481dae51edc54a060681",
       "version_major": 2,
       "version_minor": 0
      },
      "text/plain": [
       "  0%|          | 0/12 [00:00<?, ?it/s]"
      ]
     },
     "metadata": {},
     "output_type": "display_data"
    },
    {
     "name": "stdout",
     "output_type": "stream",
     "text": [
      "[ Train | 004/100 ] loss = 0.18494, acc = 0.93164\n"
     ]
    },
    {
     "data": {
      "application/json": {
       "ascii": false,
       "bar_format": null,
       "colour": null,
       "elapsed": 0.04099559783935547,
       "initial": 0,
       "n": 0,
       "ncols": null,
       "nrows": null,
       "postfix": null,
       "prefix": "",
       "rate": null,
       "total": 3,
       "unit": "it",
       "unit_divisor": 1000,
       "unit_scale": false
      },
      "application/vnd.jupyter.widget-view+json": {
       "model_id": "0b66491b348b45e989b1732e35e86a6a",
       "version_major": 2,
       "version_minor": 0
      },
      "text/plain": [
       "  0%|          | 0/3 [00:00<?, ?it/s]"
      ]
     },
     "metadata": {},
     "output_type": "display_data"
    },
    {
     "name": "stdout",
     "output_type": "stream",
     "text": [
      "[ Valid | 004/100 ] loss = 0.29046, acc = 0.90885\n",
      "[ Valid | 004/100 ] loss = 0.29046, acc = 0.90885 -> best\n",
      "Best model found at epoch 3, saving model\n"
     ]
    },
    {
     "data": {
      "application/json": {
       "ascii": false,
       "bar_format": null,
       "colour": null,
       "elapsed": 0.030997276306152344,
       "initial": 0,
       "n": 0,
       "ncols": null,
       "nrows": null,
       "postfix": null,
       "prefix": "",
       "rate": null,
       "total": 12,
       "unit": "it",
       "unit_divisor": 1000,
       "unit_scale": false
      },
      "application/vnd.jupyter.widget-view+json": {
       "model_id": "a15f44c667f04f8a99afc2e707c1074c",
       "version_major": 2,
       "version_minor": 0
      },
      "text/plain": [
       "  0%|          | 0/12 [00:00<?, ?it/s]"
      ]
     },
     "metadata": {},
     "output_type": "display_data"
    },
    {
     "name": "stdout",
     "output_type": "stream",
     "text": [
      "[ Train | 005/100 ] loss = 0.16707, acc = 0.93945\n"
     ]
    },
    {
     "data": {
      "application/json": {
       "ascii": false,
       "bar_format": null,
       "colour": null,
       "elapsed": 0.021009206771850586,
       "initial": 0,
       "n": 0,
       "ncols": null,
       "nrows": null,
       "postfix": null,
       "prefix": "",
       "rate": null,
       "total": 3,
       "unit": "it",
       "unit_divisor": 1000,
       "unit_scale": false
      },
      "application/vnd.jupyter.widget-view+json": {
       "model_id": "6f1caf45adf74f3d8fa13a74e47acda4",
       "version_major": 2,
       "version_minor": 0
      },
      "text/plain": [
       "  0%|          | 0/3 [00:00<?, ?it/s]"
      ]
     },
     "metadata": {},
     "output_type": "display_data"
    },
    {
     "name": "stdout",
     "output_type": "stream",
     "text": [
      "[ Valid | 005/100 ] loss = 0.17767, acc = 0.94491\n",
      "[ Valid | 005/100 ] loss = 0.17767, acc = 0.94491 -> best\n",
      "Best model found at epoch 4, saving model\n"
     ]
    },
    {
     "data": {
      "application/json": {
       "ascii": false,
       "bar_format": null,
       "colour": null,
       "elapsed": 0.02100372314453125,
       "initial": 0,
       "n": 0,
       "ncols": null,
       "nrows": null,
       "postfix": null,
       "prefix": "",
       "rate": null,
       "total": 12,
       "unit": "it",
       "unit_divisor": 1000,
       "unit_scale": false
      },
      "application/vnd.jupyter.widget-view+json": {
       "model_id": "ffe0e36a5d674c92ad96f7607eecf244",
       "version_major": 2,
       "version_minor": 0
      },
      "text/plain": [
       "  0%|          | 0/12 [00:00<?, ?it/s]"
      ]
     },
     "metadata": {},
     "output_type": "display_data"
    },
    {
     "name": "stdout",
     "output_type": "stream",
     "text": [
      "[ Train | 006/100 ] loss = 0.23568, acc = 0.93164\n"
     ]
    },
    {
     "data": {
      "application/json": {
       "ascii": false,
       "bar_format": null,
       "colour": null,
       "elapsed": 0.01999664306640625,
       "initial": 0,
       "n": 0,
       "ncols": null,
       "nrows": null,
       "postfix": null,
       "prefix": "",
       "rate": null,
       "total": 3,
       "unit": "it",
       "unit_divisor": 1000,
       "unit_scale": false
      },
      "application/vnd.jupyter.widget-view+json": {
       "model_id": "f5f55d06bd3a4db291da3e9e5f95e60d",
       "version_major": 2,
       "version_minor": 0
      },
      "text/plain": [
       "  0%|          | 0/3 [00:00<?, ?it/s]"
      ]
     },
     "metadata": {},
     "output_type": "display_data"
    },
    {
     "name": "stdout",
     "output_type": "stream",
     "text": [
      "[ Valid | 006/100 ] loss = 0.17719, acc = 0.93790\n",
      "[ Valid | 006/100 ] loss = 0.17719, acc = 0.93790\n"
     ]
    },
    {
     "data": {
      "application/json": {
       "ascii": false,
       "bar_format": null,
       "colour": null,
       "elapsed": 0.02099919319152832,
       "initial": 0,
       "n": 0,
       "ncols": null,
       "nrows": null,
       "postfix": null,
       "prefix": "",
       "rate": null,
       "total": 12,
       "unit": "it",
       "unit_divisor": 1000,
       "unit_scale": false
      },
      "application/vnd.jupyter.widget-view+json": {
       "model_id": "73e61e758ec84aa8910e7a8f5ec3bdef",
       "version_major": 2,
       "version_minor": 0
      },
      "text/plain": [
       "  0%|          | 0/12 [00:00<?, ?it/s]"
      ]
     },
     "metadata": {},
     "output_type": "display_data"
    },
    {
     "name": "stdout",
     "output_type": "stream",
     "text": [
      "[ Train | 007/100 ] loss = 0.19601, acc = 0.92643\n"
     ]
    },
    {
     "data": {
      "application/json": {
       "ascii": false,
       "bar_format": null,
       "colour": null,
       "elapsed": 0.02101278305053711,
       "initial": 0,
       "n": 0,
       "ncols": null,
       "nrows": null,
       "postfix": null,
       "prefix": "",
       "rate": null,
       "total": 3,
       "unit": "it",
       "unit_divisor": 1000,
       "unit_scale": false
      },
      "application/vnd.jupyter.widget-view+json": {
       "model_id": "a3b7046835e3422abe650f1b844961bc",
       "version_major": 2,
       "version_minor": 0
      },
      "text/plain": [
       "  0%|          | 0/3 [00:00<?, ?it/s]"
      ]
     },
     "metadata": {},
     "output_type": "display_data"
    },
    {
     "name": "stdout",
     "output_type": "stream",
     "text": [
      "[ Valid | 007/100 ] loss = 0.24869, acc = 0.88542\n",
      "[ Valid | 007/100 ] loss = 0.24869, acc = 0.88542\n"
     ]
    },
    {
     "data": {
      "application/json": {
       "ascii": false,
       "bar_format": null,
       "colour": null,
       "elapsed": 0.017009496688842773,
       "initial": 0,
       "n": 0,
       "ncols": null,
       "nrows": null,
       "postfix": null,
       "prefix": "",
       "rate": null,
       "total": 12,
       "unit": "it",
       "unit_divisor": 1000,
       "unit_scale": false
      },
      "application/vnd.jupyter.widget-view+json": {
       "model_id": "24f64a2f01c540ff888bf8a26d608168",
       "version_major": 2,
       "version_minor": 0
      },
      "text/plain": [
       "  0%|          | 0/12 [00:00<?, ?it/s]"
      ]
     },
     "metadata": {},
     "output_type": "display_data"
    },
    {
     "name": "stdout",
     "output_type": "stream",
     "text": [
      "[ Train | 008/100 ] loss = 0.17380, acc = 0.93750\n"
     ]
    },
    {
     "data": {
      "application/json": {
       "ascii": false,
       "bar_format": null,
       "colour": null,
       "elapsed": 0.024050235748291016,
       "initial": 0,
       "n": 0,
       "ncols": null,
       "nrows": null,
       "postfix": null,
       "prefix": "",
       "rate": null,
       "total": 3,
       "unit": "it",
       "unit_divisor": 1000,
       "unit_scale": false
      },
      "application/vnd.jupyter.widget-view+json": {
       "model_id": "abb1aa16f4d94e4082d0968e6862555e",
       "version_major": 2,
       "version_minor": 0
      },
      "text/plain": [
       "  0%|          | 0/3 [00:00<?, ?it/s]"
      ]
     },
     "metadata": {},
     "output_type": "display_data"
    },
    {
     "name": "stdout",
     "output_type": "stream",
     "text": [
      "[ Valid | 008/100 ] loss = 0.27219, acc = 0.91967\n",
      "[ Valid | 008/100 ] loss = 0.27219, acc = 0.91967\n"
     ]
    },
    {
     "data": {
      "application/json": {
       "ascii": false,
       "bar_format": null,
       "colour": null,
       "elapsed": 0.019037723541259766,
       "initial": 0,
       "n": 0,
       "ncols": null,
       "nrows": null,
       "postfix": null,
       "prefix": "",
       "rate": null,
       "total": 12,
       "unit": "it",
       "unit_divisor": 1000,
       "unit_scale": false
      },
      "application/vnd.jupyter.widget-view+json": {
       "model_id": "e7b95d93a7ea47eaa81b221552bcf6d7",
       "version_major": 2,
       "version_minor": 0
      },
      "text/plain": [
       "  0%|          | 0/12 [00:00<?, ?it/s]"
      ]
     },
     "metadata": {},
     "output_type": "display_data"
    },
    {
     "name": "stdout",
     "output_type": "stream",
     "text": [
      "[ Train | 009/100 ] loss = 0.19893, acc = 0.92448\n"
     ]
    },
    {
     "data": {
      "application/json": {
       "ascii": false,
       "bar_format": null,
       "colour": null,
       "elapsed": 0.021030426025390625,
       "initial": 0,
       "n": 0,
       "ncols": null,
       "nrows": null,
       "postfix": null,
       "prefix": "",
       "rate": null,
       "total": 3,
       "unit": "it",
       "unit_divisor": 1000,
       "unit_scale": false
      },
      "application/vnd.jupyter.widget-view+json": {
       "model_id": "ab8a4f00993d4f7a8dd024614708a56f",
       "version_major": 2,
       "version_minor": 0
      },
      "text/plain": [
       "  0%|          | 0/3 [00:00<?, ?it/s]"
      ]
     },
     "metadata": {},
     "output_type": "display_data"
    },
    {
     "name": "stdout",
     "output_type": "stream",
     "text": [
      "[ Valid | 009/100 ] loss = 0.26836, acc = 0.88742\n",
      "[ Valid | 009/100 ] loss = 0.26836, acc = 0.88742\n"
     ]
    },
    {
     "data": {
      "application/json": {
       "ascii": false,
       "bar_format": null,
       "colour": null,
       "elapsed": 0.01896977424621582,
       "initial": 0,
       "n": 0,
       "ncols": null,
       "nrows": null,
       "postfix": null,
       "prefix": "",
       "rate": null,
       "total": 12,
       "unit": "it",
       "unit_divisor": 1000,
       "unit_scale": false
      },
      "application/vnd.jupyter.widget-view+json": {
       "model_id": "48f0803ab8754b9faef9d2b9846889f7",
       "version_major": 2,
       "version_minor": 0
      },
      "text/plain": [
       "  0%|          | 0/12 [00:00<?, ?it/s]"
      ]
     },
     "metadata": {},
     "output_type": "display_data"
    },
    {
     "name": "stdout",
     "output_type": "stream",
     "text": [
      "[ Train | 010/100 ] loss = 0.16829, acc = 0.94466\n"
     ]
    },
    {
     "data": {
      "application/json": {
       "ascii": false,
       "bar_format": null,
       "colour": null,
       "elapsed": 0.01803898811340332,
       "initial": 0,
       "n": 0,
       "ncols": null,
       "nrows": null,
       "postfix": null,
       "prefix": "",
       "rate": null,
       "total": 3,
       "unit": "it",
       "unit_divisor": 1000,
       "unit_scale": false
      },
      "application/vnd.jupyter.widget-view+json": {
       "model_id": "c019c672c0c448baa65d31acea68e637",
       "version_major": 2,
       "version_minor": 0
      },
      "text/plain": [
       "  0%|          | 0/3 [00:00<?, ?it/s]"
      ]
     },
     "metadata": {},
     "output_type": "display_data"
    },
    {
     "name": "stdout",
     "output_type": "stream",
     "text": [
      "[ Valid | 010/100 ] loss = 0.31266, acc = 0.90765\n",
      "[ Valid | 010/100 ] loss = 0.31266, acc = 0.90765\n"
     ]
    },
    {
     "data": {
      "application/json": {
       "ascii": false,
       "bar_format": null,
       "colour": null,
       "elapsed": 0.02299809455871582,
       "initial": 0,
       "n": 0,
       "ncols": null,
       "nrows": null,
       "postfix": null,
       "prefix": "",
       "rate": null,
       "total": 12,
       "unit": "it",
       "unit_divisor": 1000,
       "unit_scale": false
      },
      "application/vnd.jupyter.widget-view+json": {
       "model_id": "aea6d36b2d154c8c9c90747b7f44249f",
       "version_major": 2,
       "version_minor": 0
      },
      "text/plain": [
       "  0%|          | 0/12 [00:00<?, ?it/s]"
      ]
     },
     "metadata": {},
     "output_type": "display_data"
    },
    {
     "name": "stdout",
     "output_type": "stream",
     "text": [
      "[ Train | 011/100 ] loss = 0.16890, acc = 0.94206\n"
     ]
    },
    {
     "data": {
      "application/json": {
       "ascii": false,
       "bar_format": null,
       "colour": null,
       "elapsed": 0.023037195205688477,
       "initial": 0,
       "n": 0,
       "ncols": null,
       "nrows": null,
       "postfix": null,
       "prefix": "",
       "rate": null,
       "total": 3,
       "unit": "it",
       "unit_divisor": 1000,
       "unit_scale": false
      },
      "application/vnd.jupyter.widget-view+json": {
       "model_id": "fdda9d773d1f4a18b80d1e03babe677f",
       "version_major": 2,
       "version_minor": 0
      },
      "text/plain": [
       "  0%|          | 0/3 [00:00<?, ?it/s]"
      ]
     },
     "metadata": {},
     "output_type": "display_data"
    },
    {
     "name": "stdout",
     "output_type": "stream",
     "text": [
      "[ Valid | 011/100 ] loss = 0.26207, acc = 0.90745\n",
      "[ Valid | 011/100 ] loss = 0.26207, acc = 0.90745\n"
     ]
    },
    {
     "data": {
      "application/json": {
       "ascii": false,
       "bar_format": null,
       "colour": null,
       "elapsed": 0.021999835968017578,
       "initial": 0,
       "n": 0,
       "ncols": null,
       "nrows": null,
       "postfix": null,
       "prefix": "",
       "rate": null,
       "total": 12,
       "unit": "it",
       "unit_divisor": 1000,
       "unit_scale": false
      },
      "application/vnd.jupyter.widget-view+json": {
       "model_id": "38d4c55f3b914f3ea30b2e53cdeadb9d",
       "version_major": 2,
       "version_minor": 0
      },
      "text/plain": [
       "  0%|          | 0/12 [00:00<?, ?it/s]"
      ]
     },
     "metadata": {},
     "output_type": "display_data"
    },
    {
     "name": "stdout",
     "output_type": "stream",
     "text": [
      "[ Train | 012/100 ] loss = 0.17147, acc = 0.92969\n"
     ]
    },
    {
     "data": {
      "application/json": {
       "ascii": false,
       "bar_format": null,
       "colour": null,
       "elapsed": 0.02500605583190918,
       "initial": 0,
       "n": 0,
       "ncols": null,
       "nrows": null,
       "postfix": null,
       "prefix": "",
       "rate": null,
       "total": 3,
       "unit": "it",
       "unit_divisor": 1000,
       "unit_scale": false
      },
      "application/vnd.jupyter.widget-view+json": {
       "model_id": "bdfe59cb93e744c8aedaa691e28a226b",
       "version_major": 2,
       "version_minor": 0
      },
      "text/plain": [
       "  0%|          | 0/3 [00:00<?, ?it/s]"
      ]
     },
     "metadata": {},
     "output_type": "display_data"
    },
    {
     "name": "stdout",
     "output_type": "stream",
     "text": [
      "[ Valid | 012/100 ] loss = 0.17807, acc = 0.94351\n",
      "[ Valid | 012/100 ] loss = 0.17807, acc = 0.94351\n"
     ]
    },
    {
     "data": {
      "application/json": {
       "ascii": false,
       "bar_format": null,
       "colour": null,
       "elapsed": 0.022007226943969727,
       "initial": 0,
       "n": 0,
       "ncols": null,
       "nrows": null,
       "postfix": null,
       "prefix": "",
       "rate": null,
       "total": 12,
       "unit": "it",
       "unit_divisor": 1000,
       "unit_scale": false
      },
      "application/vnd.jupyter.widget-view+json": {
       "model_id": "cbb2456dcc2447f89d2c7da232ed2a69",
       "version_major": 2,
       "version_minor": 0
      },
      "text/plain": [
       "  0%|          | 0/12 [00:00<?, ?it/s]"
      ]
     },
     "metadata": {},
     "output_type": "display_data"
    },
    {
     "name": "stdout",
     "output_type": "stream",
     "text": [
      "[ Train | 013/100 ] loss = 0.14628, acc = 0.94857\n"
     ]
    },
    {
     "data": {
      "application/json": {
       "ascii": false,
       "bar_format": null,
       "colour": null,
       "elapsed": 0.02198505401611328,
       "initial": 0,
       "n": 0,
       "ncols": null,
       "nrows": null,
       "postfix": null,
       "prefix": "",
       "rate": null,
       "total": 3,
       "unit": "it",
       "unit_divisor": 1000,
       "unit_scale": false
      },
      "application/vnd.jupyter.widget-view+json": {
       "model_id": "d09b25e488e845f6b8bb61b7a4997c0c",
       "version_major": 2,
       "version_minor": 0
      },
      "text/plain": [
       "  0%|          | 0/3 [00:00<?, ?it/s]"
      ]
     },
     "metadata": {},
     "output_type": "display_data"
    },
    {
     "name": "stdout",
     "output_type": "stream",
     "text": [
      "[ Valid | 013/100 ] loss = 0.61593, acc = 0.80469\n",
      "[ Valid | 013/100 ] loss = 0.61593, acc = 0.80469\n"
     ]
    },
    {
     "data": {
      "application/json": {
       "ascii": false,
       "bar_format": null,
       "colour": null,
       "elapsed": 0.024011611938476562,
       "initial": 0,
       "n": 0,
       "ncols": null,
       "nrows": null,
       "postfix": null,
       "prefix": "",
       "rate": null,
       "total": 12,
       "unit": "it",
       "unit_divisor": 1000,
       "unit_scale": false
      },
      "application/vnd.jupyter.widget-view+json": {
       "model_id": "16ef0e1e18c74e339b7bb89839bd0a58",
       "version_major": 2,
       "version_minor": 0
      },
      "text/plain": [
       "  0%|          | 0/12 [00:00<?, ?it/s]"
      ]
     },
     "metadata": {},
     "output_type": "display_data"
    },
    {
     "name": "stdout",
     "output_type": "stream",
     "text": [
      "[ Train | 014/100 ] loss = 0.15054, acc = 0.94401\n"
     ]
    },
    {
     "data": {
      "application/json": {
       "ascii": false,
       "bar_format": null,
       "colour": null,
       "elapsed": 0.0209963321685791,
       "initial": 0,
       "n": 0,
       "ncols": null,
       "nrows": null,
       "postfix": null,
       "prefix": "",
       "rate": null,
       "total": 3,
       "unit": "it",
       "unit_divisor": 1000,
       "unit_scale": false
      },
      "application/vnd.jupyter.widget-view+json": {
       "model_id": "8a8e14ba66174f14a2abd60cc6a1d568",
       "version_major": 2,
       "version_minor": 0
      },
      "text/plain": [
       "  0%|          | 0/3 [00:00<?, ?it/s]"
      ]
     },
     "metadata": {},
     "output_type": "display_data"
    },
    {
     "name": "stdout",
     "output_type": "stream",
     "text": [
      "[ Valid | 014/100 ] loss = 0.22643, acc = 0.91126\n",
      "[ Valid | 014/100 ] loss = 0.22643, acc = 0.91126\n"
     ]
    },
    {
     "data": {
      "application/json": {
       "ascii": false,
       "bar_format": null,
       "colour": null,
       "elapsed": 0.02400064468383789,
       "initial": 0,
       "n": 0,
       "ncols": null,
       "nrows": null,
       "postfix": null,
       "prefix": "",
       "rate": null,
       "total": 12,
       "unit": "it",
       "unit_divisor": 1000,
       "unit_scale": false
      },
      "application/vnd.jupyter.widget-view+json": {
       "model_id": "e4f3c190b6b94c4786bf7f5cc5cdd82d",
       "version_major": 2,
       "version_minor": 0
      },
      "text/plain": [
       "  0%|          | 0/12 [00:00<?, ?it/s]"
      ]
     },
     "metadata": {},
     "output_type": "display_data"
    },
    {
     "name": "stdout",
     "output_type": "stream",
     "text": [
      "[ Train | 015/100 ] loss = 0.14198, acc = 0.94922\n"
     ]
    },
    {
     "data": {
      "application/json": {
       "ascii": false,
       "bar_format": null,
       "colour": null,
       "elapsed": 0.02701568603515625,
       "initial": 0,
       "n": 0,
       "ncols": null,
       "nrows": null,
       "postfix": null,
       "prefix": "",
       "rate": null,
       "total": 3,
       "unit": "it",
       "unit_divisor": 1000,
       "unit_scale": false
      },
      "application/vnd.jupyter.widget-view+json": {
       "model_id": "9143219195db427b87230413e954a2e3",
       "version_major": 2,
       "version_minor": 0
      },
      "text/plain": [
       "  0%|          | 0/3 [00:00<?, ?it/s]"
      ]
     },
     "metadata": {},
     "output_type": "display_data"
    },
    {
     "name": "stdout",
     "output_type": "stream",
     "text": [
      "[ Valid | 015/100 ] loss = 0.57773, acc = 0.81490\n",
      "[ Valid | 015/100 ] loss = 0.57773, acc = 0.81490\n"
     ]
    },
    {
     "data": {
      "application/json": {
       "ascii": false,
       "bar_format": null,
       "colour": null,
       "elapsed": 0.023000478744506836,
       "initial": 0,
       "n": 0,
       "ncols": null,
       "nrows": null,
       "postfix": null,
       "prefix": "",
       "rate": null,
       "total": 12,
       "unit": "it",
       "unit_divisor": 1000,
       "unit_scale": false
      },
      "application/vnd.jupyter.widget-view+json": {
       "model_id": "615abf141e2f4fcfb8127bbbf22a6007",
       "version_major": 2,
       "version_minor": 0
      },
      "text/plain": [
       "  0%|          | 0/12 [00:00<?, ?it/s]"
      ]
     },
     "metadata": {},
     "output_type": "display_data"
    },
    {
     "name": "stdout",
     "output_type": "stream",
     "text": [
      "[ Train | 016/100 ] loss = 0.15528, acc = 0.94141\n"
     ]
    },
    {
     "data": {
      "application/json": {
       "ascii": false,
       "bar_format": null,
       "colour": null,
       "elapsed": 0.021025419235229492,
       "initial": 0,
       "n": 0,
       "ncols": null,
       "nrows": null,
       "postfix": null,
       "prefix": "",
       "rate": null,
       "total": 3,
       "unit": "it",
       "unit_divisor": 1000,
       "unit_scale": false
      },
      "application/vnd.jupyter.widget-view+json": {
       "model_id": "d9a3da1e348549a8a82297ac0febbeef",
       "version_major": 2,
       "version_minor": 0
      },
      "text/plain": [
       "  0%|          | 0/3 [00:00<?, ?it/s]"
      ]
     },
     "metadata": {},
     "output_type": "display_data"
    },
    {
     "name": "stdout",
     "output_type": "stream",
     "text": [
      "[ Valid | 016/100 ] loss = 0.25021, acc = 0.90024\n",
      "[ Valid | 016/100 ] loss = 0.25021, acc = 0.90024\n",
      "No improvment 10 consecutive epochs, early stopping\n"
     ]
    },
    {
     "data": {
      "application/json": {
       "ascii": false,
       "bar_format": null,
       "colour": null,
       "elapsed": 0.025010108947753906,
       "initial": 0,
       "n": 0,
       "ncols": null,
       "nrows": null,
       "postfix": null,
       "prefix": "",
       "rate": null,
       "total": 12,
       "unit": "it",
       "unit_divisor": 1000,
       "unit_scale": false
      },
      "application/vnd.jupyter.widget-view+json": {
       "model_id": "6571168d0d384e6fbe235ab107a9864f",
       "version_major": 2,
       "version_minor": 0
      },
      "text/plain": [
       "  0%|          | 0/12 [00:00<?, ?it/s]"
      ]
     },
     "metadata": {},
     "output_type": "display_data"
    },
    {
     "name": "stdout",
     "output_type": "stream",
     "text": [
      "[ Train | 001/100 ] loss = 0.14966, acc = 0.94596\n"
     ]
    },
    {
     "data": {
      "application/json": {
       "ascii": false,
       "bar_format": null,
       "colour": null,
       "elapsed": 0.018000364303588867,
       "initial": 0,
       "n": 0,
       "ncols": null,
       "nrows": null,
       "postfix": null,
       "prefix": "",
       "rate": null,
       "total": 3,
       "unit": "it",
       "unit_divisor": 1000,
       "unit_scale": false
      },
      "application/vnd.jupyter.widget-view+json": {
       "model_id": "05c14366364c428e8e40e951aaea3932",
       "version_major": 2,
       "version_minor": 0
      },
      "text/plain": [
       "  0%|          | 0/3 [00:00<?, ?it/s]"
      ]
     },
     "metadata": {},
     "output_type": "display_data"
    },
    {
     "name": "stdout",
     "output_type": "stream",
     "text": [
      "[ Valid | 001/100 ] loss = 0.17969, acc = 0.94171\n",
      "[ Valid | 001/100 ] loss = 0.17969, acc = 0.94171\n",
      "No improvment 10 consecutive epochs, early stopping\n"
     ]
    },
    {
     "data": {
      "application/json": {
       "ascii": false,
       "bar_format": null,
       "colour": null,
       "elapsed": 0.020000696182250977,
       "initial": 0,
       "n": 0,
       "ncols": null,
       "nrows": null,
       "postfix": null,
       "prefix": "",
       "rate": null,
       "total": 12,
       "unit": "it",
       "unit_divisor": 1000,
       "unit_scale": false
      },
      "application/vnd.jupyter.widget-view+json": {
       "model_id": "23115e5d73b54931904536f0a1790cd4",
       "version_major": 2,
       "version_minor": 0
      },
      "text/plain": [
       "  0%|          | 0/12 [00:00<?, ?it/s]"
      ]
     },
     "metadata": {},
     "output_type": "display_data"
    },
    {
     "name": "stdout",
     "output_type": "stream",
     "text": [
      "[ Train | 001/100 ] loss = 0.11835, acc = 0.96159\n"
     ]
    },
    {
     "data": {
      "application/json": {
       "ascii": false,
       "bar_format": null,
       "colour": null,
       "elapsed": 0.09099626541137695,
       "initial": 0,
       "n": 0,
       "ncols": null,
       "nrows": null,
       "postfix": null,
       "prefix": "",
       "rate": null,
       "total": 3,
       "unit": "it",
       "unit_divisor": 1000,
       "unit_scale": false
      },
      "application/vnd.jupyter.widget-view+json": {
       "model_id": "7dc8552ecdec4f01a2857ef6fedd65a1",
       "version_major": 2,
       "version_minor": 0
      },
      "text/plain": [
       "  0%|          | 0/3 [00:00<?, ?it/s]"
      ]
     },
     "metadata": {},
     "output_type": "display_data"
    },
    {
     "name": "stdout",
     "output_type": "stream",
     "text": [
      "[ Valid | 001/100 ] loss = 0.14767, acc = 0.95333\n",
      "[ Valid | 001/100 ] loss = 0.14767, acc = 0.95333 -> best\n",
      "Best model found at epoch 0, saving model\n"
     ]
    },
    {
     "data": {
      "application/json": {
       "ascii": false,
       "bar_format": null,
       "colour": null,
       "elapsed": 0.02699589729309082,
       "initial": 0,
       "n": 0,
       "ncols": null,
       "nrows": null,
       "postfix": null,
       "prefix": "",
       "rate": null,
       "total": 12,
       "unit": "it",
       "unit_divisor": 1000,
       "unit_scale": false
      },
      "application/vnd.jupyter.widget-view+json": {
       "model_id": "d49cac184a404ad1864fdb85bc55a097",
       "version_major": 2,
       "version_minor": 0
      },
      "text/plain": [
       "  0%|          | 0/12 [00:00<?, ?it/s]"
      ]
     },
     "metadata": {},
     "output_type": "display_data"
    },
    {
     "name": "stdout",
     "output_type": "stream",
     "text": [
      "[ Train | 002/100 ] loss = 0.11574, acc = 0.95573\n"
     ]
    },
    {
     "data": {
      "application/json": {
       "ascii": false,
       "bar_format": null,
       "colour": null,
       "elapsed": 0.026000499725341797,
       "initial": 0,
       "n": 0,
       "ncols": null,
       "nrows": null,
       "postfix": null,
       "prefix": "",
       "rate": null,
       "total": 3,
       "unit": "it",
       "unit_divisor": 1000,
       "unit_scale": false
      },
      "application/vnd.jupyter.widget-view+json": {
       "model_id": "4bd1f7f819384123987783d2aa3c9f5f",
       "version_major": 2,
       "version_minor": 0
      },
      "text/plain": [
       "  0%|          | 0/3 [00:00<?, ?it/s]"
      ]
     },
     "metadata": {},
     "output_type": "display_data"
    },
    {
     "name": "stdout",
     "output_type": "stream",
     "text": [
      "[ Valid | 002/100 ] loss = 0.36589, acc = 0.86078\n",
      "[ Valid | 002/100 ] loss = 0.36589, acc = 0.86078\n"
     ]
    },
    {
     "data": {
      "application/json": {
       "ascii": false,
       "bar_format": null,
       "colour": null,
       "elapsed": 0.02299785614013672,
       "initial": 0,
       "n": 0,
       "ncols": null,
       "nrows": null,
       "postfix": null,
       "prefix": "",
       "rate": null,
       "total": 12,
       "unit": "it",
       "unit_divisor": 1000,
       "unit_scale": false
      },
      "application/vnd.jupyter.widget-view+json": {
       "model_id": "554622e248144205b0b34809edfa95bf",
       "version_major": 2,
       "version_minor": 0
      },
      "text/plain": [
       "  0%|          | 0/12 [00:00<?, ?it/s]"
      ]
     },
     "metadata": {},
     "output_type": "display_data"
    },
    {
     "name": "stdout",
     "output_type": "stream",
     "text": [
      "[ Train | 003/100 ] loss = 0.16085, acc = 0.94401\n"
     ]
    },
    {
     "data": {
      "application/json": {
       "ascii": false,
       "bar_format": null,
       "colour": null,
       "elapsed": 0.02999114990234375,
       "initial": 0,
       "n": 0,
       "ncols": null,
       "nrows": null,
       "postfix": null,
       "prefix": "",
       "rate": null,
       "total": 3,
       "unit": "it",
       "unit_divisor": 1000,
       "unit_scale": false
      },
      "application/vnd.jupyter.widget-view+json": {
       "model_id": "f900218a47124083a091565bebdcea32",
       "version_major": 2,
       "version_minor": 0
      },
      "text/plain": [
       "  0%|          | 0/3 [00:00<?, ?it/s]"
      ]
     },
     "metadata": {},
     "output_type": "display_data"
    },
    {
     "name": "stdout",
     "output_type": "stream",
     "text": [
      "[ Valid | 003/100 ] loss = 0.22944, acc = 0.93129\n",
      "[ Valid | 003/100 ] loss = 0.22944, acc = 0.93129\n"
     ]
    },
    {
     "data": {
      "application/json": {
       "ascii": false,
       "bar_format": null,
       "colour": null,
       "elapsed": 0.025992155075073242,
       "initial": 0,
       "n": 0,
       "ncols": null,
       "nrows": null,
       "postfix": null,
       "prefix": "",
       "rate": null,
       "total": 12,
       "unit": "it",
       "unit_divisor": 1000,
       "unit_scale": false
      },
      "application/vnd.jupyter.widget-view+json": {
       "model_id": "415d882f249f4c2ba345d6137271e679",
       "version_major": 2,
       "version_minor": 0
      },
      "text/plain": [
       "  0%|          | 0/12 [00:00<?, ?it/s]"
      ]
     },
     "metadata": {},
     "output_type": "display_data"
    },
    {
     "name": "stdout",
     "output_type": "stream",
     "text": [
      "[ Train | 004/100 ] loss = 0.18172, acc = 0.92904\n"
     ]
    },
    {
     "data": {
      "application/json": {
       "ascii": false,
       "bar_format": null,
       "colour": null,
       "elapsed": 0.02398395538330078,
       "initial": 0,
       "n": 0,
       "ncols": null,
       "nrows": null,
       "postfix": null,
       "prefix": "",
       "rate": null,
       "total": 3,
       "unit": "it",
       "unit_divisor": 1000,
       "unit_scale": false
      },
      "application/vnd.jupyter.widget-view+json": {
       "model_id": "d9977da36bd14d8793ead5a50931bbfc",
       "version_major": 2,
       "version_minor": 0
      },
      "text/plain": [
       "  0%|          | 0/3 [00:00<?, ?it/s]"
      ]
     },
     "metadata": {},
     "output_type": "display_data"
    },
    {
     "name": "stdout",
     "output_type": "stream",
     "text": [
      "[ Valid | 004/100 ] loss = 0.81898, acc = 0.78425\n",
      "[ Valid | 004/100 ] loss = 0.81898, acc = 0.78425\n"
     ]
    },
    {
     "data": {
      "application/json": {
       "ascii": false,
       "bar_format": null,
       "colour": null,
       "elapsed": 0.022997617721557617,
       "initial": 0,
       "n": 0,
       "ncols": null,
       "nrows": null,
       "postfix": null,
       "prefix": "",
       "rate": null,
       "total": 12,
       "unit": "it",
       "unit_divisor": 1000,
       "unit_scale": false
      },
      "application/vnd.jupyter.widget-view+json": {
       "model_id": "9d3282bd84fd47b897466f12bbfa453a",
       "version_major": 2,
       "version_minor": 0
      },
      "text/plain": [
       "  0%|          | 0/12 [00:00<?, ?it/s]"
      ]
     },
     "metadata": {},
     "output_type": "display_data"
    },
    {
     "name": "stdout",
     "output_type": "stream",
     "text": [
      "[ Train | 005/100 ] loss = 0.14336, acc = 0.94596\n"
     ]
    },
    {
     "data": {
      "application/json": {
       "ascii": false,
       "bar_format": null,
       "colour": null,
       "elapsed": 0.03901529312133789,
       "initial": 0,
       "n": 0,
       "ncols": null,
       "nrows": null,
       "postfix": null,
       "prefix": "",
       "rate": null,
       "total": 3,
       "unit": "it",
       "unit_divisor": 1000,
       "unit_scale": false
      },
      "application/vnd.jupyter.widget-view+json": {
       "model_id": "e5409dc1d08f4272bf041552ed4ca7cc",
       "version_major": 2,
       "version_minor": 0
      },
      "text/plain": [
       "  0%|          | 0/3 [00:00<?, ?it/s]"
      ]
     },
     "metadata": {},
     "output_type": "display_data"
    },
    {
     "name": "stdout",
     "output_type": "stream",
     "text": [
      "[ Valid | 005/100 ] loss = 0.25537, acc = 0.91707\n",
      "[ Valid | 005/100 ] loss = 0.25537, acc = 0.91707\n"
     ]
    },
    {
     "data": {
      "application/json": {
       "ascii": false,
       "bar_format": null,
       "colour": null,
       "elapsed": 0.021021366119384766,
       "initial": 0,
       "n": 0,
       "ncols": null,
       "nrows": null,
       "postfix": null,
       "prefix": "",
       "rate": null,
       "total": 12,
       "unit": "it",
       "unit_divisor": 1000,
       "unit_scale": false
      },
      "application/vnd.jupyter.widget-view+json": {
       "model_id": "82036e548d1a40fea08184c017d208a6",
       "version_major": 2,
       "version_minor": 0
      },
      "text/plain": [
       "  0%|          | 0/12 [00:00<?, ?it/s]"
      ]
     },
     "metadata": {},
     "output_type": "display_data"
    },
    {
     "name": "stdout",
     "output_type": "stream",
     "text": [
      "[ Train | 006/100 ] loss = 0.14057, acc = 0.95247\n"
     ]
    },
    {
     "data": {
      "application/json": {
       "ascii": false,
       "bar_format": null,
       "colour": null,
       "elapsed": 0.026021242141723633,
       "initial": 0,
       "n": 0,
       "ncols": null,
       "nrows": null,
       "postfix": null,
       "prefix": "",
       "rate": null,
       "total": 3,
       "unit": "it",
       "unit_divisor": 1000,
       "unit_scale": false
      },
      "application/vnd.jupyter.widget-view+json": {
       "model_id": "7fff129d97fa43db952da7147c5f60ef",
       "version_major": 2,
       "version_minor": 0
      },
      "text/plain": [
       "  0%|          | 0/3 [00:00<?, ?it/s]"
      ]
     },
     "metadata": {},
     "output_type": "display_data"
    },
    {
     "name": "stdout",
     "output_type": "stream",
     "text": [
      "[ Valid | 006/100 ] loss = 0.47570, acc = 0.83814\n",
      "[ Valid | 006/100 ] loss = 0.47570, acc = 0.83814\n"
     ]
    },
    {
     "data": {
      "application/json": {
       "ascii": false,
       "bar_format": null,
       "colour": null,
       "elapsed": 0.02601456642150879,
       "initial": 0,
       "n": 0,
       "ncols": null,
       "nrows": null,
       "postfix": null,
       "prefix": "",
       "rate": null,
       "total": 12,
       "unit": "it",
       "unit_divisor": 1000,
       "unit_scale": false
      },
      "application/vnd.jupyter.widget-view+json": {
       "model_id": "370f1100106940039e36003358afdef4",
       "version_major": 2,
       "version_minor": 0
      },
      "text/plain": [
       "  0%|          | 0/12 [00:00<?, ?it/s]"
      ]
     },
     "metadata": {},
     "output_type": "display_data"
    },
    {
     "name": "stdout",
     "output_type": "stream",
     "text": [
      "[ Train | 007/100 ] loss = 0.12885, acc = 0.95898\n"
     ]
    },
    {
     "data": {
      "application/json": {
       "ascii": false,
       "bar_format": null,
       "colour": null,
       "elapsed": 0.021996736526489258,
       "initial": 0,
       "n": 0,
       "ncols": null,
       "nrows": null,
       "postfix": null,
       "prefix": "",
       "rate": null,
       "total": 3,
       "unit": "it",
       "unit_divisor": 1000,
       "unit_scale": false
      },
      "application/vnd.jupyter.widget-view+json": {
       "model_id": "b20d31fa582f423f9d5c65721298f578",
       "version_major": 2,
       "version_minor": 0
      },
      "text/plain": [
       "  0%|          | 0/3 [00:00<?, ?it/s]"
      ]
     },
     "metadata": {},
     "output_type": "display_data"
    },
    {
     "name": "stdout",
     "output_type": "stream",
     "text": [
      "[ Valid | 007/100 ] loss = 0.39835, acc = 0.87320\n",
      "[ Valid | 007/100 ] loss = 0.39835, acc = 0.87320\n"
     ]
    },
    {
     "data": {
      "application/json": {
       "ascii": false,
       "bar_format": null,
       "colour": null,
       "elapsed": 0.06100177764892578,
       "initial": 0,
       "n": 0,
       "ncols": null,
       "nrows": null,
       "postfix": null,
       "prefix": "",
       "rate": null,
       "total": 12,
       "unit": "it",
       "unit_divisor": 1000,
       "unit_scale": false
      },
      "application/vnd.jupyter.widget-view+json": {
       "model_id": "f46dd3074bae465ab08fd5e1397d0afe",
       "version_major": 2,
       "version_minor": 0
      },
      "text/plain": [
       "  0%|          | 0/12 [00:00<?, ?it/s]"
      ]
     },
     "metadata": {},
     "output_type": "display_data"
    },
    {
     "name": "stdout",
     "output_type": "stream",
     "text": [
      "[ Train | 008/100 ] loss = 0.11335, acc = 0.95573\n"
     ]
    },
    {
     "data": {
      "application/json": {
       "ascii": false,
       "bar_format": null,
       "colour": null,
       "elapsed": 0.022998571395874023,
       "initial": 0,
       "n": 0,
       "ncols": null,
       "nrows": null,
       "postfix": null,
       "prefix": "",
       "rate": null,
       "total": 3,
       "unit": "it",
       "unit_divisor": 1000,
       "unit_scale": false
      },
      "application/vnd.jupyter.widget-view+json": {
       "model_id": "416450191aaf4436b91ccb49751085e2",
       "version_major": 2,
       "version_minor": 0
      },
      "text/plain": [
       "  0%|          | 0/3 [00:00<?, ?it/s]"
      ]
     },
     "metadata": {},
     "output_type": "display_data"
    },
    {
     "name": "stdout",
     "output_type": "stream",
     "text": [
      "[ Valid | 008/100 ] loss = 0.34541, acc = 0.88522\n",
      "[ Valid | 008/100 ] loss = 0.34541, acc = 0.88522\n"
     ]
    },
    {
     "data": {
      "application/json": {
       "ascii": false,
       "bar_format": null,
       "colour": null,
       "elapsed": 0.02104353904724121,
       "initial": 0,
       "n": 0,
       "ncols": null,
       "nrows": null,
       "postfix": null,
       "prefix": "",
       "rate": null,
       "total": 12,
       "unit": "it",
       "unit_divisor": 1000,
       "unit_scale": false
      },
      "application/vnd.jupyter.widget-view+json": {
       "model_id": "bbf04d614aa342d8815fe57fed4613bb",
       "version_major": 2,
       "version_minor": 0
      },
      "text/plain": [
       "  0%|          | 0/12 [00:00<?, ?it/s]"
      ]
     },
     "metadata": {},
     "output_type": "display_data"
    },
    {
     "name": "stdout",
     "output_type": "stream",
     "text": [
      "[ Train | 009/100 ] loss = 0.13471, acc = 0.96094\n"
     ]
    },
    {
     "data": {
      "application/json": {
       "ascii": false,
       "bar_format": null,
       "colour": null,
       "elapsed": 0.03400063514709473,
       "initial": 0,
       "n": 0,
       "ncols": null,
       "nrows": null,
       "postfix": null,
       "prefix": "",
       "rate": null,
       "total": 3,
       "unit": "it",
       "unit_divisor": 1000,
       "unit_scale": false
      },
      "application/vnd.jupyter.widget-view+json": {
       "model_id": "2bacc4142cfb4957bc5cb81d4782fadb",
       "version_major": 2,
       "version_minor": 0
      },
      "text/plain": [
       "  0%|          | 0/3 [00:00<?, ?it/s]"
      ]
     },
     "metadata": {},
     "output_type": "display_data"
    },
    {
     "name": "stdout",
     "output_type": "stream",
     "text": [
      "[ Valid | 009/100 ] loss = 0.21033, acc = 0.93069\n",
      "[ Valid | 009/100 ] loss = 0.21033, acc = 0.93069\n"
     ]
    },
    {
     "data": {
      "application/json": {
       "ascii": false,
       "bar_format": null,
       "colour": null,
       "elapsed": 0.021999597549438477,
       "initial": 0,
       "n": 0,
       "ncols": null,
       "nrows": null,
       "postfix": null,
       "prefix": "",
       "rate": null,
       "total": 12,
       "unit": "it",
       "unit_divisor": 1000,
       "unit_scale": false
      },
      "application/vnd.jupyter.widget-view+json": {
       "model_id": "88c49c926e284b88a547c0f23dd0d435",
       "version_major": 2,
       "version_minor": 0
      },
      "text/plain": [
       "  0%|          | 0/12 [00:00<?, ?it/s]"
      ]
     },
     "metadata": {},
     "output_type": "display_data"
    },
    {
     "name": "stdout",
     "output_type": "stream",
     "text": [
      "[ Train | 010/100 ] loss = 0.12140, acc = 0.96289\n"
     ]
    },
    {
     "data": {
      "application/json": {
       "ascii": false,
       "bar_format": null,
       "colour": null,
       "elapsed": 0.04199576377868652,
       "initial": 0,
       "n": 0,
       "ncols": null,
       "nrows": null,
       "postfix": null,
       "prefix": "",
       "rate": null,
       "total": 3,
       "unit": "it",
       "unit_divisor": 1000,
       "unit_scale": false
      },
      "application/vnd.jupyter.widget-view+json": {
       "model_id": "58cba39f707847ae992fe436477236b2",
       "version_major": 2,
       "version_minor": 0
      },
      "text/plain": [
       "  0%|          | 0/3 [00:00<?, ?it/s]"
      ]
     },
     "metadata": {},
     "output_type": "display_data"
    },
    {
     "name": "stdout",
     "output_type": "stream",
     "text": [
      "[ Valid | 010/100 ] loss = 0.23558, acc = 0.90004\n",
      "[ Valid | 010/100 ] loss = 0.23558, acc = 0.90004\n"
     ]
    },
    {
     "data": {
      "application/json": {
       "ascii": false,
       "bar_format": null,
       "colour": null,
       "elapsed": 0.06799888610839844,
       "initial": 0,
       "n": 0,
       "ncols": null,
       "nrows": null,
       "postfix": null,
       "prefix": "",
       "rate": null,
       "total": 12,
       "unit": "it",
       "unit_divisor": 1000,
       "unit_scale": false
      },
      "application/vnd.jupyter.widget-view+json": {
       "model_id": "c02f992cbf524c77ba4b8f9d3b5e8ed2",
       "version_major": 2,
       "version_minor": 0
      },
      "text/plain": [
       "  0%|          | 0/12 [00:00<?, ?it/s]"
      ]
     },
     "metadata": {},
     "output_type": "display_data"
    },
    {
     "name": "stdout",
     "output_type": "stream",
     "text": [
      "[ Train | 011/100 ] loss = 0.10765, acc = 0.96289\n"
     ]
    },
    {
     "data": {
      "application/json": {
       "ascii": false,
       "bar_format": null,
       "colour": null,
       "elapsed": 0.028001070022583008,
       "initial": 0,
       "n": 0,
       "ncols": null,
       "nrows": null,
       "postfix": null,
       "prefix": "",
       "rate": null,
       "total": 3,
       "unit": "it",
       "unit_divisor": 1000,
       "unit_scale": false
      },
      "application/vnd.jupyter.widget-view+json": {
       "model_id": "7ccf3c1886994ebd898757e842830c22",
       "version_major": 2,
       "version_minor": 0
      },
      "text/plain": [
       "  0%|          | 0/3 [00:00<?, ?it/s]"
      ]
     },
     "metadata": {},
     "output_type": "display_data"
    },
    {
     "name": "stdout",
     "output_type": "stream",
     "text": [
      "[ Valid | 011/100 ] loss = 0.28387, acc = 0.89443\n",
      "[ Valid | 011/100 ] loss = 0.28387, acc = 0.89443\n"
     ]
    },
    {
     "data": {
      "application/json": {
       "ascii": false,
       "bar_format": null,
       "colour": null,
       "elapsed": 0.08099722862243652,
       "initial": 0,
       "n": 0,
       "ncols": null,
       "nrows": null,
       "postfix": null,
       "prefix": "",
       "rate": null,
       "total": 12,
       "unit": "it",
       "unit_divisor": 1000,
       "unit_scale": false
      },
      "application/vnd.jupyter.widget-view+json": {
       "model_id": "0b70333c37e244078ae0b198969f03c8",
       "version_major": 2,
       "version_minor": 0
      },
      "text/plain": [
       "  0%|          | 0/12 [00:00<?, ?it/s]"
      ]
     },
     "metadata": {},
     "output_type": "display_data"
    },
    {
     "name": "stdout",
     "output_type": "stream",
     "text": [
      "[ Train | 012/100 ] loss = 0.07183, acc = 0.97005\n"
     ]
    },
    {
     "data": {
      "application/json": {
       "ascii": false,
       "bar_format": null,
       "colour": null,
       "elapsed": 0.0449981689453125,
       "initial": 0,
       "n": 0,
       "ncols": null,
       "nrows": null,
       "postfix": null,
       "prefix": "",
       "rate": null,
       "total": 3,
       "unit": "it",
       "unit_divisor": 1000,
       "unit_scale": false
      },
      "application/vnd.jupyter.widget-view+json": {
       "model_id": "2e48f76c96c747b28ac6c7f358c0a382",
       "version_major": 2,
       "version_minor": 0
      },
      "text/plain": [
       "  0%|          | 0/3 [00:00<?, ?it/s]"
      ]
     },
     "metadata": {},
     "output_type": "display_data"
    },
    {
     "name": "stdout",
     "output_type": "stream",
     "text": [
      "[ Valid | 012/100 ] loss = 0.19726, acc = 0.94491\n",
      "[ Valid | 012/100 ] loss = 0.19726, acc = 0.94491\n",
      "No improvment 10 consecutive epochs, early stopping\n"
     ]
    }
   ],
   "source": [
    "device = \"cuda\" if torch.cuda.is_available() else \"cpu\"\n",
    "\n",
    "n_epochs = 100\n",
    "patience = 10 #if no imporvement early stop\n",
    "\n",
    "model = Classifier().to(device)\n",
    "\n",
    "criterion = nn.CrossEntropyLoss()\n",
    "\n",
    "optimizer = torch.optim.Adam(model.parameters(), lr = 0.0003, weight_decay= 1e-5)\n",
    "\n",
    "stale = 0\n",
    "best_acc = 0\n",
    "\n",
    "k = 5\n",
    "splits = KFold(n_splits= k, shuffle= True, random_state= 42)\n",
    "\n",
    "for fold, (train_idx, val_idx) in enumerate(splits.split(np.arange(len(dataset)))):\n",
    "    train_sampler = SubsetRandomSampler(train_idx)\n",
    "    val_sampler = SubsetRandomSampler(val_idx)\n",
    "    \n",
    "    train_loader = DataLoader(dataset, batch_size = batch_size, sampler = train_sampler)\n",
    "    val_loader = DataLoader(dataset, batch_size = batch_size, sampler = val_sampler)\n",
    "    \n",
    "    for epoch in range(n_epochs):\n",
    "        model.train()\n",
    "        \n",
    "        train_loss = []\n",
    "        train_acs = []\n",
    "        \n",
    "        for batch in tqdm(train_loader):\n",
    "            \n",
    "            imgs, labels = batch\n",
    "            \n",
    "            logits = model(imgs.to(device))\n",
    "            \n",
    "            loss = criterion(logits, labels.to(device))\n",
    "            \n",
    "            optimizer.zero_grad()\n",
    "            loss.backward()\n",
    "            \n",
    "            grad_norm = nn.utils.clip_grad_norm_(model.parameters(), max_norm= 10)\n",
    "            \n",
    "            optimizer.step()\n",
    "            \n",
    "            acc = (logits.argmax(dim=-1) == labels.to(device)).float().mean()\n",
    "            \n",
    "            train_loss.append(loss.item())\n",
    "            train_acs.append(acc)\n",
    "            \n",
    "        train_loss = sum(train_loss) / len(train_loss)\n",
    "        train_acc = sum(train_acs) / len(train_acs)\n",
    "        \n",
    "         # Print the information.\n",
    "        print(f\"[ Train | {epoch + 1:03d}/{n_epochs:03d} ] loss = {train_loss:.5f}, acc = {train_acc:.5f}\")\n",
    "\n",
    "        # ---------- Validation ----------\n",
    "        # Make sure the model is in eval mode so that some modules like dropout are disabled and work normally.\n",
    "        model.eval()\n",
    "\n",
    "        # These are used to record information in validation.\n",
    "        valid_loss = []\n",
    "        valid_accs = []\n",
    "        \n",
    "        for batch in tqdm(val_loader):\n",
    "            \n",
    "            imgs, labels = batch\n",
    "            \n",
    "            with torch.no_grad():\n",
    "                logits = model(imgs.to(device))\n",
    "\n",
    "            loss = criterion(logits, labels.to(device))\n",
    "    \n",
    "            acc = (logits.argmax(dim=-1) == labels.to(device)).float().mean()\n",
    "\n",
    "            valid_loss.append(loss.item())\n",
    "            valid_accs.append(acc)\n",
    "            \n",
    "        # The average loss and accuracy for entire validation set is the average of the recorded values.\n",
    "        valid_loss = sum(valid_loss) / len(valid_loss)\n",
    "        valid_acc = sum(valid_accs) / len(valid_accs)\n",
    "\n",
    "        # Print the information.\n",
    "        print(f\"[ Valid | {epoch + 1:03d}/{n_epochs:03d} ] loss = {valid_loss:.5f}, acc = {valid_acc:.5f}\")\n",
    "        \n",
    "        # update logs\n",
    "        if valid_acc > best_acc:\n",
    "            with open(f\"./{_exp_name}_log.txt\",\"a\"):\n",
    "                print(f\"[ Valid | {epoch + 1:03d}/{n_epochs:03d} ] loss = {valid_loss:.5f}, acc = {valid_acc:.5f} -> best\")\n",
    "        else:\n",
    "            with open(f\"./{_exp_name}_log.txt\",\"a\"):\n",
    "                print(f\"[ Valid | {epoch + 1:03d}/{n_epochs:03d} ] loss = {valid_loss:.5f}, acc = {valid_acc:.5f}\")\n",
    "\n",
    "        # save models\n",
    "        if valid_acc > best_acc:\n",
    "            print(f\"Best model found at epoch {epoch}, saving model\")\n",
    "            torch.save(model.state_dict(), f\"{_exp_name}_best_.ckpt\") # only save best to prevent output memory exceed error\n",
    "            best_acc = valid_acc\n",
    "            stale = 0\n",
    "        else:\n",
    "            stale += 1\n",
    "            if stale > patience:\n",
    "                print(f\"No improvment {patience} consecutive epochs, early stopping\")\n",
    "                break"
   ]
  },
  {
   "cell_type": "code",
   "execution_count": null,
   "metadata": {},
   "outputs": [],
   "source": []
  },
  {
   "cell_type": "code",
   "execution_count": null,
   "metadata": {},
   "outputs": [],
   "source": [
    "# util functions\n",
    "def plot_confusion_matrix(cm, classes,\n",
    "                          normalize=False,\n",
    "                          title='Confusion matrix',\n",
    "                          cmap=plt.cm.Blues):\n",
    "    \"\"\"\n",
    "    This function prints and plots the confusion matrix.\n",
    "    Normalization can be applied by setting `normalize=True`.\n",
    "    \"\"\"\n",
    "    if normalize:\n",
    "      cm = cm.astype('float') / cm.sum(axis=1)[:, np.newaxis]\n",
    "        # print(\"Normalized confusion matrix\")\n",
    "    else:\n",
    "      pass\n",
    "        # print('Confusion matrix, without normalization')\n",
    "\n",
    "    # print(cm)\n",
    "    plt.figure(figsize=(6, 6))\n",
    "    plt.imshow(cm, interpolation='nearest', cmap=cmap)\n",
    "    plt.title(title)\n",
    "    # plt.colorbar()\n",
    "    tick_marks = np.arange(len(classes))\n",
    "    plt.xticks(tick_marks, classes, rotation=45)\n",
    "    plt.yticks(tick_marks, classes)\n",
    "\n",
    "    fmt = '.2f' if normalize else 'd'\n",
    "    thresh = cm.max() / 2.\n",
    "    for i, j in itertools.product(range(cm.shape[0]), range(cm.shape[1])):\n",
    "        plt.text(j, i, format(cm[i, j], fmt),\n",
    "                 horizontalalignment=\"center\",\n",
    "                 color=\"white\" if cm[i, j] > thresh else \"black\")\n",
    "\n",
    "    plt.ylabel('True label')\n",
    "    plt.xlabel('Predicted label')\n",
    "    plt.tight_layout()"
   ]
  },
  {
   "cell_type": "code",
   "execution_count": null,
   "metadata": {},
   "outputs": [],
   "source": [
    "# from sklearn.metrics import confusion_matrix\n",
    "\n",
    "# classes = ['Stage 501', 'Stage 505', 'Stage 509', 'Stage 601', 'Stage 605', 'Stage 609', 'Stage 701', 'Stage 705', 'Stage 709']\n",
    "\n",
    "# #y_test: Ground Truth\n",
    "# #y_pred: Prediction\n",
    "# matrix = confusion_matrix(y_test, y_pred) \n",
    "# plot_confusion_matrix(matrix, classes=classes, normalize=True)"
   ]
  }
 ],
 "metadata": {
  "kernelspec": {
   "display_name": "Python 3",
   "language": "python",
   "name": "python3"
  },
  "language_info": {
   "codemirror_mode": {
    "name": "ipython",
    "version": 3
   },
   "file_extension": ".py",
   "mimetype": "text/x-python",
   "name": "python",
   "nbconvert_exporter": "python",
   "pygments_lexer": "ipython3",
   "version": "3.10.6"
  },
  "orig_nbformat": 4,
  "vscode": {
   "interpreter": {
    "hash": "107d7b120a5b68773a87d4067e673630b35702e55ebab3138143d08b1c4d7cbc"
   }
  }
 },
 "nbformat": 4,
 "nbformat_minor": 2
}

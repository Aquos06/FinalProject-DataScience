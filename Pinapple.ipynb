{
 "cells": [
  {
   "attachments": {},
   "cell_type": "markdown",
   "metadata": {},
   "source": [
    "<h1><strong>Import Library</strong></h1>"
   ]
  },
  {
   "cell_type": "code",
   "execution_count": 1,
   "metadata": {},
   "outputs": [],
   "source": [
    "import numpy as np\n",
    "import pandas as pd\n",
    "import torch\n",
    "import os\n",
    "import shutil\n",
    "import itertools\n",
    "import torch.nn as nn\n",
    "import torchvision.transforms as transforms\n",
    "from PIL import Image\n",
    "from torch.utils.data import ConcatDataset, DataLoader, Subset, Dataset, SubsetRandomSampler\n",
    "from torchvision.datasets import DatasetFolder, VisionDataset\n",
    "import matplotlib.pyplot as plt\n",
    "\n",
    "from sklearn.model_selection import train_test_split, KFold\n",
    "\n",
    "from tqdm.auto import tqdm\n",
    "import random"
   ]
  },
  {
   "cell_type": "code",
   "execution_count": 2,
   "metadata": {},
   "outputs": [],
   "source": [
    "myseed = 123456 #just a random number\n",
    "_exp_name = \"sample\"\n",
    "torch.backends.cudnn.deterministic = True\n",
    "torch.backends.cudnn.benchmark = False\n",
    "np.random.seed(myseed)\n",
    "torch.manual_seed(myseed)\n",
    "if torch.cuda.is_available():\n",
    "    torch.cuda.manual_seed_all(myseed)"
   ]
  },
  {
   "attachments": {},
   "cell_type": "markdown",
   "metadata": {},
   "source": [
    "<h1><strong>Create Augmentation for the Dataset </strong></h1>"
   ]
  },
  {
   "cell_type": "code",
   "execution_count": 3,
   "metadata": {},
   "outputs": [],
   "source": [
    "validation_tfm = transforms.Compose([\n",
    "    transforms.Resize((128,128)),\n",
    "    transforms.ToTensor()\n",
    "    ])\n",
    "\n",
    "train_tfm = transforms.Compose([\n",
    "    \n",
    "    transforms.Resize((128,128)),\n",
    "    \n",
    "    transforms.ColorJitter(brightness=0.15, saturation=0.15, contrast=0.15),\n",
    "    transforms.RandomAffine(degrees=20, translate=(0.15,0.15), scale=(1,1.2)),\n",
    "    transforms.RandomHorizontalFlip(),\n",
    "    transforms.ToTensor()    \n",
    "])"
   ]
  },
  {
   "attachments": {},
   "cell_type": "markdown",
   "metadata": {},
   "source": [
    "<h1><strong>Dataset Class</strong></h1>"
   ]
  },
  {
   "cell_type": "code",
   "execution_count": 4,
   "metadata": {},
   "outputs": [],
   "source": [
    "class PinappleDataset(Dataset):\n",
    "    def __init__(self,path,tfm,files = None):\n",
    "        super(PinappleDataset).__init__()\n",
    "        self.path = path #path for the dataset \n",
    "        self.files = path\n",
    "        if files!= None:\n",
    "            self.files = files\n",
    "        print(f\"One {path} sample\", self.files[0])\n",
    "        self.transform = tfm #transform or the image augmentation\n",
    "        \n",
    "    def __len__(self):\n",
    "        return len(self.files)\n",
    "    \n",
    "    def __getitem__(self, idx):\n",
    "        fname = self.files[idx]\n",
    "        im = Image.open(fname)\n",
    "        im = self.transform(im)\n",
    "        \n",
    "        label = fname.split(\"/\")[-2]\n",
    "        \n",
    "        if label == \"stage_501\":\n",
    "            return im, 0\n",
    "        elif label == \"stage_505\":\n",
    "            return im, 1\n",
    "        elif label == \"stage_509\":\n",
    "            return im, 2\n",
    "        elif label == \"stage_601\":\n",
    "            return im, 3\n",
    "        elif label == \"stage_605\":\n",
    "            return im, 4\n",
    "        elif label == \"stage_609\":\n",
    "            return im, 5\n",
    "        elif label == \"stage_701\":\n",
    "            return im, 6\n",
    "        elif label == \"stage_705\":\n",
    "            return im, 7\n",
    "        elif label == \"stage_709\":\n",
    "            return im, 8\n",
    "        else:\n",
    "            print(f\"{fname}:No Label\")"
   ]
  },
  {
   "attachments": {},
   "cell_type": "markdown",
   "metadata": {},
   "source": [
    "<h1><strong>CNN</strong></h1>"
   ]
  },
  {
   "cell_type": "code",
   "execution_count": 5,
   "metadata": {},
   "outputs": [],
   "source": [
    "class Classifier(nn.Module):\n",
    "    def __init__(self):\n",
    "        super(Classifier, self).__init__()\n",
    "        # torch.nn.Conv2d(in_channels, out_channels, kernel_size, stride, padding)\n",
    "        # torch.nn.MaxPool2d(kernel_size, stride, padding)\n",
    "        # input 維度 [3, 128, 128]\n",
    "#         (128x8192 and 16384x256)\n",
    "        self.cnn = nn.Sequential(\n",
    "            nn.Conv2d(3, 64, 3, 1, 1),  # [64, 128, 128]\n",
    "            nn.BatchNorm2d(64),\n",
    "            nn.ReLU(),\n",
    "            nn.MaxPool2d(2, 2, 0),      # [64, 64, 64]\n",
    "\n",
    "            nn.Conv2d(64, 128, 3, 1, 1), # [128, 64, 64]\n",
    "            nn.BatchNorm2d(128),\n",
    "            nn.ReLU(),\n",
    "            nn.MaxPool2d(2, 2, 0),      # [128, 32, 32]\n",
    "\n",
    "            nn.Conv2d(128, 256, 3, 1, 1), # [256, 32, 32]\n",
    "            nn.BatchNorm2d(256),\n",
    "            nn.ReLU(),\n",
    "            nn.MaxPool2d(2, 2, 0),      # [256, 16, 16]\n",
    "\n",
    "            nn.Conv2d(256, 512, 3, 1, 1), # [512, 16, 16]\n",
    "            nn.BatchNorm2d(512),\n",
    "            nn.ReLU(),\n",
    "            nn.MaxPool2d(2, 2, 0),       # [512, 8, 8]\n",
    "            \n",
    "            nn.Conv2d(512, 512, 3, 1, 1), # [512, 8, 8]\n",
    "            nn.BatchNorm2d(512),\n",
    "            nn.ReLU(),\n",
    "            nn.MaxPool2d(2, 2, 0),       # [512, 4, 4]\n",
    "        )\n",
    "        self.fc = nn.Sequential(\n",
    "            nn.Linear(128*8*8, 256),\n",
    "            nn.ReLU(),\n",
    "            nn.Linear(256, 256),\n",
    "            nn.ReLU(),\n",
    "            nn.Linear(256, 9) #We have 9 classes \n",
    "        )\n",
    "\n",
    "    def forward(self, x):\n",
    "        out = self.cnn(x)\n",
    "        out = out.view(out.size()[0], -1)\n",
    "        return self.fc(out)"
   ]
  },
  {
   "attachments": {},
   "cell_type": "markdown",
   "metadata": {},
   "source": [
    "<h2>Create DataLoader</h2>"
   ]
  },
  {
   "cell_type": "code",
   "execution_count": 6,
   "metadata": {},
   "outputs": [
    {
     "name": "stdout",
     "output_type": "stream",
     "text": [
      "One ['Pineapple_image/stage_605/DSC_0147.JPG', 'Pineapple_image/stage_709/IMG_4530.JPG', 'Pineapple_image/stage_601/IMG_0551.JPG', 'Pineapple_image/stage_501/IMG_8869.JPG', 'Pineapple_image/stage_505/IMG_20210112_120437.jpg', 'Pineapple_image/stage_501/IMG_3927.JPG', 'Pineapple_image/stage_501/DSC_0507.JPG', 'Pineapple_image/stage_709/IMG_9667.JPG', 'Pineapple_image/stage_509/IMG_0254.JPG', 'Pineapple_image/stage_505/IMG_4472.JPG', 'Pineapple_image/stage_501/IMG_3779.JPG', 'Pineapple_image/stage_705/IMG_9486.JPG', 'Pineapple_image/stage_609/IMG_2777.JPG', 'Pineapple_image/stage_601/IMG_3521.JPG', 'Pineapple_image/stage_609/IMG_5938.JPG', 'Pineapple_image/stage_705/IMG_1315.JPG', 'Pineapple_image/stage_509/IMG_3468.JPG', 'Pineapple_image/stage_509/IMG_0613.JPG', 'Pineapple_image/stage_601/IMG_5616.JPG', 'Pineapple_image/stage_501/IMG_7245.JPG', 'Pineapple_image/stage_705/IMG_0345.JPG', 'Pineapple_image/stage_501/IMG_2082.JPG', 'Pineapple_image/stage_509/IMG_0509.JPG', 'Pineapple_image/stage_505/IMG_8515.JPG', 'Pineapple_image/stage_509/IMG_0848.JPG', 'Pineapple_image/stage_505/IMG_4915.JPG', 'Pineapple_image/stage_701/IMG_7881.JPG', 'Pineapple_image/stage_509/IMG_0514.JPG', 'Pineapple_image/stage_705/IMG_0298.JPG', 'Pineapple_image/stage_601/IMG_0436.JPG', 'Pineapple_image/stage_609/DSC_0653.JPG', 'Pineapple_image/stage_601/DSC_0566.JPG', 'Pineapple_image/stage_609/IMG_6017.JPG', 'Pineapple_image/stage_501/IMG_8876.JPG', 'Pineapple_image/stage_509/IMG_3253.JPG', 'Pineapple_image/stage_701/IMG_6450.JPG', 'Pineapple_image/stage_609/IMG_5821.JPG', 'Pineapple_image/stage_609/IMG_6052.JPG', 'Pineapple_image/stage_501/IMG_3726.JPG', 'Pineapple_image/stage_709/IMG_9602.JPG', 'Pineapple_image/stage_601/IMG_5603.JPG', 'Pineapple_image/stage_501/IMG_3850.JPG', 'Pineapple_image/stage_501/DSC_0561.JPG', 'Pineapple_image/stage_609/IMG_6050.JPG', 'Pineapple_image/stage_709/IMG_4631.JPG', 'Pineapple_image/stage_609/DSC_0642.JPG', 'Pineapple_image/stage_709/IMG_9911.JPG', 'Pineapple_image/stage_505/IMG_4665.JPG', 'Pineapple_image/stage_605/DSC_0281.JPG', 'Pineapple_image/stage_605/IMG_3748.JPG', 'Pineapple_image/stage_701/DSC_0943.JPG', 'Pineapple_image/stage_709/IMG_0139.JPG', 'Pineapple_image/stage_609/IMG_6121.JPG', 'Pineapple_image/stage_601/DSC_0620.JPG', 'Pineapple_image/stage_709/IMG_9940.JPG', 'Pineapple_image/stage_501/IMG_7250.JPG', 'Pineapple_image/stage_509/IMG_0367.JPG', 'Pineapple_image/stage_505/IMG_4642.JPG', 'Pineapple_image/stage_505/IMG_4388.JPG', 'Pineapple_image/stage_701/DSC_0844.JPG', 'Pineapple_image/stage_709/IMG_0070.JPG', 'Pineapple_image/stage_705/IMG_1087.JPG', 'Pineapple_image/stage_709/IMG_4646.JPG', 'Pineapple_image/stage_709/IMG_20210119_155748.jpg', 'Pineapple_image/stage_705/IMG_9121.JPG', 'Pineapple_image/stage_605/DSC_0262.JPG', 'Pineapple_image/stage_709/IMG_4434.JPG', 'Pineapple_image/stage_701/IMG_7564.JPG', 'Pineapple_image/stage_609/IMG_5835.JPG', 'Pineapple_image/stage_505/IMG_4837.JPG', 'Pineapple_image/stage_709/IMG_9976.JPG', 'Pineapple_image/stage_505/IMG_20210112_122400.jpg', 'Pineapple_image/stage_509/IMG_3187.JPG', 'Pineapple_image/stage_505/IMG_4762.JPG', 'Pineapple_image/stage_709/IMG_4634.JPG', 'Pineapple_image/stage_605/IMG_6382.JPG', 'Pineapple_image/stage_701/IMG_7724.JPG', 'Pineapple_image/stage_601/IMG_5556.JPG', 'Pineapple_image/stage_509/IMG_0292.JPG', 'Pineapple_image/stage_509/IMG_3546.JPG', 'Pineapple_image/stage_509/IMG_0853.JPG', 'Pineapple_image/stage_701/IMG_1682.JPG', 'Pineapple_image/stage_701/IMG_1663.JPG', 'Pineapple_image/stage_501/DSC_0531.JPG', 'Pineapple_image/stage_705/IMG_0347.JPG', 'Pineapple_image/stage_505/IMG_4579.JPG', 'Pineapple_image/stage_601/DSC_0576.JPG', 'Pineapple_image/stage_705/IMG_1178.JPG', 'Pineapple_image/stage_705/IMG_1252.JPG', 'Pineapple_image/stage_509/IMG_0780.JPG', 'Pineapple_image/stage_709/IMG_0151.JPG', 'Pineapple_image/stage_609/IMG_2763.JPG', 'Pineapple_image/stage_705/IMG_9074.JPG', 'Pineapple_image/stage_605/DSC_0115.JPG', 'Pineapple_image/stage_709/IMG_4638.JPG', 'Pineapple_image/stage_605/IMG_3224.JPG', 'Pineapple_image/stage_609/IMG_5968.JPG', 'Pineapple_image/stage_505/IMG_8469.JPG', 'Pineapple_image/stage_505/IMG_20210112_121354.jpg', 'Pineapple_image/stage_509/IMG_3139.JPG', 'Pineapple_image/stage_505/IMG_4948.JPG', 'Pineapple_image/stage_609/IMG_6204.JPG', 'Pineapple_image/stage_505/IMG_8460.JPG', 'Pineapple_image/stage_509/IMG_9526.JPG', 'Pineapple_image/stage_605/IMG_6375.JPG', 'Pineapple_image/stage_601/DSC_0386.JPG', 'Pineapple_image/stage_605/DSC_0288.JPG', 'Pineapple_image/stage_601/DSC_0334.JPG', 'Pineapple_image/stage_705/IMG_9317.JPG', 'Pineapple_image/stage_501/IMG_8852.JPG', 'Pineapple_image/stage_505/IMG_4844.JPG', 'Pineapple_image/stage_705/IMG_1069.JPG', 'Pineapple_image/stage_705/IMG_1110.JPG', 'Pineapple_image/stage_601/DSC_0393.JPG', 'Pineapple_image/stage_701/IMG_7822.JPG', 'Pineapple_image/stage_509/IMG_0645.JPG', 'Pineapple_image/stage_705/IMG_1283.JPG', 'Pineapple_image/stage_701/IMG_1654.JPG', 'Pineapple_image/stage_509/IMG_0485.JPG', 'Pineapple_image/stage_605/IMG_3353.JPG', 'Pineapple_image/stage_605/DSC_0140.JPG', 'Pineapple_image/stage_505/IMG_3997.JPG', 'Pineapple_image/stage_501/IMG_8669.JPG', 'Pineapple_image/stage_701/IMG_7683.JPG', 'Pineapple_image/stage_705/IMG_0276.JPG', 'Pineapple_image/stage_701/IMG_7674.JPG', 'Pineapple_image/stage_609/DSC_0670.JPG', 'Pineapple_image/stage_601/IMG_5737.JPG', 'Pineapple_image/stage_609/IMG_2783.JPG', 'Pineapple_image/stage_701/DSC_0931.JPG', 'Pineapple_image/stage_509/IMG_3214.JPG', 'Pineapple_image/stage_705/IMG_0979.JPG', 'Pineapple_image/stage_509/IMG_3220.JPG', 'Pineapple_image/stage_705/IMG_1207.JPG', 'Pineapple_image/stage_609/IMG_2819.JPG', 'Pineapple_image/stage_601/DSC_0417.JPG', 'Pineapple_image/stage_501/IMG_8751.JPG', 'Pineapple_image/stage_609/IMG_6040.JPG', 'Pineapple_image/stage_501/IMG_7162.JPG', 'Pineapple_image/stage_601/DSC_0452.JPG', 'Pineapple_image/stage_609/IMG_2811.JPG', 'Pineapple_image/stage_709/IMG_9948.JPG', 'Pineapple_image/stage_605/IMG_3427.JPG', 'Pineapple_image/stage_605/DSC_1000.JPG', 'Pineapple_image/stage_601/DSC_0435.JPG', 'Pineapple_image/stage_701/IMG_8345.JPG', 'Pineapple_image/stage_709/IMG_4540.JPG', 'Pineapple_image/stage_509/IMG_3417.JPG', 'Pineapple_image/stage_701/IMG_7789.JPG', 'Pineapple_image/stage_505/IMG_3916.JPG', 'Pineapple_image/stage_705/IMG_0320.JPG', 'Pineapple_image/stage_709/IMG_0204.JPG', 'Pineapple_image/stage_505/IMG_3865.JPG', 'Pineapple_image/stage_605/DSC_0271.JPG', 'Pineapple_image/stage_505/IMG_3941.JPG', 'Pineapple_image/stage_601/IMG_3664.JPG', 'Pineapple_image/stage_505/IMG_20210112_120237.jpg', 'Pineapple_image/stage_509/IMG_3395.JPG', 'Pineapple_image/stage_609/DSC_0658.JPG', 'Pineapple_image/stage_709/IMG_9764.JPG', 'Pineapple_image/stage_605/DSC_0029.JPG', 'Pineapple_image/stage_505/IMG_4823.JPG', 'Pineapple_image/stage_605/IMG_3407.JPG', 'Pineapple_image/stage_701/IMG_6627.JPG', 'Pineapple_image/stage_505/IMG_4649.JPG', 'Pineapple_image/stage_609/DSC_0674.JPG', 'Pineapple_image/stage_509/IMG_3237.JPG', 'Pineapple_image/stage_501/IMG_6318.JPG', 'Pineapple_image/stage_601/IMG_0815.JPG', 'Pineapple_image/stage_709/IMG_9659.JPG', 'Pineapple_image/stage_609/IMG_5988.JPG', 'Pineapple_image/stage_505/IMG_4747.JPG', 'Pineapple_image/stage_505/IMG_20210112_121827.jpg', 'Pineapple_image/stage_709/IMG_4455.JPG', 'Pineapple_image/stage_501/IMG_8798.JPG', 'Pineapple_image/stage_601/IMG_3652.JPG', 'Pineapple_image/stage_709/IMG_9747.JPG', 'Pineapple_image/stage_609/IMG_5941.JPG', 'Pineapple_image/stage_701/IMG_1622.JPG', 'Pineapple_image/stage_609/IMG_2940.JPG', 'Pineapple_image/stage_501/IMG_8808.JPG', 'Pineapple_image/stage_509/IMG_3379.JPG', 'Pineapple_image/stage_601/DSC_0601.JPG', 'Pineapple_image/stage_601/DSC_0487.JPG', 'Pineapple_image/stage_605/IMG_3320.JPG', 'Pineapple_image/stage_701/IMG_1535.JPG', 'Pineapple_image/stage_701/DSC_0855.JPG', 'Pineapple_image/stage_609/IMG_5918.JPG', 'Pineapple_image/stage_509/IMG_3353.JPG', 'Pineapple_image/stage_701/IMG_7901.JPG', 'Pineapple_image/stage_601/IMG_2014.JPG', 'Pineapple_image/stage_501/DSC_0503.JPG', 'Pineapple_image/stage_505/IMG_3812.JPG', 'Pineapple_image/stage_609/DSC_0624.JPG', 'Pineapple_image/stage_709/IMG_4502.JPG', 'Pineapple_image/stage_609/IMG_2781.JPG', 'Pineapple_image/stage_509/IMG_3229.JPG', 'Pineapple_image/stage_709/IMG_4565.JPG', 'Pineapple_image/stage_601/IMG_0403.JPG', 'Pineapple_image/stage_701/IMG_1847.JPG', 'Pineapple_image/stage_505/IMG_20210112_121210.jpg', 'Pineapple_image/stage_705/IMG_0306.JPG', 'Pineapple_image/stage_605/DSC_0152.JPG', 'Pineapple_image/stage_509/IMG_0732.JPG', 'Pineapple_image/stage_505/IMG_8530.JPG', 'Pineapple_image/stage_601/DSC_0440.JPG', 'Pineapple_image/stage_701/IMG_6510.JPG', 'Pineapple_image/stage_609/IMG_2822.JPG', 'Pineapple_image/stage_705/IMG_0290.JPG', 'Pineapple_image/stage_501/IMG_8898.JPG', 'Pineapple_image/stage_505/IMG_4355.JPG', 'Pineapple_image/stage_505/IMG_8597.JPG', 'Pineapple_image/stage_705/IMG_9393.JPG', 'Pineapple_image/stage_705/IMG_1124.JPG', 'Pineapple_image/stage_601/IMG_3650 (2).JPG', 'Pineapple_image/stage_701/IMG_7832.JPG', 'Pineapple_image/stage_601/IMG_0420.JPG', 'Pineapple_image/stage_605/DSC_0992.JPG', 'Pineapple_image/stage_701/IMG_7890.JPG', 'Pineapple_image/stage_509/IMG_3105.JPG', 'Pineapple_image/stage_705/IMG_9196.JPG', 'Pineapple_image/stage_501/IMG_3885.JPG', 'Pineapple_image/stage_701/IMG_7751.JPG', 'Pineapple_image/stage_505/IMG_3846.JPG', 'Pineapple_image/stage_609/IMG_5815.JPG', 'Pineapple_image/stage_705/IMG_9206.JPG', 'Pineapple_image/stage_709/IMG_9609.JPG', 'Pineapple_image/stage_705/IMG_1308.JPG', 'Pineapple_image/stage_609/IMG_5875.JPG', 'Pineapple_image/stage_509/IMG_3358.JPG', 'Pineapple_image/stage_509/IMG_0462.JPG', 'Pineapple_image/stage_709/IMG_4642.JPG', 'Pineapple_image/stage_601/DSC_0275.JPG', 'Pineapple_image/stage_701/IMG_1554.JPG', 'Pineapple_image/stage_701/IMG_7810.JPG', 'Pineapple_image/stage_709/IMG_9721.JPG', 'Pineapple_image/stage_609/IMG_6089.JPG', 'Pineapple_image/stage_709/IMG_9613.JPG', 'Pineapple_image/stage_709/IMG_1408.JPG', 'Pineapple_image/stage_601/IMG_5610.JPG', 'Pineapple_image/stage_509/IMG_3337.JPG', 'Pineapple_image/stage_605/IMG_3311.JPG', 'Pineapple_image/stage_505/IMG_4533.JPG', 'Pineapple_image/stage_509/IMG_3423.JPG', 'Pineapple_image/stage_609/IMG_3277.JPG', 'Pineapple_image/stage_509/IMG_0406.JPG', 'Pineapple_image/stage_501/DSC_0467.JPG', 'Pineapple_image/stage_709/IMG_9810.JPG', 'Pineapple_image/stage_705/IMG_9037.JPG', 'Pineapple_image/stage_605/DSC_0122.JPG', 'Pineapple_image/stage_509/IMG_0351.JPG', 'Pineapple_image/stage_605/DSC_0198.JPG', 'Pineapple_image/stage_709/IMG_9831.JPG', 'Pineapple_image/stage_601/IMG_3695.JPG', 'Pineapple_image/stage_601/IMG_0266.JPG', 'Pineapple_image/stage_605/IMG_3208.JPG', 'Pineapple_image/stage_509/IMG_3267.JPG', 'Pineapple_image/stage_609/DSC_0646.JPG', 'Pineapple_image/stage_509/IMG_3517.JPG', 'Pineapple_image/stage_701/IMG_8298.JPG', 'Pineapple_image/stage_501/IMG_7287.JPG', 'Pineapple_image/stage_609/IMG_5996.JPG', 'Pineapple_image/stage_605/DSC_0299.JPG', 'Pineapple_image/stage_509/IMG_3389.JPG', 'Pineapple_image/stage_505/IMG_4061.JPG', 'Pineapple_image/stage_505/IMG_8484.JPG', 'Pineapple_image/stage_505/IMG_4002.JPG', 'Pineapple_image/stage_605/IMG_3380.JPG', 'Pineapple_image/stage_705/IMG_9378.JPG', 'Pineapple_image/stage_505/IMG_4853.JPG', 'Pineapple_image/stage_501/IMG_3762.JPG', 'Pineapple_image/stage_701/IMG_6609.JPG', 'Pineapple_image/stage_509/IMG_3133.JPG', 'Pineapple_image/stage_709/IMG_9754.JPG', 'Pineapple_image/stage_705/IMG_1075.JPG', 'Pineapple_image/stage_505/IMG_7279.JPG', 'Pineapple_image/stage_601/DSC_0495.JPG', 'Pineapple_image/stage_509/IMG_0523.JPG', 'Pineapple_image/stage_609/IMG_5945.JPG', 'Pineapple_image/stage_705/IMG_1015.JPG', 'Pineapple_image/stage_505/IMG_5071.JPG', 'Pineapple_image/stage_701/IMG_1816.JPG', 'Pineapple_image/stage_509/IMG_0858.JPG', 'Pineapple_image/stage_505/IMG_4985.JPG', 'Pineapple_image/stage_501/DSC_0484.JPG', 'Pineapple_image/stage_605/DSC_0213.JPG', 'Pineapple_image/stage_505/IMG_4613.JPG', 'Pineapple_image/stage_501/IMG_7315.JPG', 'Pineapple_image/stage_509/IMG_0663.JPG', 'Pineapple_image/stage_605/IMG_6397.JPG', 'Pineapple_image/stage_709/IMG_4601.JPG', 'Pineapple_image/stage_505/IMG_5010.JPG', 'Pineapple_image/stage_605/IMG_3267.JPG', 'Pineapple_image/stage_709/IMG_4628.JPG', 'Pineapple_image/stage_505/IMG_4508.JPG', 'Pineapple_image/stage_601/DSC_0583.JPG', 'Pineapple_image/stage_605/IMG_3296.JPG', 'Pineapple_image/stage_601/DSC_0528.JPG', 'Pineapple_image/stage_501/DSC_0610.JPG', 'Pineapple_image/stage_709/IMG_0102.JPG', 'Pineapple_image/stage_701/IMG_6591.JPG', 'Pineapple_image/stage_701/DSC_0970.JPG', 'Pineapple_image/stage_505/IMG_4563.JPG', 'Pineapple_image/stage_501/IMG_3828.JPG', 'Pineapple_image/stage_501/IMG_8844.JPG', 'Pineapple_image/stage_505/IMG_5046.JPG', 'Pineapple_image/stage_509/IMG_0381.JPG', 'Pineapple_image/stage_509/IMG_0704.JPG', 'Pineapple_image/stage_509/IMG_0659.JPG', 'Pineapple_image/stage_505/IMG_4374.JPG', 'Pineapple_image/stage_605/DSC_0066.JPG', 'Pineapple_image/stage_605/IMG_3455.JPG', 'Pineapple_image/stage_609/IMG_6011.JPG', 'Pineapple_image/stage_601/DSC_0545.JPG', 'Pineapple_image/stage_601/DSC_0406.JPG', 'Pineapple_image/stage_509/IMG_0722.JPG', 'Pineapple_image/stage_605/DSC_0347.JPG', 'Pineapple_image/stage_605/DSC_1007.JPG', 'Pineapple_image/stage_601/IMG_3616.JPG', 'Pineapple_image/stage_705/IMG_0997.JPG', 'Pineapple_image/stage_501/IMG_6304.JPG', 'Pineapple_image/stage_601/IMG_0812.JPG', 'Pineapple_image/stage_701/IMG_7778.JPG', 'Pineapple_image/stage_601/DSC_0510.JPG', 'Pineapple_image/stage_609/IMG_2936.JPG', 'Pineapple_image/stage_601/IMG_5750.JPG', 'Pineapple_image/stage_705/IMG_1279.JPG', 'Pineapple_image/stage_609/IMG_2779.JPG', 'Pineapple_image/stage_501/IMG_7149.JPG', 'Pineapple_image/stage_709/IMG_20210119_160113.jpg', 'Pineapple_image/stage_509/IMG_0390.JPG', 'Pineapple_image/stage_505/IMG_4931.JPG', 'Pineapple_image/stage_605/IMG_3423.JPG', 'Pineapple_image/stage_505/IMG_5001.JPG', 'Pineapple_image/stage_709/IMG_4499.JPG', 'Pineapple_image/stage_701/IMG_1520.JPG', 'Pineapple_image/stage_605/DSC_0368.JPG', 'Pineapple_image/stage_709/IMG_9633.JPG', 'Pineapple_image/stage_601/DSC_0474.JPG', 'Pineapple_image/stage_601/IMG_0545.JPG', 'Pineapple_image/stage_701/IMG_1545.JPG', 'Pineapple_image/stage_609/IMG_6191.JPG', 'Pineapple_image/stage_701/IMG_7968.JPG', 'Pineapple_image/stage_605/DSC_0075.JPG', 'Pineapple_image/stage_609/IMG_2863.JPG', 'Pineapple_image/stage_605/DSC_0210.JPG', 'Pineapple_image/stage_609/DSC_0627.JPG', 'Pineapple_image/stage_601/IMG_3660.JPG', 'Pineapple_image/stage_605/IMG_3485.JPG', 'Pineapple_image/stage_705/IMG_9297.JPG', 'Pineapple_image/stage_509/IMG_3412.JPG', 'Pineapple_image/stage_705/IMG_9448.JPG', 'Pineapple_image/stage_509/IMG_3594.JPG', 'Pineapple_image/stage_709/IMG_9885.JPG', 'Pineapple_image/stage_609/IMG_5928.JPG', 'Pineapple_image/stage_709/IMG_0087.JPG', 'Pineapple_image/stage_509/IMG_3478.JPG', 'Pineapple_image/stage_605/IMG_3362.JPG', 'Pineapple_image/stage_701/IMG_7581.JPG', 'Pineapple_image/stage_705/IMG_0331.JPG', 'Pineapple_image/stage_501/IMG_7281.JPG', 'Pineapple_image/stage_601/DSC_0447.JPG', 'Pineapple_image/stage_501/DSC_0616.JPG', 'Pineapple_image/stage_601/IMG_0564.JPG', 'Pineapple_image/stage_709/IMG_4596.JPG', 'Pineapple_image/stage_701/DSC_0813.JPG', 'Pineapple_image/stage_609/IMG_5965.JPG', 'Pineapple_image/stage_509/IMG_3362.JPG', 'Pineapple_image/stage_701/IMG_1750.JPG', 'Pineapple_image/stage_709/IMG_9743.JPG', 'Pineapple_image/stage_509/IMG_0447.JPG', 'Pineapple_image/stage_609/IMG_6009.JPG', 'Pineapple_image/stage_605/IMG_3419.JPG', 'Pineapple_image/stage_505/IMG_4098.JPG', 'Pineapple_image/stage_601/IMG_0311.JPG', 'Pineapple_image/stage_701/IMG_7493.JPG', 'Pineapple_image/stage_609/IMG_5976.JPG', 'Pineapple_image/stage_509/IMG_3084.JPG', 'Pineapple_image/stage_705/IMG_9076.JPG', 'Pineapple_image/stage_609/DSC_0660.JPG', 'Pineapple_image/stage_605/DSC_0010.JPG', 'Pineapple_image/stage_501/DSC_0602.JPG', 'Pineapple_image/stage_509/IMG_3433.JPG', 'Pineapple_image/stage_609/IMG_2962.JPG', 'Pineapple_image/stage_605/IMG_3193.JPG', 'Pineapple_image/stage_609/IMG_2798.JPG', 'Pineapple_image/stage_501/IMG_4301.JPG', 'Pineapple_image/stage_501/IMG_3880.JPG', 'Pineapple_image/stage_705/IMG_0337.JPG', 'Pineapple_image/stage_509/IMG_3224.JPG', 'Pineapple_image/stage_601/IMG_5717.JPG', 'Pineapple_image/stage_705/IMG_0959.JPG', 'Pineapple_image/stage_705/IMG_1174.JPG', 'Pineapple_image/stage_509/IMG_2018.JPG', 'Pineapple_image/stage_709/IMG_0144.JPG', 'Pineapple_image/stage_505/IMG_7168.JPG', 'Pineapple_image/stage_701/IMG_6600.JPG', 'Pineapple_image/stage_709/IMG_9919.JPG', 'Pineapple_image/stage_509/IMG_3276.JPG', 'Pineapple_image/stage_701/IMG_4298.JPG', 'Pineapple_image/stage_501/DSC_0535.JPG', 'Pineapple_image/stage_709/IMG_0032.JPG', 'Pineapple_image/stage_701/IMG_7703.JPG', 'Pineapple_image/stage_709/IMG_1387.JPG', 'Pineapple_image/stage_501/IMG_7241.JPG', 'Pineapple_image/stage_505/IMG_4572.JPG', 'Pineapple_image/stage_609/DSC_0648.JPG', 'Pineapple_image/stage_609/IMG_5903.JPG', 'Pineapple_image/stage_505/IMG_4711.JPG', 'Pineapple_image/stage_601/IMG_0584.JPG', 'Pineapple_image/stage_605/IMG_3220.JPG', 'Pineapple_image/stage_505/IMG_4724.JPG', 'Pineapple_image/stage_501/IMG_3875.JPG', 'Pineapple_image/stage_701/IMG_6441.JPG', 'Pineapple_image/stage_501/IMG_2028.JPG', 'Pineapple_image/stage_709/IMG_0011.JPG', 'Pineapple_image/stage_709/IMG_4617.JPG', 'Pineapple_image/stage_509/IMG_3375.JPG', 'Pineapple_image/stage_709/IMG_1424.JPG', 'Pineapple_image/stage_509/IMG_3461.JPG', 'Pineapple_image/stage_505/IMG_4885.JPG', 'Pineapple_image/stage_509/IMG_0863.JPG', 'Pineapple_image/stage_509/IMG_0221.JPG', 'Pineapple_image/stage_601/DSC_0320.JPG', 'Pineapple_image/stage_505/IMG_20210112_120635.jpg', 'Pineapple_image/stage_601/DSC_0500.JPG', 'Pineapple_image/stage_701/IMG_1500.JPG', 'Pineapple_image/stage_501/DSC_0544.JPG', 'Pineapple_image/stage_609/IMG_6054.JPG', 'Pineapple_image/stage_501/IMG_7298.JPG', 'Pineapple_image/stage_609/IMG_6066.JPG', 'Pineapple_image/stage_601/IMG_5661.JPG', 'Pineapple_image/stage_701/IMG_8212.JPG', 'Pineapple_image/stage_509/IMG_3170.JPG', 'Pineapple_image/stage_501/IMG_8707.JPG', 'Pineapple_image/stage_705/IMG_9410.JPG', 'Pineapple_image/stage_709/IMG_9856.JPG', 'Pineapple_image/stage_601/IMG_0591.JPG', 'Pineapple_image/stage_601/DSC_0300.JPG', 'Pineapple_image/stage_705/IMG_1270.JPG', 'Pineapple_image/stage_701/IMG_6550.JPG', 'Pineapple_image/stage_705/IMG_9455.JPG', 'Pineapple_image/stage_605/DSC_0986.JPG', 'Pineapple_image/stage_605/IMG_3184.JPG', 'Pineapple_image/stage_501/IMG_7301.JPG', 'Pineapple_image/stage_709/IMG_4576.JPG', 'Pineapple_image/stage_509/IMG_0249.JPG', 'Pineapple_image/stage_709/IMG_9740.JPG', 'Pineapple_image/stage_505/IMG_8451.JPG', 'Pineapple_image/stage_509/IMG_0694.JPG', 'Pineapple_image/stage_609/IMG_5845.JPG', 'Pineapple_image/stage_601/DSC_0484.JPG', 'Pineapple_image/stage_605/DSC_0344.JPG', 'Pineapple_image/stage_601/IMG_3506.JPG', 'Pineapple_image/stage_505/IMG_5089.JPG', 'Pineapple_image/stage_501/IMG_7388.JPG', 'Pineapple_image/stage_605/DSC_0081.JPG', 'Pineapple_image/stage_701/IMG_7655.JPG', 'Pineapple_image/stage_605/IMG_3376.JPG', 'Pineapple_image/stage_705/IMG_9064.JPG', 'Pineapple_image/stage_709/IMG_9790.JPG', 'Pineapple_image/stage_605/DSC_0119.JPG', 'Pineapple_image/stage_705/IMG_0916.JPG', 'Pineapple_image/stage_701/IMG_1880.JPG', 'Pineapple_image/stage_705/IMG_9417.JPG', 'Pineapple_image/stage_701/IMG_6557.JPG', 'Pineapple_image/stage_605/DSC_0033.JPG', 'Pineapple_image/stage_601/DSC_0305.JPG', 'Pineapple_image/stage_605/DSC_0038.JPG', 'Pineapple_image/stage_701/DSC_0902.JPG', 'Pineapple_image/stage_605/DSC_0013.JPG', 'Pineapple_image/stage_609/IMG_6129.JPG', 'Pineapple_image/stage_609/IMG_5891.JPG', 'Pineapple_image/stage_601/IMG_0628.JPG', 'Pineapple_image/stage_601/DSC_0524.JPG', 'Pineapple_image/stage_705/IMG_0327.JPG', 'Pineapple_image/stage_709/IMG_9699.JPG', 'Pineapple_image/stage_505/IMG_4481.JPG', 'Pineapple_image/stage_709/IMG_1430.JPG', 'Pineapple_image/stage_701/IMG_1674.JPG', 'Pineapple_image/stage_601/IMG_3679.JPG', 'Pineapple_image/stage_505/IMG_4423.JPG', 'Pineapple_image/stage_709/IMG_1376.JPG', 'Pineapple_image/stage_605/IMG_3767.JPG', 'Pineapple_image/stage_505/IMG_4548.JPG', 'Pineapple_image/stage_705/IMG_0376.JPG', 'Pineapple_image/stage_601/DSC_0469.JPG', 'Pineapple_image/stage_505/IMG_4586.JPG', 'Pineapple_image/stage_709/IMG_4391.JPG', 'Pineapple_image/stage_605/DSC_0136.JPG', 'Pineapple_image/stage_709/IMG_4523.JPG', 'Pineapple_image/stage_605/IMG_3760.JPG', 'Pineapple_image/stage_609/IMG_2838.JPG', 'Pineapple_image/stage_505/IMG_3971.JPG', 'Pineapple_image/stage_709/IMG_4649.JPG', 'Pineapple_image/stage_509/IMG_0745.JPG', 'Pineapple_image/stage_501/IMG_4386.JPG', 'Pineapple_image/stage_505/IMG_8492.JPG', 'Pineapple_image/stage_701/DSC_0735.JPG', 'Pineapple_image/stage_609/IMG_6076.JPG', 'Pineapple_image/stage_701/IMG_1644.JPG', 'Pineapple_image/stage_709/IMG_9718.JPG', 'Pineapple_image/stage_705/IMG_1091.JPG', 'Pineapple_image/stage_709/IMG_0007.JPG', 'Pineapple_image/stage_705/IMG_1154.JPG', 'Pineapple_image/stage_701/IMG_7931.JPG', 'Pineapple_image/stage_509/IMG_3371.JPG', 'Pineapple_image/stage_709/IMG_9901.JPG', 'Pineapple_image/stage_601/DSC_0561.JPG', 'Pineapple_image/stage_709/IMG_0024.JPG', 'Pineapple_image/stage_709/IMG_4527.JPG', 'Pineapple_image/stage_605/IMG_3350.JPG', 'Pineapple_image/stage_501/IMG_7358.JPG', 'Pineapple_image/stage_601/DSC_0617.JPG', 'Pineapple_image/stage_601/DSC_0257.JPG', 'Pineapple_image/stage_701/IMG_6660.JPG', 'Pineapple_image/stage_701/IMG_4205.JPG', 'Pineapple_image/stage_509/IMG_3262.JPG', 'Pineapple_image/stage_509/IMG_0358.JPG', 'Pineapple_image/stage_601/DSC_0317.JPG', 'Pineapple_image/stage_501/IMG_8726.JPG', 'Pineapple_image/stage_501/IMG_8860.JPG', 'Pineapple_image/stage_705/IMG_9157.JPG', 'Pineapple_image/stage_701/IMG_7913.JPG', 'Pineapple_image/stage_605/IMG_3435.JPG', 'Pineapple_image/stage_709/IMG_0036.JPG', 'Pineapple_image/stage_601/DSC_0506.JPG', 'Pineapple_image/stage_709/IMG_0107.JPG', 'Pineapple_image/stage_509/IMG_3270.JPG', 'Pineapple_image/stage_701/IMG_7532.JPG', 'Pineapple_image/stage_505/IMG_4619.JPG', 'Pineapple_image/stage_601/DSC_0341.JPG', 'Pineapple_image/stage_701/IMG_8092.JPG', 'Pineapple_image/stage_605/DSC_0307.JPG', 'Pineapple_image/stage_509/IMG_0443.JPG', 'Pineapple_image/stage_709/IMG_9682.JPG', 'Pineapple_image/stage_501/IMG_7312.JPG', 'Pineapple_image/stage_505/IMG_20210112_120737.jpg', 'Pineapple_image/stage_701/IMG_8196.JPG', 'Pineapple_image/stage_701/DSC_0697.JPG', 'Pineapple_image/stage_701/IMG_7853.JPG', 'Pineapple_image/stage_705/IMG_1080.JPG', 'Pineapple_image/stage_605/DSC_0097.JPG', 'Pineapple_image/stage_601/DSC_0591.JPG', 'Pineapple_image/stage_501/IMG_7333.JPG', 'Pineapple_image/stage_501/DSC_0570.JPG', 'Pineapple_image/stage_505/IMG_4829.JPG', 'Pineapple_image/stage_701/IMG_1592.JPG', 'Pineapple_image/stage_705/IMG_9214.JPG', 'Pineapple_image/stage_609/IMG_5954.JPG', 'Pineapple_image/stage_601/IMG_5590.JPG', 'Pineapple_image/stage_601/IMG_3668.JPG', 'Pineapple_image/stage_501/IMG_7394.JPG', 'Pineapple_image/stage_609/IMG_5956.JPG', 'Pineapple_image/stage_601/IMG_0263.JPG', 'Pineapple_image/stage_505/IMG_7231.JPG', 'Pineapple_image/stage_609/IMG_2832.JPG', 'Pineapple_image/stage_501/DSC_0620.JPG', 'Pineapple_image/stage_701/IMG_7991.JPG', 'Pineapple_image/stage_609/IMG_5862.JPG', 'Pineapple_image/stage_609/IMG_5961.JPG', 'Pineapple_image/stage_605/DSC_0268.JPG', 'Pineapple_image/stage_601/IMG_5643.JPG', 'Pineapple_image/stage_505/IMG_5079.JPG', 'Pineapple_image/stage_705/IMG_9238.JPG', 'Pineapple_image/stage_709/IMG_9677.JPG', 'Pineapple_image/stage_609/IMG_2970.JPG', 'Pineapple_image/stage_709/IMG_9776.JPG', 'Pineapple_image/stage_609/IMG_6005.JPG', 'Pineapple_image/stage_701/DSC_0961.JPG', 'Pineapple_image/stage_509/IMG_3402.JPG', 'Pineapple_image/stage_709/IMG_4519.JPG', 'Pineapple_image/stage_605/IMG_3345.JPG', 'Pineapple_image/stage_705/IMG_0271.JPG', 'Pineapple_image/stage_601/DSC_0369.JPG', 'Pineapple_image/stage_501/IMG_8715.JPG', 'Pineapple_image/stage_701/DSC_0866.JPG', 'Pineapple_image/stage_501/IMG_6282.JPG', 'Pineapple_image/stage_705/IMG_1007.JPG', 'Pineapple_image/stage_601/IMG_3577.JPG', 'Pineapple_image/stage_601/IMG_3646.JPG', 'Pineapple_image/stage_705/IMG_9102.JPG', 'Pineapple_image/stage_701/IMG_8177.JPG', 'Pineapple_image/stage_605/IMG_3147.JPG', 'Pineapple_image/stage_601/IMG_3689 (2).JPG', 'Pineapple_image/stage_509/IMG_3145.JPG', 'Pineapple_image/stage_509/IMG_0579.JPG', 'Pineapple_image/stage_705/IMG_9219.JPG', 'Pineapple_image/stage_705/IMG_9253.JPG', 'Pineapple_image/stage_505/IMG_20210112_122203.jpg', 'Pineapple_image/stage_501/IMG_7383.JPG', 'Pineapple_image/stage_605/DSC_0190.JPG', 'Pineapple_image/stage_701/IMG_8234.JPG', 'Pineapple_image/stage_709/IMG_4572.JPG', 'Pineapple_image/stage_701/DSC_0706.JPG', 'Pineapple_image/stage_609/DSC_0644.JPG', 'Pineapple_image/stage_701/IMG_7614.JPG', 'Pineapple_image/stage_601/IMG_0307.JPG', 'Pineapple_image/stage_701/DSC_0874.JPG', 'Pineapple_image/stage_505/IMG_4777.JPG', 'Pineapple_image/stage_709/IMG_1361.JPG', 'Pineapple_image/stage_609/IMG_2772.JPG', 'Pineapple_image/stage_701/IMG_2888.JPG', 'Pineapple_image/stage_601/IMG_0534.JPG', 'Pineapple_image/stage_601/IMG_5569.JPG', 'Pineapple_image/stage_709/IMG_4506.JPG', 'Pineapple_image/stage_501/IMG_8888.JPG', 'Pineapple_image/stage_505/IMG_8427.JPG', 'Pineapple_image/stage_601/DSC_0444.JPG', 'Pineapple_image/stage_701/IMG_4197.JPG', 'Pineapple_image/stage_601/IMG_3596.JPG', 'Pineapple_image/stage_509/IMG_3525.JPG', 'Pineapple_image/stage_705/IMG_9288.JPG', 'Pineapple_image/stage_605/IMG_3215.JPG', 'Pineapple_image/stage_501/IMG_8742.JPG', 'Pineapple_image/stage_501/IMG_4321.JPG', 'Pineapple_image/stage_505/IMG_4143.JPG', 'Pineapple_image/stage_505/IMG_8476.JPG', 'Pineapple_image/stage_505/IMG_3978.JPG', 'Pineapple_image/stage_709/IMG_9710.JPG', 'Pineapple_image/stage_509/IMG_3585.JPG', 'Pineapple_image/stage_509/IMG_3129.JPG', 'Pineapple_image/stage_601/DSC_0284.JPG', 'Pineapple_image/stage_601/IMG_0530.JPG', 'Pineapple_image/stage_501/IMG_7373.JPG', 'Pineapple_image/stage_509/IMG_0623.JPG', 'Pineapple_image/stage_609/IMG_2977.JPG', 'Pineapple_image/stage_709/IMG_4657.JPG', 'Pineapple_image/stage_701/IMG_6638.JPG', 'Pineapple_image/stage_705/IMG_0394.JPG', 'Pineapple_image/stage_601/DSC_0411.JPG', 'Pineapple_image/stage_505/IMG_3982.JPG', 'Pineapple_image/stage_505/IMG_4031.JPG', 'Pineapple_image/stage_705/IMG_9281.JPG', 'Pineapple_image/stage_509/IMG_3079.JPG', 'Pineapple_image/stage_509/IMG_3126.JPG', 'Pineapple_image/stage_509/IMG_0496.JPG', 'Pineapple_image/stage_609/IMG_5914.JPG', 'Pineapple_image/stage_709/IMG_1415.JPG', 'Pineapple_image/stage_709/IMG_9841.JPG', 'Pineapple_image/stage_701/IMG_7948.JPG', 'Pineapple_image/stage_509/IMG_3537.JPG', 'Pineapple_image/stage_701/IMG_7843.JPG', 'Pineapple_image/stage_705/IMG_9494.JPG', 'Pineapple_image/stage_501/IMG_7345.JPG', 'Pineapple_image/stage_705/IMG_0303.JPG', 'Pineapple_image/stage_609/IMG_2791.JPG', 'Pineapple_image/stage_609/IMG_2854.JPG', 'Pineapple_image/stage_701/IMG_9335.JPG', 'Pineapple_image/stage_605/DSC_0172.JPG', 'Pineapple_image/stage_601/IMG_0398.JPG', 'Pineapple_image/stage_505/IMG_4082.JPG', 'Pineapple_image/stage_701/IMG_1937.JPG', 'Pineapple_image/stage_701/IMG_1759.JPG', 'Pineapple_image/stage_701/IMG_6470.JPG', 'Pineapple_image/stage_709/IMG_0039.JPG', 'Pineapple_image/stage_705/IMG_1187.JPG', 'Pineapple_image/stage_605/IMG_3314.JPG', 'Pineapple_image/stage_701/DSC_0922.JPG', 'Pineapple_image/stage_601/IMG_3639 (2).JPG', 'Pineapple_image/stage_601/DSC_0206.JPG', 'Pineapple_image/stage_501/IMG_6335.JPG', 'Pineapple_image/stage_505/IMG_4448.JPG', 'Pineapple_image/stage_505/IMG_3853.JPG', 'Pineapple_image/stage_609/IMG_6068.JPG', 'Pineapple_image/stage_709/IMG_9847.JPG', 'Pineapple_image/stage_501/IMG_7182.JPG', 'Pineapple_image/stage_709/IMG_0112.JPG', 'Pineapple_image/stage_605/DSC_0201.JPG', 'Pineapple_image/stage_605/IMG_3733.JPG', 'Pineapple_image/stage_601/IMG_3515.JPG', 'Pineapple_image/stage_501/DSC_0845.JPG', 'Pineapple_image/stage_601/DSC_0595.JPG', 'Pineapple_image/stage_609/IMG_6056.JPG', 'Pineapple_image/stage_701/IMG_1927.JPG', 'Pineapple_image/stage_605/IMG_3234.JPG', 'Pineapple_image/stage_509/IMG_3293.JPG', 'Pineapple_image/stage_601/DSC_0553.JPG', 'Pineapple_image/stage_709/IMG_1391.JPG', 'Pineapple_image/stage_501/IMG_3750.JPG', 'Pineapple_image/stage_509/IMG_3233.JPG', 'Pineapple_image/stage_701/IMG_6647.JPG', 'Pineapple_image/stage_705/IMG_9385.JPG', 'Pineapple_image/stage_605/IMG_3786.JPG', 'Pineapple_image/stage_605/IMG_2037.JPG', 'Pineapple_image/stage_701/DSC_0805.JPG', 'Pineapple_image/stage_509/IMG_3208.JPG', 'Pineapple_image/stage_609/IMG_6230.JPG', 'Pineapple_image/stage_509/IMG_0707.JPG', 'Pineapple_image/stage_605/IMG_3244.JPG', 'Pineapple_image/stage_501/IMG_6286.JPG', 'Pineapple_image/stage_505/IMG_4657.JPG', 'Pineapple_image/stage_601/IMG_0559.JPG', 'Pineapple_image/stage_505/IMG_5026.JPG', 'Pineapple_image/stage_601/DSC_0599.JPG', 'Pineapple_image/stage_501/DSC_0594.JPG', 'Pineapple_image/stage_505/IMG_8542.JPG', 'Pineapple_image/stage_709/IMG_9619.JPG', 'Pineapple_image/stage_705/IMG_0380.JPG', 'Pineapple_image/stage_609/IMG_2849.JPG', 'Pineapple_image/stage_605/IMG_3239.JPG', 'Pineapple_image/stage_509/IMG_0738.JPG', 'Pineapple_image/stage_509/IMG_0618.JPG', 'Pineapple_image/stage_501/IMG_7399.JPG', 'Pineapple_image/stage_705/IMG_9440.JPG', 'Pineapple_image/stage_601/DSC_0352.JPG', 'Pineapple_image/stage_509/IMG_3310.JPG', 'Pineapple_image/stage_601/DSC_0609.JPG', 'Pineapple_image/stage_501/IMG_7236.JPG', 'Pineapple_image/stage_705/IMG_1118.JPG', 'Pineapple_image/stage_705/IMG_0323.JPG', 'Pineapple_image/stage_709/IMG_1394.JPG', 'Pineapple_image/stage_705/IMG_1031.JPG', 'Pineapple_image/stage_701/IMG_1710.JPG', 'Pineapple_image/stage_609/DSC_0656.JPG', 'Pineapple_image/stage_609/IMG_5980.JPG', 'Pineapple_image/stage_705/IMG_0372.JPG', 'Pineapple_image/stage_701/DSC_0677.JPG', 'Pineapple_image/stage_501/IMG_8634.JPG', 'Pineapple_image/stage_709/IMG_9702.JPG', 'Pineapple_image/stage_509/IMG_9594.JPG', 'Pineapple_image/stage_501/IMG_7198.JPG', 'Pineapple_image/stage_609/DSC_0196.JPG', 'Pineapple_image/stage_709/IMG_4516.JPG', 'Pineapple_image/stage_601/IMG_3551.JPG', 'Pineapple_image/stage_505/IMG_20210112_120557.jpg', 'Pineapple_image/stage_705/IMG_0964.JPG', 'Pineapple_image/stage_609/IMG_6145.JPG', 'Pineapple_image/stage_601/DSC_0490.JPG', 'Pineapple_image/stage_605/IMG_3261.JPG', 'Pineapple_image/stage_701/IMG_7771.JPG', 'Pineapple_image/stage_701/IMG_7637.JPG', 'Pineapple_image/stage_705/IMG_9324.JPG', 'Pineapple_image/stage_701/IMG_7552.JPG', 'Pineapple_image/stage_605/DSC_0257.JPG', 'Pineapple_image/stage_609/IMG_2861.JPG', 'Pineapple_image/stage_505/IMG_20210112_120321.jpg', 'Pineapple_image/stage_505/IMG_3958.JPG', 'Pineapple_image/stage_701/IMG_6459.JPG', 'Pineapple_image/stage_509/IMG_0237.JPG', 'Pineapple_image/stage_509/IMG_3366.JPG', 'Pineapple_image/stage_505/IMG_5056.JPG', 'Pineapple_image/stage_709/IMG_9862.JPG', 'Pineapple_image/stage_705/IMG_1239.JPG', 'Pineapple_image/stage_609/DSC_0193.JPG', 'Pineapple_image/stage_709/IMG_9692.JPG', 'Pineapple_image/stage_705/IMG_1262.JPG', 'Pineapple_image/stage_705/IMG_0993.JPG', 'Pineapple_image/stage_501/IMG_3908.JPG', 'Pineapple_image/stage_701/DSC_0954.JPG', 'Pineapple_image/stage_705/IMG_9169.JPG', 'Pineapple_image/stage_609/DSC_0651.JPG', 'Pineapple_image/stage_505/IMG_4528.JPG', 'Pineapple_image/stage_609/IMG_5933.JPG', 'Pineapple_image/stage_701/IMG_7742.JPG', 'Pineapple_image/stage_509/IMG_3488.JPG', 'Pineapple_image/stage_709/IMG_4623.JPG', 'Pineapple_image/stage_605/DSC_0319.JPG', 'Pineapple_image/stage_609/IMG_5870.JPG', 'Pineapple_image/stage_501/IMG_3914.JPG', 'Pineapple_image/stage_501/IMG_7417.JPG', 'Pineapple_image/stage_705/IMG_1024.JPG', 'Pineapple_image/stage_709/IMG_4605.JPG', 'Pineapple_image/stage_509/IMG_0673.JPG', 'Pineapple_image/stage_709/IMG_9737.JPG', 'Pineapple_image/stage_505/IMG_7414.JPG', 'Pineapple_image/stage_505/IMG_4113.JPG', 'Pineapple_image/stage_501/DSC_0577.JPG', 'Pineapple_image/stage_709/IMG_9656.JPG', 'Pineapple_image/stage_709/IMG_1403.JPG', 'Pineapple_image/stage_601/IMG_3672 (2).JPG', 'Pineapple_image/stage_509/IMG_3321.JPG', 'Pineapple_image/stage_501/IMG_6311.JPG', 'Pineapple_image/stage_509/IMG_3324.JPG', 'Pineapple_image/stage_509/IMG_0243.JPG', 'Pineapple_image/stage_701/IMG_7523.JPG', 'Pineapple_image/stage_709/IMG_0021.JPG', 'Pineapple_image/stage_605/DSC_0330.JPG', 'Pineapple_image/stage_509/IMG_0393.JPG', 'Pineapple_image/stage_709/IMG_9605.JPG', 'Pineapple_image/stage_701/IMG_8324.JPG', 'Pineapple_image/stage_501/IMG_3889.JPG', 'Pineapple_image/stage_509/IMG_0477.JPG', 'Pineapple_image/stage_509/IMG_0727.JPG', 'Pineapple_image/stage_701/IMG_1897.JPG', 'Pineapple_image/stage_609/IMG_6026.JPG', 'Pineapple_image/stage_605/DSC_0296.JPG', 'Pineapple_image/stage_605/DSC_0254.JPG', 'Pineapple_image/stage_705/IMG_9042.JPG', 'Pineapple_image/stage_601/DSC_0249.JPG', 'Pineapple_image/stage_609/IMG_3151.JPG', 'Pineapple_image/stage_505/IMG_4732.JPG', 'Pineapple_image/stage_501/IMG_3899.JPG', 'Pineapple_image/stage_601/DSC_0397.JPG', 'Pineapple_image/stage_609/IMG_6047.JPG', 'Pineapple_image/stage_705/IMG_0894.JPG', 'Pineapple_image/stage_705/IMG_0340.JPG', 'Pineapple_image/stage_609/IMG_6023.JPG', 'Pineapple_image/stage_501/IMG_8697.JPG', 'Pineapple_image/stage_605/DSC_0277.JPG', 'Pineapple_image/stage_705/IMG_0975.JPG', 'Pineapple_image/stage_605/IMG_6410.JPG', 'Pineapple_image/stage_605/DSC_0229.JPG', 'Pineapple_image/stage_609/IMG_2983.JPG', 'Pineapple_image/stage_501/IMG_8619.JPG', 'Pineapple_image/stage_605/DSC_0049.JPG', 'Pineapple_image/stage_509/IMG_0466.JPG', 'Pineapple_image/stage_605/IMG_3443.JPG', 'Pineapple_image/stage_505/IMG_4921.JPG', 'Pineapple_image/stage_509/IMG_3448.JPG', 'Pineapple_image/stage_501/IMG_3735.JPG', 'Pineapple_image/stage_705/IMG_0900.JPG', 'Pineapple_image/stage_709/IMG_9982.JPG', 'Pineapple_image/stage_605/DSC_0078.JPG', 'Pineapple_image/stage_509/IMG_0214.JPG', 'Pineapple_image/stage_505/IMG_8496.JPG', 'Pineapple_image/stage_505/IMG_4959.JPG', 'Pineapple_image/stage_601/IMG_3698.JPG', 'Pineapple_image/stage_505/IMG_8506.JPG', 'Pineapple_image/stage_709/IMG_1457.JPG', 'Pineapple_image/stage_509/IMG_0631.JPG', 'Pineapple_image/stage_605/DSC_0018.JPG', 'Pineapple_image/stage_601/IMG_3641 (2).JPG', 'Pineapple_image/stage_501/IMG_7354.JPG', 'Pineapple_image/stage_505/IMG_4408.JPG', 'Pineapple_image/stage_709/IMG_1449.JPG', 'Pineapple_image/stage_509/IMG_0271.JPG', 'Pineapple_image/stage_609/IMG_2847.JPG', 'Pineapple_image/stage_701/DSC_0755.JPG', 'Pineapple_image/stage_509/IMG_0635.JPG', 'Pineapple_image/stage_709/IMG_1399.JPG', 'Pineapple_image/stage_701/IMG_1718.JPG', 'Pineapple_image/stage_601/DSC_0217.JPG', 'Pineapple_image/stage_509/IMG_0324.JPG', 'Pineapple_image/stage_605/DSC_0983.JPG', 'Pineapple_image/stage_701/IMG_7574.JPG', 'Pineapple_image/stage_605/IMG_3327.JPG', 'Pineapple_image/stage_509/IMG_0490.JPG', 'Pineapple_image/stage_501/IMG_3807.JPG', 'Pineapple_image/stage_505/IMG_4899.JPG', 'Pineapple_image/stage_705/IMG_1167.JPG', 'Pineapple_image/stage_505/IMG_5032.JPG', 'Pineapple_image/stage_701/IMG_1573.JPG', 'Pineapple_image/stage_501/DSC_0462.JPG', 'Pineapple_image/stage_601/IMG_5672.JPG', 'Pineapple_image/stage_701/IMG_7665.JPG', 'Pineapple_image/stage_705/IMG_9098.JPG', 'Pineapple_image/stage_509/IMG_3183.JPG', 'Pineapple_image/stage_509/IMG_0230.JPG', 'Pineapple_image/stage_705/IMG_0314.JPG', 'Pineapple_image/stage_501/DSC_0477.JPG', 'Pineapple_image/stage_605/DSC_0176.JPG', 'Pineapple_image/stage_605/DSC_0092.JPG', 'Pineapple_image/stage_601/DSC_0294.JPG', 'Pineapple_image/stage_501/IMG_6325.JPG', 'Pineapple_image/stage_501/DSC_0634.JPG', 'Pineapple_image/stage_509/IMG_0386.JPG', 'Pineapple_image/stage_501/IMG_8763.JPG', 'Pineapple_image/stage_605/DSC_0226.JPG', 'Pineapple_image/stage_705/IMG_0294.JPG', 'Pineapple_image/stage_609/IMG_6115.JPG', 'Pineapple_image/stage_505/IMG_20210112_120139.jpg', 'Pineapple_image/stage_609/IMG_6134.JPG', 'Pineapple_image/stage_505/IMG_3923.JPG', 'Pineapple_image/stage_505/IMG_20210112_122255.jpg', 'Pineapple_image/stage_605/IMG_3365.JPG', 'Pineapple_image/stage_501/IMG_7362.JPG', 'Pineapple_image/stage_705/IMG_1102.JPG', 'Pineapple_image/stage_609/IMG_6001.JPG', 'Pineapple_image/stage_501/IMG_3871.JPG', 'Pineapple_image/stage_601/DSC_0431.JPG', 'Pineapple_image/stage_705/IMG_9257.JPG', 'Pineapple_image/stage_609/IMG_2987.JPG', 'Pineapple_image/stage_601/DSC_0338.JPG', 'Pineapple_image/stage_709/IMG_9817.JPG', 'Pineapple_image/stage_509/IMG_3331.JPG', 'Pineapple_image/stage_705/IMG_1115.JPG', 'Pineapple_image/stage_605/IMG_6369.JPG', 'Pineapple_image/stage_609/IMG_6044.JPG', 'Pineapple_image/stage_601/IMG_3586.JPG', 'Pineapple_image/stage_609/IMG_2769.JPG', 'Pineapple_image/stage_705/IMG_9202.JPG', 'Pineapple_image/stage_505/IMG_4463.JPG', 'Pineapple_image/stage_709/IMG_9616.JPG', 'Pineapple_image/stage_609/IMG_2796.JPG', 'Pineapple_image/stage_705/IMG_0972.JPG', 'Pineapple_image/stage_705/IMG_0931.JPG', 'Pineapple_image/stage_505/IMG_3820.JPG', 'Pineapple_image/stage_705/IMG_9054.JPG', 'Pineapple_image/stage_709/IMG_9824.JPG', 'Pineapple_image/stage_609/IMG_2856.JPG', 'Pineapple_image/stage_601/IMG_3656.JPG', 'Pineapple_image/stage_601/IMG_0556.JPG', 'Pineapple_image/stage_709/IMG_9713.JPG', 'Pineapple_image/stage_501/IMG_6295.JPG', 'Pineapple_image/stage_709/IMG_9798.JPG', 'Pineapple_image/stage_501/IMG_7178.JPG', 'Pineapple_image/stage_601/IMG_3561.JPG', 'Pineapple_image/stage_505/IMG_4717.JPG', 'Pineapple_image/stage_501/DSC_0589.JPG', 'Pineapple_image/stage_601/DSC_0614.JPG', 'Pineapple_image/stage_609/IMG_2775.JPG', 'Pineapple_image/stage_505/IMG_4799.JPG', 'Pineapple_image/stage_501/IMG_2099.JPG', 'Pineapple_image/stage_705/IMG_1247.JPG', 'Pineapple_image/stage_605/DSC_0453.JPG', 'Pineapple_image/stage_701/IMG_8151.JPG', 'Pineapple_image/stage_609/DSC_0640.JPG', 'Pineapple_image/stage_605/DSC_0303.JPG', 'Pineapple_image/stage_705/IMG_9293.JPG', 'Pineapple_image/stage_505/IMG_4557.JPG', 'Pineapple_image/stage_701/IMG_1778.JPG', 'Pineapple_image/stage_505/IMG_3839.JPG', 'Pineapple_image/stage_501/IMG_3832.JPG', 'Pineapple_image/stage_705/IMG_9162.JPG', 'Pineapple_image/stage_705/IMG_1290.JPG', 'Pineapple_image/stage_705/IMG_1142.JPG', 'Pineapple_image/stage_501/IMG_3738.JPG', 'Pineapple_image/stage_605/IMG_3392.JPG', 'Pineapple_image/stage_709/IMG_4388.JPG', 'Pineapple_image/stage_705/IMG_9301.JPG', 'Pineapple_image/stage_709/IMG_9686.JPG', 'Pineapple_image/stage_601/IMG_0806.JPG', 'Pineapple_image/stage_501/IMG_6349.JPG', 'Pineapple_image/stage_601/DSC_0580.JPG', 'Pineapple_image/stage_601/IMG_3686 (2).JPG', 'Pineapple_image/stage_701/DSC_0726.JPG', 'Pineapple_image/stage_605/IMG_3252.JPG', 'Pineapple_image/stage_709/IMG_1445.JPG', 'Pineapple_image/stage_509/IMG_3205.JPG', 'Pineapple_image/stage_509/IMG_0275.JPG', 'Pineapple_image/stage_701/IMG_2917.JPG', 'Pineapple_image/stage_705/IMG_0956.JPG', 'Pineapple_image/stage_505/IMG_3809.JPG', 'Pineapple_image/stage_509/IMG_0433.JPG', 'Pineapple_image/stage_501/IMG_7203.JPG', 'Pineapple_image/stage_601/IMG_3636.JPG', 'Pineapple_image/stage_509/IMG_0473.JPG', 'Pineapple_image/stage_509/IMG_3100.JPG', 'Pineapple_image/stage_709/IMG_4544.JPG', 'Pineapple_image/stage_705/IMG_0385.JPG', 'Pineapple_image/stage_509/IMG_9547.JPG', 'Pineapple_image/stage_505/IMG_4069.JPG', 'Pineapple_image/stage_509/IMG_3115.JPG', 'Pineapple_image/stage_609/IMG_5924.JPG', 'Pineapple_image/stage_609/IMG_2806.JPG', 'Pineapple_image/stage_705/IMG_9222.JPG', 'Pineapple_image/stage_501/DSC_0527.JPG', 'Pineapple_image/stage_501/IMG_3799.JPG', 'Pineapple_image/stage_609/IMG_2928.JPG', 'Pineapple_image/stage_609/IMG_5840.JPG', 'Pineapple_image/stage_509/IMG_1329.JPG', 'Pineapple_image/stage_601/IMG_3643.JPG', 'Pineapple_image/stage_705/IMG_1093.JPG', 'Pineapple_image/stage_705/IMG_1036.JPG', 'Pineapple_image/stage_601/IMG_0809.JPG', 'Pineapple_image/stage_705/IMG_9155.JPG', 'Pineapple_image/stage_709/IMG_0132.JPG', 'Pineapple_image/stage_505/IMG_8444.JPG', 'Pineapple_image/stage_605/DSC_0237.JPG', 'Pineapple_image/stage_705/IMG_9277.JPG', 'Pineapple_image/stage_705/IMG_1321.JPG', 'Pineapple_image/stage_705/IMG_1198.JPG', 'Pineapple_image/stage_605/DSC_0216.JPG', 'Pineapple_image/stage_501/DSC_0489.JPG', 'Pineapple_image/stage_605/DSC_0143.JPG', 'Pineapple_image/stage_701/IMG_8029.JPG', 'Pineapple_image/stage_709/IMG_4588.JPG', 'Pineapple_image/stage_501/IMG_7167.JPG', 'Pineapple_image/stage_601/DSC_0540.JPG', 'Pineapple_image/stage_509/IMG_3499.JPG', 'Pineapple_image/stage_505/IMG_4994.JPG', 'Pineapple_image/stage_701/IMG_6518.JPG', 'Pineapple_image/stage_601/IMG_5726.JPG', 'Pineapple_image/stage_601/IMG_3674 (2).JPG', 'Pineapple_image/stage_709/IMG_0073.JPG', 'Pineapple_image/stage_709/IMG_4653.JPG', 'Pineapple_image/stage_709/IMG_4610.JPG', 'Pineapple_image/stage_505/IMG_4337.JPG', 'Pineapple_image/stage_701/IMG_1695.JPG', 'Pineapple_image/stage_705/IMG_1058.JPG', 'Pineapple_image/stage_701/IMG_1799.JPG', 'Pineapple_image/stage_605/IMG_3306.JPG', 'Pineapple_image/stage_509/IMG_2069.JPG', 'Pineapple_image/stage_709/IMG_1365.JPG', 'Pineapple_image/stage_701/IMG_6483.JPG', 'Pineapple_image/stage_705/IMG_9046.JPG', 'Pineapple_image/stage_705/IMG_1040.JPG', 'Pineapple_image/stage_609/IMG_6197.JPG', 'Pineapple_image/stage_609/IMG_5907.JPG', 'Pineapple_image/stage_609/IMG_5843.JPG', 'Pineapple_image/stage_505/IMG_4136.JPG', 'Pineapple_image/stage_609/IMG_5916.JPG', 'Pineapple_image/stage_505/IMG_8559.JPG', 'Pineapple_image/stage_601/IMG_3613.JPG', 'Pineapple_image/stage_505/IMG_3966.JPG', 'Pineapple_image/stage_709/IMG_4569.JPG', 'Pineapple_image/stage_709/IMG_9757.JPG', 'Pineapple_image/stage_609/IMG_5884.JPG', 'Pineapple_image/stage_609/IMG_6020.JPG', 'Pineapple_image/stage_501/IMG_7153.JPG', 'Pineapple_image/stage_601/IMG_5580.JPG', 'Pineapple_image/stage_509/IMG_3605.JPG', 'Pineapple_image/stage_505/IMG_6753.JPG', 'Pineapple_image/stage_505/IMG_4941.JPG', 'Pineapple_image/stage_509/IMG_0761.JPG', 'Pineapple_image/stage_701/IMG_4350.JPG', 'Pineapple_image/stage_709/IMG_20210119_160515.jpg', 'Pineapple_image/stage_509/IMG_3342.JPG', 'Pineapple_image/stage_701/IMG_4310.JPG', 'Pineapple_image/stage_509/IMG_3150.JPG', 'Pineapple_image/stage_709/IMG_9643.JPG', 'Pineapple_image/stage_705/IMG_0909.JPG', 'Pineapple_image/stage_505/IMG_3891.JPG', 'Pineapple_image/stage_701/IMG_6620.JPG', 'Pineapple_image/stage_705/IMG_1021.JPG', 'Pineapple_image/stage_609/IMG_6071.JPG', 'Pineapple_image/stage_701/IMG_8253.JPG', 'Pineapple_image/stage_501/IMG_4456.JPG', 'Pineapple_image/stage_609/IMG_6125.JPG', 'Pineapple_image/stage_601/IMG_0329.JPG', 'Pineapple_image/stage_605/DSC_0023.JPG', 'Pineapple_image/stage_501/IMG_4478.JPG', 'Pineapple_image/stage_605/IMG_3793.JPG', 'Pineapple_image/stage_505/IMG_4012.JPG', 'Pineapple_image/stage_701/IMG_1809.JPG', 'Pineapple_image/stage_609/IMG_6214.JPG', 'Pineapple_image/stage_605/IMG_3281.JPG', 'Pineapple_image/stage_605/IMG_3741.JPG', 'Pineapple_image/stage_509/IMG_0345.JPG', 'Pineapple_image/stage_601/DSC_0241.JPG', 'Pineapple_image/stage_709/IMG_4665.JPG', 'Pineapple_image/stage_501/IMG_3747.JPG', 'Pineapple_image/stage_705/IMG_9058.JPG', 'Pineapple_image/stage_501/IMG_7368.JPG', 'Pineapple_image/stage_501/IMG_8615.JPG', 'Pineapple_image/stage_705/IMG_0936.JPG', 'Pineapple_image/stage_601/IMG_2046.JPG', 'Pineapple_image/stage_601/DSC_0234.JPG', 'Pineapple_image/stage_505/IMG_20210112_121951.jpg', 'Pineapple_image/stage_505/IMG_20210112_121639.jpg', 'Pineapple_image/stage_605/IMG_3431.JPG', 'Pineapple_image/stage_709/IMG_0118.JPG', 'Pineapple_image/stage_605/IMG_3412.JPG', 'Pineapple_image/stage_609/IMG_5959.JPG', 'Pineapple_image/stage_501/IMG_3795.JPG', 'Pineapple_image/stage_609/IMG_5852.JPG', 'Pineapple_image/stage_701/IMG_7605.JPG', 'Pineapple_image/stage_705/IMG_0983.JPG', 'Pineapple_image/stage_709/IMG_9706.JPG', 'Pineapple_image/stage_505/IMG_4395.JPG', 'Pineapple_image/stage_601/DSC_0380.JPG', 'Pineapple_image/stage_709/IMG_9772.JPG', 'Pineapple_image/stage_709/IMG_0090.JPG', 'Pineapple_image/stage_509/IMG_3175.JPG', 'Pineapple_image/stage_709/IMG_0001.JPG', 'Pineapple_image/stage_705/IMG_9183.JPG', 'Pineapple_image/stage_609/IMG_5888.JPG', 'Pineapple_image/stage_609/IMG_6036.JPG', 'Pineapple_image/stage_609/IMG_2830.JPG', 'Pineapple_image/stage_705/IMG_1210.JPG', 'Pineapple_image/stage_605/IMG_6403.JPG', 'Pineapple_image/stage_605/IMG_3288.JPG', 'Pineapple_image/stage_605/DSC_0108.JPG', 'Pineapple_image/stage_505/IMG_4119.JPG', 'Pineapple_image/stage_605/IMG_3358.JPG', 'Pineapple_image/stage_705/IMG_9125.JPG', 'Pineapple_image/stage_705/IMG_1106.JPG', 'Pineapple_image/stage_601/IMG_3691.JPG', 'Pineapple_image/stage_705/IMG_0280.JPG', 'Pineapple_image/stage_509/IMG_3314.JPG', 'Pineapple_image/stage_709/IMG_0098.JPG', 'Pineapple_image/stage_601/DSC_0346.JPG', 'Pineapple_image/stage_605/DSC_0104.JPG', 'Pineapple_image/stage_605/DSC_0243.JPG', 'Pineapple_image/stage_709/IMG_1369.JPG', 'Pineapple_image/stage_601/IMG_5798.JPG', 'Pineapple_image/stage_701/IMG_1348.JPG', 'Pineapple_image/stage_501/IMG_4313.JPG', 'Pineapple_image/stage_501/IMG_7330.JPG', 'Pineapple_image/stage_509/IMG_3256.JPG', 'Pineapple_image/stage_705/IMG_0940.JPG', 'Pineapple_image/stage_701/IMG_7710.JPG', 'Pineapple_image/stage_605/DSC_0246.JPG', 'Pineapple_image/stage_505/IMG_4366.JPG', 'Pineapple_image/stage_709/IMG_4482.JPG', 'Pineapple_image/stage_709/IMG_9793.JPG', 'Pineapple_image/stage_701/IMG_1489.JPG', 'Pineapple_image/stage_601/IMG_3655 (2).JPG', 'Pineapple_image/stage_609/IMG_2785.JPG', 'Pineapple_image/stage_601/IMG_0576.JPG', 'Pineapple_image/stage_509/IMG_9515.JPG', 'Pineapple_image/stage_709/IMG_9695.JPG', 'Pineapple_image/stage_705/IMG_0264.JPG', 'Pineapple_image/stage_501/IMG_7208.JPG', 'Pineapple_image/stage_505/IMG_4517.JPG', 'Pineapple_image/stage_605/DSC_0167.JPG', 'Pineapple_image/stage_709/IMG_1412.JPG', 'Pineapple_image/stage_505/IMG_4104.JPG', 'Pineapple_image/stage_505/IMG_4872.JPG', 'Pineapple_image/stage_601/IMG_5706.JPG', 'Pineapple_image/stage_701/IMG_4230.JPG', 'Pineapple_image/stage_609/IMG_2788.JPG', 'Pineapple_image/stage_509/IMG_0426.JPG', 'Pineapple_image/stage_501/IMG_7342.JPG', 'Pineapple_image/stage_509/IMG_0260.JPG', 'Pineapple_image/stage_705/IMG_9212.JPG', 'Pineapple_image/stage_609/IMG_2981.JPG', 'Pineapple_image/stage_509/IMG_3198.JPG', 'Pineapple_image/stage_501/IMG_8688.JPG', 'Pineapple_image/stage_705/IMG_1164.JPG', 'Pineapple_image/stage_505/IMG_4704.JPG', 'Pineapple_image/stage_701/IMG_2877.JPG', 'Pineapple_image/stage_505/IMG_3829.JPG', 'Pineapple_image/stage_705/IMG_9310.JPG', 'Pineapple_image/stage_701/IMG_4169.JPG', 'Pineapple_image/stage_609/DSC_0666.JPG', 'Pineapple_image/stage_701/DSC_0686.JPG', 'Pineapple_image/stage_701/IMG_7733.JPG', 'Pineapple_image/stage_705/IMG_1295.JPG', 'Pineapple_image/stage_705/IMG_9273.JPG', 'Pineapple_image/stage_509/IMG_0765.JPG', 'Pineapple_image/stage_509/IMG_0650.JPG', 'Pineapple_image/stage_705/IMG_1220.JPG', 'Pineapple_image/stage_601/IMG_3632.JPG', 'Pineapple_image/stage_701/IMG_1867.JPG', 'Pineapple_image/stage_509/IMG_0639.JPG', 'Pineapple_image/stage_705/IMG_1054.JPG', 'Pineapple_image/stage_701/IMG_6581.JPG', 'Pineapple_image/stage_501/DSC_0516.JPG', 'Pineapple_image/stage_709/IMG_4552.JPG', 'Pineapple_image/stage_709/IMG_0015.JPG', 'Pineapple_image/stage_701/IMG_4340.JPG', 'Pineapple_image/stage_709/IMG_4560.JPG', 'Pineapple_image/stage_509/IMG_0795.JPG', 'Pineapple_image/stage_605/DSC_0234.JPG', 'Pineapple_image/stage_505/IMG_4784.JPG', 'Pineapple_image/stage_601/IMG_5561.JPG', 'Pineapple_image/stage_701/IMG_1729.JPG', 'Pineapple_image/stage_605/DSC_0129.JPG', 'Pineapple_image/stage_509/IMG_0500.JPG', 'Pineapple_image/stage_605/IMG_3438.JPG', 'Pineapple_image/stage_705/IMG_9243.JPG', 'Pineapple_image/stage_701/IMG_4240.JPG', 'Pineapple_image/stage_605/IMG_3754.JPG', 'Pineapple_image/stage_701/DSC_0745.JPG', 'Pineapple_image/stage_501/IMG_3823.JPG', 'Pineapple_image/stage_501/IMG_4495.JPG', 'Pineapple_image/stage_605/IMG_3385.JPG', 'Pineapple_image/stage_709/IMG_1383.JPG', 'Pineapple_image/stage_709/IMG_0165.JPG', 'Pineapple_image/stage_509/IMG_0842.JPG', 'Pineapple_image/stage_701/IMG_6670.JPG', 'Pineapple_image/stage_501/IMG_8790.JPG', 'Pineapple_image/stage_501/IMG_3836.JPG', 'Pineapple_image/stage_605/DSC_0187.JPG', 'Pineapple_image/stage_601/IMG_3620.JPG', 'Pineapple_image/stage_605/IMG_3284.JPG', 'Pineapple_image/stage_605/DSC_0060.JPG', 'Pineapple_image/stage_605/IMG_3372.JPG', 'Pineapple_image/stage_709/IMG_9727.JPG', 'Pineapple_image/stage_601/IMG_5653.JPG', 'Pineapple_image/stage_701/IMG_1917.JPG', 'Pineapple_image/stage_505/IMG_20210112_121601.jpg', 'Pineapple_image/stage_509/IMG_0363.JPG', 'Pineapple_image/stage_705/IMG_1146.JPG', 'Pineapple_image/stage_705/IMG_1287.JPG', 'Pineapple_image/stage_605/DSC_0006.JPG', 'Pineapple_image/stage_601/IMG_0338.JPG', 'Pineapple_image/stage_609/IMG_5838.JPG', 'Pineapple_image/stage_605/IMG_3330.JPG', 'Pineapple_image/stage_509/IMG_3119.JPG', 'Pineapple_image/stage_509/IMG_0654.JPG', 'Pineapple_image/stage_605/DSC_0179.JPG', 'Pineapple_image/stage_609/IMG_2968.JPG', 'Pineapple_image/stage_609/IMG_2794.JPG', 'Pineapple_image/stage_609/IMG_2759.JPG', 'Pineapple_image/stage_501/IMG_3784.JPG', 'Pineapple_image/stage_701/IMG_4221.JPG', 'Pineapple_image/stage_601/DSC_0588.JPG', 'Pineapple_image/stage_509/IMG_0604.JPG', 'Pineapple_image/stage_701/DSC_0833.JPG', 'Pineapple_image/stage_705/IMG_9427.JPG', 'Pineapple_image/stage_501/IMG_7321.JPG', 'Pineapple_image/stage_605/DSC_0112.JPG', 'Pineapple_image/stage_701/IMG_1562.JPG', 'Pineapple_image/stage_601/IMG_3559.JPG', 'Pineapple_image/stage_509/IMG_3298.JPG', 'Pineapple_image/stage_505/IMG_4971.JPG', 'Pineapple_image/stage_709/IMG_4556.JPG', 'Pineapple_image/stage_709/IMG_9968.JPG', 'Pineapple_image/stage_701/IMG_4186.JPG', 'Pineapple_image/stage_605/IMG_3272.JPG', 'Pineapple_image/stage_601/IMG_5687.JPG', 'Pineapple_image/stage_609/IMG_5893.JPG', 'Pineapple_image/stage_509/IMG_3156.JPG', 'Pineapple_image/stage_609/IMG_6015.JPG', 'Pineapple_image/stage_505/IMG_4019.JPG', 'Pineapple_image/stage_509/IMG_9583.JPG', 'Pineapple_image/stage_505/IMG_4633.JPG', 'Pineapple_image/stage_601/IMG_3534.JPG', 'Pineapple_image/stage_501/DSC_0553.JPG', 'Pineapple_image/stage_505/IMG_20210112_121120.jpg', 'Pineapple_image/stage_705/IMG_0367.JPG', 'Pineapple_image/stage_605/IMG_3389.JPG', 'Pineapple_image/stage_705/IMG_9462.JPG', 'Pineapple_image/stage_505/IMG_3816.JPG', 'Pineapple_image/stage_709/IMG_9671.JPG', 'Pineapple_image/stage_701/IMG_1837.JPG', 'Pineapple_image/stage_505/IMG_4418.JPG', 'Pineapple_image/stage_501/DSC_0494.JPG', 'Pineapple_image/stage_505/IMG_4005.JPG', 'Pineapple_image/stage_701/IMG_6689.JPG', 'Pineapple_image/stage_709/IMG_0029.JPG', 'Pineapple_image/stage_605/IMG_3462.JPG', 'Pineapple_image/stage_501/IMG_3790.JPG', 'Pineapple_image/stage_509/IMG_3347.JPG', 'Pineapple_image/stage_509/IMG_0519.JPG', 'Pineapple_image/stage_501/DSC_0607.JPG', 'Pineapple_image/stage_701/IMG_7799.JPG', 'Pineapple_image/stage_501/IMG_2077.JPG', 'Pineapple_image/stage_609/IMG_2979.JPG', 'Pineapple_image/stage_605/DSC_1010.JPG', 'Pineapple_image/stage_701/IMG_1945.JPG', 'Pineapple_image/stage_601/IMG_0827.JPG', 'Pineapple_image/stage_505/IMG_4756.JPG', 'Pineapple_image/stage_605/IMG_3276.JPG', 'Pineapple_image/stage_601/DSC_0605.JPG', 'Pineapple_image/stage_605/DSC_0125.JPG', 'Pineapple_image/stage_705/IMG_0946.JPG', 'Pineapple_image/stage_505/IMG_3949.JPG', 'Pineapple_image/stage_501/IMG_6355.JPG', 'Pineapple_image/stage_609/IMG_6033.JPG', 'Pineapple_image/stage_505/IMG_7269.JPG', 'Pineapple_image/stage_705/IMG_9050.JPG', 'Pineapple_image/stage_601/IMG_0459.JPG', 'Pineapple_image/stage_605/IMG_3229.JPG', 'Pineapple_image/stage_609/IMG_2865.JPG', 'Pineapple_image/stage_701/IMG_7691.JPG', 'Pineapple_image/stage_505/IMG_8437.JPG', 'Pineapple_image/stage_605/DSC_0156.JPG', 'Pineapple_image/stage_709/IMG_0095.JPG', 'Pineapple_image/stage_705/IMG_0875.JPG', 'Pineapple_image/stage_605/DSC_0159.JPG', 'Pineapple_image/stage_701/DSC_0766.JPG', 'Pineapple_image/stage_705/IMG_1130.JPG', 'Pineapple_image/stage_605/IMG_3399.JPG', 'Pineapple_image/stage_609/IMG_2766.JPG', 'Pineapple_image/stage_601/DSC_0244.JPG', 'Pineapple_image/stage_601/DSC_0467.JPG', 'Pineapple_image/stage_705/IMG_0878.JPG', 'Pineapple_image/stage_505/IMG_4159.JPG', 'Pineapple_image/stage_701/IMG_1637.JPG', 'Pineapple_image/stage_505/IMG_4907.JPG', 'Pineapple_image/stage_709/IMG_4423.JPG', 'Pineapple_image/stage_509/IMG_0714.JPG', 'Pineapple_image/stage_605/DSC_0070.JPG', 'Pineapple_image/stage_505/IMG_5014.JPG', 'Pineapple_image/stage_701/IMG_2908.JPG', 'Pineapple_image/stage_609/IMG_6151.JPG', 'Pineapple_image/stage_709/IMG_0066.JPG', 'Pineapple_image/stage_505/IMG_4627.JPG', 'Pineapple_image/stage_509/IMG_0413.JPG', 'Pineapple_image/stage_505/IMG_3872.JPG', 'Pineapple_image/stage_601/DSC_0427.JPG', 'Pineapple_image/stage_501/IMG_3703.JPG', 'Pineapple_image/stage_509/IMG_0303.JPG', 'Pineapple_image/stage_609/IMG_5855.JPG', 'Pineapple_image/stage_505/IMG_3842.JPG', 'Pineapple_image/stage_605/DSC_0206.JPG', 'Pineapple_image/stage_709/IMG_9961.JPG', 'Pineapple_image/stage_609/IMG_2800.JPG', 'Pineapple_image/stage_705/IMG_0361.JPG', 'Pineapple_image/stage_601/DSC_0200.JPG', 'Pineapple_image/stage_505/IMG_3932.JPG', 'Pineapple_image/stage_609/IMG_2824.JPG', 'Pineapple_image/stage_709/IMG_9851.JPG', 'Pineapple_image/stage_601/DSC_0296.JPG', 'Pineapple_image/stage_505/IMG_4345.JPG', 'Pineapple_image/stage_609/IMG_5866.JPG', 'Pineapple_image/stage_709/IMG_0168.JPG', 'Pineapple_image/stage_601/IMG_0334.JPG', 'Pineapple_image/stage_609/IMG_2958.JPG', 'Pineapple_image/stage_705/IMG_0390.JPG', 'Pineapple_image/stage_505/IMG_4381.JPG', 'Pineapple_image/stage_509/IMG_0374.JPG', 'Pineapple_image/stage_505/IMG_4893.JPG', 'Pineapple_image/stage_509/IMG_0506.JPG', 'Pineapple_image/stage_701/IMG_6679.JPG', 'Pineapple_image/stage_605/DSC_0183.JPG', 'Pineapple_image/stage_605/IMG_3212.JPG', 'Pineapple_image/stage_709/IMG_0060.JPG', 'Pineapple_image/stage_501/IMG_8623.JPG', 'Pineapple_image/stage_705/IMG_0316.JPG', 'Pineapple_image/stage_705/IMG_1265.JPG', 'Pineapple_image/stage_609/IMG_2931.JPG', 'Pineapple_image/stage_501/IMG_7214.JPG', 'Pineapple_image/stage_705/IMG_1044.JPG', 'Pineapple_image/stage_709/IMG_4661.JPG', 'Pineapple_image/stage_501/IMG_3818.JPG', 'Pineapple_image/stage_501/IMG_3723.JPG', 'Pineapple_image/stage_705/IMG_1317.JPG', 'Pineapple_image/stage_709/IMG_1437.JPG', 'Pineapple_image/stage_505/IMG_4977.JPG', 'Pineapple_image/stage_609/IMG_5949.JPG', 'Pineapple_image/stage_605/DSC_0086.JPG', 'Pineapple_image/stage_501/IMG_3932.JPG', 'Pineapple_image/stage_701/IMG_4278.JPG', 'Pineapple_image/stage_505/IMG_4076.JPG', 'Pineapple_image/stage_501/IMG_3863.JPG', 'Pineapple_image/stage_505/IMG_4025.JPG', 'Pineapple_image/stage_605/DSC_0194.JPG', 'Pineapple_image/stage_605/IMG_3720.JPG', 'Pineapple_image/stage_609/IMG_2858.JPG', 'Pineapple_image/stage_505/IMG_20210112_120038.jpg', 'Pineapple_image/stage_505/IMG_4689.JPG', 'Pineapple_image/stage_609/IMG_5823.JPG', 'Pineapple_image/stage_709/IMG_4537.JPG', 'Pineapple_image/stage_605/IMG_3471.JPG', 'Pineapple_image/stage_709/IMG_0115.JPG', 'Pineapple_image/stage_505/IMG_4319.JPG', 'Pineapple_image/stage_609/IMG_5812.JPG', 'Pineapple_image/stage_609/IMG_2756.JPG', 'Pineapple_image/stage_505/IMG_4152.JPG', 'Pineapple_image/stage_701/IMG_1481.JPG', 'Pineapple_image/stage_701/IMG_6571.JPG', 'Pineapple_image/stage_509/IMG_3088.JPG', 'Pineapple_image/stage_609/IMG_5882.JPG', 'Pineapple_image/stage_701/IMG_7863.JPG', 'Pineapple_image/stage_605/DSC_0002.JPG', 'Pineapple_image/stage_705/IMG_0351.JPG', 'Pineapple_image/stage_709/IMG_9801.JPG', 'Pineapple_image/stage_605/IMG_3714.JPG', 'Pineapple_image/stage_709/IMG_4614.JPG', 'Pineapple_image/stage_509/IMG_0610.JPG', 'Pineapple_image/stage_501/IMG_7185.JPG', 'Pineapple_image/stage_709/IMG_9870.JPG', 'Pineapple_image/stage_701/DSC_0716.JPG', 'Pineapple_image/stage_609/IMG_6109.JPG', 'Pineapple_image/stage_605/IMG_3774.JPG', 'Pineapple_image/stage_601/IMG_3530.JPG', 'Pineapple_image/stage_509/IMG_3406.JPG', 'Pineapple_image/stage_501/DSC_0586.JPG', 'Pineapple_image/stage_609/IMG_5818.JPG', 'Pineapple_image/stage_509/IMG_0669.JPG', 'Pineapple_image/stage_509/IMG_3191.JPG', 'Pineapple_image/stage_609/DSC_0622.JPG', 'Pineapple_image/stage_709/IMG_9751.JPG', 'Pineapple_image/stage_701/IMG_7760.JPG', 'Pineapple_image/stage_609/IMG_5849.JPG', 'Pineapple_image/stage_501/DSC_0640.JPG', 'Pineapple_image/stage_601/IMG_0481.JPG', 'Pineapple_image/stage_501/IMG_8772.JPG', 'Pineapple_image/stage_605/IMG_3396.JPG', 'Pineapple_image/stage_705/IMG_1233.JPG', 'Pineapple_image/stage_509/IMG_0296.JPG', 'Pineapple_image/stage_501/DSC_0480.JPG', 'Pineapple_image/stage_609/IMG_5886.JPG', 'Pineapple_image/stage_705/IMG_9117.JPG', 'Pineapple_image/stage_605/DSC_0041.JPG', 'Pineapple_image/stage_505/IMG_3849.JPG', 'Pineapple_image/stage_709/IMG_9821.JPG', 'Pineapple_image/stage_509/IMG_9536.JPG', 'Pineapple_image/stage_509/IMG_3284.JPG', 'Pineapple_image/stage_501/DSC_0511.JPG', 'Pineapple_image/stage_605/IMG_3258.JPG', 'Pineapple_image/stage_705/IMG_9267.JPG', 'Pineapple_image/stage_609/DSC_0631.JPG', 'Pineapple_image/stage_705/IMG_1298.JPG', 'Pineapple_image/stage_501/IMG_7194.JPG', 'Pineapple_image/stage_609/IMG_5978.JPG', 'Pineapple_image/stage_609/IMG_2944.JPG', 'Pineapple_image/stage_501/IMG_3938.JPG', 'Pineapple_image/stage_709/IMG_0082.JPG', 'Pineapple_image/stage_609/IMG_2836.JPG', 'Pineapple_image/stage_505/IMG_4736.JPG', 'Pineapple_image/stage_501/IMG_2024.JPG', 'Pineapple_image/stage_501/DSC_0549.JPG', 'Pineapple_image/stage_601/IMG_5772.JPG', 'Pineapple_image/stage_601/DSC_0423.JPG', 'Pineapple_image/stage_609/IMG_5878.JPG', 'Pineapple_image/stage_605/DSC_1003.JPG', 'Pineapple_image/stage_605/DSC_0265.JPG', 'Pineapple_image/stage_601/IMG_3527.JPG', 'Pineapple_image/stage_601/IMG_3618.JPG', 'Pineapple_image/stage_605/IMG_3300.JPG', 'Pineapple_image/stage_709/IMG_9646.JPG', 'Pineapple_image/stage_501/IMG_3842.JPG', 'Pineapple_image/stage_705/IMG_9138.JPG', 'Pineapple_image/stage_505/IMG_3860.JPG', 'Pineapple_image/stage_509/IMG_1333.JPG', 'Pineapple_image/stage_709/IMG_9768.JPG', 'Pineapple_image/stage_701/IMG_1856.JPG', 'Pineapple_image/stage_509/IMG_0771.JPG', 'Pineapple_image/stage_705/IMG_9228.JPG', 'Pineapple_image/stage_609/DSC_0629.JPG', 'Pineapple_image/stage_601/IMG_5625.JPG', 'Pineapple_image/stage_609/IMG_6038.JPG', 'Pineapple_image/stage_705/IMG_9106.JPG', 'Pineapple_image/stage_501/IMG_6340.JPG', 'Pineapple_image/stage_509/IMG_3110.JPG', 'Pineapple_image/stage_601/IMG_3682.JPG', 'Pineapple_image/stage_705/IMG_0266.JPG', 'Pineapple_image/stage_701/IMG_6531.JPG', 'Pineapple_image/stage_601/DSC_0559.JPG', 'Pineapple_image/stage_605/DSC_0132.JPG', 'Pineapple_image/stage_709/IMG_9783.JPG', 'Pineapple_image/stage_601/DSC_0358.JPG', 'Pineapple_image/stage_605/IMG_6389.JPG', 'Pineapple_image/stage_601/DSC_0281.JPG', 'Pineapple_image/stage_505/IMG_4790.JPG', 'Pineapple_image/stage_609/IMG_6101.JPG', 'Pineapple_image/stage_601/DSC_0458.JPG', 'Pineapple_image/stage_505/IMG_4166.JPG', 'Pineapple_image/stage_505/IMG_4807.JPG', 'Pineapple_image/stage_709/IMG_9993.JPG', 'Pineapple_image/stage_701/DSC_0885.JPG', 'Pineapple_image/stage_501/IMG_8833.JPG', 'Pineapple_image/stage_709/IMG_9626.JPG', 'Pineapple_image/stage_705/IMG_1235.JPG', 'Pineapple_image/stage_601/IMG_0353.JPG', 'Pineapple_image/stage_705/IMG_9471.JPG', 'Pineapple_image/stage_705/IMG_0359.JPG', 'Pineapple_image/stage_501/DSC_0499.JPG', 'Pineapple_image/stage_605/IMG_3403.JPG', 'Pineapple_image/stage_601/IMG_0455.JPG', 'Pineapple_image/stage_505/IMG_8575.JPG', 'Pineapple_image/stage_509/IMG_3248.JPG', 'Pineapple_image/stage_601/DSC_0365.JPG', 'Pineapple_image/stage_505/IMG_3832.JPG', 'Pineapple_image/stage_601/DSC_0329.JPG', 'Pineapple_image/stage_509/IMG_3159.JPG', 'Pineapple_image/stage_709/IMG_9731.JPG', 'Pineapple_image/stage_609/IMG_5984.JPG', 'Pineapple_image/stage_501/IMG_8629.JPG', 'Pineapple_image/stage_601/DSC_0478.JPG', 'Pineapple_image/stage_701/IMG_1906.JPG', 'Pineapple_image/stage_601/IMG_3512.JPG', 'Pineapple_image/stage_709/IMG_9636.JPG', 'Pineapple_image/stage_501/IMG_3811.JPG'] sample Pineapple_image/stage_605/DSC_0147.JPG\n",
      "One ['Pineapple_image/stage_509/IMG_3427.JPG', 'Pineapple_image/stage_705/IMG_1017.JPG', 'Pineapple_image/stage_509/IMG_0683.JPG', 'Pineapple_image/stage_701/IMG_4256.JPG', 'Pineapple_image/stage_609/IMG_5880.JPG', 'Pineapple_image/stage_509/IMG_3289.JPG', 'Pineapple_image/stage_705/IMG_1229.JPG', 'Pineapple_image/stage_701/IMG_7504.JPG', 'Pineapple_image/stage_501/DSC_0626.JPG', 'Pineapple_image/stage_505/IMG_3991.JPG', 'Pineapple_image/stage_601/IMG_5695.JPG', 'Pineapple_image/stage_609/IMG_5974.JPG', 'Pineapple_image/stage_601/IMG_3605.JPG', 'Pineapple_image/stage_701/IMG_1471.JPG', 'Pineapple_image/stage_509/IMG_0787.JPG', 'Pineapple_image/stage_505/IMG_4862.JPG', 'Pineapple_image/stage_709/IMG_4585.JPG', 'Pineapple_image/stage_501/IMG_7255.JPG', 'Pineapple_image/stage_505/IMG_4016.JPG', 'Pineapple_image/stage_709/IMG_9926.JPG', 'Pineapple_image/stage_601/IMG_0740.JPG', 'Pineapple_image/stage_701/DSC_0913.JPG', 'Pineapple_image/stage_505/IMG_4051.JPG', 'Pineapple_image/stage_601/DSC_0264.JPG', 'Pineapple_image/stage_605/IMG_3187.JPG', 'Pineapple_image/stage_709/IMG_1427.JPG', 'Pineapple_image/stage_701/DSC_0894.JPG', 'Pineapple_image/stage_601/IMG_6246.JPG', 'Pineapple_image/stage_601/IMG_3677.JPG', 'Pineapple_image/stage_605/DSC_0292.JPG', 'Pineapple_image/stage_709/IMG_0136.JPG', 'Pineapple_image/stage_705/IMG_1303.JPG', 'Pineapple_image/stage_609/IMG_2973.JPG', 'Pineapple_image/stage_509/IMG_0569.JPG', 'Pineapple_image/stage_509/IMG_0791.JPG', 'Pineapple_image/stage_501/IMG_3754.JPG', 'Pineapple_image/stage_509/IMG_0410.JPG', 'Pineapple_image/stage_701/IMG_1513.JPG', 'Pineapple_image/stage_509/IMG_0688.JPG', 'Pineapple_image/stage_709/IMG_9807.JPG', 'Pineapple_image/stage_609/IMG_5847.JPG', 'Pineapple_image/stage_609/IMG_6061.JPG', 'Pineapple_image/stage_505/IMG_3902.JPG', 'Pineapple_image/stage_505/IMG_20210112_120832.jpg', 'Pineapple_image/stage_605/IMG_3323.JPG', 'Pineapple_image/stage_509/IMG_0699.JPG', 'Pineapple_image/stage_509/IMG_3073.JPG', 'Pineapple_image/stage_605/IMG_3342.JPG', 'Pineapple_image/stage_705/IMG_9149.JPG', 'Pineapple_image/stage_505/IMG_8583.JPG', 'Pineapple_image/stage_509/IMG_2090.JPG', 'Pineapple_image/stage_505/IMG_5040.JPG', 'Pineapple_image/stage_709/IMG_4580.JPG', 'Pineapple_image/stage_609/IMG_2934.JPG', 'Pineapple_image/stage_509/IMG_0776.JPG', 'Pineapple_image/stage_509/IMG_0678.JPG', 'Pineapple_image/stage_505/IMG_4089.JPG', 'Pineapple_image/stage_605/IMG_3369.JPG', 'Pineapple_image/stage_701/IMG_7595.JPG', 'Pineapple_image/stage_501/IMG_3730.JPG', 'Pineapple_image/stage_601/DSC_0512.JPG', 'Pineapple_image/stage_509/IMG_3095.JPG', 'Pineapple_image/stage_501/IMG_3857.JPG', 'Pineapple_image/stage_601/IMG_0825.JPG', 'Pineapple_image/stage_501/IMG_7190.JPG', 'Pineapple_image/stage_501/DSC_0566.JPG', 'Pineapple_image/stage_605/DSC_0315.JPG', 'Pineapple_image/stage_501/DSC_0852.JPG', 'Pineapple_image/stage_705/IMG_1272.JPG', 'Pineapple_image/stage_505/IMG_4595.JPG', 'Pineapple_image/stage_509/IMG_0318.JPG', 'Pineapple_image/stage_709/IMG_4549.JPG', 'Pineapple_image/stage_605/IMG_3335.JPG', 'Pineapple_image/stage_609/IMG_6221.JPG', 'Pineapple_image/stage_701/IMG_7922.JPG', 'Pineapple_image/stage_701/IMG_4288.JPG', 'Pineapple_image/stage_501/IMG_6362.JPG', 'Pineapple_image/stage_501/IMG_7229.JPG', 'Pineapple_image/stage_609/IMG_5926.JPG', 'Pineapple_image/stage_705/IMG_0888.JPG', 'Pineapple_image/stage_709/IMG_1453.JPG', 'Pineapple_image/stage_505/IMG_7211.JPG', 'Pineapple_image/stage_505/IMG_4768.JPG', 'Pineapple_image/stage_701/IMG_4249.JPG', 'Pineapple_image/stage_701/IMG_7646.JPG', 'Pineapple_image/stage_609/IMG_2960.JPG', 'Pineapple_image/stage_701/IMG_9369.JPG', 'Pineapple_image/stage_609/IMG_2828.JPG', 'Pineapple_image/stage_609/IMG_6237.JPG', 'Pineapple_image/stage_609/DSC_0637.JPG', 'Pineapple_image/stage_701/IMG_7623.JPG', 'Pineapple_image/stage_509/IMG_0838.JPG', 'Pineapple_image/stage_705/IMG_1159.JPG', 'Pineapple_image/stage_505/IMG_7403.JPG', 'Pineapple_image/stage_609/IMG_5936.JPG', 'Pineapple_image/stage_509/IMG_0341.JPG', 'Pineapple_image/stage_501/IMG_7349.JPG', 'Pineapple_image/stage_609/IMG_2964.JPG', 'Pineapple_image/stage_709/IMG_20210119_155431.jpg', 'Pineapple_image/stage_501/IMG_4359.JPG', 'Pineapple_image/stage_701/IMG_1615.JPG', 'Pineapple_image/stage_601/IMG_5636.JPG', 'Pineapple_image/stage_705/IMG_1255.JPG', 'Pineapple_image/stage_501/IMG_3814.JPG', 'Pineapple_image/stage_701/IMG_1828.JPG', 'Pineapple_image/stage_609/IMG_2938.JPG', 'Pineapple_image/stage_709/IMG_9780.JPG', 'Pineapple_image/stage_605/IMG_3780.JPG', 'Pineapple_image/stage_709/IMG_9933.JPG', 'Pineapple_image/stage_609/IMG_6028.JPG', 'Pineapple_image/stage_509/IMG_0279.JPG', 'Pineapple_image/stage_601/IMG_5758.JPG', 'Pineapple_image/stage_501/IMG_3903.JPG', 'Pineapple_image/stage_605/IMG_2032.JPG', 'Pineapple_image/stage_505/IMG_4698.JPG', 'Pineapple_image/stage_609/IMG_5897.JPG', 'Pineapple_image/stage_609/IMG_2851.JPG', 'Pineapple_image/stage_701/IMG_2897.JPG', 'Pineapple_image/stage_701/IMG_1740.JPG', 'Pineapple_image/stage_605/DSC_0249.JPG', 'Pineapple_image/stage_505/IMG_4128.JPG', 'Pineapple_image/stage_605/DSC_0100.JPG', 'Pineapple_image/stage_509/IMG_3304.JPG', 'Pineapple_image/stage_505/IMG_2087.JPG', 'Pineapple_image/stage_605/IMG_3204.JPG', 'Pineapple_image/stage_601/IMG_3625 (2).JPG', 'Pineapple_image/stage_501/IMG_6291.JPG', 'Pineapple_image/stage_601/DSC_0210.JPG', 'Pineapple_image/stage_501/IMG_8641.JPG', 'Pineapple_image/stage_705/IMG_9478.JPG', 'Pineapple_image/stage_709/IMG_9651.JPG', 'Pineapple_image/stage_701/DSC_0775.JPG', 'Pineapple_image/stage_701/IMG_1788.JPG', 'Pineapple_image/stage_505/IMG_4817.JPG', 'Pineapple_image/stage_501/IMG_8654.JPG', 'Pineapple_image/stage_709/IMG_4444.JPG', 'Pineapple_image/stage_505/IMG_7424.JPG', 'Pineapple_image/stage_709/IMG_0049.JPG', 'Pineapple_image/stage_505/IMG_4681.JPG', 'Pineapple_image/stage_701/IMG_1766.JPG', 'Pineapple_image/stage_505/IMG_4037.JPG', 'Pineapple_image/stage_705/IMG_9146.JPG', 'Pineapple_image/stage_501/IMG_3743.JPG', 'Pineapple_image/stage_605/DSC_0311.JPG', 'Pineapple_image/stage_505/IMG_3856.JPG', 'Pineapple_image/stage_705/IMG_9403.JPG', 'Pineapple_image/stage_701/IMG_8051.JPG', 'Pineapple_image/stage_709/IMG_9954.JPG', 'Pineapple_image/stage_509/IMG_0599.JPG', 'Pineapple_image/stage_705/IMG_0968.JPG', 'Pineapple_image/stage_509/IMG_3384.JPG', 'Pineapple_image/stage_605/DSC_0044.JPG', 'Pineapple_image/stage_705/IMG_1098.JPG', 'Pineapple_image/stage_601/IMG_5783.JPG', 'Pineapple_image/stage_509/IMG_3243.JPG', 'Pineapple_image/stage_609/IMG_2845.JPG', 'Pineapple_image/stage_709/IMG_4591.JPG', 'Pineapple_image/stage_605/IMG_3247.JPG', 'Pineapple_image/stage_609/IMG_5857.JPG', 'Pineapple_image/stage_605/DSC_0458.JPG', 'Pineapple_image/stage_605/DSC_0285.JPG', 'Pineapple_image/stage_705/IMG_1048.JPG', 'Pineapple_image/stage_501/DSC_0540.JPG', 'Pineapple_image/stage_601/IMG_3707.JPG', 'Pineapple_image/stage_609/DSC_0663.JPG', 'Pineapple_image/stage_709/IMG_0004.JPG', 'Pineapple_image/stage_501/IMG_3866.JPG', 'Pineapple_image/stage_609/IMG_6082.JPG', 'Pineapple_image/stage_605/DSC_0089.JPG', 'Pineapple_image/stage_609/IMG_5864.JPG', 'Pineapple_image/stage_605/IMG_3458.JPG', 'Pineapple_image/stage_505/IMG_3908.JPG', 'Pineapple_image/stage_709/IMG_4429.JPG', 'Pineapple_image/stage_609/IMG_5825.JPG', 'Pineapple_image/stage_501/IMG_3767.JPG', 'Pineapple_image/stage_709/IMG_0207.JPG', 'Pineapple_image/stage_501/IMG_8649.JPG', 'Pineapple_image/stage_609/IMG_2752.JPG', 'Pineapple_image/stage_509/IMG_3563.JPG', 'Pineapple_image/stage_505/IMG_4965.JPG', 'Pineapple_image/stage_609/DSC_0191.JPG', 'Pineapple_image/stage_701/IMG_4321.JPG', 'Pineapple_image/stage_701/IMG_4269.JPG', 'Pineapple_image/stage_709/IMG_1442.JPG', 'Pineapple_image/stage_501/IMG_3708.JPG', 'Pineapple_image/stage_501/DSC_0556.JPG', 'Pineapple_image/stage_605/DSC_0219.JPG', 'Pineapple_image/stage_609/IMG_2953.JPG', 'Pineapple_image/stage_705/IMG_9173.JPG', 'Pineapple_image/stage_705/IMG_0883.JPG', 'Pineapple_image/stage_609/DSC_0672.JPG', 'Pineapple_image/stage_605/IMG_6418.JPG', 'Pineapple_image/stage_501/DSC_0839.JPG', 'Pineapple_image/stage_605/DSC_0327.JPG', 'Pineapple_image/stage_609/IMG_2840.JPG', 'Pineapple_image/stage_505/IMG_3824.JPG', 'Pineapple_image/stage_605/IMG_3477.JPG', 'Pineapple_image/stage_505/IMG_3885.JPG', 'Pineapple_image/stage_501/IMG_8816.JPG', 'Pineapple_image/stage_605/DSC_0445.JPG', 'Pineapple_image/stage_505/IMG_4600.JPG', 'Pineapple_image/stage_505/IMG_3975.JPG', 'Pineapple_image/stage_509/IMG_9573.JPG', 'Pineapple_image/stage_601/DSC_0325.JPG', 'Pineapple_image/stage_609/DSC_0634.JPG', 'Pineapple_image/stage_701/IMG_1604.JPG', 'Pineapple_image/stage_505/IMG_4437.JPG', 'Pineapple_image/stage_505/IMG_3962.JPG', 'Pineapple_image/stage_705/IMG_1171.JPG', 'Pineapple_image/stage_609/IMG_2817.JPG', 'Pineapple_image/stage_701/IMG_8369.JPG', 'Pineapple_image/stage_501/DSC_0598.JPG', 'Pineapple_image/stage_605/IMG_3200.JPG', 'Pineapple_image/stage_609/IMG_2868.JPG', 'Pineapple_image/stage_601/DSC_0463.JPG', 'Pineapple_image/stage_601/DSC_0288.JPG', 'Pineapple_image/stage_709/IMG_9879.JPG', 'Pineapple_image/stage_501/IMG_8780.JPG', 'Pineapple_image/stage_605/DSC_0163.JPG', 'Pineapple_image/stage_609/IMG_6064.JPG', 'Pineapple_image/stage_601/DSC_0520.JPG', 'Pineapple_image/stage_705/IMG_1243.JPG', 'Pineapple_image/stage_509/IMG_9560.JPG', 'Pineapple_image/stage_509/IMG_3573.JPG', 'Pineapple_image/stage_709/IMG_0122.JPG', 'Pineapple_image/stage_609/IMG_6097.JPG', 'Pineapple_image/stage_605/IMG_3726.JPG', 'Pineapple_image/stage_609/IMG_2946.JPG', 'Pineapple_image/stage_509/IMG_3280.JPG', 'Pineapple_image/stage_705/IMG_9086.JPG', 'Pineapple_image/stage_501/IMG_8825.JPG', 'Pineapple_image/stage_701/IMG_6538.JPG', 'Pineapple_image/stage_605/DSC_0056.JPG', 'Pineapple_image/stage_705/IMG_9178.JPG', 'Pineapple_image/stage_701/IMG_6492.JPG', 'Pineapple_image/stage_709/IMG_9674.JPG', 'Pineapple_image/stage_705/IMG_0912.JPG', 'Pineapple_image/stage_709/IMG_9760.JPG', 'Pineapple_image/stage_601/IMG_3493.JPG', 'Pineapple_image/stage_709/IMG_0043.JPG', 'Pineapple_image/stage_709/IMG_1419.JPG', 'Pineapple_image/stage_605/DSC_0322.JPG', 'Pineapple_image/stage_605/DSC_0996.JPG', 'Pineapple_image/stage_501/IMG_8735.JPG', 'Pineapple_image/stage_609/IMG_5831.JPG', 'Pineapple_image/stage_605/DSC_0442.JPG', 'Pineapple_image/stage_509/IMG_1343.JPG', 'Pineapple_image/stage_709/IMG_0128.JPG', 'Pineapple_image/stage_601/IMG_6273.JPG', 'Pineapple_image/stage_609/IMG_2761.JPG', 'Pineapple_image/stage_701/IMG_8394.JPG', 'Pineapple_image/stage_605/IMG_3255.JPG', 'Pineapple_image/stage_605/DSC_0450.JPG', 'Pineapple_image/stage_701/IMG_4330.JPG', 'Pineapple_image/stage_709/IMG_9813.JPG', 'Pineapple_image/stage_701/DSC_0787.JPG', 'Pineapple_image/stage_509/IMG_2094.JPG', 'Pineapple_image/stage_705/IMG_9506.JPG', 'Pineapple_image/stage_609/DSC_0668.JPG', 'Pineapple_image/stage_705/IMG_1311.JPG', 'Pineapple_image/stage_505/IMG_4876.JPG', 'Pineapple_image/stage_709/IMG_0148.JPG', 'Pineapple_image/stage_605/DSC_0053.JPG', 'Pineapple_image/stage_509/IMG_0757.JPG', 'Pineapple_image/stage_609/IMG_6140.JPG', 'Pineapple_image/stage_601/DSC_0271.JPG', 'Pineapple_image/stage_601/DSC_0571.JPG', 'Pineapple_image/stage_701/IMG_4176.JPG', 'Pineapple_image/stage_701/IMG_1889.JPG', 'Pineapple_image/stage_701/IMG_7871.JPG', 'Pineapple_image/stage_701/IMG_7513.JPG', 'Pineapple_image/stage_701/IMG_8072.JPG', 'Pineapple_image/stage_501/IMG_8644.JPG', 'Pineapple_image/stage_701/IMG_8009.JPG', 'Pineapple_image/stage_605/IMG_3452.JPG', 'Pineapple_image/stage_501/DSC_0581.JPG', 'Pineapple_image/stage_705/IMG_9082.JPG', 'Pineapple_image/stage_509/IMG_3507.JPG', 'Pineapple_image/stage_701/IMG_9355.JPG', 'Pineapple_image/stage_609/IMG_5810.JPG', 'Pineapple_image/stage_705/IMG_0904.JPG', 'Pineapple_image/stage_705/IMG_0926.JPG', 'Pineapple_image/stage_701/IMG_8278.JPG', 'Pineapple_image/stage_701/DSC_0796.JPG', 'Pineapple_image/stage_509/IMG_3164.JPG', 'Pineapple_image/stage_701/IMG_1583.JPG', 'Pineapple_image/stage_605/IMG_6425.JPG', 'Pineapple_image/stage_501/DSC_0521.JPG', 'Pineapple_image/stage_705/IMG_0999.JPG', 'Pineapple_image/stage_601/IMG_0801.JPG', 'Pineapple_image/stage_509/IMG_1337.JPG', 'Pineapple_image/stage_501/IMG_4447.JPG', 'Pineapple_image/stage_609/IMG_2955.JPG', 'Pineapple_image/stage_501/IMG_7324.JPG', 'Pineapple_image/stage_501/IMG_8678.JPG', 'Pineapple_image/stage_709/IMG_4533.JPG', 'Pineapple_image/stage_605/IMG_3338.JPG', 'Pineapple_image/stage_705/IMG_0283.JPG', 'Pineapple_image/stage_705/IMG_1133.JPG', 'Pineapple_image/stage_709/IMG_0160.JPG', 'Pineapple_image/stage_709/IMG_9895.JPG', 'Pineapple_image/stage_605/IMG_3196.JPG', 'Pineapple_image/stage_605/DSC_0063.JPG', 'Pineapple_image/stage_601/DSC_0531.JPG', 'Pineapple_image/stage_601/DSC_0311.JPG', 'Pineapple_image/stage_501/IMG_4329.JPG', 'Pineapple_image/stage_705/IMG_9232.JPG', 'Pineapple_image/stage_505/IMG_4044.JPG', 'Pineapple_image/stage_501/DSC_0470.JPG', 'Pineapple_image/stage_605/IMG_3292.JPG', 'Pineapple_image/stage_601/DSC_0375.JPG', 'Pineapple_image/stage_601/IMG_3627 (2).JPG', 'Pineapple_image/stage_501/IMG_7377.JPG', 'Pineapple_image/stage_509/IMG_0751.JPG', 'Pineapple_image/stage_501/IMG_8664.JPG', 'Pineapple_image/stage_709/IMG_1355.JPG', 'Pineapple_image/stage_605/IMG_3447.JPG', 'Pineapple_image/stage_709/IMG_9630.JPG', 'Pineapple_image/stage_705/IMG_0921.JPG', 'Pineapple_image/stage_705/IMG_9131.JPG', 'Pineapple_image/stage_509/IMG_3554.JPG', 'Pineapple_image/stage_501/IMG_7263.JPG', 'Pineapple_image/stage_509/IMG_0285.JPG', 'Pineapple_image/stage_705/IMG_9093.JPG', 'Pineapple_image/stage_505/IMG_4672.JPG', 'Pineapple_image/stage_705/IMG_9265.JPG', 'Pineapple_image/stage_501/IMG_4486.JPG', 'Pineapple_image/stage_501/IMG_7306.JPG', 'Pineapple_image/stage_701/IMG_6501.JPG', 'Pineapple_image/stage_701/IMG_8132.JPG', 'Pineapple_image/stage_709/IMG_9663.JPG', 'Pineapple_image/stage_501/IMG_3775.JPG', 'Pineapple_image/stage_705/IMG_1062.JPG', 'Pineapple_image/stage_701/IMG_7544.JPG', 'Pineapple_image/stage_705/IMG_9249.JPG', 'Pineapple_image/stage_505/IMG_4541.JPG', 'Pineapple_image/stage_609/IMG_2802.JPG', 'Pineapple_image/stage_705/IMG_9114.JPG', 'Pineapple_image/stage_705/IMG_1149.JPG', 'Pineapple_image/stage_709/IMG_1373.JPG', 'Pineapple_image/stage_501/IMG_3770.JPG', 'Pineapple_image/stage_601/IMG_6260.JPG', 'Pineapple_image/stage_601/DSC_0223.JPG', 'Pineapple_image/stage_605/DSC_0026.JPG', 'Pineapple_image/stage_705/IMG_0868.JPG', 'Pineapple_image/stage_701/DSC_0824.JPG', 'Pineapple_image/stage_705/IMG_1050.JPG', 'Pineapple_image/stage_601/IMG_0548.JPG', 'Pineapple_image/stage_705/IMG_0987.JPG', 'Pineapple_image/stage_501/DSC_0856.JPG', 'Pineapple_image/stage_501/IMG_3920.JPG', 'Pineapple_image/stage_505/IMG_20210112_121019.jpg', 'Pineapple_image/stage_601/DSC_0536.JPG', 'Pineapple_image/stage_505/IMG_4028.JPG', 'Pineapple_image/stage_701/IMG_8114.JPG', 'Pineapple_image/stage_709/IMG_1434.JPG', 'Pineapple_image/stage_601/IMG_0819.JPG', 'Pineapple_image/stage_501/IMG_8658.JPG', 'Pineapple_image/stage_601/IMG_3498.JPG', 'Pineapple_image/stage_609/IMG_2813.JPG'] sample Pineapple_image/stage_509/IMG_3427.JPG\n"
     ]
    }
   ],
   "source": [
    "batch_size = 128 \n",
    "_dataset_dir = \"Pineapple_image\" #dataset path\n",
    "\n",
    "train_path = \"./Dataset/Train\" #train directory\n",
    "valid_path = \"./Dataset/Validation\" #valid directory\n",
    "\n",
    "filePath = []\n",
    "\n",
    "#split the dataset to train and validation\n",
    "directPath = [x for x in os.listdir(_dataset_dir)] #need to change\n",
    "for directory in directPath:\n",
    "    for fileName in os.listdir(os.path.join(_dataset_dir,directory)):\n",
    "        filePath.append(_dataset_dir + \"/\"+ directory + \"/\" + fileName)\n",
    "\n",
    "train_dataset, validation_dataset = train_test_split(filePath, random_state = 104, test_size = 0.2, shuffle= True)\n",
    "\n",
    "dataTrain = PinappleDataset(train_dataset, tfm= train_tfm)\n",
    "dataValid = PinappleDataset(validation_dataset, tfm= validation_tfm)\n",
    "\n",
    "dataset = ConcatDataset([dataTrain,dataValid])"
   ]
  },
  {
   "attachments": {},
   "cell_type": "markdown",
   "metadata": {},
   "source": [
    "<h1><strong>Training Loop</strong></h1>"
   ]
  },
  {
   "cell_type": "code",
   "execution_count": 7,
   "metadata": {},
   "outputs": [
    {
     "data": {
      "application/json": {
       "ascii": false,
       "bar_format": null,
       "colour": null,
       "elapsed": 0.042000770568847656,
       "initial": 0,
       "n": 0,
       "ncols": null,
       "nrows": null,
       "postfix": null,
       "prefix": "",
       "rate": null,
       "total": 12,
       "unit": "it",
       "unit_divisor": 1000,
       "unit_scale": false
      },
      "application/vnd.jupyter.widget-view+json": {
       "model_id": "a17fd7e262b542238dcc03d038d6334d",
       "version_major": 2,
       "version_minor": 0
      },
      "text/plain": [
       "  0%|          | 0/12 [00:00<?, ?it/s]"
      ]
     },
     "metadata": {},
     "output_type": "display_data"
    },
    {
     "name": "stdout",
     "output_type": "stream",
     "text": [
      "[ Train | 001/100 ] loss = 1.51630, acc = 0.45508\n"
     ]
    },
    {
     "data": {
      "application/json": {
       "ascii": false,
       "bar_format": null,
       "colour": null,
       "elapsed": 0.02000117301940918,
       "initial": 0,
       "n": 0,
       "ncols": null,
       "nrows": null,
       "postfix": null,
       "prefix": "",
       "rate": null,
       "total": 3,
       "unit": "it",
       "unit_divisor": 1000,
       "unit_scale": false
      },
      "application/vnd.jupyter.widget-view+json": {
       "model_id": "1607cfde0d1e4cbfa7bf22b2868627e3",
       "version_major": 2,
       "version_minor": 0
      },
      "text/plain": [
       "  0%|          | 0/3 [00:00<?, ?it/s]"
      ]
     },
     "metadata": {},
     "output_type": "display_data"
    },
    {
     "name": "stdout",
     "output_type": "stream",
     "text": [
      "[ Valid | 001/100 ] loss = 2.68009, acc = 0.13722\n",
      "[ Valid | 001/100 ] loss = 2.68009, acc = 0.13722 -> best\n",
      "Best model found at epoch 0, saving model\n"
     ]
    },
    {
     "data": {
      "application/json": {
       "ascii": false,
       "bar_format": null,
       "colour": null,
       "elapsed": 0.017002105712890625,
       "initial": 0,
       "n": 0,
       "ncols": null,
       "nrows": null,
       "postfix": null,
       "prefix": "",
       "rate": null,
       "total": 12,
       "unit": "it",
       "unit_divisor": 1000,
       "unit_scale": false
      },
      "application/vnd.jupyter.widget-view+json": {
       "model_id": "f92c845b2cd14ed2ac39f166b15dbf65",
       "version_major": 2,
       "version_minor": 0
      },
      "text/plain": [
       "  0%|          | 0/12 [00:00<?, ?it/s]"
      ]
     },
     "metadata": {},
     "output_type": "display_data"
    },
    {
     "name": "stdout",
     "output_type": "stream",
     "text": [
      "[ Train | 002/100 ] loss = 0.89106, acc = 0.65885\n"
     ]
    },
    {
     "data": {
      "application/json": {
       "ascii": false,
       "bar_format": null,
       "colour": null,
       "elapsed": 0.02299642562866211,
       "initial": 0,
       "n": 0,
       "ncols": null,
       "nrows": null,
       "postfix": null,
       "prefix": "",
       "rate": null,
       "total": 3,
       "unit": "it",
       "unit_divisor": 1000,
       "unit_scale": false
      },
      "application/vnd.jupyter.widget-view+json": {
       "model_id": "d43bf71d469545349c2224eda699fe04",
       "version_major": 2,
       "version_minor": 0
      },
      "text/plain": [
       "  0%|          | 0/3 [00:00<?, ?it/s]"
      ]
     },
     "metadata": {},
     "output_type": "display_data"
    },
    {
     "name": "stdout",
     "output_type": "stream",
     "text": [
      "[ Valid | 002/100 ] loss = 3.20319, acc = 0.29527\n",
      "[ Valid | 002/100 ] loss = 3.20319, acc = 0.29527 -> best\n",
      "Best model found at epoch 1, saving model\n"
     ]
    },
    {
     "data": {
      "application/json": {
       "ascii": false,
       "bar_format": null,
       "colour": null,
       "elapsed": 0.021998882293701172,
       "initial": 0,
       "n": 0,
       "ncols": null,
       "nrows": null,
       "postfix": null,
       "prefix": "",
       "rate": null,
       "total": 12,
       "unit": "it",
       "unit_divisor": 1000,
       "unit_scale": false
      },
      "application/vnd.jupyter.widget-view+json": {
       "model_id": "ce3c69fd10b744a1be2eed93ba7f48d4",
       "version_major": 2,
       "version_minor": 0
      },
      "text/plain": [
       "  0%|          | 0/12 [00:00<?, ?it/s]"
      ]
     },
     "metadata": {},
     "output_type": "display_data"
    },
    {
     "name": "stdout",
     "output_type": "stream",
     "text": [
      "[ Train | 003/100 ] loss = 0.66470, acc = 0.76367\n"
     ]
    },
    {
     "data": {
      "application/json": {
       "ascii": false,
       "bar_format": null,
       "colour": null,
       "elapsed": 0.018999576568603516,
       "initial": 0,
       "n": 0,
       "ncols": null,
       "nrows": null,
       "postfix": null,
       "prefix": "",
       "rate": null,
       "total": 3,
       "unit": "it",
       "unit_divisor": 1000,
       "unit_scale": false
      },
      "application/vnd.jupyter.widget-view+json": {
       "model_id": "902b9b48de6543538c39eb1505a965d8",
       "version_major": 2,
       "version_minor": 0
      },
      "text/plain": [
       "  0%|          | 0/3 [00:00<?, ?it/s]"
      ]
     },
     "metadata": {},
     "output_type": "display_data"
    },
    {
     "name": "stdout",
     "output_type": "stream",
     "text": [
      "[ Valid | 003/100 ] loss = 4.39262, acc = 0.29607\n",
      "[ Valid | 003/100 ] loss = 4.39262, acc = 0.29607 -> best\n",
      "Best model found at epoch 2, saving model\n"
     ]
    },
    {
     "data": {
      "application/json": {
       "ascii": false,
       "bar_format": null,
       "colour": null,
       "elapsed": 0.02499842643737793,
       "initial": 0,
       "n": 0,
       "ncols": null,
       "nrows": null,
       "postfix": null,
       "prefix": "",
       "rate": null,
       "total": 12,
       "unit": "it",
       "unit_divisor": 1000,
       "unit_scale": false
      },
      "application/vnd.jupyter.widget-view+json": {
       "model_id": "0889d414eda541a6b3a1a0b42ff6eaee",
       "version_major": 2,
       "version_minor": 0
      },
      "text/plain": [
       "  0%|          | 0/12 [00:00<?, ?it/s]"
      ]
     },
     "metadata": {},
     "output_type": "display_data"
    },
    {
     "name": "stdout",
     "output_type": "stream",
     "text": [
      "[ Train | 004/100 ] loss = 0.62789, acc = 0.76693\n"
     ]
    },
    {
     "data": {
      "application/json": {
       "ascii": false,
       "bar_format": null,
       "colour": null,
       "elapsed": 0.019993305206298828,
       "initial": 0,
       "n": 0,
       "ncols": null,
       "nrows": null,
       "postfix": null,
       "prefix": "",
       "rate": null,
       "total": 3,
       "unit": "it",
       "unit_divisor": 1000,
       "unit_scale": false
      },
      "application/vnd.jupyter.widget-view+json": {
       "model_id": "36eefbb3769d468bbce03fcdf55896ad",
       "version_major": 2,
       "version_minor": 0
      },
      "text/plain": [
       "  0%|          | 0/3 [00:00<?, ?it/s]"
      ]
     },
     "metadata": {},
     "output_type": "display_data"
    },
    {
     "name": "stdout",
     "output_type": "stream",
     "text": [
      "[ Valid | 004/100 ] loss = 2.42500, acc = 0.34515\n",
      "[ Valid | 004/100 ] loss = 2.42500, acc = 0.34515 -> best\n",
      "Best model found at epoch 3, saving model\n"
     ]
    },
    {
     "data": {
      "application/json": {
       "ascii": false,
       "bar_format": null,
       "colour": null,
       "elapsed": 0.024001598358154297,
       "initial": 0,
       "n": 0,
       "ncols": null,
       "nrows": null,
       "postfix": null,
       "prefix": "",
       "rate": null,
       "total": 12,
       "unit": "it",
       "unit_divisor": 1000,
       "unit_scale": false
      },
      "application/vnd.jupyter.widget-view+json": {
       "model_id": "91149e3a36ea4e4b8794dc9fadf84f48",
       "version_major": 2,
       "version_minor": 0
      },
      "text/plain": [
       "  0%|          | 0/12 [00:00<?, ?it/s]"
      ]
     },
     "metadata": {},
     "output_type": "display_data"
    },
    {
     "name": "stdout",
     "output_type": "stream",
     "text": [
      "[ Train | 005/100 ] loss = 0.47639, acc = 0.81836\n"
     ]
    },
    {
     "data": {
      "application/json": {
       "ascii": false,
       "bar_format": null,
       "colour": null,
       "elapsed": 0.020989179611206055,
       "initial": 0,
       "n": 0,
       "ncols": null,
       "nrows": null,
       "postfix": null,
       "prefix": "",
       "rate": null,
       "total": 3,
       "unit": "it",
       "unit_divisor": 1000,
       "unit_scale": false
      },
      "application/vnd.jupyter.widget-view+json": {
       "model_id": "aaecee8ff8d742ca84e7701d617c145a",
       "version_major": 2,
       "version_minor": 0
      },
      "text/plain": [
       "  0%|          | 0/3 [00:00<?, ?it/s]"
      ]
     },
     "metadata": {},
     "output_type": "display_data"
    },
    {
     "name": "stdout",
     "output_type": "stream",
     "text": [
      "[ Valid | 005/100 ] loss = 1.66401, acc = 0.49499\n",
      "[ Valid | 005/100 ] loss = 1.66401, acc = 0.49499 -> best\n",
      "Best model found at epoch 4, saving model\n"
     ]
    },
    {
     "data": {
      "application/json": {
       "ascii": false,
       "bar_format": null,
       "colour": null,
       "elapsed": 0.017998456954956055,
       "initial": 0,
       "n": 0,
       "ncols": null,
       "nrows": null,
       "postfix": null,
       "prefix": "",
       "rate": null,
       "total": 12,
       "unit": "it",
       "unit_divisor": 1000,
       "unit_scale": false
      },
      "application/vnd.jupyter.widget-view+json": {
       "model_id": "c2b0b7a06d36484e85c1b4adfb207723",
       "version_major": 2,
       "version_minor": 0
      },
      "text/plain": [
       "  0%|          | 0/12 [00:00<?, ?it/s]"
      ]
     },
     "metadata": {},
     "output_type": "display_data"
    },
    {
     "name": "stdout",
     "output_type": "stream",
     "text": [
      "[ Train | 006/100 ] loss = 0.45778, acc = 0.83529\n"
     ]
    },
    {
     "data": {
      "application/json": {
       "ascii": false,
       "bar_format": null,
       "colour": null,
       "elapsed": 0.017993927001953125,
       "initial": 0,
       "n": 0,
       "ncols": null,
       "nrows": null,
       "postfix": null,
       "prefix": "",
       "rate": null,
       "total": 3,
       "unit": "it",
       "unit_divisor": 1000,
       "unit_scale": false
      },
      "application/vnd.jupyter.widget-view+json": {
       "model_id": "2f521094a01846f387f3095bcce93347",
       "version_major": 2,
       "version_minor": 0
      },
      "text/plain": [
       "  0%|          | 0/3 [00:00<?, ?it/s]"
      ]
     },
     "metadata": {},
     "output_type": "display_data"
    },
    {
     "name": "stdout",
     "output_type": "stream",
     "text": [
      "[ Valid | 006/100 ] loss = 0.63148, acc = 0.77143\n",
      "[ Valid | 006/100 ] loss = 0.63148, acc = 0.77143 -> best\n",
      "Best model found at epoch 5, saving model\n"
     ]
    },
    {
     "data": {
      "application/json": {
       "ascii": false,
       "bar_format": null,
       "colour": null,
       "elapsed": 0.017033815383911133,
       "initial": 0,
       "n": 0,
       "ncols": null,
       "nrows": null,
       "postfix": null,
       "prefix": "",
       "rate": null,
       "total": 12,
       "unit": "it",
       "unit_divisor": 1000,
       "unit_scale": false
      },
      "application/vnd.jupyter.widget-view+json": {
       "model_id": "f14e800d840d41309836b9c60a25f4c5",
       "version_major": 2,
       "version_minor": 0
      },
      "text/plain": [
       "  0%|          | 0/12 [00:00<?, ?it/s]"
      ]
     },
     "metadata": {},
     "output_type": "display_data"
    },
    {
     "name": "stdout",
     "output_type": "stream",
     "text": [
      "[ Train | 007/100 ] loss = 0.46031, acc = 0.83854\n"
     ]
    },
    {
     "data": {
      "application/json": {
       "ascii": false,
       "bar_format": null,
       "colour": null,
       "elapsed": 0.04799985885620117,
       "initial": 0,
       "n": 0,
       "ncols": null,
       "nrows": null,
       "postfix": null,
       "prefix": "",
       "rate": null,
       "total": 3,
       "unit": "it",
       "unit_divisor": 1000,
       "unit_scale": false
      },
      "application/vnd.jupyter.widget-view+json": {
       "model_id": "93ddeb52997343d0af336fdcbf553989",
       "version_major": 2,
       "version_minor": 0
      },
      "text/plain": [
       "  0%|          | 0/3 [00:00<?, ?it/s]"
      ]
     },
     "metadata": {},
     "output_type": "display_data"
    },
    {
     "name": "stdout",
     "output_type": "stream",
     "text": [
      "[ Valid | 007/100 ] loss = 0.58123, acc = 0.79026\n",
      "[ Valid | 007/100 ] loss = 0.58123, acc = 0.79026 -> best\n",
      "Best model found at epoch 6, saving model\n"
     ]
    },
    {
     "data": {
      "application/json": {
       "ascii": false,
       "bar_format": null,
       "colour": null,
       "elapsed": 0.05399656295776367,
       "initial": 0,
       "n": 0,
       "ncols": null,
       "nrows": null,
       "postfix": null,
       "prefix": "",
       "rate": null,
       "total": 12,
       "unit": "it",
       "unit_divisor": 1000,
       "unit_scale": false
      },
      "application/vnd.jupyter.widget-view+json": {
       "model_id": "fa0d9309e2c94ec5b57d2eb575c425e7",
       "version_major": 2,
       "version_minor": 0
      },
      "text/plain": [
       "  0%|          | 0/12 [00:00<?, ?it/s]"
      ]
     },
     "metadata": {},
     "output_type": "display_data"
    },
    {
     "name": "stdout",
     "output_type": "stream",
     "text": [
      "[ Train | 008/100 ] loss = 0.42410, acc = 0.84570\n"
     ]
    },
    {
     "data": {
      "application/json": {
       "ascii": false,
       "bar_format": null,
       "colour": null,
       "elapsed": 0.01999950408935547,
       "initial": 0,
       "n": 0,
       "ncols": null,
       "nrows": null,
       "postfix": null,
       "prefix": "",
       "rate": null,
       "total": 3,
       "unit": "it",
       "unit_divisor": 1000,
       "unit_scale": false
      },
      "application/vnd.jupyter.widget-view+json": {
       "model_id": "312561d916614aac808846a9adc9f40d",
       "version_major": 2,
       "version_minor": 0
      },
      "text/plain": [
       "  0%|          | 0/3 [00:00<?, ?it/s]"
      ]
     },
     "metadata": {},
     "output_type": "display_data"
    },
    {
     "name": "stdout",
     "output_type": "stream",
     "text": [
      "[ Valid | 008/100 ] loss = 0.77522, acc = 0.74359\n",
      "[ Valid | 008/100 ] loss = 0.77522, acc = 0.74359\n"
     ]
    },
    {
     "data": {
      "application/json": {
       "ascii": false,
       "bar_format": null,
       "colour": null,
       "elapsed": 0.023992300033569336,
       "initial": 0,
       "n": 0,
       "ncols": null,
       "nrows": null,
       "postfix": null,
       "prefix": "",
       "rate": null,
       "total": 12,
       "unit": "it",
       "unit_divisor": 1000,
       "unit_scale": false
      },
      "application/vnd.jupyter.widget-view+json": {
       "model_id": "2031d6f83e9f46a8a4b85adbf1a73134",
       "version_major": 2,
       "version_minor": 0
      },
      "text/plain": [
       "  0%|          | 0/12 [00:00<?, ?it/s]"
      ]
     },
     "metadata": {},
     "output_type": "display_data"
    },
    {
     "name": "stdout",
     "output_type": "stream",
     "text": [
      "[ Train | 009/100 ] loss = 0.42987, acc = 0.83854\n"
     ]
    },
    {
     "data": {
      "application/json": {
       "ascii": false,
       "bar_format": null,
       "colour": null,
       "elapsed": 0.02599811553955078,
       "initial": 0,
       "n": 0,
       "ncols": null,
       "nrows": null,
       "postfix": null,
       "prefix": "",
       "rate": null,
       "total": 3,
       "unit": "it",
       "unit_divisor": 1000,
       "unit_scale": false
      },
      "application/vnd.jupyter.widget-view+json": {
       "model_id": "57d8b216caf546f9a015306cc729d275",
       "version_major": 2,
       "version_minor": 0
      },
      "text/plain": [
       "  0%|          | 0/3 [00:00<?, ?it/s]"
      ]
     },
     "metadata": {},
     "output_type": "display_data"
    },
    {
     "name": "stdout",
     "output_type": "stream",
     "text": [
      "[ Valid | 009/100 ] loss = 0.47965, acc = 0.84395\n",
      "[ Valid | 009/100 ] loss = 0.47965, acc = 0.84395 -> best\n",
      "Best model found at epoch 8, saving model\n"
     ]
    },
    {
     "data": {
      "application/json": {
       "ascii": false,
       "bar_format": null,
       "colour": null,
       "elapsed": 0.020999431610107422,
       "initial": 0,
       "n": 0,
       "ncols": null,
       "nrows": null,
       "postfix": null,
       "prefix": "",
       "rate": null,
       "total": 12,
       "unit": "it",
       "unit_divisor": 1000,
       "unit_scale": false
      },
      "application/vnd.jupyter.widget-view+json": {
       "model_id": "36bf0f7bc37f4a84aa9cacdf6c112be6",
       "version_major": 2,
       "version_minor": 0
      },
      "text/plain": [
       "  0%|          | 0/12 [00:00<?, ?it/s]"
      ]
     },
     "metadata": {},
     "output_type": "display_data"
    },
    {
     "name": "stdout",
     "output_type": "stream",
     "text": [
      "[ Train | 010/100 ] loss = 0.33783, acc = 0.87956\n"
     ]
    },
    {
     "data": {
      "application/json": {
       "ascii": false,
       "bar_format": null,
       "colour": null,
       "elapsed": 0.018995285034179688,
       "initial": 0,
       "n": 0,
       "ncols": null,
       "nrows": null,
       "postfix": null,
       "prefix": "",
       "rate": null,
       "total": 3,
       "unit": "it",
       "unit_divisor": 1000,
       "unit_scale": false
      },
      "application/vnd.jupyter.widget-view+json": {
       "model_id": "c27af3d2310d40038e24893befa6b792",
       "version_major": 2,
       "version_minor": 0
      },
      "text/plain": [
       "  0%|          | 0/3 [00:00<?, ?it/s]"
      ]
     },
     "metadata": {},
     "output_type": "display_data"
    },
    {
     "name": "stdout",
     "output_type": "stream",
     "text": [
      "[ Valid | 010/100 ] loss = 0.75856, acc = 0.74439\n",
      "[ Valid | 010/100 ] loss = 0.75856, acc = 0.74439\n"
     ]
    },
    {
     "data": {
      "application/json": {
       "ascii": false,
       "bar_format": null,
       "colour": null,
       "elapsed": 0.0339963436126709,
       "initial": 0,
       "n": 0,
       "ncols": null,
       "nrows": null,
       "postfix": null,
       "prefix": "",
       "rate": null,
       "total": 12,
       "unit": "it",
       "unit_divisor": 1000,
       "unit_scale": false
      },
      "application/vnd.jupyter.widget-view+json": {
       "model_id": "cd59778d97504ec68dd6401c02d13535",
       "version_major": 2,
       "version_minor": 0
      },
      "text/plain": [
       "  0%|          | 0/12 [00:00<?, ?it/s]"
      ]
     },
     "metadata": {},
     "output_type": "display_data"
    },
    {
     "name": "stdout",
     "output_type": "stream",
     "text": [
      "[ Train | 011/100 ] loss = 0.34181, acc = 0.88021\n"
     ]
    },
    {
     "data": {
      "application/json": {
       "ascii": false,
       "bar_format": null,
       "colour": null,
       "elapsed": 0.05599546432495117,
       "initial": 0,
       "n": 0,
       "ncols": null,
       "nrows": null,
       "postfix": null,
       "prefix": "",
       "rate": null,
       "total": 3,
       "unit": "it",
       "unit_divisor": 1000,
       "unit_scale": false
      },
      "application/vnd.jupyter.widget-view+json": {
       "model_id": "6a157a45e919474e80ff30ede38d03ff",
       "version_major": 2,
       "version_minor": 0
      },
      "text/plain": [
       "  0%|          | 0/3 [00:00<?, ?it/s]"
      ]
     },
     "metadata": {},
     "output_type": "display_data"
    },
    {
     "name": "stdout",
     "output_type": "stream",
     "text": [
      "[ Valid | 011/100 ] loss = 0.57895, acc = 0.79808\n",
      "[ Valid | 011/100 ] loss = 0.57895, acc = 0.79808\n"
     ]
    },
    {
     "data": {
      "application/json": {
       "ascii": false,
       "bar_format": null,
       "colour": null,
       "elapsed": 0.015998125076293945,
       "initial": 0,
       "n": 0,
       "ncols": null,
       "nrows": null,
       "postfix": null,
       "prefix": "",
       "rate": null,
       "total": 12,
       "unit": "it",
       "unit_divisor": 1000,
       "unit_scale": false
      },
      "application/vnd.jupyter.widget-view+json": {
       "model_id": "22333c40a7fb45bc9b1a3987e4c8ceb4",
       "version_major": 2,
       "version_minor": 0
      },
      "text/plain": [
       "  0%|          | 0/12 [00:00<?, ?it/s]"
      ]
     },
     "metadata": {},
     "output_type": "display_data"
    },
    {
     "name": "stdout",
     "output_type": "stream",
     "text": [
      "[ Train | 012/100 ] loss = 0.36569, acc = 0.88281\n"
     ]
    },
    {
     "data": {
      "application/json": {
       "ascii": false,
       "bar_format": null,
       "colour": null,
       "elapsed": 0.020043373107910156,
       "initial": 0,
       "n": 0,
       "ncols": null,
       "nrows": null,
       "postfix": null,
       "prefix": "",
       "rate": null,
       "total": 3,
       "unit": "it",
       "unit_divisor": 1000,
       "unit_scale": false
      },
      "application/vnd.jupyter.widget-view+json": {
       "model_id": "7446128fc3aa49618ab2cd0d9c19d055",
       "version_major": 2,
       "version_minor": 0
      },
      "text/plain": [
       "  0%|          | 0/3 [00:00<?, ?it/s]"
      ]
     },
     "metadata": {},
     "output_type": "display_data"
    },
    {
     "name": "stdout",
     "output_type": "stream",
     "text": [
      "[ Valid | 012/100 ] loss = 0.69064, acc = 0.77965\n",
      "[ Valid | 012/100 ] loss = 0.69064, acc = 0.77965\n"
     ]
    },
    {
     "data": {
      "application/json": {
       "ascii": false,
       "bar_format": null,
       "colour": null,
       "elapsed": 0.020037174224853516,
       "initial": 0,
       "n": 0,
       "ncols": null,
       "nrows": null,
       "postfix": null,
       "prefix": "",
       "rate": null,
       "total": 12,
       "unit": "it",
       "unit_divisor": 1000,
       "unit_scale": false
      },
      "application/vnd.jupyter.widget-view+json": {
       "model_id": "cb34bf5e6b004303923d76aeb7677881",
       "version_major": 2,
       "version_minor": 0
      },
      "text/plain": [
       "  0%|          | 0/12 [00:00<?, ?it/s]"
      ]
     },
     "metadata": {},
     "output_type": "display_data"
    },
    {
     "name": "stdout",
     "output_type": "stream",
     "text": [
      "[ Train | 013/100 ] loss = 0.29478, acc = 0.89909\n"
     ]
    },
    {
     "data": {
      "application/json": {
       "ascii": false,
       "bar_format": null,
       "colour": null,
       "elapsed": 0.02399611473083496,
       "initial": 0,
       "n": 0,
       "ncols": null,
       "nrows": null,
       "postfix": null,
       "prefix": "",
       "rate": null,
       "total": 3,
       "unit": "it",
       "unit_divisor": 1000,
       "unit_scale": false
      },
      "application/vnd.jupyter.widget-view+json": {
       "model_id": "eb79b1f67c4947fc8af828911e984491",
       "version_major": 2,
       "version_minor": 0
      },
      "text/plain": [
       "  0%|          | 0/3 [00:00<?, ?it/s]"
      ]
     },
     "metadata": {},
     "output_type": "display_data"
    },
    {
     "name": "stdout",
     "output_type": "stream",
     "text": [
      "[ Valid | 013/100 ] loss = 0.47572, acc = 0.79988\n",
      "[ Valid | 013/100 ] loss = 0.47572, acc = 0.79988\n"
     ]
    },
    {
     "data": {
      "application/json": {
       "ascii": false,
       "bar_format": null,
       "colour": null,
       "elapsed": 0.03899788856506348,
       "initial": 0,
       "n": 0,
       "ncols": null,
       "nrows": null,
       "postfix": null,
       "prefix": "",
       "rate": null,
       "total": 12,
       "unit": "it",
       "unit_divisor": 1000,
       "unit_scale": false
      },
      "application/vnd.jupyter.widget-view+json": {
       "model_id": "b3fcc4c1331e49ceaa414b96a529407e",
       "version_major": 2,
       "version_minor": 0
      },
      "text/plain": [
       "  0%|          | 0/12 [00:00<?, ?it/s]"
      ]
     },
     "metadata": {},
     "output_type": "display_data"
    },
    {
     "name": "stdout",
     "output_type": "stream",
     "text": [
      "[ Train | 014/100 ] loss = 0.26895, acc = 0.90690\n"
     ]
    },
    {
     "data": {
      "application/json": {
       "ascii": false,
       "bar_format": null,
       "colour": null,
       "elapsed": 0.045998334884643555,
       "initial": 0,
       "n": 0,
       "ncols": null,
       "nrows": null,
       "postfix": null,
       "prefix": "",
       "rate": null,
       "total": 3,
       "unit": "it",
       "unit_divisor": 1000,
       "unit_scale": false
      },
      "application/vnd.jupyter.widget-view+json": {
       "model_id": "85eb656804ca45babd7e718ed7892dd3",
       "version_major": 2,
       "version_minor": 0
      },
      "text/plain": [
       "  0%|          | 0/3 [00:00<?, ?it/s]"
      ]
     },
     "metadata": {},
     "output_type": "display_data"
    },
    {
     "name": "stdout",
     "output_type": "stream",
     "text": [
      "[ Valid | 014/100 ] loss = 0.70582, acc = 0.75841\n",
      "[ Valid | 014/100 ] loss = 0.70582, acc = 0.75841\n"
     ]
    },
    {
     "data": {
      "application/json": {
       "ascii": false,
       "bar_format": null,
       "colour": null,
       "elapsed": 0.04800009727478027,
       "initial": 0,
       "n": 0,
       "ncols": null,
       "nrows": null,
       "postfix": null,
       "prefix": "",
       "rate": null,
       "total": 12,
       "unit": "it",
       "unit_divisor": 1000,
       "unit_scale": false
      },
      "application/vnd.jupyter.widget-view+json": {
       "model_id": "dc271dd24d564e02ae6cd253014baf9c",
       "version_major": 2,
       "version_minor": 0
      },
      "text/plain": [
       "  0%|          | 0/12 [00:00<?, ?it/s]"
      ]
     },
     "metadata": {},
     "output_type": "display_data"
    },
    {
     "name": "stdout",
     "output_type": "stream",
     "text": [
      "[ Train | 015/100 ] loss = 0.30432, acc = 0.89714\n"
     ]
    },
    {
     "data": {
      "application/json": {
       "ascii": false,
       "bar_format": null,
       "colour": null,
       "elapsed": 0.025987625122070312,
       "initial": 0,
       "n": 0,
       "ncols": null,
       "nrows": null,
       "postfix": null,
       "prefix": "",
       "rate": null,
       "total": 3,
       "unit": "it",
       "unit_divisor": 1000,
       "unit_scale": false
      },
      "application/vnd.jupyter.widget-view+json": {
       "model_id": "004fcc46f1a5408882c9bf9291966932",
       "version_major": 2,
       "version_minor": 0
      },
      "text/plain": [
       "  0%|          | 0/3 [00:00<?, ?it/s]"
      ]
     },
     "metadata": {},
     "output_type": "display_data"
    },
    {
     "name": "stdout",
     "output_type": "stream",
     "text": [
      "[ Valid | 015/100 ] loss = 0.47709, acc = 0.83433\n",
      "[ Valid | 015/100 ] loss = 0.47709, acc = 0.83433\n"
     ]
    },
    {
     "data": {
      "application/json": {
       "ascii": false,
       "bar_format": null,
       "colour": null,
       "elapsed": 0.04000043869018555,
       "initial": 0,
       "n": 0,
       "ncols": null,
       "nrows": null,
       "postfix": null,
       "prefix": "",
       "rate": null,
       "total": 12,
       "unit": "it",
       "unit_divisor": 1000,
       "unit_scale": false
      },
      "application/vnd.jupyter.widget-view+json": {
       "model_id": "467ef83153f34186824f3248b0ea77b3",
       "version_major": 2,
       "version_minor": 0
      },
      "text/plain": [
       "  0%|          | 0/12 [00:00<?, ?it/s]"
      ]
     },
     "metadata": {},
     "output_type": "display_data"
    },
    {
     "name": "stdout",
     "output_type": "stream",
     "text": [
      "[ Train | 016/100 ] loss = 0.25131, acc = 0.90690\n"
     ]
    },
    {
     "data": {
      "application/json": {
       "ascii": false,
       "bar_format": null,
       "colour": null,
       "elapsed": 0.03399801254272461,
       "initial": 0,
       "n": 0,
       "ncols": null,
       "nrows": null,
       "postfix": null,
       "prefix": "",
       "rate": null,
       "total": 3,
       "unit": "it",
       "unit_divisor": 1000,
       "unit_scale": false
      },
      "application/vnd.jupyter.widget-view+json": {
       "model_id": "6faed77790fe4986bb07f42661088d9c",
       "version_major": 2,
       "version_minor": 0
      },
      "text/plain": [
       "  0%|          | 0/3 [00:00<?, ?it/s]"
      ]
     },
     "metadata": {},
     "output_type": "display_data"
    },
    {
     "name": "stdout",
     "output_type": "stream",
     "text": [
      "[ Valid | 016/100 ] loss = 0.53777, acc = 0.79067\n",
      "[ Valid | 016/100 ] loss = 0.53777, acc = 0.79067\n"
     ]
    },
    {
     "data": {
      "application/json": {
       "ascii": false,
       "bar_format": null,
       "colour": null,
       "elapsed": 0.02703857421875,
       "initial": 0,
       "n": 0,
       "ncols": null,
       "nrows": null,
       "postfix": null,
       "prefix": "",
       "rate": null,
       "total": 12,
       "unit": "it",
       "unit_divisor": 1000,
       "unit_scale": false
      },
      "application/vnd.jupyter.widget-view+json": {
       "model_id": "de3661a32e34479fb5b8509a272f5a2c",
       "version_major": 2,
       "version_minor": 0
      },
      "text/plain": [
       "  0%|          | 0/12 [00:00<?, ?it/s]"
      ]
     },
     "metadata": {},
     "output_type": "display_data"
    },
    {
     "name": "stdout",
     "output_type": "stream",
     "text": [
      "[ Train | 017/100 ] loss = 0.25267, acc = 0.91471\n"
     ]
    },
    {
     "data": {
      "application/json": {
       "ascii": false,
       "bar_format": null,
       "colour": null,
       "elapsed": 0.03299880027770996,
       "initial": 0,
       "n": 0,
       "ncols": null,
       "nrows": null,
       "postfix": null,
       "prefix": "",
       "rate": null,
       "total": 3,
       "unit": "it",
       "unit_divisor": 1000,
       "unit_scale": false
      },
      "application/vnd.jupyter.widget-view+json": {
       "model_id": "28cf87c77ffc4462b75acda83df5b5d3",
       "version_major": 2,
       "version_minor": 0
      },
      "text/plain": [
       "  0%|          | 0/3 [00:00<?, ?it/s]"
      ]
     },
     "metadata": {},
     "output_type": "display_data"
    },
    {
     "name": "stdout",
     "output_type": "stream",
     "text": [
      "[ Valid | 017/100 ] loss = 0.64064, acc = 0.81270\n",
      "[ Valid | 017/100 ] loss = 0.64064, acc = 0.81270\n"
     ]
    },
    {
     "data": {
      "application/json": {
       "ascii": false,
       "bar_format": null,
       "colour": null,
       "elapsed": 0.028998851776123047,
       "initial": 0,
       "n": 0,
       "ncols": null,
       "nrows": null,
       "postfix": null,
       "prefix": "",
       "rate": null,
       "total": 12,
       "unit": "it",
       "unit_divisor": 1000,
       "unit_scale": false
      },
      "application/vnd.jupyter.widget-view+json": {
       "model_id": "05663fb0a7954a9bbea9b7d224193a1f",
       "version_major": 2,
       "version_minor": 0
      },
      "text/plain": [
       "  0%|          | 0/12 [00:00<?, ?it/s]"
      ]
     },
     "metadata": {},
     "output_type": "display_data"
    },
    {
     "name": "stdout",
     "output_type": "stream",
     "text": [
      "[ Train | 018/100 ] loss = 0.26297, acc = 0.91016\n"
     ]
    },
    {
     "data": {
      "application/json": {
       "ascii": false,
       "bar_format": null,
       "colour": null,
       "elapsed": 0.02500176429748535,
       "initial": 0,
       "n": 0,
       "ncols": null,
       "nrows": null,
       "postfix": null,
       "prefix": "",
       "rate": null,
       "total": 3,
       "unit": "it",
       "unit_divisor": 1000,
       "unit_scale": false
      },
      "application/vnd.jupyter.widget-view+json": {
       "model_id": "b466d405747c4827a648bf6ba03c114c",
       "version_major": 2,
       "version_minor": 0
      },
      "text/plain": [
       "  0%|          | 0/3 [00:00<?, ?it/s]"
      ]
     },
     "metadata": {},
     "output_type": "display_data"
    },
    {
     "name": "stdout",
     "output_type": "stream",
     "text": [
      "[ Valid | 018/100 ] loss = 0.40473, acc = 0.86138\n",
      "[ Valid | 018/100 ] loss = 0.40473, acc = 0.86138 -> best\n",
      "Best model found at epoch 17, saving model\n"
     ]
    },
    {
     "data": {
      "application/json": {
       "ascii": false,
       "bar_format": null,
       "colour": null,
       "elapsed": 0.024998188018798828,
       "initial": 0,
       "n": 0,
       "ncols": null,
       "nrows": null,
       "postfix": null,
       "prefix": "",
       "rate": null,
       "total": 12,
       "unit": "it",
       "unit_divisor": 1000,
       "unit_scale": false
      },
      "application/vnd.jupyter.widget-view+json": {
       "model_id": "f00896bac1bd4f1cb0c4d08942488261",
       "version_major": 2,
       "version_minor": 0
      },
      "text/plain": [
       "  0%|          | 0/12 [00:00<?, ?it/s]"
      ]
     },
     "metadata": {},
     "output_type": "display_data"
    },
    {
     "name": "stdout",
     "output_type": "stream",
     "text": [
      "[ Train | 019/100 ] loss = 0.25672, acc = 0.91862\n"
     ]
    },
    {
     "data": {
      "application/json": {
       "ascii": false,
       "bar_format": null,
       "colour": null,
       "elapsed": 0.02399420738220215,
       "initial": 0,
       "n": 0,
       "ncols": null,
       "nrows": null,
       "postfix": null,
       "prefix": "",
       "rate": null,
       "total": 3,
       "unit": "it",
       "unit_divisor": 1000,
       "unit_scale": false
      },
      "application/vnd.jupyter.widget-view+json": {
       "model_id": "0034e4f8977b4a268b369c009e2fbe69",
       "version_major": 2,
       "version_minor": 0
      },
      "text/plain": [
       "  0%|          | 0/3 [00:00<?, ?it/s]"
      ]
     },
     "metadata": {},
     "output_type": "display_data"
    },
    {
     "name": "stdout",
     "output_type": "stream",
     "text": [
      "[ Valid | 019/100 ] loss = 0.43923, acc = 0.83013\n",
      "[ Valid | 019/100 ] loss = 0.43923, acc = 0.83013\n"
     ]
    },
    {
     "data": {
      "application/json": {
       "ascii": false,
       "bar_format": null,
       "colour": null,
       "elapsed": 0.025016069412231445,
       "initial": 0,
       "n": 0,
       "ncols": null,
       "nrows": null,
       "postfix": null,
       "prefix": "",
       "rate": null,
       "total": 12,
       "unit": "it",
       "unit_divisor": 1000,
       "unit_scale": false
      },
      "application/vnd.jupyter.widget-view+json": {
       "model_id": "89b9f07f1fc949f9a414d7f707defd7f",
       "version_major": 2,
       "version_minor": 0
      },
      "text/plain": [
       "  0%|          | 0/12 [00:00<?, ?it/s]"
      ]
     },
     "metadata": {},
     "output_type": "display_data"
    },
    {
     "name": "stdout",
     "output_type": "stream",
     "text": [
      "[ Train | 020/100 ] loss = 0.26749, acc = 0.90299\n"
     ]
    },
    {
     "data": {
      "application/json": {
       "ascii": false,
       "bar_format": null,
       "colour": null,
       "elapsed": 0.033997297286987305,
       "initial": 0,
       "n": 0,
       "ncols": null,
       "nrows": null,
       "postfix": null,
       "prefix": "",
       "rate": null,
       "total": 3,
       "unit": "it",
       "unit_divisor": 1000,
       "unit_scale": false
      },
      "application/vnd.jupyter.widget-view+json": {
       "model_id": "031c3df58a2d4a59b31416dc59ca19f1",
       "version_major": 2,
       "version_minor": 0
      },
      "text/plain": [
       "  0%|          | 0/3 [00:00<?, ?it/s]"
      ]
     },
     "metadata": {},
     "output_type": "display_data"
    },
    {
     "name": "stdout",
     "output_type": "stream",
     "text": [
      "[ Valid | 020/100 ] loss = 0.60851, acc = 0.79768\n",
      "[ Valid | 020/100 ] loss = 0.60851, acc = 0.79768\n"
     ]
    },
    {
     "data": {
      "application/json": {
       "ascii": false,
       "bar_format": null,
       "colour": null,
       "elapsed": 0.02599787712097168,
       "initial": 0,
       "n": 0,
       "ncols": null,
       "nrows": null,
       "postfix": null,
       "prefix": "",
       "rate": null,
       "total": 12,
       "unit": "it",
       "unit_divisor": 1000,
       "unit_scale": false
      },
      "application/vnd.jupyter.widget-view+json": {
       "model_id": "12092f69ca2f43ff8587133b87cb0b89",
       "version_major": 2,
       "version_minor": 0
      },
      "text/plain": [
       "  0%|          | 0/12 [00:00<?, ?it/s]"
      ]
     },
     "metadata": {},
     "output_type": "display_data"
    },
    {
     "name": "stdout",
     "output_type": "stream",
     "text": [
      "[ Train | 021/100 ] loss = 0.28064, acc = 0.89779\n"
     ]
    },
    {
     "data": {
      "application/json": {
       "ascii": false,
       "bar_format": null,
       "colour": null,
       "elapsed": 0.017996549606323242,
       "initial": 0,
       "n": 0,
       "ncols": null,
       "nrows": null,
       "postfix": null,
       "prefix": "",
       "rate": null,
       "total": 3,
       "unit": "it",
       "unit_divisor": 1000,
       "unit_scale": false
      },
      "application/vnd.jupyter.widget-view+json": {
       "model_id": "76dcd8ab86ee400abaa27caab479f3f1",
       "version_major": 2,
       "version_minor": 0
      },
      "text/plain": [
       "  0%|          | 0/3 [00:00<?, ?it/s]"
      ]
     },
     "metadata": {},
     "output_type": "display_data"
    },
    {
     "name": "stdout",
     "output_type": "stream",
     "text": [
      "[ Valid | 021/100 ] loss = 0.71757, acc = 0.75060\n",
      "[ Valid | 021/100 ] loss = 0.71757, acc = 0.75060\n"
     ]
    },
    {
     "data": {
      "application/json": {
       "ascii": false,
       "bar_format": null,
       "colour": null,
       "elapsed": 0.021012544631958008,
       "initial": 0,
       "n": 0,
       "ncols": null,
       "nrows": null,
       "postfix": null,
       "prefix": "",
       "rate": null,
       "total": 12,
       "unit": "it",
       "unit_divisor": 1000,
       "unit_scale": false
      },
      "application/vnd.jupyter.widget-view+json": {
       "model_id": "1477f187b9c04cbdb98b9ba0ce5c3a99",
       "version_major": 2,
       "version_minor": 0
      },
      "text/plain": [
       "  0%|          | 0/12 [00:00<?, ?it/s]"
      ]
     },
     "metadata": {},
     "output_type": "display_data"
    },
    {
     "name": "stdout",
     "output_type": "stream",
     "text": [
      "[ Train | 022/100 ] loss = 0.21337, acc = 0.92839\n"
     ]
    },
    {
     "data": {
      "application/json": {
       "ascii": false,
       "bar_format": null,
       "colour": null,
       "elapsed": 0.017000436782836914,
       "initial": 0,
       "n": 0,
       "ncols": null,
       "nrows": null,
       "postfix": null,
       "prefix": "",
       "rate": null,
       "total": 3,
       "unit": "it",
       "unit_divisor": 1000,
       "unit_scale": false
      },
      "application/vnd.jupyter.widget-view+json": {
       "model_id": "52e5b241b1964abb8dfb4a5a5148d1ad",
       "version_major": 2,
       "version_minor": 0
      },
      "text/plain": [
       "  0%|          | 0/3 [00:00<?, ?it/s]"
      ]
     },
     "metadata": {},
     "output_type": "display_data"
    },
    {
     "name": "stdout",
     "output_type": "stream",
     "text": [
      "[ Valid | 022/100 ] loss = 0.65684, acc = 0.80188\n",
      "[ Valid | 022/100 ] loss = 0.65684, acc = 0.80188\n"
     ]
    },
    {
     "data": {
      "application/json": {
       "ascii": false,
       "bar_format": null,
       "colour": null,
       "elapsed": 0.017994403839111328,
       "initial": 0,
       "n": 0,
       "ncols": null,
       "nrows": null,
       "postfix": null,
       "prefix": "",
       "rate": null,
       "total": 12,
       "unit": "it",
       "unit_divisor": 1000,
       "unit_scale": false
      },
      "application/vnd.jupyter.widget-view+json": {
       "model_id": "6d170e32c81b474c88772364490e7600",
       "version_major": 2,
       "version_minor": 0
      },
      "text/plain": [
       "  0%|          | 0/12 [00:00<?, ?it/s]"
      ]
     },
     "metadata": {},
     "output_type": "display_data"
    },
    {
     "name": "stdout",
     "output_type": "stream",
     "text": [
      "[ Train | 023/100 ] loss = 0.21590, acc = 0.92253\n"
     ]
    },
    {
     "data": {
      "application/json": {
       "ascii": false,
       "bar_format": null,
       "colour": null,
       "elapsed": 0.017989397048950195,
       "initial": 0,
       "n": 0,
       "ncols": null,
       "nrows": null,
       "postfix": null,
       "prefix": "",
       "rate": null,
       "total": 3,
       "unit": "it",
       "unit_divisor": 1000,
       "unit_scale": false
      },
      "application/vnd.jupyter.widget-view+json": {
       "model_id": "94c6965886964d17b8d84b30cbd50ab5",
       "version_major": 2,
       "version_minor": 0
      },
      "text/plain": [
       "  0%|          | 0/3 [00:00<?, ?it/s]"
      ]
     },
     "metadata": {},
     "output_type": "display_data"
    },
    {
     "name": "stdout",
     "output_type": "stream",
     "text": [
      "[ Valid | 023/100 ] loss = 0.85428, acc = 0.73137\n",
      "[ Valid | 023/100 ] loss = 0.85428, acc = 0.73137\n"
     ]
    },
    {
     "data": {
      "application/json": {
       "ascii": false,
       "bar_format": null,
       "colour": null,
       "elapsed": 0.02298903465270996,
       "initial": 0,
       "n": 0,
       "ncols": null,
       "nrows": null,
       "postfix": null,
       "prefix": "",
       "rate": null,
       "total": 12,
       "unit": "it",
       "unit_divisor": 1000,
       "unit_scale": false
      },
      "application/vnd.jupyter.widget-view+json": {
       "model_id": "fbe052fef2a54dd09d8c285bea727c10",
       "version_major": 2,
       "version_minor": 0
      },
      "text/plain": [
       "  0%|          | 0/12 [00:00<?, ?it/s]"
      ]
     },
     "metadata": {},
     "output_type": "display_data"
    },
    {
     "name": "stdout",
     "output_type": "stream",
     "text": [
      "[ Train | 024/100 ] loss = 0.18408, acc = 0.93620\n"
     ]
    },
    {
     "data": {
      "application/json": {
       "ascii": false,
       "bar_format": null,
       "colour": null,
       "elapsed": 0.020008563995361328,
       "initial": 0,
       "n": 0,
       "ncols": null,
       "nrows": null,
       "postfix": null,
       "prefix": "",
       "rate": null,
       "total": 3,
       "unit": "it",
       "unit_divisor": 1000,
       "unit_scale": false
      },
      "application/vnd.jupyter.widget-view+json": {
       "model_id": "2d52658a30374d85b667d95497610ac6",
       "version_major": 2,
       "version_minor": 0
      },
      "text/plain": [
       "  0%|          | 0/3 [00:00<?, ?it/s]"
      ]
     },
     "metadata": {},
     "output_type": "display_data"
    },
    {
     "name": "stdout",
     "output_type": "stream",
     "text": [
      "[ Valid | 024/100 ] loss = 0.45433, acc = 0.84655\n",
      "[ Valid | 024/100 ] loss = 0.45433, acc = 0.84655\n"
     ]
    },
    {
     "data": {
      "application/json": {
       "ascii": false,
       "bar_format": null,
       "colour": null,
       "elapsed": 0.021988868713378906,
       "initial": 0,
       "n": 0,
       "ncols": null,
       "nrows": null,
       "postfix": null,
       "prefix": "",
       "rate": null,
       "total": 12,
       "unit": "it",
       "unit_divisor": 1000,
       "unit_scale": false
      },
      "application/vnd.jupyter.widget-view+json": {
       "model_id": "780c5c2e011a4fddacd0210941d2f659",
       "version_major": 2,
       "version_minor": 0
      },
      "text/plain": [
       "  0%|          | 0/12 [00:00<?, ?it/s]"
      ]
     },
     "metadata": {},
     "output_type": "display_data"
    },
    {
     "name": "stdout",
     "output_type": "stream",
     "text": [
      "[ Train | 025/100 ] loss = 0.20119, acc = 0.92708\n"
     ]
    },
    {
     "data": {
      "application/json": {
       "ascii": false,
       "bar_format": null,
       "colour": null,
       "elapsed": 0.019998550415039062,
       "initial": 0,
       "n": 0,
       "ncols": null,
       "nrows": null,
       "postfix": null,
       "prefix": "",
       "rate": null,
       "total": 3,
       "unit": "it",
       "unit_divisor": 1000,
       "unit_scale": false
      },
      "application/vnd.jupyter.widget-view+json": {
       "model_id": "3b89b52b36dd455e986d257fcf2e53ab",
       "version_major": 2,
       "version_minor": 0
      },
      "text/plain": [
       "  0%|          | 0/3 [00:00<?, ?it/s]"
      ]
     },
     "metadata": {},
     "output_type": "display_data"
    },
    {
     "name": "stdout",
     "output_type": "stream",
     "text": [
      "[ Valid | 025/100 ] loss = 0.83680, acc = 0.76823\n",
      "[ Valid | 025/100 ] loss = 0.83680, acc = 0.76823\n"
     ]
    },
    {
     "data": {
      "application/json": {
       "ascii": false,
       "bar_format": null,
       "colour": null,
       "elapsed": 0.04301142692565918,
       "initial": 0,
       "n": 0,
       "ncols": null,
       "nrows": null,
       "postfix": null,
       "prefix": "",
       "rate": null,
       "total": 12,
       "unit": "it",
       "unit_divisor": 1000,
       "unit_scale": false
      },
      "application/vnd.jupyter.widget-view+json": {
       "model_id": "6b32d449681b404c91b186f4784a1439",
       "version_major": 2,
       "version_minor": 0
      },
      "text/plain": [
       "  0%|          | 0/12 [00:00<?, ?it/s]"
      ]
     },
     "metadata": {},
     "output_type": "display_data"
    },
    {
     "name": "stdout",
     "output_type": "stream",
     "text": [
      "[ Train | 026/100 ] loss = 0.18898, acc = 0.93620\n"
     ]
    },
    {
     "data": {
      "application/json": {
       "ascii": false,
       "bar_format": null,
       "colour": null,
       "elapsed": 0.020033597946166992,
       "initial": 0,
       "n": 0,
       "ncols": null,
       "nrows": null,
       "postfix": null,
       "prefix": "",
       "rate": null,
       "total": 3,
       "unit": "it",
       "unit_divisor": 1000,
       "unit_scale": false
      },
      "application/vnd.jupyter.widget-view+json": {
       "model_id": "1510117021d945a99a32711a70116563",
       "version_major": 2,
       "version_minor": 0
      },
      "text/plain": [
       "  0%|          | 0/3 [00:00<?, ?it/s]"
      ]
     },
     "metadata": {},
     "output_type": "display_data"
    },
    {
     "name": "stdout",
     "output_type": "stream",
     "text": [
      "[ Valid | 026/100 ] loss = 1.65103, acc = 0.60897\n",
      "[ Valid | 026/100 ] loss = 1.65103, acc = 0.60897\n"
     ]
    },
    {
     "data": {
      "application/json": {
       "ascii": false,
       "bar_format": null,
       "colour": null,
       "elapsed": 0.021003246307373047,
       "initial": 0,
       "n": 0,
       "ncols": null,
       "nrows": null,
       "postfix": null,
       "prefix": "",
       "rate": null,
       "total": 12,
       "unit": "it",
       "unit_divisor": 1000,
       "unit_scale": false
      },
      "application/vnd.jupyter.widget-view+json": {
       "model_id": "c9d91c07ccfd4be1a04334d569b0e6ae",
       "version_major": 2,
       "version_minor": 0
      },
      "text/plain": [
       "  0%|          | 0/12 [00:00<?, ?it/s]"
      ]
     },
     "metadata": {},
     "output_type": "display_data"
    },
    {
     "name": "stdout",
     "output_type": "stream",
     "text": [
      "[ Train | 027/100 ] loss = 0.22739, acc = 0.91992\n"
     ]
    },
    {
     "data": {
      "application/json": {
       "ascii": false,
       "bar_format": null,
       "colour": null,
       "elapsed": 0.021026134490966797,
       "initial": 0,
       "n": 0,
       "ncols": null,
       "nrows": null,
       "postfix": null,
       "prefix": "",
       "rate": null,
       "total": 3,
       "unit": "it",
       "unit_divisor": 1000,
       "unit_scale": false
      },
      "application/vnd.jupyter.widget-view+json": {
       "model_id": "27c5151fac73453387043c4d550dfec7",
       "version_major": 2,
       "version_minor": 0
      },
      "text/plain": [
       "  0%|          | 0/3 [00:00<?, ?it/s]"
      ]
     },
     "metadata": {},
     "output_type": "display_data"
    },
    {
     "name": "stdout",
     "output_type": "stream",
     "text": [
      "[ Valid | 027/100 ] loss = 0.72281, acc = 0.76242\n",
      "[ Valid | 027/100 ] loss = 0.72281, acc = 0.76242\n"
     ]
    },
    {
     "data": {
      "application/json": {
       "ascii": false,
       "bar_format": null,
       "colour": null,
       "elapsed": 0.018994569778442383,
       "initial": 0,
       "n": 0,
       "ncols": null,
       "nrows": null,
       "postfix": null,
       "prefix": "",
       "rate": null,
       "total": 12,
       "unit": "it",
       "unit_divisor": 1000,
       "unit_scale": false
      },
      "application/vnd.jupyter.widget-view+json": {
       "model_id": "7354cde1443b4beea5076c7a236fb38c",
       "version_major": 2,
       "version_minor": 0
      },
      "text/plain": [
       "  0%|          | 0/12 [00:00<?, ?it/s]"
      ]
     },
     "metadata": {},
     "output_type": "display_data"
    },
    {
     "name": "stdout",
     "output_type": "stream",
     "text": [
      "[ Train | 028/100 ] loss = 0.17648, acc = 0.93815\n"
     ]
    },
    {
     "data": {
      "application/json": {
       "ascii": false,
       "bar_format": null,
       "colour": null,
       "elapsed": 0.0189971923828125,
       "initial": 0,
       "n": 0,
       "ncols": null,
       "nrows": null,
       "postfix": null,
       "prefix": "",
       "rate": null,
       "total": 3,
       "unit": "it",
       "unit_divisor": 1000,
       "unit_scale": false
      },
      "application/vnd.jupyter.widget-view+json": {
       "model_id": "b852e2ce3c014d83a9ff847264dae566",
       "version_major": 2,
       "version_minor": 0
      },
      "text/plain": [
       "  0%|          | 0/3 [00:00<?, ?it/s]"
      ]
     },
     "metadata": {},
     "output_type": "display_data"
    },
    {
     "name": "stdout",
     "output_type": "stream",
     "text": [
      "[ Valid | 028/100 ] loss = 0.59701, acc = 0.83514\n",
      "[ Valid | 028/100 ] loss = 0.59701, acc = 0.83514\n"
     ]
    },
    {
     "data": {
      "application/json": {
       "ascii": false,
       "bar_format": null,
       "colour": null,
       "elapsed": 0.022000551223754883,
       "initial": 0,
       "n": 0,
       "ncols": null,
       "nrows": null,
       "postfix": null,
       "prefix": "",
       "rate": null,
       "total": 12,
       "unit": "it",
       "unit_divisor": 1000,
       "unit_scale": false
      },
      "application/vnd.jupyter.widget-view+json": {
       "model_id": "361c29a2e9d84a34a07b5adafc6f7c54",
       "version_major": 2,
       "version_minor": 0
      },
      "text/plain": [
       "  0%|          | 0/12 [00:00<?, ?it/s]"
      ]
     },
     "metadata": {},
     "output_type": "display_data"
    },
    {
     "name": "stdout",
     "output_type": "stream",
     "text": [
      "[ Train | 029/100 ] loss = 0.17284, acc = 0.94010\n"
     ]
    },
    {
     "data": {
      "application/json": {
       "ascii": false,
       "bar_format": null,
       "colour": null,
       "elapsed": 0.018008708953857422,
       "initial": 0,
       "n": 0,
       "ncols": null,
       "nrows": null,
       "postfix": null,
       "prefix": "",
       "rate": null,
       "total": 3,
       "unit": "it",
       "unit_divisor": 1000,
       "unit_scale": false
      },
      "application/vnd.jupyter.widget-view+json": {
       "model_id": "5a1983899580413e853ef7ed65765e8e",
       "version_major": 2,
       "version_minor": 0
      },
      "text/plain": [
       "  0%|          | 0/3 [00:00<?, ?it/s]"
      ]
     },
     "metadata": {},
     "output_type": "display_data"
    },
    {
     "name": "stdout",
     "output_type": "stream",
     "text": [
      "[ Valid | 029/100 ] loss = 0.53662, acc = 0.83093\n",
      "[ Valid | 029/100 ] loss = 0.53662, acc = 0.83093\n",
      "No improvment 10 consecutive epochs, early stopping\n"
     ]
    },
    {
     "data": {
      "application/json": {
       "ascii": false,
       "bar_format": null,
       "colour": null,
       "elapsed": 0.01904463768005371,
       "initial": 0,
       "n": 0,
       "ncols": null,
       "nrows": null,
       "postfix": null,
       "prefix": "",
       "rate": null,
       "total": 12,
       "unit": "it",
       "unit_divisor": 1000,
       "unit_scale": false
      },
      "application/vnd.jupyter.widget-view+json": {
       "model_id": "60ed3589001c45189d8647cb71ad5522",
       "version_major": 2,
       "version_minor": 0
      },
      "text/plain": [
       "  0%|          | 0/12 [00:00<?, ?it/s]"
      ]
     },
     "metadata": {},
     "output_type": "display_data"
    },
    {
     "name": "stdout",
     "output_type": "stream",
     "text": [
      "[ Train | 001/100 ] loss = 0.19308, acc = 0.92578\n"
     ]
    },
    {
     "data": {
      "application/json": {
       "ascii": false,
       "bar_format": null,
       "colour": null,
       "elapsed": 0.02300238609313965,
       "initial": 0,
       "n": 0,
       "ncols": null,
       "nrows": null,
       "postfix": null,
       "prefix": "",
       "rate": null,
       "total": 3,
       "unit": "it",
       "unit_divisor": 1000,
       "unit_scale": false
      },
      "application/vnd.jupyter.widget-view+json": {
       "model_id": "e90610cda88e41dfbfffd5b76fbf7b55",
       "version_major": 2,
       "version_minor": 0
      },
      "text/plain": [
       "  0%|          | 0/3 [00:00<?, ?it/s]"
      ]
     },
     "metadata": {},
     "output_type": "display_data"
    },
    {
     "name": "stdout",
     "output_type": "stream",
     "text": [
      "[ Valid | 001/100 ] loss = 0.61304, acc = 0.81470\n",
      "[ Valid | 001/100 ] loss = 0.61304, acc = 0.81470\n",
      "No improvment 10 consecutive epochs, early stopping\n"
     ]
    },
    {
     "data": {
      "application/json": {
       "ascii": false,
       "bar_format": null,
       "colour": null,
       "elapsed": 0.02199578285217285,
       "initial": 0,
       "n": 0,
       "ncols": null,
       "nrows": null,
       "postfix": null,
       "prefix": "",
       "rate": null,
       "total": 12,
       "unit": "it",
       "unit_divisor": 1000,
       "unit_scale": false
      },
      "application/vnd.jupyter.widget-view+json": {
       "model_id": "3cde56833de4436f9f0425ffa132db92",
       "version_major": 2,
       "version_minor": 0
      },
      "text/plain": [
       "  0%|          | 0/12 [00:00<?, ?it/s]"
      ]
     },
     "metadata": {},
     "output_type": "display_data"
    },
    {
     "name": "stdout",
     "output_type": "stream",
     "text": [
      "[ Train | 001/100 ] loss = 0.24973, acc = 0.92253\n"
     ]
    },
    {
     "data": {
      "application/json": {
       "ascii": false,
       "bar_format": null,
       "colour": null,
       "elapsed": 0.03000640869140625,
       "initial": 0,
       "n": 0,
       "ncols": null,
       "nrows": null,
       "postfix": null,
       "prefix": "",
       "rate": null,
       "total": 3,
       "unit": "it",
       "unit_divisor": 1000,
       "unit_scale": false
      },
      "application/vnd.jupyter.widget-view+json": {
       "model_id": "b413884916ea4f35939c26810f65ca83",
       "version_major": 2,
       "version_minor": 0
      },
      "text/plain": [
       "  0%|          | 0/3 [00:00<?, ?it/s]"
      ]
     },
     "metadata": {},
     "output_type": "display_data"
    },
    {
     "name": "stdout",
     "output_type": "stream",
     "text": [
      "[ Valid | 001/100 ] loss = 0.31108, acc = 0.87740\n",
      "[ Valid | 001/100 ] loss = 0.31108, acc = 0.87740 -> best\n",
      "Best model found at epoch 0, saving model\n"
     ]
    },
    {
     "data": {
      "application/json": {
       "ascii": false,
       "bar_format": null,
       "colour": null,
       "elapsed": 0.018044710159301758,
       "initial": 0,
       "n": 0,
       "ncols": null,
       "nrows": null,
       "postfix": null,
       "prefix": "",
       "rate": null,
       "total": 12,
       "unit": "it",
       "unit_divisor": 1000,
       "unit_scale": false
      },
      "application/vnd.jupyter.widget-view+json": {
       "model_id": "e6165ba1ee4c402d886d574448218c82",
       "version_major": 2,
       "version_minor": 0
      },
      "text/plain": [
       "  0%|          | 0/12 [00:00<?, ?it/s]"
      ]
     },
     "metadata": {},
     "output_type": "display_data"
    },
    {
     "name": "stdout",
     "output_type": "stream",
     "text": [
      "[ Train | 002/100 ] loss = 0.22415, acc = 0.91536\n"
     ]
    },
    {
     "data": {
      "application/json": {
       "ascii": false,
       "bar_format": null,
       "colour": null,
       "elapsed": 0.01903820037841797,
       "initial": 0,
       "n": 0,
       "ncols": null,
       "nrows": null,
       "postfix": null,
       "prefix": "",
       "rate": null,
       "total": 3,
       "unit": "it",
       "unit_divisor": 1000,
       "unit_scale": false
      },
      "application/vnd.jupyter.widget-view+json": {
       "model_id": "36c6007b88994eba9efe846bc1b71468",
       "version_major": 2,
       "version_minor": 0
      },
      "text/plain": [
       "  0%|          | 0/3 [00:00<?, ?it/s]"
      ]
     },
     "metadata": {},
     "output_type": "display_data"
    },
    {
     "name": "stdout",
     "output_type": "stream",
     "text": [
      "[ Valid | 002/100 ] loss = 0.78028, acc = 0.76603\n",
      "[ Valid | 002/100 ] loss = 0.78028, acc = 0.76603\n"
     ]
    },
    {
     "data": {
      "application/json": {
       "ascii": false,
       "bar_format": null,
       "colour": null,
       "elapsed": 0.020001649856567383,
       "initial": 0,
       "n": 0,
       "ncols": null,
       "nrows": null,
       "postfix": null,
       "prefix": "",
       "rate": null,
       "total": 12,
       "unit": "it",
       "unit_divisor": 1000,
       "unit_scale": false
      },
      "application/vnd.jupyter.widget-view+json": {
       "model_id": "918de750dc5f4b10a6f03bb45fa0fd2d",
       "version_major": 2,
       "version_minor": 0
      },
      "text/plain": [
       "  0%|          | 0/12 [00:00<?, ?it/s]"
      ]
     },
     "metadata": {},
     "output_type": "display_data"
    },
    {
     "name": "stdout",
     "output_type": "stream",
     "text": [
      "[ Train | 003/100 ] loss = 0.22817, acc = 0.92513\n"
     ]
    },
    {
     "data": {
      "application/json": {
       "ascii": false,
       "bar_format": null,
       "colour": null,
       "elapsed": 0.01798391342163086,
       "initial": 0,
       "n": 0,
       "ncols": null,
       "nrows": null,
       "postfix": null,
       "prefix": "",
       "rate": null,
       "total": 3,
       "unit": "it",
       "unit_divisor": 1000,
       "unit_scale": false
      },
      "application/vnd.jupyter.widget-view+json": {
       "model_id": "63a1d40b276b4f5a820b5e2b38ad039a",
       "version_major": 2,
       "version_minor": 0
      },
      "text/plain": [
       "  0%|          | 0/3 [00:00<?, ?it/s]"
      ]
     },
     "metadata": {},
     "output_type": "display_data"
    },
    {
     "name": "stdout",
     "output_type": "stream",
     "text": [
      "[ Valid | 003/100 ] loss = 0.37230, acc = 0.89724\n",
      "[ Valid | 003/100 ] loss = 0.37230, acc = 0.89724 -> best\n",
      "Best model found at epoch 2, saving model\n"
     ]
    },
    {
     "data": {
      "application/json": {
       "ascii": false,
       "bar_format": null,
       "colour": null,
       "elapsed": 0.0180056095123291,
       "initial": 0,
       "n": 0,
       "ncols": null,
       "nrows": null,
       "postfix": null,
       "prefix": "",
       "rate": null,
       "total": 12,
       "unit": "it",
       "unit_divisor": 1000,
       "unit_scale": false
      },
      "application/vnd.jupyter.widget-view+json": {
       "model_id": "5063843020424809b7d6067e83e65e7e",
       "version_major": 2,
       "version_minor": 0
      },
      "text/plain": [
       "  0%|          | 0/12 [00:00<?, ?it/s]"
      ]
     },
     "metadata": {},
     "output_type": "display_data"
    },
    {
     "name": "stdout",
     "output_type": "stream",
     "text": [
      "[ Train | 004/100 ] loss = 0.17731, acc = 0.93294\n"
     ]
    },
    {
     "data": {
      "application/json": {
       "ascii": false,
       "bar_format": null,
       "colour": null,
       "elapsed": 0.020000219345092773,
       "initial": 0,
       "n": 0,
       "ncols": null,
       "nrows": null,
       "postfix": null,
       "prefix": "",
       "rate": null,
       "total": 3,
       "unit": "it",
       "unit_divisor": 1000,
       "unit_scale": false
      },
      "application/vnd.jupyter.widget-view+json": {
       "model_id": "3f2ebff440c6407f8572d5f55f88d403",
       "version_major": 2,
       "version_minor": 0
      },
      "text/plain": [
       "  0%|          | 0/3 [00:00<?, ?it/s]"
      ]
     },
     "metadata": {},
     "output_type": "display_data"
    },
    {
     "name": "stdout",
     "output_type": "stream",
     "text": [
      "[ Valid | 004/100 ] loss = 0.34583, acc = 0.87580\n",
      "[ Valid | 004/100 ] loss = 0.34583, acc = 0.87580\n"
     ]
    },
    {
     "data": {
      "application/json": {
       "ascii": false,
       "bar_format": null,
       "colour": null,
       "elapsed": 0.019953250885009766,
       "initial": 0,
       "n": 0,
       "ncols": null,
       "nrows": null,
       "postfix": null,
       "prefix": "",
       "rate": null,
       "total": 12,
       "unit": "it",
       "unit_divisor": 1000,
       "unit_scale": false
      },
      "application/vnd.jupyter.widget-view+json": {
       "model_id": "b1afb94c23bc44e9a8716742c6b45966",
       "version_major": 2,
       "version_minor": 0
      },
      "text/plain": [
       "  0%|          | 0/12 [00:00<?, ?it/s]"
      ]
     },
     "metadata": {},
     "output_type": "display_data"
    },
    {
     "name": "stdout",
     "output_type": "stream",
     "text": [
      "[ Train | 005/100 ] loss = 0.15704, acc = 0.93815\n"
     ]
    },
    {
     "data": {
      "application/json": {
       "ascii": false,
       "bar_format": null,
       "colour": null,
       "elapsed": 0.020999670028686523,
       "initial": 0,
       "n": 0,
       "ncols": null,
       "nrows": null,
       "postfix": null,
       "prefix": "",
       "rate": null,
       "total": 3,
       "unit": "it",
       "unit_divisor": 1000,
       "unit_scale": false
      },
      "application/vnd.jupyter.widget-view+json": {
       "model_id": "1f9e23e022644919a568719cf3797fc4",
       "version_major": 2,
       "version_minor": 0
      },
      "text/plain": [
       "  0%|          | 0/3 [00:00<?, ?it/s]"
      ]
     },
     "metadata": {},
     "output_type": "display_data"
    },
    {
     "name": "stdout",
     "output_type": "stream",
     "text": [
      "[ Valid | 005/100 ] loss = 0.83273, acc = 0.76863\n",
      "[ Valid | 005/100 ] loss = 0.83273, acc = 0.76863\n"
     ]
    },
    {
     "data": {
      "application/json": {
       "ascii": false,
       "bar_format": null,
       "colour": null,
       "elapsed": 0.026992321014404297,
       "initial": 0,
       "n": 0,
       "ncols": null,
       "nrows": null,
       "postfix": null,
       "prefix": "",
       "rate": null,
       "total": 12,
       "unit": "it",
       "unit_divisor": 1000,
       "unit_scale": false
      },
      "application/vnd.jupyter.widget-view+json": {
       "model_id": "bfb0ed3dd7b64b00bf2c1719b58e74af",
       "version_major": 2,
       "version_minor": 0
      },
      "text/plain": [
       "  0%|          | 0/12 [00:00<?, ?it/s]"
      ]
     },
     "metadata": {},
     "output_type": "display_data"
    },
    {
     "name": "stdout",
     "output_type": "stream",
     "text": [
      "[ Train | 006/100 ] loss = 0.15224, acc = 0.94466\n"
     ]
    },
    {
     "data": {
      "application/json": {
       "ascii": false,
       "bar_format": null,
       "colour": null,
       "elapsed": 0.03200411796569824,
       "initial": 0,
       "n": 0,
       "ncols": null,
       "nrows": null,
       "postfix": null,
       "prefix": "",
       "rate": null,
       "total": 3,
       "unit": "it",
       "unit_divisor": 1000,
       "unit_scale": false
      },
      "application/vnd.jupyter.widget-view+json": {
       "model_id": "81c4fffcb3df4bc2ac164bd8c98348bf",
       "version_major": 2,
       "version_minor": 0
      },
      "text/plain": [
       "  0%|          | 0/3 [00:00<?, ?it/s]"
      ]
     },
     "metadata": {},
     "output_type": "display_data"
    },
    {
     "name": "stdout",
     "output_type": "stream",
     "text": [
      "[ Valid | 006/100 ] loss = 0.11139, acc = 0.96575\n",
      "[ Valid | 006/100 ] loss = 0.11139, acc = 0.96575 -> best\n",
      "Best model found at epoch 5, saving model\n"
     ]
    },
    {
     "data": {
      "application/json": {
       "ascii": false,
       "bar_format": null,
       "colour": null,
       "elapsed": 0.029003143310546875,
       "initial": 0,
       "n": 0,
       "ncols": null,
       "nrows": null,
       "postfix": null,
       "prefix": "",
       "rate": null,
       "total": 12,
       "unit": "it",
       "unit_divisor": 1000,
       "unit_scale": false
      },
      "application/vnd.jupyter.widget-view+json": {
       "model_id": "5e63fa29fd5c4660883789db5e19b42e",
       "version_major": 2,
       "version_minor": 0
      },
      "text/plain": [
       "  0%|          | 0/12 [00:00<?, ?it/s]"
      ]
     },
     "metadata": {},
     "output_type": "display_data"
    },
    {
     "name": "stdout",
     "output_type": "stream",
     "text": [
      "[ Train | 007/100 ] loss = 0.13787, acc = 0.95638\n"
     ]
    },
    {
     "data": {
      "application/json": {
       "ascii": false,
       "bar_format": null,
       "colour": null,
       "elapsed": 0.027609586715698242,
       "initial": 0,
       "n": 0,
       "ncols": null,
       "nrows": null,
       "postfix": null,
       "prefix": "",
       "rate": null,
       "total": 3,
       "unit": "it",
       "unit_divisor": 1000,
       "unit_scale": false
      },
      "application/vnd.jupyter.widget-view+json": {
       "model_id": "b1955bea9dc74101949e9b334f30d3dd",
       "version_major": 2,
       "version_minor": 0
      },
      "text/plain": [
       "  0%|          | 0/3 [00:00<?, ?it/s]"
      ]
     },
     "metadata": {},
     "output_type": "display_data"
    },
    {
     "name": "stdout",
     "output_type": "stream",
     "text": [
      "[ Valid | 007/100 ] loss = 0.18627, acc = 0.93730\n",
      "[ Valid | 007/100 ] loss = 0.18627, acc = 0.93730\n"
     ]
    },
    {
     "data": {
      "application/json": {
       "ascii": false,
       "bar_format": null,
       "colour": null,
       "elapsed": 0.02399921417236328,
       "initial": 0,
       "n": 0,
       "ncols": null,
       "nrows": null,
       "postfix": null,
       "prefix": "",
       "rate": null,
       "total": 12,
       "unit": "it",
       "unit_divisor": 1000,
       "unit_scale": false
      },
      "application/vnd.jupyter.widget-view+json": {
       "model_id": "a3f0e287c6124e24ac451560142f73df",
       "version_major": 2,
       "version_minor": 0
      },
      "text/plain": [
       "  0%|          | 0/12 [00:00<?, ?it/s]"
      ]
     },
     "metadata": {},
     "output_type": "display_data"
    },
    {
     "name": "stdout",
     "output_type": "stream",
     "text": [
      "[ Train | 008/100 ] loss = 0.12303, acc = 0.95703\n"
     ]
    },
    {
     "data": {
      "application/json": {
       "ascii": false,
       "bar_format": null,
       "colour": null,
       "elapsed": 0.0279998779296875,
       "initial": 0,
       "n": 0,
       "ncols": null,
       "nrows": null,
       "postfix": null,
       "prefix": "",
       "rate": null,
       "total": 3,
       "unit": "it",
       "unit_divisor": 1000,
       "unit_scale": false
      },
      "application/vnd.jupyter.widget-view+json": {
       "model_id": "05ed1950b1444c0183ee7e93dce816e7",
       "version_major": 2,
       "version_minor": 0
      },
      "text/plain": [
       "  0%|          | 0/3 [00:00<?, ?it/s]"
      ]
     },
     "metadata": {},
     "output_type": "display_data"
    },
    {
     "name": "stdout",
     "output_type": "stream",
     "text": [
      "[ Valid | 008/100 ] loss = 0.37605, acc = 0.88341\n",
      "[ Valid | 008/100 ] loss = 0.37605, acc = 0.88341\n"
     ]
    },
    {
     "data": {
      "application/json": {
       "ascii": false,
       "bar_format": null,
       "colour": null,
       "elapsed": 0.022984743118286133,
       "initial": 0,
       "n": 0,
       "ncols": null,
       "nrows": null,
       "postfix": null,
       "prefix": "",
       "rate": null,
       "total": 12,
       "unit": "it",
       "unit_divisor": 1000,
       "unit_scale": false
      },
      "application/vnd.jupyter.widget-view+json": {
       "model_id": "152410c32ae84f6aad73150a6cc2762d",
       "version_major": 2,
       "version_minor": 0
      },
      "text/plain": [
       "  0%|          | 0/12 [00:00<?, ?it/s]"
      ]
     },
     "metadata": {},
     "output_type": "display_data"
    },
    {
     "name": "stdout",
     "output_type": "stream",
     "text": [
      "[ Train | 009/100 ] loss = 0.26562, acc = 0.91276\n"
     ]
    },
    {
     "data": {
      "application/json": {
       "ascii": false,
       "bar_format": null,
       "colour": null,
       "elapsed": 0.038010597229003906,
       "initial": 0,
       "n": 0,
       "ncols": null,
       "nrows": null,
       "postfix": null,
       "prefix": "",
       "rate": null,
       "total": 3,
       "unit": "it",
       "unit_divisor": 1000,
       "unit_scale": false
      },
      "application/vnd.jupyter.widget-view+json": {
       "model_id": "eadce670351f4a07b5249680a03842d0",
       "version_major": 2,
       "version_minor": 0
      },
      "text/plain": [
       "  0%|          | 0/3 [00:00<?, ?it/s]"
      ]
     },
     "metadata": {},
     "output_type": "display_data"
    },
    {
     "name": "stdout",
     "output_type": "stream",
     "text": [
      "[ Valid | 009/100 ] loss = 0.29187, acc = 0.90785\n",
      "[ Valid | 009/100 ] loss = 0.29187, acc = 0.90785\n"
     ]
    },
    {
     "data": {
      "application/json": {
       "ascii": false,
       "bar_format": null,
       "colour": null,
       "elapsed": 0.016034841537475586,
       "initial": 0,
       "n": 0,
       "ncols": null,
       "nrows": null,
       "postfix": null,
       "prefix": "",
       "rate": null,
       "total": 12,
       "unit": "it",
       "unit_divisor": 1000,
       "unit_scale": false
      },
      "application/vnd.jupyter.widget-view+json": {
       "model_id": "daa6393dec794fbbb23b49efb72c53ce",
       "version_major": 2,
       "version_minor": 0
      },
      "text/plain": [
       "  0%|          | 0/12 [00:00<?, ?it/s]"
      ]
     },
     "metadata": {},
     "output_type": "display_data"
    },
    {
     "name": "stdout",
     "output_type": "stream",
     "text": [
      "[ Train | 010/100 ] loss = 0.13544, acc = 0.94661\n"
     ]
    },
    {
     "data": {
      "application/json": {
       "ascii": false,
       "bar_format": null,
       "colour": null,
       "elapsed": 0.03700447082519531,
       "initial": 0,
       "n": 0,
       "ncols": null,
       "nrows": null,
       "postfix": null,
       "prefix": "",
       "rate": null,
       "total": 3,
       "unit": "it",
       "unit_divisor": 1000,
       "unit_scale": false
      },
      "application/vnd.jupyter.widget-view+json": {
       "model_id": "b0830445614f4a0da75ecc7ceaef313e",
       "version_major": 2,
       "version_minor": 0
      },
      "text/plain": [
       "  0%|          | 0/3 [00:00<?, ?it/s]"
      ]
     },
     "metadata": {},
     "output_type": "display_data"
    },
    {
     "name": "stdout",
     "output_type": "stream",
     "text": [
      "[ Valid | 010/100 ] loss = 0.42589, acc = 0.86398\n",
      "[ Valid | 010/100 ] loss = 0.42589, acc = 0.86398\n"
     ]
    },
    {
     "data": {
      "application/json": {
       "ascii": false,
       "bar_format": null,
       "colour": null,
       "elapsed": 0.01900005340576172,
       "initial": 0,
       "n": 0,
       "ncols": null,
       "nrows": null,
       "postfix": null,
       "prefix": "",
       "rate": null,
       "total": 12,
       "unit": "it",
       "unit_divisor": 1000,
       "unit_scale": false
      },
      "application/vnd.jupyter.widget-view+json": {
       "model_id": "2d2d1eadc1ad4bb09b75d98fa52ba90c",
       "version_major": 2,
       "version_minor": 0
      },
      "text/plain": [
       "  0%|          | 0/12 [00:00<?, ?it/s]"
      ]
     },
     "metadata": {},
     "output_type": "display_data"
    },
    {
     "name": "stdout",
     "output_type": "stream",
     "text": [
      "[ Train | 011/100 ] loss = 0.12098, acc = 0.95964\n"
     ]
    },
    {
     "data": {
      "application/json": {
       "ascii": false,
       "bar_format": null,
       "colour": null,
       "elapsed": 0.021998882293701172,
       "initial": 0,
       "n": 0,
       "ncols": null,
       "nrows": null,
       "postfix": null,
       "prefix": "",
       "rate": null,
       "total": 3,
       "unit": "it",
       "unit_divisor": 1000,
       "unit_scale": false
      },
      "application/vnd.jupyter.widget-view+json": {
       "model_id": "4e97e01b3f344053a9687d47f1697978",
       "version_major": 2,
       "version_minor": 0
      },
      "text/plain": [
       "  0%|          | 0/3 [00:00<?, ?it/s]"
      ]
     },
     "metadata": {},
     "output_type": "display_data"
    },
    {
     "name": "stdout",
     "output_type": "stream",
     "text": [
      "[ Valid | 011/100 ] loss = 0.28415, acc = 0.89383\n",
      "[ Valid | 011/100 ] loss = 0.28415, acc = 0.89383\n"
     ]
    },
    {
     "data": {
      "application/json": {
       "ascii": false,
       "bar_format": null,
       "colour": null,
       "elapsed": 0.018040180206298828,
       "initial": 0,
       "n": 0,
       "ncols": null,
       "nrows": null,
       "postfix": null,
       "prefix": "",
       "rate": null,
       "total": 12,
       "unit": "it",
       "unit_divisor": 1000,
       "unit_scale": false
      },
      "application/vnd.jupyter.widget-view+json": {
       "model_id": "bcb2e6aea61c4884b00fe7c042343d4d",
       "version_major": 2,
       "version_minor": 0
      },
      "text/plain": [
       "  0%|          | 0/12 [00:00<?, ?it/s]"
      ]
     },
     "metadata": {},
     "output_type": "display_data"
    },
    {
     "name": "stdout",
     "output_type": "stream",
     "text": [
      "[ Train | 012/100 ] loss = 0.16117, acc = 0.93880\n"
     ]
    },
    {
     "data": {
      "application/json": {
       "ascii": false,
       "bar_format": null,
       "colour": null,
       "elapsed": 0.036995887756347656,
       "initial": 0,
       "n": 0,
       "ncols": null,
       "nrows": null,
       "postfix": null,
       "prefix": "",
       "rate": null,
       "total": 3,
       "unit": "it",
       "unit_divisor": 1000,
       "unit_scale": false
      },
      "application/vnd.jupyter.widget-view+json": {
       "model_id": "d1c5901e08c84f23b1f4a227a264698f",
       "version_major": 2,
       "version_minor": 0
      },
      "text/plain": [
       "  0%|          | 0/3 [00:00<?, ?it/s]"
      ]
     },
     "metadata": {},
     "output_type": "display_data"
    },
    {
     "name": "stdout",
     "output_type": "stream",
     "text": [
      "[ Valid | 012/100 ] loss = 0.16509, acc = 0.92608\n",
      "[ Valid | 012/100 ] loss = 0.16509, acc = 0.92608\n"
     ]
    },
    {
     "data": {
      "application/json": {
       "ascii": false,
       "bar_format": null,
       "colour": null,
       "elapsed": 0.040996551513671875,
       "initial": 0,
       "n": 0,
       "ncols": null,
       "nrows": null,
       "postfix": null,
       "prefix": "",
       "rate": null,
       "total": 12,
       "unit": "it",
       "unit_divisor": 1000,
       "unit_scale": false
      },
      "application/vnd.jupyter.widget-view+json": {
       "model_id": "f703910e71f34d2bbdb31a225d41c916",
       "version_major": 2,
       "version_minor": 0
      },
      "text/plain": [
       "  0%|          | 0/12 [00:00<?, ?it/s]"
      ]
     },
     "metadata": {},
     "output_type": "display_data"
    },
    {
     "name": "stdout",
     "output_type": "stream",
     "text": [
      "[ Train | 013/100 ] loss = 0.15077, acc = 0.94336\n"
     ]
    },
    {
     "data": {
      "application/json": {
       "ascii": false,
       "bar_format": null,
       "colour": null,
       "elapsed": 0.02601933479309082,
       "initial": 0,
       "n": 0,
       "ncols": null,
       "nrows": null,
       "postfix": null,
       "prefix": "",
       "rate": null,
       "total": 3,
       "unit": "it",
       "unit_divisor": 1000,
       "unit_scale": false
      },
      "application/vnd.jupyter.widget-view+json": {
       "model_id": "4b72af5f139843a981f0cd6fd1621f36",
       "version_major": 2,
       "version_minor": 0
      },
      "text/plain": [
       "  0%|          | 0/3 [00:00<?, ?it/s]"
      ]
     },
     "metadata": {},
     "output_type": "display_data"
    },
    {
     "name": "stdout",
     "output_type": "stream",
     "text": [
      "[ Valid | 013/100 ] loss = 0.66947, acc = 0.80128\n",
      "[ Valid | 013/100 ] loss = 0.66947, acc = 0.80128\n"
     ]
    },
    {
     "data": {
      "application/json": {
       "ascii": false,
       "bar_format": null,
       "colour": null,
       "elapsed": 0.020032644271850586,
       "initial": 0,
       "n": 0,
       "ncols": null,
       "nrows": null,
       "postfix": null,
       "prefix": "",
       "rate": null,
       "total": 12,
       "unit": "it",
       "unit_divisor": 1000,
       "unit_scale": false
      },
      "application/vnd.jupyter.widget-view+json": {
       "model_id": "19f24a957d4d4a5a9b14119ff5037cb5",
       "version_major": 2,
       "version_minor": 0
      },
      "text/plain": [
       "  0%|          | 0/12 [00:00<?, ?it/s]"
      ]
     },
     "metadata": {},
     "output_type": "display_data"
    },
    {
     "name": "stdout",
     "output_type": "stream",
     "text": [
      "[ Train | 014/100 ] loss = 0.17362, acc = 0.93815\n"
     ]
    },
    {
     "data": {
      "application/json": {
       "ascii": false,
       "bar_format": null,
       "colour": null,
       "elapsed": 0.055997371673583984,
       "initial": 0,
       "n": 0,
       "ncols": null,
       "nrows": null,
       "postfix": null,
       "prefix": "",
       "rate": null,
       "total": 3,
       "unit": "it",
       "unit_divisor": 1000,
       "unit_scale": false
      },
      "application/vnd.jupyter.widget-view+json": {
       "model_id": "5924d8ddcae74208b8ceb6a399dee0db",
       "version_major": 2,
       "version_minor": 0
      },
      "text/plain": [
       "  0%|          | 0/3 [00:00<?, ?it/s]"
      ]
     },
     "metadata": {},
     "output_type": "display_data"
    },
    {
     "name": "stdout",
     "output_type": "stream",
     "text": [
      "[ Valid | 014/100 ] loss = 0.37780, acc = 0.86158\n",
      "[ Valid | 014/100 ] loss = 0.37780, acc = 0.86158\n"
     ]
    },
    {
     "data": {
      "application/json": {
       "ascii": false,
       "bar_format": null,
       "colour": null,
       "elapsed": 0.021997451782226562,
       "initial": 0,
       "n": 0,
       "ncols": null,
       "nrows": null,
       "postfix": null,
       "prefix": "",
       "rate": null,
       "total": 12,
       "unit": "it",
       "unit_divisor": 1000,
       "unit_scale": false
      },
      "application/vnd.jupyter.widget-view+json": {
       "model_id": "631ba76a3a3243b1ba71a8d07600fe8f",
       "version_major": 2,
       "version_minor": 0
      },
      "text/plain": [
       "  0%|          | 0/12 [00:00<?, ?it/s]"
      ]
     },
     "metadata": {},
     "output_type": "display_data"
    },
    {
     "name": "stdout",
     "output_type": "stream",
     "text": [
      "[ Train | 015/100 ] loss = 0.13424, acc = 0.95312\n"
     ]
    },
    {
     "data": {
      "application/json": {
       "ascii": false,
       "bar_format": null,
       "colour": null,
       "elapsed": 0.024996519088745117,
       "initial": 0,
       "n": 0,
       "ncols": null,
       "nrows": null,
       "postfix": null,
       "prefix": "",
       "rate": null,
       "total": 3,
       "unit": "it",
       "unit_divisor": 1000,
       "unit_scale": false
      },
      "application/vnd.jupyter.widget-view+json": {
       "model_id": "8cc9c76aea914df3a957114ef9cd38bc",
       "version_major": 2,
       "version_minor": 0
      },
      "text/plain": [
       "  0%|          | 0/3 [00:00<?, ?it/s]"
      ]
     },
     "metadata": {},
     "output_type": "display_data"
    },
    {
     "name": "stdout",
     "output_type": "stream",
     "text": [
      "[ Valid | 015/100 ] loss = 0.20882, acc = 0.91847\n",
      "[ Valid | 015/100 ] loss = 0.20882, acc = 0.91847\n"
     ]
    },
    {
     "data": {
      "application/json": {
       "ascii": false,
       "bar_format": null,
       "colour": null,
       "elapsed": 0.02500176429748535,
       "initial": 0,
       "n": 0,
       "ncols": null,
       "nrows": null,
       "postfix": null,
       "prefix": "",
       "rate": null,
       "total": 12,
       "unit": "it",
       "unit_divisor": 1000,
       "unit_scale": false
      },
      "application/vnd.jupyter.widget-view+json": {
       "model_id": "930277edb7c5445a94e18078a23003e9",
       "version_major": 2,
       "version_minor": 0
      },
      "text/plain": [
       "  0%|          | 0/12 [00:00<?, ?it/s]"
      ]
     },
     "metadata": {},
     "output_type": "display_data"
    },
    {
     "name": "stdout",
     "output_type": "stream",
     "text": [
      "[ Train | 016/100 ] loss = 0.13378, acc = 0.95378\n"
     ]
    },
    {
     "data": {
      "application/json": {
       "ascii": false,
       "bar_format": null,
       "colour": null,
       "elapsed": 0.027016878128051758,
       "initial": 0,
       "n": 0,
       "ncols": null,
       "nrows": null,
       "postfix": null,
       "prefix": "",
       "rate": null,
       "total": 3,
       "unit": "it",
       "unit_divisor": 1000,
       "unit_scale": false
      },
      "application/vnd.jupyter.widget-view+json": {
       "model_id": "ec643b3438834aa0be1a1c3d3369da44",
       "version_major": 2,
       "version_minor": 0
      },
      "text/plain": [
       "  0%|          | 0/3 [00:00<?, ?it/s]"
      ]
     },
     "metadata": {},
     "output_type": "display_data"
    },
    {
     "name": "stdout",
     "output_type": "stream",
     "text": [
      "[ Valid | 016/100 ] loss = 0.25967, acc = 0.90745\n",
      "[ Valid | 016/100 ] loss = 0.25967, acc = 0.90745\n"
     ]
    },
    {
     "data": {
      "application/json": {
       "ascii": false,
       "bar_format": null,
       "colour": null,
       "elapsed": 0.02300095558166504,
       "initial": 0,
       "n": 0,
       "ncols": null,
       "nrows": null,
       "postfix": null,
       "prefix": "",
       "rate": null,
       "total": 12,
       "unit": "it",
       "unit_divisor": 1000,
       "unit_scale": false
      },
      "application/vnd.jupyter.widget-view+json": {
       "model_id": "139897bd61d4430e8ef9afa43dd8f1a9",
       "version_major": 2,
       "version_minor": 0
      },
      "text/plain": [
       "  0%|          | 0/12 [00:00<?, ?it/s]"
      ]
     },
     "metadata": {},
     "output_type": "display_data"
    },
    {
     "name": "stdout",
     "output_type": "stream",
     "text": [
      "[ Train | 017/100 ] loss = 0.14500, acc = 0.94466\n"
     ]
    },
    {
     "data": {
      "application/json": {
       "ascii": false,
       "bar_format": null,
       "colour": null,
       "elapsed": 0.03798222541809082,
       "initial": 0,
       "n": 0,
       "ncols": null,
       "nrows": null,
       "postfix": null,
       "prefix": "",
       "rate": null,
       "total": 3,
       "unit": "it",
       "unit_divisor": 1000,
       "unit_scale": false
      },
      "application/vnd.jupyter.widget-view+json": {
       "model_id": "0c3b9307a3c7467e8de9fc2256a6b7d5",
       "version_major": 2,
       "version_minor": 0
      },
      "text/plain": [
       "  0%|          | 0/3 [00:00<?, ?it/s]"
      ]
     },
     "metadata": {},
     "output_type": "display_data"
    },
    {
     "name": "stdout",
     "output_type": "stream",
     "text": [
      "[ Valid | 017/100 ] loss = 0.78505, acc = 0.74880\n",
      "[ Valid | 017/100 ] loss = 0.78505, acc = 0.74880\n",
      "No improvment 10 consecutive epochs, early stopping\n"
     ]
    },
    {
     "data": {
      "application/json": {
       "ascii": false,
       "bar_format": null,
       "colour": null,
       "elapsed": 0.023997068405151367,
       "initial": 0,
       "n": 0,
       "ncols": null,
       "nrows": null,
       "postfix": null,
       "prefix": "",
       "rate": null,
       "total": 12,
       "unit": "it",
       "unit_divisor": 1000,
       "unit_scale": false
      },
      "application/vnd.jupyter.widget-view+json": {
       "model_id": "6b693938c6224fe69ac978f8bfc2907e",
       "version_major": 2,
       "version_minor": 0
      },
      "text/plain": [
       "  0%|          | 0/12 [00:00<?, ?it/s]"
      ]
     },
     "metadata": {},
     "output_type": "display_data"
    },
    {
     "name": "stdout",
     "output_type": "stream",
     "text": [
      "[ Train | 001/100 ] loss = 0.15930, acc = 0.94466\n"
     ]
    },
    {
     "data": {
      "application/json": {
       "ascii": false,
       "bar_format": null,
       "colour": null,
       "elapsed": 0.024012327194213867,
       "initial": 0,
       "n": 0,
       "ncols": null,
       "nrows": null,
       "postfix": null,
       "prefix": "",
       "rate": null,
       "total": 3,
       "unit": "it",
       "unit_divisor": 1000,
       "unit_scale": false
      },
      "application/vnd.jupyter.widget-view+json": {
       "model_id": "33c86c42d2784b008d2a5528ee0a681f",
       "version_major": 2,
       "version_minor": 0
      },
      "text/plain": [
       "  0%|          | 0/3 [00:00<?, ?it/s]"
      ]
     },
     "metadata": {},
     "output_type": "display_data"
    },
    {
     "name": "stdout",
     "output_type": "stream",
     "text": [
      "[ Valid | 001/100 ] loss = 0.59584, acc = 0.81070\n",
      "[ Valid | 001/100 ] loss = 0.59584, acc = 0.81070\n",
      "No improvment 10 consecutive epochs, early stopping\n"
     ]
    },
    {
     "data": {
      "application/json": {
       "ascii": false,
       "bar_format": null,
       "colour": null,
       "elapsed": 0.031000375747680664,
       "initial": 0,
       "n": 0,
       "ncols": null,
       "nrows": null,
       "postfix": null,
       "prefix": "",
       "rate": null,
       "total": 12,
       "unit": "it",
       "unit_divisor": 1000,
       "unit_scale": false
      },
      "application/vnd.jupyter.widget-view+json": {
       "model_id": "3eadc03ef0e5420aae4edbcc6dbe25a2",
       "version_major": 2,
       "version_minor": 0
      },
      "text/plain": [
       "  0%|          | 0/12 [00:00<?, ?it/s]"
      ]
     },
     "metadata": {},
     "output_type": "display_data"
    },
    {
     "name": "stdout",
     "output_type": "stream",
     "text": [
      "[ Train | 001/100 ] loss = 0.10823, acc = 0.95768\n"
     ]
    },
    {
     "data": {
      "application/json": {
       "ascii": false,
       "bar_format": null,
       "colour": null,
       "elapsed": 0.02603626251220703,
       "initial": 0,
       "n": 0,
       "ncols": null,
       "nrows": null,
       "postfix": null,
       "prefix": "",
       "rate": null,
       "total": 3,
       "unit": "it",
       "unit_divisor": 1000,
       "unit_scale": false
      },
      "application/vnd.jupyter.widget-view+json": {
       "model_id": "ad487d9565484c1c989e7e53d9e8d878",
       "version_major": 2,
       "version_minor": 0
      },
      "text/plain": [
       "  0%|          | 0/3 [00:00<?, ?it/s]"
      ]
     },
     "metadata": {},
     "output_type": "display_data"
    },
    {
     "name": "stdout",
     "output_type": "stream",
     "text": [
      "[ Valid | 001/100 ] loss = 0.22892, acc = 0.92047\n",
      "[ Valid | 001/100 ] loss = 0.22892, acc = 0.92047\n",
      "No improvment 10 consecutive epochs, early stopping\n"
     ]
    }
   ],
   "source": [
    "device = \"cuda\" if torch.cuda.is_available() else \"cpu\"\n",
    "\n",
    "n_epochs = 100\n",
    "patience = 10 #if no imporvement early stop\n",
    "\n",
    "model = Classifier().to(device)\n",
    "\n",
    "criterion = nn.CrossEntropyLoss()\n",
    "\n",
    "optimizer = torch.optim.Adam(model.parameters(), lr = 0.0003, weight_decay= 1e-5)\n",
    "\n",
    "stale = 0\n",
    "best_acc = 0\n",
    "\n",
    "k = 5\n",
    "splits = KFold(n_splits= k, shuffle= True, random_state= 42)\n",
    "\n",
    "for fold, (train_idx, val_idx) in enumerate(splits.split(np.arange(len(dataset)))):\n",
    "    train_sampler = SubsetRandomSampler(train_idx)\n",
    "    val_sampler = SubsetRandomSampler(val_idx)\n",
    "    \n",
    "    train_loader = DataLoader(dataset, batch_size = batch_size, sampler = train_sampler)\n",
    "    val_loader = DataLoader(dataset, batch_size = batch_size, sampler = val_sampler)\n",
    "    \n",
    "    for epoch in range(n_epochs):\n",
    "        model.train()\n",
    "        \n",
    "        train_loss = []\n",
    "        train_acs = []\n",
    "        \n",
    "        for batch in tqdm(train_loader):\n",
    "            \n",
    "            imgs, labels = batch\n",
    "            \n",
    "            logits = model(imgs.to(device))\n",
    "            \n",
    "            loss = criterion(logits, labels.to(device))\n",
    "            \n",
    "            optimizer.zero_grad()\n",
    "            loss.backward()\n",
    "            \n",
    "            grad_norm = nn.utils.clip_grad_norm_(model.parameters(), max_norm= 10)\n",
    "            \n",
    "            optimizer.step()\n",
    "            \n",
    "            acc = (logits.argmax(dim=-1) == labels.to(device)).float().mean()\n",
    "            \n",
    "            train_loss.append(loss.item())\n",
    "            train_acs.append(acc)\n",
    "            \n",
    "        train_loss = sum(train_loss) / len(train_loss)\n",
    "        train_acc = sum(train_acs) / len(train_acs)\n",
    "        \n",
    "         # Print the information.\n",
    "        print(f\"[ Train | {epoch + 1:03d}/{n_epochs:03d} ] loss = {train_loss:.5f}, acc = {train_acc:.5f}\")\n",
    "\n",
    "        # ---------- Validation ----------\n",
    "        # Make sure the model is in eval mode so that some modules like dropout are disabled and work normally.\n",
    "        model.eval()\n",
    "\n",
    "        # These are used to record information in validation.\n",
    "        valid_loss = []\n",
    "        valid_accs = []\n",
    "        \n",
    "        for batch in tqdm(val_loader):\n",
    "            \n",
    "            imgs, labels = batch\n",
    "            \n",
    "            with torch.no_grad():\n",
    "                logits = model(imgs.to(device))\n",
    "\n",
    "            loss = criterion(logits, labels.to(device))\n",
    "    \n",
    "            acc = (logits.argmax(dim=-1) == labels.to(device)).float().mean()\n",
    "\n",
    "            valid_loss.append(loss.item())\n",
    "            valid_accs.append(acc)\n",
    "            \n",
    "        # The average loss and accuracy for entire validation set is the average of the recorded values.\n",
    "        valid_loss = sum(valid_loss) / len(valid_loss)\n",
    "        valid_acc = sum(valid_accs) / len(valid_accs)\n",
    "\n",
    "        # Print the information.\n",
    "        print(f\"[ Valid | {epoch + 1:03d}/{n_epochs:03d} ] loss = {valid_loss:.5f}, acc = {valid_acc:.5f}\")\n",
    "        \n",
    "        # update logs\n",
    "        if valid_acc > best_acc:\n",
    "            with open(f\"./{_exp_name}_log.txt\",\"a\"):\n",
    "                print(f\"[ Valid | {epoch + 1:03d}/{n_epochs:03d} ] loss = {valid_loss:.5f}, acc = {valid_acc:.5f} -> best\")\n",
    "        else:\n",
    "            with open(f\"./{_exp_name}_log.txt\",\"a\"):\n",
    "                print(f\"[ Valid | {epoch + 1:03d}/{n_epochs:03d} ] loss = {valid_loss:.5f}, acc = {valid_acc:.5f}\")\n",
    "\n",
    "        # save models\n",
    "        if valid_acc > best_acc:\n",
    "            print(f\"Best model found at epoch {epoch}, saving model\")\n",
    "            torch.save(model.state_dict(), f\"best.pt\") # only save best to prevent output memory exceed error\n",
    "            best_acc = valid_acc\n",
    "            stale = 0\n",
    "        else:\n",
    "            stale += 1\n",
    "            if stale > patience:\n",
    "                print(f\"No improvment {patience} consecutive epochs, early stopping\")\n",
    "                break\n",
    "            "
   ]
  },
  {
   "cell_type": "code",
   "execution_count": 13,
   "metadata": {},
   "outputs": [],
   "source": [
    "# util functions\n",
    "def plot_confusion_matrix(cm, classes,\n",
    "                          normalize=False,\n",
    "                          title='Confusion matrix',\n",
    "                          cmap=plt.cm.Blues):\n",
    "    \"\"\"\n",
    "    This function prints and plots the confusion matrix.\n",
    "    Normalization can be applied by setting `normalize=True`.\n",
    "    \"\"\"\n",
    "    if normalize:\n",
    "      cm = cm.astype('float') / cm.sum(axis=1)[:, np.newaxis]\n",
    "        # print(\"Normalized confusion matrix\")\n",
    "    else:\n",
    "      pass\n",
    "        # print('Confusion matrix, without normalization')\n",
    "\n",
    "    # print(cm)\n",
    "    plt.figure(figsize=(6, 6))\n",
    "    plt.imshow(cm, interpolation='nearest', cmap=cmap)\n",
    "    plt.title(title)\n",
    "    # plt.colorbar()\n",
    "    tick_marks = np.arange(len(classes))\n",
    "    plt.xticks(tick_marks, classes, rotation=45)\n",
    "    plt.yticks(tick_marks, classes)\n",
    "    plt.colorbar()\n",
    "\n",
    "    fmt = '.2f' if normalize else 'd'\n",
    "    thresh = cm.max() / 2.\n",
    "    for i, j in itertools.product(range(cm.shape[0]), range(cm.shape[1])):\n",
    "        plt.text(j, i, format(cm[i, j], fmt),\n",
    "                 horizontalalignment=\"center\",\n",
    "                 color=\"white\" if cm[i, j] > thresh else \"black\")\n",
    "\n",
    "    plt.ylabel('True label')\n",
    "    plt.xlabel('Predicted label')\n",
    "    plt.tight_layout()\n",
    "    plt.savefig('confussion-matrix.jpg')"
   ]
  },
  {
   "attachments": {},
   "cell_type": "markdown",
   "metadata": {},
   "source": [
    "<h1><strong>Load the Trained Weights</strong></h1>"
   ]
  },
  {
   "cell_type": "code",
   "execution_count": 11,
   "metadata": {},
   "outputs": [
    {
     "data": {
      "application/json": {
       "ascii": false,
       "bar_format": null,
       "colour": null,
       "elapsed": 0.03999948501586914,
       "initial": 0,
       "n": 0,
       "ncols": null,
       "nrows": null,
       "postfix": null,
       "prefix": "",
       "rate": null,
       "total": 3,
       "unit": "it",
       "unit_divisor": 1000,
       "unit_scale": false
      },
      "application/vnd.jupyter.widget-view+json": {
       "model_id": "4addb693ea934754b7ec418850f597eb",
       "version_major": 2,
       "version_minor": 0
      },
      "text/plain": [
       "  0%|          | 0/3 [00:00<?, ?it/s]"
      ]
     },
     "metadata": {},
     "output_type": "display_data"
    },
    {
     "name": "stdout",
     "output_type": "stream",
     "text": [
      "Ground Truth: [2 7 2 6 5 2 7 6 0 1 3 5 3 6 2 1 8 0 1 8 3 6 1 3 4 8 6 3 3 4 8 7 5 2 2 0 2\n",
      " 6 2 8 5 5 1 1 4 2 2 4 7 1 2 1 8 5 2 2 1 4 6 0 3 2 0 3 0 0 4 0 7 1 2 8 4 5\n",
      " 6 6 0 0 5 7 8 1 1 6 6 5 6 5 5 5 6 2 7 1 5 2 0 5 8 0 6 3 7 0 6 5 8 4 8 5 2\n",
      " 3 0 4 1 5 5 6 6 4 1 4 2 1 4 3 0 3 0 7 8 6 6 1 0 8 1 8 1 6 1 7 0 4 1 7 6 8\n",
      " 2 7 2 4 7 3 2 5 8 4 5 4 4 7 0 3 5 8 0 5 4 5 4 1 8 5 0 8 0 5 2 1 5 6 6 8 0\n",
      " 0 4 5 7 7 5 4 0 4 5 1 4 1 0 4 1 1 2 3 5 6 1 1 7 5 6 0 4 5 3 3 8 0 4 5 3 7\n",
      " 2 2 8 5 4 5 2 7 0 6 4 7 6 8 7 8 3 8 8 4 4 0 5 4 2 8 3 5 6 4 4 6 8 6 2 7 5\n",
      " 7 1 8 4 2 5 3 3 6 6 6 6 6 0 6 4 0 7 2 6 5 7 7 6 6 2 6 4 0 7 3 2 0 5 0 0 8\n",
      " 4 7 7 8 8 4 4 3 3 0 7 1 0 4 3 3 0 2 0 8 4 8 7 7 2 0 2 7 1 7 0 0 6 6 8 0 7\n",
      " 6 7 1 5 7 7 8 0 3 3 4 7 6 7 3 7 0 0 1 3 1 6 8 3 0 3 5]\n",
      "Preds : [2 8 2 6 5 2 7 6 0 1 3 5 3 6 2 1 8 0 1 8 3 6 1 3 4 8 6 3 3 4 8 7 5 2 2 0 2\n",
      " 6 2 8 5 5 1 1 4 2 2 4 7 1 2 1 8 5 2 2 1 4 6 0 3 2 0 3 0 0 4 0 7 1 2 8 4 5\n",
      " 6 6 0 0 5 7 8 1 1 6 6 5 6 5 5 5 6 2 7 1 5 2 0 5 8 0 6 3 7 0 6 5 8 4 8 5 2\n",
      " 3 0 4 1 5 5 5 6 4 1 4 2 1 4 3 0 3 0 7 8 6 6 1 0 8 1 8 1 6 1 7 0 4 1 7 6 8\n",
      " 2 7 2 4 7 3 2 5 8 4 5 4 4 7 0 3 5 8 0 5 4 5 4 1 8 5 0 8 0 5 2 1 5 6 6 8 0\n",
      " 0 4 5 7 7 5 4 0 4 5 1 4 1 0 4 1 1 2 3 5 6 1 1 7 5 6 0 4 5 3 3 8 0 4 5 3 7\n",
      " 2 2 8 5 4 5 2 7 0 6 4 7 6 8 7 8 3 8 8 4 4 0 5 4 2 8 3 5 6 4 4 6 8 6 2 7 5\n",
      " 7 1 8 4 2 5 3 3 6 6 6 6 6 0 6 4 0 7 2 6 5 7 7 6 6 2 6 4 0 7 3 2 0 5 0 0 8\n",
      " 4 7 7 8 8 4 4 3 3 0 7 1 0 4 3 3 0 2 0 8 4 8 7 7 2 0 2 7 1 7 0 0 6 6 8 0 7\n",
      " 6 7 1 5 7 7 8 0 3 3 4 7 6 7 3 7 0 0 1 3 1 6 8 3 0 3 5]\n"
     ]
    }
   ],
   "source": [
    "device = \"cuda\" if torch.cuda.is_available() else \"cpu\"\n",
    "model = Classifier()\n",
    "model.load_state_dict(torch.load('best.pt', map_location='cpu'))\n",
    "model.to(device)\n",
    "\n",
    "model.eval()\n",
    "preds = []\n",
    "groundTruth = []\n",
    "\n",
    "valLoader = DataLoader(dataValid,batch_size)\n",
    "for batch in tqdm(valLoader):\n",
    "    imgs, labels = batch\n",
    "    with torch.no_grad():\n",
    "        groundTruth.append(labels.squeeze().cpu().numpy())\n",
    "        logits = model(imgs.to(device))\n",
    "        pred = logits.argmax(dim=-1).squeeze().cpu().numpy()\n",
    "    preds.append(pred)\n",
    "    \n",
    "groundTruth = np.concatenate(groundTruth)\n",
    "preds = np.concatenate(preds)\n",
    "\n",
    "print(f\"Ground Truth: {groundTruth}\")\n",
    "print(f\"Preds : {preds}\")"
   ]
  },
  {
   "cell_type": "code",
   "execution_count": 14,
   "metadata": {},
   "outputs": [
    {
     "data": {
      "image/png": "[encoded data removed]",
      "text/plain": [
       "<Figure size 600x600 with 2 Axes>"
      ]
     },
     "metadata": {},
     "output_type": "display_data"
    }
   ],
   "source": [
    "from sklearn.metrics import confusion_matrix\n",
    "\n",
    "classes = ['Stage 501', 'Stage 505', 'Stage 509', 'Stage 601', 'Stage 605', 'Stage 609', 'Stage 701', 'Stage 705', 'Stage 709']\n",
    "\n",
    "\n",
    "matrix = confusion_matrix(preds, groundTruth) \n",
    "plot_confusion_matrix(matrix, classes=classes, normalize=True)"
   ]
  }
 ],
 "metadata": {
  "kernelspec": {
   "display_name": "Python 3",
   "language": "python",
   "name": "python3"
  },
  "language_info": {
   "codemirror_mode": {
    "name": "ipython",
    "version": 3
   },
   "file_extension": ".py",
   "mimetype": "text/x-python",
   "name": "python",
   "nbconvert_exporter": "python",
   "pygments_lexer": "ipython3",
   "version": "3.10.6"
  },
  "orig_nbformat": 4,
  "vscode": {
   "interpreter": {
    "hash": "107d7b120a5b68773a87d4067e673630b35702e55ebab3138143d08b1c4d7cbc"
   }
  }
 },
 "nbformat": 4,
 "nbformat_minor": 2
}
